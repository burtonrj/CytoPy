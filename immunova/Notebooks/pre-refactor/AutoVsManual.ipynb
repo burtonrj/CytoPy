{
 "cells": [
  {
   "cell_type": "markdown",
   "metadata": {},
   "source": [
    "<h1>Automated vs Manual Gating</h1>"
   ]
  },
  {
   "cell_type": "code",
   "execution_count": 1,
   "metadata": {},
   "outputs": [],
   "source": [
    "from immunova.data.project import Project\n",
    "from immunova.data.mongo_setup import global_init\n",
    "from immunova.flow.gating.actions import Template\n",
    "from tqdm import tqdm_notebook, tqdm\n",
    "from functools import partial\n",
    "import pandas as pd\n",
    "import numpy as np\n",
    "import warnings\n",
    "warnings.filterwarnings('ignore')\n",
    "global_init()"
   ]
  },
  {
   "cell_type": "code",
   "execution_count": 2,
   "metadata": {},
   "outputs": [],
   "source": [
    "peritonitis = Project.objects(project_id='Peritonitis').get()"
   ]
  },
  {
   "cell_type": "code",
   "execution_count": 3,
   "metadata": {},
   "outputs": [],
   "source": [
    "pdmc_t = peritonitis.load_experiment('PDMC_T')"
   ]
  },
  {
   "cell_type": "code",
   "execution_count": 4,
   "metadata": {},
   "outputs": [],
   "source": [
    "files = [f.primary_id for f in pdmc_t.fcs_files]"
   ]
  },
  {
   "cell_type": "code",
   "execution_count": 5,
   "metadata": {},
   "outputs": [],
   "source": [
    "manual_results = pd.read_excel('experiment_data/pd_manual.xlsx')"
   ]
  },
  {
   "cell_type": "code",
   "execution_count": 6,
   "metadata": {},
   "outputs": [],
   "source": [
    "manual_results = manual_results[['Patient no.', 'Cell origin', 'count CD3+', 'count Vd2+ Pan gd',\n",
    "       'Vd2+ Pan gd % of CD3', 'CXCR3+ Vd2+ % of Vd2', 'count Vd2- Pan gd+ ',\n",
    "       'Vd2- Pan gd+ % of CD3', 'count MAITs', 'MAITs % CD3',\n",
    "       'CXCR3+ CD8+ MAITs % of MAITs', 'CXCR3+ CD8- MAITs % of MAITs',\n",
    "       'CD8+ MAITs % of MAITs', 'CD4+ MAITs % of MAITs', 'count CD8+',\n",
    "       'CD8+ CXCR3+ % of CD8', 'CD8+ CD45RA- CD27+ % of CD8',\n",
    "       'CD8+ CD45RA+ CD27+ % of CD8', 'CD8+ CD45RA+ CD27- % of CD8',\n",
    "       'CD8+ CD45RA- CD27- % of CD8', 'CD8+ CD45RA- CCR7+ % of CD8',\n",
    "       'CD8+ CD45RA+CCR7+ % of CD8', 'CD8+ CD45RA+ CCR7- % of CD8',\n",
    "       'CD8+ CD45RA- CCR7- % of CD8', 'count CD4+', 'CD4+CXCR3+ % of CD4+',\n",
    "       'CD4+CD45RA- CD27+ % of CD4+', 'CD4+CD45RA+ CD27+ % of CD4+',\n",
    "       'CD4+CD45RA+ CD27- % of CD4+', 'CD4+CD45RA- CD27- % of CD4+',\n",
    "       'CD4+CD45RA- CCR7+ % of CD4+', 'CD4+CD45RA+ CCR7+ % of CD4+',\n",
    "       'CD4+CD45RA+ CCR7- % of CD4+', 'CD4+CD45RA- CCR7- % of CD4+',\n",
    "       'Vd2+ Pan gd+ CD45RA- CD27+ % of Vd2+ Pan gd+',\n",
    "       'Vd2+ Pan gd+ CD45RA+ CD27+ % of Vd2+ Pan gd+',\n",
    "       'Vd2+ Pan gd+ CD45RA+ CD27- % of Vd2+ Pan gd+',\n",
    "       'Vd2+ Pan gd+ CD45RA- CD27- % of Vd2+ Pan gd+',\n",
    "       'Vd2+ Pan gd+ CD45RA- CCR7+ % of Vd2+ Pan gd+',\n",
    "       'Vd2+ Pan gd+ CD45RA+ CCR7+ % of Vd2+ Pan gd+',\n",
    "       'Vd2+ Pan gd+ CD45RA+ CCR7- % of Vd2+ Pan gd+',\n",
    "       'Vd2+ Pan gd+ CD45RA- CCR7- % of Vd2+ Pan gd+',\n",
    "       'MAITs  CD45RA- CD27+ % of MAITs', 'MAITs  CD45RA+ CD27+ % of MAITs',\n",
    "       'MAITs  CD45RA+ CD27- % of MAITs', 'MAITs  CD45RA- CD27- % of MAITs',\n",
    "       'MAITs  CD45RA- CCR7+ % of MAITs', 'MAITs  CD45RA+ CCR7+ % of MAITs',\n",
    "       'MAITs  CD45RA+ CCR7- % of MAITs', 'MAITs  CD45RA- CCR7- % of MAITs',\n",
    "       'CD3+ % of total', 'Cell count for FACS T cell panel']]"
   ]
  },
  {
   "cell_type": "code",
   "execution_count": 7,
   "metadata": {},
   "outputs": [],
   "source": [
    "manual_results = manual_results[manual_results['Cell origin'] == 'PDMC']"
   ]
  },
  {
   "cell_type": "code",
   "execution_count": 8,
   "metadata": {},
   "outputs": [
    {
     "data": {
      "text/html": [
       "<div>\n",
       "<style scoped>\n",
       "    .dataframe tbody tr th:only-of-type {\n",
       "        vertical-align: middle;\n",
       "    }\n",
       "\n",
       "    .dataframe tbody tr th {\n",
       "        vertical-align: top;\n",
       "    }\n",
       "\n",
       "    .dataframe thead th {\n",
       "        text-align: right;\n",
       "    }\n",
       "</style>\n",
       "<table border=\"1\" class=\"dataframe\">\n",
       "  <thead>\n",
       "    <tr style=\"text-align: right;\">\n",
       "      <th></th>\n",
       "      <th>Patient no.</th>\n",
       "      <th>Cell origin</th>\n",
       "      <th>count CD3+</th>\n",
       "      <th>count Vd2+ Pan gd</th>\n",
       "      <th>Vd2+ Pan gd % of CD3</th>\n",
       "      <th>CXCR3+ Vd2+ % of Vd2</th>\n",
       "      <th>count Vd2- Pan gd+</th>\n",
       "      <th>Vd2- Pan gd+ % of CD3</th>\n",
       "      <th>count MAITs</th>\n",
       "      <th>MAITs % CD3</th>\n",
       "      <th>...</th>\n",
       "      <th>MAITs  CD45RA- CD27+ % of MAITs</th>\n",
       "      <th>MAITs  CD45RA+ CD27+ % of MAITs</th>\n",
       "      <th>MAITs  CD45RA+ CD27- % of MAITs</th>\n",
       "      <th>MAITs  CD45RA- CD27- % of MAITs</th>\n",
       "      <th>MAITs  CD45RA- CCR7+ % of MAITs</th>\n",
       "      <th>MAITs  CD45RA+ CCR7+ % of MAITs</th>\n",
       "      <th>MAITs  CD45RA+ CCR7- % of MAITs</th>\n",
       "      <th>MAITs  CD45RA- CCR7- % of MAITs</th>\n",
       "      <th>CD3+ % of total</th>\n",
       "      <th>Cell count for FACS T cell panel</th>\n",
       "    </tr>\n",
       "  </thead>\n",
       "  <tbody>\n",
       "    <tr>\n",
       "      <td>48</td>\n",
       "      <td>142-09</td>\n",
       "      <td>PDMC</td>\n",
       "      <td>No Data</td>\n",
       "      <td>No Data</td>\n",
       "      <td>No Data</td>\n",
       "      <td>No Data</td>\n",
       "      <td>No Data</td>\n",
       "      <td>No Data</td>\n",
       "      <td>No Data</td>\n",
       "      <td>No Data</td>\n",
       "      <td>...</td>\n",
       "      <td>No Data</td>\n",
       "      <td>No Data</td>\n",
       "      <td>No Data</td>\n",
       "      <td>No Data</td>\n",
       "      <td>No Data</td>\n",
       "      <td>No Data</td>\n",
       "      <td>No Data</td>\n",
       "      <td>No Data</td>\n",
       "      <td>No Data</td>\n",
       "      <td>1000000</td>\n",
       "    </tr>\n",
       "    <tr>\n",
       "      <td>49</td>\n",
       "      <td>175-09</td>\n",
       "      <td>PDMC</td>\n",
       "      <td>70936</td>\n",
       "      <td>633</td>\n",
       "      <td>0.91</td>\n",
       "      <td>13.4</td>\n",
       "      <td>134</td>\n",
       "      <td>0.19</td>\n",
       "      <td>322</td>\n",
       "      <td>0.47</td>\n",
       "      <td>...</td>\n",
       "      <td>28.6</td>\n",
       "      <td>4.35</td>\n",
       "      <td>3.73</td>\n",
       "      <td>63.4</td>\n",
       "      <td>76.7</td>\n",
       "      <td>6.83</td>\n",
       "      <td>1.24</td>\n",
       "      <td>15.2</td>\n",
       "      <td>18.5</td>\n",
       "      <td>3834.38</td>\n",
       "    </tr>\n",
       "    <tr>\n",
       "      <td>50</td>\n",
       "      <td>209-03</td>\n",
       "      <td>PDMC</td>\n",
       "      <td>NaN</td>\n",
       "      <td>NaN</td>\n",
       "      <td>NaN</td>\n",
       "      <td>NaN</td>\n",
       "      <td>NaN</td>\n",
       "      <td>NaN</td>\n",
       "      <td>NaN</td>\n",
       "      <td>NaN</td>\n",
       "      <td>...</td>\n",
       "      <td>NaN</td>\n",
       "      <td>NaN</td>\n",
       "      <td>NaN</td>\n",
       "      <td>NaN</td>\n",
       "      <td>NaN</td>\n",
       "      <td>NaN</td>\n",
       "      <td>NaN</td>\n",
       "      <td>NaN</td>\n",
       "      <td>0</td>\n",
       "      <td>1000000</td>\n",
       "    </tr>\n",
       "    <tr>\n",
       "      <td>51</td>\n",
       "      <td>209-05</td>\n",
       "      <td>PDMC</td>\n",
       "      <td>1109</td>\n",
       "      <td>30</td>\n",
       "      <td>2.79</td>\n",
       "      <td>80</td>\n",
       "      <td>2</td>\n",
       "      <td>0.19</td>\n",
       "      <td>16</td>\n",
       "      <td>1.55</td>\n",
       "      <td>...</td>\n",
       "      <td>0</td>\n",
       "      <td>0</td>\n",
       "      <td>18.8</td>\n",
       "      <td>81.2</td>\n",
       "      <td>87.5</td>\n",
       "      <td>12.5</td>\n",
       "      <td>0</td>\n",
       "      <td>0</td>\n",
       "      <td>0.000946894</td>\n",
       "      <td>1171198</td>\n",
       "    </tr>\n",
       "    <tr>\n",
       "      <td>52</td>\n",
       "      <td>210-12</td>\n",
       "      <td>PDMC</td>\n",
       "      <td>1719</td>\n",
       "      <td>7</td>\n",
       "      <td>0.73</td>\n",
       "      <td>No Data</td>\n",
       "      <td>5</td>\n",
       "      <td>0.34</td>\n",
       "      <td>8</td>\n",
       "      <td>0.81</td>\n",
       "      <td>...</td>\n",
       "      <td>No Data</td>\n",
       "      <td>No Data</td>\n",
       "      <td>No Data</td>\n",
       "      <td>No Data</td>\n",
       "      <td>No Data</td>\n",
       "      <td>No Data</td>\n",
       "      <td>No Data</td>\n",
       "      <td>No Data</td>\n",
       "      <td>0.000489804</td>\n",
       "      <td>3509569</td>\n",
       "    </tr>\n",
       "  </tbody>\n",
       "</table>\n",
       "<p>5 rows × 52 columns</p>\n",
       "</div>"
      ],
      "text/plain": [
       "   Patient no. Cell origin count CD3+ count Vd2+ Pan gd Vd2+ Pan gd % of CD3  \\\n",
       "48      142-09        PDMC    No Data           No Data              No Data   \n",
       "49      175-09        PDMC      70936               633                 0.91   \n",
       "50      209-03        PDMC        NaN               NaN                  NaN   \n",
       "51      209-05        PDMC       1109                30                 2.79   \n",
       "52      210-12        PDMC       1719                 7                 0.73   \n",
       "\n",
       "   CXCR3+ Vd2+ % of Vd2 count Vd2- Pan gd+  Vd2- Pan gd+ % of CD3 count MAITs  \\\n",
       "48              No Data             No Data               No Data     No Data   \n",
       "49                 13.4                 134                  0.19         322   \n",
       "50                  NaN                 NaN                   NaN         NaN   \n",
       "51                   80                   2                  0.19          16   \n",
       "52              No Data                   5                  0.34           8   \n",
       "\n",
       "   MAITs % CD3  ... MAITs  CD45RA- CD27+ % of MAITs  \\\n",
       "48     No Data  ...                         No Data   \n",
       "49        0.47  ...                            28.6   \n",
       "50         NaN  ...                             NaN   \n",
       "51        1.55  ...                               0   \n",
       "52        0.81  ...                         No Data   \n",
       "\n",
       "   MAITs  CD45RA+ CD27+ % of MAITs MAITs  CD45RA+ CD27- % of MAITs  \\\n",
       "48                         No Data                         No Data   \n",
       "49                            4.35                            3.73   \n",
       "50                             NaN                             NaN   \n",
       "51                               0                            18.8   \n",
       "52                         No Data                         No Data   \n",
       "\n",
       "   MAITs  CD45RA- CD27- % of MAITs MAITs  CD45RA- CCR7+ % of MAITs  \\\n",
       "48                         No Data                         No Data   \n",
       "49                            63.4                            76.7   \n",
       "50                             NaN                             NaN   \n",
       "51                            81.2                            87.5   \n",
       "52                         No Data                         No Data   \n",
       "\n",
       "   MAITs  CD45RA+ CCR7+ % of MAITs MAITs  CD45RA+ CCR7- % of MAITs  \\\n",
       "48                         No Data                         No Data   \n",
       "49                            6.83                            1.24   \n",
       "50                             NaN                             NaN   \n",
       "51                            12.5                               0   \n",
       "52                         No Data                         No Data   \n",
       "\n",
       "   MAITs  CD45RA- CCR7- % of MAITs CD3+ % of total  \\\n",
       "48                         No Data         No Data   \n",
       "49                            15.2            18.5   \n",
       "50                             NaN               0   \n",
       "51                               0     0.000946894   \n",
       "52                         No Data     0.000489804   \n",
       "\n",
       "   Cell count for FACS T cell panel  \n",
       "48                          1000000  \n",
       "49                          3834.38  \n",
       "50                          1000000  \n",
       "51                          1171198  \n",
       "52                          3509569  \n",
       "\n",
       "[5 rows x 52 columns]"
      ]
     },
     "execution_count": 8,
     "metadata": {},
     "output_type": "execute_result"
    }
   ],
   "source": [
    "manual_results.head()"
   ]
  },
  {
   "cell_type": "code",
   "execution_count": 9,
   "metadata": {},
   "outputs": [],
   "source": [
    "manual_results = manual_results.replace('No Data', np.NaN)"
   ]
  },
  {
   "cell_type": "code",
   "execution_count": 10,
   "metadata": {},
   "outputs": [],
   "source": [
    "manual = manual_results[[c for c in manual_results.columns if c != 'Cell origin']].set_index('Patient no.')"
   ]
  },
  {
   "cell_type": "code",
   "execution_count": 11,
   "metadata": {},
   "outputs": [],
   "source": [
    "manual = manual.dropna()"
   ]
  },
  {
   "cell_type": "markdown",
   "metadata": {},
   "source": [
    "<h2>Autonomous Gating</h2>"
   ]
  },
  {
   "cell_type": "code",
   "execution_count": 12,
   "metadata": {},
   "outputs": [
    {
     "data": {
      "text/plain": [
       "Index(['175-09', '209-05', '210-14', '229-02', '237-06', '239-02', '251-08',\n",
       "       '254-04', '254-05', '255-04', '262-01', '264-02', '267-01', '267-02',\n",
       "       '272-01', '273-01', '279-03', '286-02', '286-03', '286-04', '288-02',\n",
       "       '289-01', '294-01', '294-03', '295-01', '298-01', '302-01', '305-01',\n",
       "       '305-02', '306-01', '307-01', '308-01', '308-02R', '308-03R', '310-01',\n",
       "       '316-01', '320-01', '323-02'],\n",
       "      dtype='object', name='Patient no.')"
      ]
     },
     "execution_count": 12,
     "metadata": {},
     "output_type": "execute_result"
    }
   ],
   "source": [
    "manual.index"
   ]
  },
  {
   "cell_type": "code",
   "execution_count": 13,
   "metadata": {},
   "outputs": [],
   "source": [
    "gating = Template(pdmc_t, f'pd{manual.index[0]}_t')"
   ]
  },
  {
   "cell_type": "code",
   "execution_count": 14,
   "metadata": {},
   "outputs": [
    {
     "data": {
      "text/plain": [
       "True"
      ]
     },
     "execution_count": 14,
     "metadata": {},
     "output_type": "execute_result"
    }
   ],
   "source": [
    "gating.load_template('major_t_populations')"
   ]
  },
  {
   "cell_type": "code",
   "execution_count": 15,
   "metadata": {},
   "outputs": [
    {
     "name": "stdout",
     "output_type": "stream",
     "text": [
      "Applying cells...\n",
      "Applying lymphocytes...\n",
      "Applying singlets...\n",
      "Applying singlets2...\n",
      "Applying livedead_gate...\n",
      "Applying cd3_gate...\n",
      "Applying gdt_gate...\n",
      "Applying mait_gate...\n",
      "Applying cd4cd8_gate...\n",
      "Invalid parent; does not exist in current Gating object\n",
      "Complete!\n"
     ]
    },
    {
     "data": {
      "text/plain": [
       "{'cells': <immunova.flow.gating.defaults.GateOutput at 0x7efc42ac20b8>,\n",
       " 'lymphocytes': <immunova.flow.gating.defaults.GateOutput at 0x7efc42a9a6a0>,\n",
       " 'singlets': <immunova.flow.gating.defaults.GateOutput at 0x7efc42abdda0>,\n",
       " 'singlets2': <immunova.flow.gating.defaults.GateOutput at 0x7efc42abda90>,\n",
       " 'livedead_gate': <immunova.flow.gating.defaults.GateOutput at 0x7efc42abdcf8>,\n",
       " 'cd3_gate': <immunova.flow.gating.defaults.GateOutput at 0x7efc42abdc50>,\n",
       " 'gdt_gate': <immunova.flow.gating.defaults.GateOutput at 0x7efc42abd748>,\n",
       " 'mait_gate': <immunova.flow.gating.defaults.GateOutput at 0x7efc42abd978>,\n",
       " 'cd4cd8_gate': None}"
      ]
     },
     "execution_count": 15,
     "metadata": {},
     "output_type": "execute_result"
    }
   ],
   "source": [
    "gating.apply_many(apply_all=True, plot_outcome=False, feedback=True)"
   ]
  },
  {
   "cell_type": "code",
   "execution_count": 16,
   "metadata": {},
   "outputs": [
    {
     "data": {
      "text/plain": [
       "(<Figure size 432x288 with 1 Axes>,\n",
       " <matplotlib.axes._subplots.AxesSubplot at 0x7efc42ac22e8>)"
      ]
     },
     "execution_count": 16,
     "metadata": {},
     "output_type": "execute_result"
    },
    {
     "data": {
      "image/png": "[encoded data removed]",
      "text/plain": [
       "<Figure size 432x288 with 1 Axes>"
      ]
     },
     "metadata": {
      "needs_background": "light"
     },
     "output_type": "display_data"
    }
   ],
   "source": [
    "gating.plot_gate('cells')"
   ]
  },
  {
   "cell_type": "code",
   "execution_count": 17,
   "metadata": {},
   "outputs": [
    {
     "data": {
      "text/plain": [
       "(<Figure size 432x288 with 1 Axes>,\n",
       " <matplotlib.axes._subplots.AxesSubplot at 0x7efc4019dba8>)"
      ]
     },
     "execution_count": 17,
     "metadata": {},
     "output_type": "execute_result"
    },
    {
     "data": {
      "image/png": "[encoded data removed]",
      "text/plain": [
       "<Figure size 432x288 with 1 Axes>"
      ]
     },
     "metadata": {
      "needs_background": "light"
     },
     "output_type": "display_data"
    }
   ],
   "source": [
    "gating.plot_gate('lymphocytes')"
   ]
  },
  {
   "cell_type": "code",
   "execution_count": 18,
   "metadata": {},
   "outputs": [
    {
     "data": {
      "text/plain": [
       "(<Figure size 432x288 with 1 Axes>,\n",
       " <matplotlib.axes._subplots.AxesSubplot at 0x7efc403e3940>)"
      ]
     },
     "execution_count": 18,
     "metadata": {},
     "output_type": "execute_result"
    },
    {
     "data": {
      "image/png": "[encoded data removed]",
      "text/plain": [
       "<Figure size 432x288 with 1 Axes>"
      ]
     },
     "metadata": {
      "needs_background": "light"
     },
     "output_type": "display_data"
    }
   ],
   "source": [
    "gating.plot_gate('singlets')"
   ]
  },
  {
   "cell_type": "code",
   "execution_count": 19,
   "metadata": {},
   "outputs": [
    {
     "data": {
      "text/plain": [
       "(<Figure size 432x288 with 1 Axes>,\n",
       " <matplotlib.axes._subplots.AxesSubplot at 0x7efc27ae19b0>)"
      ]
     },
     "execution_count": 19,
     "metadata": {},
     "output_type": "execute_result"
    },
    {
     "data": {
      "image/png": "[encoded data removed]",
      "text/plain": [
       "<Figure size 432x288 with 1 Axes>"
      ]
     },
     "metadata": {
      "needs_background": "light"
     },
     "output_type": "display_data"
    }
   ],
   "source": [
    "gating.plot_gate('singlets2')"
   ]
  },
  {
   "cell_type": "code",
   "execution_count": 21,
   "metadata": {},
   "outputs": [
    {
     "data": {
      "text/plain": [
       "(<Figure size 432x288 with 1 Axes>,\n",
       " <matplotlib.axes._subplots.AxesSubplot at 0x7efc40187e80>)"
      ]
     },
     "execution_count": 21,
     "metadata": {},
     "output_type": "execute_result"
    },
    {
     "data": {
      "image/png": "[encoded data removed]",
      "text/plain": [
       "<Figure size 432x288 with 1 Axes>"
      ]
     },
     "metadata": {
      "needs_background": "light"
     },
     "output_type": "display_data"
    }
   ],
   "source": [
    "gating.plot_gate('livedead_gate')"
   ]
  },
  {
   "cell_type": "code",
   "execution_count": 23,
   "metadata": {},
   "outputs": [
    {
     "data": {
      "text/plain": [
       "(<Figure size 432x288 with 1 Axes>,\n",
       " <matplotlib.axes._subplots.AxesSubplot at 0x7efc402b4550>)"
      ]
     },
     "execution_count": 23,
     "metadata": {},
     "output_type": "execute_result"
    },
    {
     "data": {
      "image/png": "[encoded data removed]",
      "text/plain": [
       "<Figure size 432x288 with 1 Axes>"
      ]
     },
     "metadata": {
      "needs_background": "light"
     },
     "output_type": "display_data"
    }
   ],
   "source": [
    "gating.plot_gate('cd3_gate')"
   ]
  },
  {
   "cell_type": "code",
   "execution_count": 24,
   "metadata": {},
   "outputs": [
    {
     "data": {
      "text/plain": [
       "(<Figure size 432x288 with 1 Axes>,\n",
       " <matplotlib.axes._subplots.AxesSubplot at 0x7efc4028e710>)"
      ]
     },
     "execution_count": 24,
     "metadata": {},
     "output_type": "execute_result"
    },
    {
     "data": {
      "image/png": "[encoded data removed]",
      "text/plain": [
       "<Figure size 432x288 with 1 Axes>"
      ]
     },
     "metadata": {
      "needs_background": "light"
     },
     "output_type": "display_data"
    }
   ],
   "source": [
    "gating.plot_gate('gdt_gate')"
   ]
  },
  {
   "cell_type": "code",
   "execution_count": 26,
   "metadata": {},
   "outputs": [
    {
     "data": {
      "text/plain": [
       "{'root': {'population_name': 'root',\n",
       "  'prop_of_parent': 1.0,\n",
       "  'prop_of_total': 1.0,\n",
       "  'warnings': [],\n",
       "  'parent': 'NA',\n",
       "  'children': ['cells'],\n",
       "  'geom': {},\n",
       "  'index': array([     0,      1,      2, ..., 374701, 374702, 374703])},\n",
       " 'cells': {'population_name': 'cells',\n",
       "  'index': array([     0,      1,      2, ..., 374694, 374695, 374696]),\n",
       "  'prop_of_parent': 0.7332801357871813,\n",
       "  'prop_of_total': 0.7332801357871813,\n",
       "  'parent': 'root',\n",
       "  'children': ['lymphocytes'],\n",
       "  'geom': {'x_min': 10000,\n",
       "   'x_max': 125000,\n",
       "   'y_min': 0,\n",
       "   'y_max': 70000,\n",
       "   'shape': 'rect',\n",
       "   'x': 'FSC-A',\n",
       "   'y': 'SSC-A'}},\n",
       " 'lymphocytes': {'population_name': 'lymphocytes',\n",
       "  'index': array([     1,      2,     21, ..., 374195, 374277, 374474]),\n",
       "  'prop_of_parent': 0.329210992746476,\n",
       "  'prop_of_total': 0.24140388146376873,\n",
       "  'parent': 'cells',\n",
       "  'children': ['singlets'],\n",
       "  'geom': {'mean': (58396.20555879453, 15702.576905698854),\n",
       "   'width': 17383.37259919751,\n",
       "   'height': 44300.51957162386,\n",
       "   'angle': 104.00429515259373,\n",
       "   'shape': 'ellipse',\n",
       "   'x': 'FSC-A',\n",
       "   'y': 'SSC-A'}},\n",
       " 'singlets': {'population_name': 'singlets',\n",
       "  'index': array([     1,      2,     21, ..., 373924, 374013, 374195]),\n",
       "  'prop_of_parent': 0.9736885744292743,\n",
       "  'prop_of_total': 0.23505220120415046,\n",
       "  'parent': 'lymphocytes',\n",
       "  'children': ['singlets_w', 'doublets'],\n",
       "  'geom': {'mean': (52663.291851082446, 41540.05381285404),\n",
       "   'width': 12709.40629057174,\n",
       "   'height': 63129.43037820619,\n",
       "   'angle': 128.4150025223467,\n",
       "   'shape': 'ellipse',\n",
       "   'x': 'FSC-A',\n",
       "   'y': 'FSC-H'}},\n",
       " 'singlets_w': {'population_name': 'singlets_w',\n",
       "  'index': array([   132,    310,    369, ..., 372955, 372993, 373924]),\n",
       "  'prop_of_parent': 0.0500141924496168,\n",
       "  'prop_of_total': 0.011755946026730432,\n",
       "  'parent': 'singlets',\n",
       "  'children': ['dead', 'live'],\n",
       "  'geom': {'threshold': 75411.78,\n",
       "   'method': 'quantile',\n",
       "   'shape': 'threshold',\n",
       "   'x': 'SSC-W',\n",
       "   'y': None}},\n",
       " 'doublets': {'population_name': 'doublets',\n",
       "  'index': array([     1,      2,     21, ..., 373857, 374013, 374195]),\n",
       "  'prop_of_parent': 0.9499858075503832,\n",
       "  'prop_of_total': 0.22329625517742005,\n",
       "  'parent': 'singlets',\n",
       "  'children': [],\n",
       "  'geom': {'threshold': 75411.78,\n",
       "   'method': 'quantile',\n",
       "   'shape': 'threshold',\n",
       "   'x': 'SSC-W',\n",
       "   'y': None}},\n",
       " 'dead': {'population_name': 'dead',\n",
       "  'index': array([  5234,  24319,  54318,  54354,  55777,  56385,  61779,  82019,\n",
       "          88844,  89287, 102431, 104922, 108613, 109669, 113839, 132976,\n",
       "         148036, 155451, 161433, 176950, 180827, 197780, 203372, 216346,\n",
       "         217502, 226766, 255705, 263577, 287209, 290088, 294706, 311262,\n",
       "         314085, 315978, 334127, 340577, 343443, 367960, 369499, 371136,\n",
       "         371139, 371174, 372705, 372732, 373924]),\n",
       "  'prop_of_parent': 0.01021566401816118,\n",
       "  'prop_of_total': 0.00012009479482471498,\n",
       "  'parent': 'singlets_w',\n",
       "  'children': [],\n",
       "  'geom': {'method': '>= None Standard Devs',\n",
       "   'threshold': 0.5635757057125781,\n",
       "   'shape': 'threshold',\n",
       "   'x': 'L/D',\n",
       "   'y': None}},\n",
       " 'live': {'population_name': 'live',\n",
       "  'index': array([   132,    310,    369, ..., 372901, 372955, 372993]),\n",
       "  'prop_of_parent': 0.9897843359818388,\n",
       "  'prop_of_total': 0.011635851231905718,\n",
       "  'parent': 'singlets_w',\n",
       "  'children': ['cd3+', 'cd3-'],\n",
       "  'geom': {'method': '>= None Standard Devs',\n",
       "   'threshold': 0.5635757057125781,\n",
       "   'shape': 'threshold',\n",
       "   'x': 'L/D',\n",
       "   'y': None}},\n",
       " 'cd3+': {'population_name': 'cd3+',\n",
       "  'index': array([   132,    310,    369, ..., 372901, 372955, 372993]),\n",
       "  'prop_of_parent': 0.8827981651376147,\n",
       "  'prop_of_total': 0.01027210811734062,\n",
       "  'parent': 'live',\n",
       "  'children': ['gdt', 'vd2-', 'non_gdt'],\n",
       "  'geom': {'threshold': 0.2985194329965035,\n",
       "   'method': 'Local minima; two highest peaks',\n",
       "   'shape': 'threshold',\n",
       "   'x': 'CD3',\n",
       "   'y': None}},\n",
       " 'cd3-': {'population_name': 'cd3-',\n",
       "  'index': array([   415,   1219,   2259,   2846,   3446,   5470,   5815,   5845,\n",
       "           5971,   6448,   7014,   7184,   7812,   9751,  10685,  10970,\n",
       "          11306,  11530,  12660,  14340,  15154,  15720,  17573,  17995,\n",
       "          20480,  21382,  21612,  21836,  22870,  23238,  23269,  27549,\n",
       "          27663,  28989,  30501,  31079,  31251,  34765,  34787,  37637,\n",
       "          38438,  38687,  39214,  39887,  40169,  42018,  42176,  42954,\n",
       "          43052,  44178,  45580,  46030,  47649,  48205,  48848,  49420,\n",
       "          50217,  53746,  54365,  54394,  55747,  57034,  57951,  58334,\n",
       "          58369,  59519,  60676,  61498,  61628,  61854,  64925,  65314,\n",
       "          65576,  65599,  66452,  66560,  67762,  68351,  69015,  69342,\n",
       "          70985,  73948,  74523,  74660,  74801,  75460,  75626,  77131,\n",
       "          77133,  78378,  78704,  78756,  79670,  79794,  80408,  80860,\n",
       "          82133,  84098,  84417,  85832,  88455,  88486,  88566,  88969,\n",
       "          89865,  89903,  90177,  90274,  90275,  90290,  90938,  91726,\n",
       "          91900,  92773,  93007,  93509,  94325,  94863,  95213,  98496,\n",
       "          99017,  99229, 100252, 101194, 102354, 103831, 104440, 104521,\n",
       "         105762, 105859, 107698, 108004, 108084, 108765, 109235, 109896,\n",
       "         109929, 112899, 112926, 113944, 114539, 115664, 115801, 115941,\n",
       "         117412, 118528, 118673, 119049, 119119, 119526, 120348, 120444,\n",
       "         120585, 120668, 122735, 123724, 125050, 126984, 127180, 127304,\n",
       "         129327, 129387, 129711, 130605, 133529, 134161, 135313, 135673,\n",
       "         136097, 136744, 137885, 138896, 140042, 141165, 142713, 144129,\n",
       "         144219, 144460, 144957, 145127, 145157, 145404, 145534, 146162,\n",
       "         149101, 150518, 151326, 151340, 151905, 151930, 152693, 153146,\n",
       "         154337, 155457, 156741, 158103, 160640, 161007, 164002, 164895,\n",
       "         165212, 165327, 165865, 167744, 168263, 168816, 169163, 169998,\n",
       "         170795, 171102, 171724, 173729, 173992, 174064, 174412, 174499,\n",
       "         175822, 176392, 176423, 177399, 179253, 180117, 180432, 182099,\n",
       "         182125, 182933, 183368, 184118, 184234, 184853, 185650, 186020,\n",
       "         186604, 187359, 187692, 188395, 189306, 189632, 190819, 191390,\n",
       "         191567, 192542, 193936, 194569, 195860, 196480, 197165, 197509,\n",
       "         198618, 198940, 199556, 199842, 199978, 200404, 200541, 200704,\n",
       "         201223, 202757, 204299, 204693, 206589, 206716, 207289, 207694,\n",
       "         208701, 209261, 209954, 210425, 212028, 213654, 214299, 215859,\n",
       "         216020, 216106, 216112, 216246, 216481, 217563, 218044, 218757,\n",
       "         219525, 223851, 225267, 225705, 225891, 228883, 229347, 229365,\n",
       "         229565, 230630, 231160, 231366, 231687, 232110, 232581, 233775,\n",
       "         235530, 236069, 236944, 238290, 238301, 238985, 239042, 239274,\n",
       "         240393, 240999, 241132, 241504, 241525, 241598, 242104, 242173,\n",
       "         242644, 243225, 244079, 244252, 245778, 247063, 248802, 249027,\n",
       "         251822, 252022, 252108, 252638, 254683, 255733, 255999, 256733,\n",
       "         256848, 258306, 258825, 260077, 260678, 261453, 261782, 262305,\n",
       "         262400, 263825, 264423, 265201, 266047, 266474, 268318, 268698,\n",
       "         269605, 270965, 274232, 275135, 275150, 275220, 275743, 276044,\n",
       "         276276, 276895, 277783, 277968, 278441, 278489, 279267, 279303,\n",
       "         279908, 281697, 282038, 282194, 282439, 282792, 283064, 284519,\n",
       "         285033, 286111, 287118, 287126, 288457, 289349, 289699, 290085,\n",
       "         290560, 290868, 290991, 291203, 291477, 292331, 292906, 293716,\n",
       "         293925, 293982, 294991, 295134, 295580, 295798, 295976, 296094,\n",
       "         296613, 297075, 297203, 299008, 299427, 299679, 300111, 300198,\n",
       "         300309, 300456, 300971, 300989, 302651, 303204, 303444, 303844,\n",
       "         304061, 304500, 305244, 305625, 305668, 305878, 306007, 306566,\n",
       "         307459, 307800, 307948, 308820, 311230, 313493, 314193, 314230,\n",
       "         314708, 315844, 317145, 317355, 317746, 318005, 318157, 318714,\n",
       "         319034, 319274, 319810, 320476, 322431, 323159, 323624, 324479,\n",
       "         325663, 326365, 327315, 327388, 327469, 328142, 329576, 331636,\n",
       "         331924, 332069, 332285, 332760, 333417, 333600, 334225, 335511,\n",
       "         335717, 336677, 337580, 338071, 338086, 338265, 338998, 339405,\n",
       "         339553, 339935, 340385, 340591, 340685, 341464, 341643, 341739,\n",
       "         342466, 344480, 345469, 346190, 349297, 349836, 349852, 350822,\n",
       "         351176, 351471, 351595, 352962, 353075, 353411, 354815, 355033,\n",
       "         355559, 358087, 360655, 362147, 362702, 363431, 365799, 366394,\n",
       "         366670, 366727, 366879, 368118, 368987, 369263, 369369, 369634,\n",
       "         369792, 369832, 369907, 369951, 370021, 370042, 372790]),\n",
       "  'prop_of_parent': 0.11720183486238532,\n",
       "  'prop_of_total': 0.0013637431145650967,\n",
       "  'parent': 'live',\n",
       "  'children': [],\n",
       "  'geom': {'threshold': 0.2985194329965035,\n",
       "   'method': 'Local minima; two highest peaks',\n",
       "   'shape': 'threshold',\n",
       "   'x': 'CD3',\n",
       "   'y': None}},\n",
       " 'gdt': {'population_name': 'gdt',\n",
       "  'index': array([], dtype=int64),\n",
       "  'prop_of_parent': 0,\n",
       "  'prop_of_total': 0,\n",
       "  'parent': 'cd3+',\n",
       "  'children': [],\n",
       "  'geom': {'shape': 'cluster', 'x': 'Vd2', 'y': 'PanGD'}},\n",
       " 'vd2-': {'population_name': 'vd2-',\n",
       "  'index': array([   132,    310,    369, ..., 372901, 372955, 372993]),\n",
       "  'prop_of_parent': 0.9438815276695246,\n",
       "  'prop_of_total': 0.009695653102181989,\n",
       "  'parent': 'cd3+',\n",
       "  'children': [],\n",
       "  'geom': {'shape': 'cluster', 'x': 'Vd2', 'y': 'PanGD'}},\n",
       " 'non_gdt': {'population_name': 'non_gdt',\n",
       "  'index': array([], dtype=int64),\n",
       "  'prop_of_parent': 0,\n",
       "  'prop_of_total': 0,\n",
       "  'parent': 'cd3+',\n",
       "  'children': ['mait'],\n",
       "  'geom': {'shape': 'cluster', 'x': 'Vd2', 'y': 'PanGD'}},\n",
       " 'mait': {'population_name': 'mait',\n",
       "  'index': [],\n",
       "  'prop_of_parent': 0,\n",
       "  'prop_of_total': 0,\n",
       "  'parent': 'non_gdt',\n",
       "  'children': [],\n",
       "  'geom': {}}}"
      ]
     },
     "execution_count": 26,
     "metadata": {},
     "output_type": "execute_result"
    }
   ],
   "source": [
    "gating.populations"
   ]
  },
  {
   "cell_type": "code",
   "execution_count": 25,
   "metadata": {},
   "outputs": [
    {
     "data": {
      "text/plain": [
       "(<Figure size 432x288 with 1 Axes>,\n",
       " <matplotlib.axes._subplots.AxesSubplot at 0x7efc40139438>)"
      ]
     },
     "execution_count": 25,
     "metadata": {},
     "output_type": "execute_result"
    },
    {
     "data": {
      "image/png": "[encoded data removed]",
      "text/plain": [
       "<Figure size 432x288 with 1 Axes>"
      ]
     },
     "metadata": {
      "needs_background": "light"
     },
     "output_type": "display_data"
    }
   ],
   "source": [
    "gating.plot_gate('mait_gate')"
   ]
  },
  {
   "cell_type": "code",
   "execution_count": null,
   "metadata": {},
   "outputs": [],
   "source": []
  }
 ],
 "metadata": {
  "kernelspec": {
   "display_name": "Python 3",
   "language": "python",
   "name": "python3"
  },
  "language_info": {
   "codemirror_mode": {
    "name": "ipython",
    "version": 3
   },
   "file_extension": ".py",
   "mimetype": "text/x-python",
   "name": "python",
   "nbconvert_exporter": "python",
   "pygments_lexer": "ipython3",
   "version": "3.7.3"
  }
 },
 "nbformat": 4,
 "nbformat_minor": 4
}
