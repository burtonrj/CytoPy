{
 "cells": [
  {
   "cell_type": "code",
   "execution_count": 2,
   "metadata": {},
   "outputs": [],
   "source": [
    "import sys\n",
    "if '/home/ross/immunova' not in sys.path:\n",
    "    sys.path.append('/home/ross/immunova')\n",
    "from immunova.data.fcs_experiments import FCSExperiment\n",
    "from immunova.data.mongo_setup import test_init\n",
    "from immunova.flow.gating.actions import Gating\n",
    "from anytree.search import findall\n",
    "import warnings\n",
    "warnings.filterwarnings('ignore')\n",
    "test_init()"
   ]
  },
  {
   "cell_type": "code",
   "execution_count": 10,
   "metadata": {},
   "outputs": [],
   "source": [
    "test_exp = FCSExperiment.objects(experiment_id='ILTIS_T1').get()"
   ]
  },
  {
   "cell_type": "code",
   "execution_count": 15,
   "metadata": {},
   "outputs": [],
   "source": [
    "test = Gating(test_exp, 'hc1')"
   ]
  },
  {
   "cell_type": "code",
   "execution_count": 18,
   "metadata": {},
   "outputs": [
    {
     "name": "stdout",
     "output_type": "stream",
     "text": [
      "root\n",
      "├── cells\n",
      "│   ├── manual_lymphocytes\n",
      "│   │   ├── manual_liveCD3\n",
      "│   │   │   ├── manual_gdt\n",
      "│   │   │   ├── manual_gdtNEG\n",
      "│   │   │   ├── gmm_gdt\n",
      "│   │   │   ├── gmm_gdtNEG\n",
      "│   │   │   ├── dbscan_gdt\n",
      "│   │   │   ├── dbscan_nongdt\n",
      "│   │   │   ├── dbscan_vd2\n",
      "│   │   │   ├── hdbscan_gdt\n",
      "│   │   │   ├── hdbscan_nongdt\n",
      "│   │   │   ├── hdbscan_vd2\n",
      "│   │   │   ├── dens2d_gdt\n",
      "│   │   │   ├── dens2d_nongdt\n",
      "│   │   │   ├── dens2d_vd2\n",
      "│   │   │   ├── dens2d_noise\n",
      "│   │   │   ├── dbscan_maits\n",
      "│   │   │   ├── dbscan_classic\n",
      "│   │   │   ├── hdbscan_maits\n",
      "│   │   │   ├── hdbscan_classic\n",
      "│   │   │   ├── gmm_maits\n",
      "│   │   │   ├── gmm_classic\n",
      "│   │   │   ├── dens2d_maits\n",
      "│   │   │   └── dens2d_classic\n",
      "│   │   ├── manual_liveCD3_Neg\n",
      "│   │   ├── gmm_liveCD3\n",
      "│   │   ├── gmm_liveCD3_NEG\n",
      "│   │   ├── dbscan_liveCD3\n",
      "│   │   ├── hdbscan_liveCD3\n",
      "│   │   ├── dens2d_liveCD3\n",
      "│   │   └── dens2d_liveCD3_Neg\n",
      "│   ├── manual_lymphocytes_NEG\n",
      "│   ├── gmm_lymphocytes\n",
      "│   ├── gmm_lymphocytes_NEG\n",
      "│   ├── dbscan_lymphocytes\n",
      "│   ├── hdbscan_lymphocytes\n",
      "│   ├── dens2d_lymphocytes\n",
      "│   └── dens2d_lymphocytes_NEG\n",
      "└── debris\n"
     ]
    }
   ],
   "source": [
    "test.print_population_tree()"
   ]
  },
  {
   "cell_type": "code",
   "execution_count": 8,
   "metadata": {},
   "outputs": [
    {
     "name": "stdout",
     "output_type": "stream",
     "text": [
      "Error: population manual_nongdt does not exist; valid population names include: dict_keys(['root', 'cells', 'debris', 'manual_lymphocytes', 'manual_lymphocytes_NEG', 'manual_liveCD3', 'manual_liveCD3_Neg', 'manual_gdt', 'manual_gdtNEG', 'manual_nongdtNEG', 'gmm_lymphocytes', 'gmm_lymphocytes_NEG', 'dbscan_lymphocytes', 'hdbscan_lymphocytes', 'dens2d_lymphocytes', 'dens2d_lymphocytes_NEG', 'gmm_liveCD3', 'gmm_liveCD3_NEG', 'dbscan_liveCD3', 'hdbscan_liveCD3', 'dens2d_liveCD3', 'dens2d_liveCD3_Neg', 'gmm_gdt', 'gmm_gdtNEG', 'dbscan_gdt', 'dbscan_nongdt', 'dbscan_vd2', 'hdbscan_gdt', 'hdbscan_nongdt', 'hdbscan_vd2', 'dens2d_gdt', 'dens2d_nongdt', 'dens2d_vd2', 'dens2d_noise', 'dbscan_maits', 'dbscan_classic', 'hdbscan_maits', 'hdbscan_classic', 'gmm_maits', 'gmm_classic', 'dens2d_maits', 'dens2d_classic'])\n"
     ]
    }
   ],
   "source": [
    "test.find_dependencies('manual_nongdt')"
   ]
  },
  {
   "cell_type": "code",
   "execution_count": 17,
   "metadata": {},
   "outputs": [
    {
     "data": {
      "text/plain": [
       "(['manual_mait',\n",
       "  'manual_cd4cd8',\n",
       "  'gmm_cd4',\n",
       "  'gmm_cd8',\n",
       "  'dbscan_cd4cd8',\n",
       "  'hdbscan_cd4cd8',\n",
       "  'dens2d_cd4cd8',\n",
       "  'manual_nongdt'],\n",
       " ['manual_nongdt',\n",
       "  'manual_mait',\n",
       "  'manual_classic',\n",
       "  'manual_cd4',\n",
       "  'manual_cd8',\n",
       "  'manual_other',\n",
       "  'gmm_cd4',\n",
       "  'gmm_notcd4',\n",
       "  'gmm_cd8',\n",
       "  'gmm_notcd8',\n",
       "  'dbscan_cd4',\n",
       "  'dbscan_cd8',\n",
       "  'hdbscan_cd4',\n",
       "  'hdbscan_cd8',\n",
       "  'dens2d_cd4',\n",
       "  'dens2d_cd8',\n",
       "  'dens2d_notcd4cd8',\n",
       "  'manual_nongdt',\n",
       "  'manual_nongdtNEG',\n",
       "  'manual_nongdtNEG'])"
      ]
     },
     "execution_count": 17,
     "metadata": {},
     "output_type": "execute_result"
    }
   ],
   "source": [
    "test.remove_gate('manual_nongdt')"
   ]
  },
  {
   "cell_type": "code",
   "execution_count": 19,
   "metadata": {},
   "outputs": [
    {
     "data": {
      "text/plain": [
       "dict_keys(['debris_gate', 'manual_lymphocytes', 'manual_liveCD3', 'manual_gdt', 'gmm_lymphocytes', 'dbscan_lymphocytes', 'hdbscan_lymphocytes', 'dens2d_lymphocytes', 'gmm_liveCD3', 'dbscan_liveCD3', 'hdbscan_liveCD3', 'dens2d_liveCD3', 'gmm_gdt', 'dbscan_gdt', 'hdbscan_gdt', 'dens2d_gdt', 'dbscan_maits', 'hdbscan_maits', 'gmm_maits', 'dens2d_maits'])"
      ]
     },
     "execution_count": 19,
     "metadata": {},
     "output_type": "execute_result"
    }
   ],
   "source": [
    "test.gates.keys()"
   ]
  },
  {
   "cell_type": "code",
   "execution_count": 21,
   "metadata": {},
   "outputs": [
    {
     "data": {
      "text/plain": [
       "'manual_liveCD3'"
      ]
     },
     "execution_count": 21,
     "metadata": {},
     "output_type": "execute_result"
    }
   ],
   "source": [
    "test.gates['gmm_maits'].parent"
   ]
  },
  {
   "cell_type": "code",
   "execution_count": null,
   "metadata": {},
   "outputs": [],
   "source": []
  }
 ],
 "metadata": {
  "kernelspec": {
   "display_name": "Python 3",
   "language": "python",
   "name": "python3"
  },
  "language_info": {
   "codemirror_mode": {
    "name": "ipython",
    "version": 3
   },
   "file_extension": ".py",
   "mimetype": "text/x-python",
   "name": "python",
   "nbconvert_exporter": "python",
   "pygments_lexer": "ipython3",
   "version": "3.6.8"
  }
 },
 "nbformat": 4,
 "nbformat_minor": 4
}
