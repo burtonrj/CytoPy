{
 "cells": [
  {
   "cell_type": "markdown",
   "metadata": {},
   "source": [
    "<h1>Loading ILTIS data into Immunova</h1>"
   ]
  },
  {
   "cell_type": "code",
   "execution_count": 2,
   "metadata": {},
   "outputs": [],
   "source": [
    "import sys\n",
    "if '/home/rossco/immunova' not in sys.path:\n",
    "    sys.path.append('/home/rossco/immunova')\n",
    "from immunova.data.fcs_experiments import FCSExperiment\n",
    "from immunova.data.utilities import get_fcs_file_paths\n",
    "from immunova.data.panel import Panel\n",
    "from immunova.data.mongo_setup import test_init"
   ]
  },
  {
   "cell_type": "code",
   "execution_count": 3,
   "metadata": {},
   "outputs": [],
   "source": [
    "test_init()"
   ]
  },
  {
   "cell_type": "markdown",
   "metadata": {},
   "source": [
    "<h2>Create Panels</h2>\n",
    "\n",
    "Start by using the excel templates in the root folder of this notebook to create `Panel` objects. These represent the expected channel/marker mappings of fcs files and are used to 'standardise' input at the point of entry."
   ]
  },
  {
   "cell_type": "code",
   "execution_count": 3,
   "metadata": {},
   "outputs": [
    {
     "data": {
      "text/plain": [
       "<Panel: Panel object>"
      ]
     },
     "execution_count": 3,
     "metadata": {},
     "output_type": "execute_result"
    }
   ],
   "source": [
    "t1_panel = Panel()\n",
    "t1_panel.panel_name = 'ILTIS_T1'\n",
    "t1_panel.create_from_excel('t1_mappings.xlsx')\n",
    "t1_panel.save()"
   ]
  },
  {
   "cell_type": "code",
   "execution_count": 4,
   "metadata": {},
   "outputs": [
    {
     "data": {
      "text/plain": [
       "<Panel: Panel object>"
      ]
     },
     "execution_count": 4,
     "metadata": {},
     "output_type": "execute_result"
    }
   ],
   "source": [
    "t2_panel = Panel()\n",
    "t2_panel.panel_name = 'ILTIS_T2'\n",
    "t2_panel.create_from_excel('t2_mappings.xlsx')\n",
    "t2_panel.save()"
   ]
  },
  {
   "cell_type": "code",
   "execution_count": 5,
   "metadata": {},
   "outputs": [
    {
     "data": {
      "text/plain": [
       "<Panel: Panel object>"
      ]
     },
     "execution_count": 5,
     "metadata": {},
     "output_type": "execute_result"
    }
   ],
   "source": [
    "n_panel = Panel()\n",
    "n_panel.panel_name = 'ILTIS_N'\n",
    "n_panel.create_from_excel('mononeutro_mappings.xlsx')\n",
    "n_panel.save()"
   ]
  },
  {
   "cell_type": "markdown",
   "metadata": {},
   "source": [
    "<h2>Create experiments</h2>\n",
    "\n",
    "I need three experiments, one for each of the above Panels. This is the central object that will be used to add fcs files, sample data, and then interact with that data."
   ]
  },
  {
   "cell_type": "code",
   "execution_count": 6,
   "metadata": {},
   "outputs": [
    {
     "data": {
      "text/plain": [
       "<FCSExperiment: FCSExperiment object>"
      ]
     },
     "execution_count": 6,
     "metadata": {},
     "output_type": "execute_result"
    }
   ],
   "source": [
    "t1 = FCSExperiment()\n",
    "t1.experiment_id = 'ILTIS_T1'\n",
    "t1.panel = t1_panel\n",
    "t1.save()"
   ]
  },
  {
   "cell_type": "code",
   "execution_count": 7,
   "metadata": {},
   "outputs": [
    {
     "data": {
      "text/plain": [
       "<FCSExperiment: FCSExperiment object>"
      ]
     },
     "execution_count": 7,
     "metadata": {},
     "output_type": "execute_result"
    }
   ],
   "source": [
    "t2 = FCSExperiment()\n",
    "t2.experiment_id = 'ILTIS_T2'\n",
    "t2.panel = t2_panel\n",
    "t2.save()"
   ]
  },
  {
   "cell_type": "code",
   "execution_count": 8,
   "metadata": {},
   "outputs": [
    {
     "data": {
      "text/plain": [
       "<FCSExperiment: FCSExperiment object>"
      ]
     },
     "execution_count": 8,
     "metadata": {},
     "output_type": "execute_result"
    }
   ],
   "source": [
    "n = FCSExperiment()\n",
    "n.experiment_id = 'ILTIS_N'\n",
    "n.panel = n_panel\n",
    "n.save()"
   ]
  },
  {
   "cell_type": "markdown",
   "metadata": {},
   "source": [
    "<h2>Add data to experiments</h2>\n",
    "I'm going to add the first 10 samples from ILTIS to each experiment. I can use the utility function in Immunova `get_fcs_file_paths` to generate a dictionary of fcs file paths from any location."
   ]
  },
  {
   "cell_type": "code",
   "execution_count": 9,
   "metadata": {},
   "outputs": [
    {
     "name": "stdout",
     "output_type": "stream",
     "text": [
      "Help on function get_fcs_file_paths in module immunova.data.utilities:\n",
      "\n",
      "get_fcs_file_paths(fcs_dir:str, control_names:list, ctrl_id:str, ignore_comp=True) -> dict\n",
      "    Generate a standard dictionary object of fcs files in given directory\n",
      "    :param fcs_dir: target directory for search\n",
      "    :param control_names: names of expected control files (names must appear in filenames)\n",
      "    :param ctrl_id: global identifier for control file e.g. 'FMO' (must appear in filenames)\n",
      "    :param ignore_comp: If True, files with 'compensation' in their name will be ignored (default = True)\n",
      "    :return: standard dictionary of fcs files contained in target directory\n",
      "\n"
     ]
    }
   ],
   "source": [
    "help(get_fcs_file_paths)"
   ]
  },
  {
   "cell_type": "code",
   "execution_count": 7,
   "metadata": {},
   "outputs": [
    {
     "data": {
      "text/plain": [
       "{'primary': ['/media/rossco/FCS_DATA/study_fcs_files/sep6/day1/t1/sep-006 LT panel1_1 LT1 whole panel_001.fcs'],\n",
       " 'controls': [{'control_id': 'CD57',\n",
       "   'path': '/media/rossco/FCS_DATA/study_fcs_files/sep6/day1/t1/sep-006 LT panel1_LT1-2 FMO CD57_002.fcs'},\n",
       "  {'control_id': 'CCR7',\n",
       "   'path': '/media/rossco/FCS_DATA/study_fcs_files/sep6/day1/t1/sep-006 LT panel1_LT1-3 FMO CCR7_003.fcs'},\n",
       "  {'control_id': 'CD45RA',\n",
       "   'path': '/media/rossco/FCS_DATA/study_fcs_files/sep6/day1/t1/sep-006 LT panel1_LT1-4 FMO CD45RA_004.fcs'},\n",
       "  {'control_id': 'CD27',\n",
       "   'path': '/media/rossco/FCS_DATA/study_fcs_files/sep6/day1/t1/sep-006 LT panel1_LT1-5 FMO CD27_005.fcs'}]}"
      ]
     },
     "execution_count": 7,
     "metadata": {},
     "output_type": "execute_result"
    }
   ],
   "source": [
    "t1_files['sep6']"
   ]
  },
  {
   "cell_type": "code",
   "execution_count": 6,
   "metadata": {},
   "outputs": [
    {
     "name": "stdout",
     "output_type": "stream",
     "text": [
      "Fetching files for: sep6\n",
      "T1 panel...\n",
      "T2 panel...\n",
      "Monocyte/Neutrophil panel...\n",
      "Complete!\n",
      "---------------------------------------------------\n",
      "Fetching files for: sep12\n",
      "T1 panel...\n",
      "T2 panel...\n",
      "Warning: no file found for CXCR3 control\n",
      "Warning: no file found for HLA-DR control\n",
      "Warning: no file found for CD69 control\n",
      "Warning: no file found for CD25 control\n",
      "Monocyte/Neutrophil panel...\n",
      "Complete!\n",
      "---------------------------------------------------\n",
      "Fetching files for: sep13\n",
      "T1 panel...\n",
      "T2 panel...\n",
      "Monocyte/Neutrophil panel...\n",
      "Complete!\n",
      "---------------------------------------------------\n",
      "Fetching files for: sep17\n",
      "T1 panel...\n",
      "T2 panel...\n",
      "Monocyte/Neutrophil panel...\n",
      "Complete!\n",
      "---------------------------------------------------\n",
      "Fetching files for: sep19\n",
      "T1 panel...\n",
      "T2 panel...\n",
      "Monocyte/Neutrophil panel...\n",
      "Complete!\n",
      "---------------------------------------------------\n",
      "Fetching files for: sep28\n",
      "T1 panel...\n",
      "T2 panel...\n",
      "Monocyte/Neutrophil panel...\n",
      "Complete!\n",
      "---------------------------------------------------\n",
      "Fetching files for: sep29\n",
      "T1 panel...\n",
      "T2 panel...\n",
      "Monocyte/Neutrophil panel...\n",
      "Complete!\n",
      "---------------------------------------------------\n",
      "Fetching files for: sep34\n",
      "T1 panel...\n",
      "T2 panel...\n",
      "Monocyte/Neutrophil panel...\n",
      "Complete!\n",
      "---------------------------------------------------\n",
      "Fetching files for: sep37\n",
      "T1 panel...\n",
      "T2 panel...\n",
      "Monocyte/Neutrophil panel...\n",
      "Complete!\n",
      "---------------------------------------------------\n",
      "Fetching files for: sep38\n",
      "T1 panel...\n",
      "T2 panel...\n",
      "Monocyte/Neutrophil panel...\n",
      "Complete!\n",
      "---------------------------------------------------\n",
      "Fetching files for: sep49\n",
      "T1 panel...\n",
      "T2 panel...\n",
      "Monocyte/Neutrophil panel...\n",
      "Complete!\n",
      "---------------------------------------------------\n",
      "Fetching files for: sep50\n",
      "T1 panel...\n",
      "T2 panel...\n",
      "Monocyte/Neutrophil panel...\n",
      "Complete!\n",
      "---------------------------------------------------\n",
      "Fetching files for: sep51\n",
      "T1 panel...\n",
      "T2 panel...\n",
      "Monocyte/Neutrophil panel...\n",
      "Complete!\n",
      "---------------------------------------------------\n",
      "Fetching files for: sep61\n",
      "T1 panel...\n",
      "T2 panel...\n",
      "Monocyte/Neutrophil panel...\n",
      "Warning: multiple files found for CD11b control\n",
      "Warning: multiple files found for HLA-DR control\n",
      "Warning: multiple files found for CD40 control\n",
      "Warning: multiple files found for CD62L control\n",
      "Warning! Multiple non-control (primary) files found in directory. Check before proceeding.\n",
      "Complete!\n",
      "---------------------------------------------------\n",
      "Fetching files for: sep67\n",
      "T1 panel...\n",
      "T2 panel...\n",
      "Monocyte/Neutrophil panel...\n",
      "Complete!\n",
      "---------------------------------------------------\n",
      "Fetching files for: sep68\n",
      "T1 panel...\n",
      "Warning: no file found for CCR7 control\n",
      "Warning: no file found for CD45RA control\n",
      "Warning: no file found for CD27 control\n",
      "T2 panel...\n",
      "Monocyte/Neutrophil panel...\n",
      "Complete!\n",
      "---------------------------------------------------\n",
      "Fetching files for: sep70\n",
      "T1 panel...\n",
      "T2 panel...\n",
      "Monocyte/Neutrophil panel...\n",
      "Complete!\n",
      "---------------------------------------------------\n",
      "Fetching files for: sep71\n",
      "T1 panel...\n",
      "T2 panel...\n",
      "Monocyte/Neutrophil panel...\n",
      "Complete!\n",
      "---------------------------------------------------\n",
      "Fetching files for: sep75\n",
      "T1 panel...\n",
      "T2 panel...\n",
      "Monocyte/Neutrophil panel...\n",
      "Warning! Multiple non-control (primary) files found in directory. Check before proceeding.\n",
      "Complete!\n",
      "---------------------------------------------------\n",
      "Fetching files for: sep76\n",
      "T1 panel...\n",
      "T2 panel...\n",
      "Monocyte/Neutrophil panel...\n",
      "Complete!\n",
      "---------------------------------------------------\n",
      "Fetching files for: sep87\n",
      "T1 panel...\n",
      "T2 panel...\n",
      "Monocyte/Neutrophil panel...\n",
      "Complete!\n",
      "---------------------------------------------------\n",
      "Fetching files for: sep88\n",
      "T1 panel...\n",
      "T2 panel...\n",
      "Monocyte/Neutrophil panel...\n",
      "Complete!\n",
      "---------------------------------------------------\n",
      "Fetching files for: sep97\n",
      "T1 panel...\n",
      "T2 panel...\n",
      "Monocyte/Neutrophil panel...\n",
      "Complete!\n",
      "---------------------------------------------------\n",
      "Fetching files for: sep98\n",
      "T1 panel...\n",
      "T2 panel...\n",
      "Monocyte/Neutrophil panel...\n",
      "Complete!\n",
      "---------------------------------------------------\n",
      "Fetching files for: sep99\n",
      "T1 panel...\n",
      "T2 panel...\n",
      "Monocyte/Neutrophil panel...\n",
      "Complete!\n",
      "---------------------------------------------------\n"
     ]
    }
   ],
   "source": [
    "t1_files = dict()\n",
    "t2_files = dict()\n",
    "n_files = dict()\n",
    "t1_ctrls = ['CD57', 'CCR7', 'CD45RA', 'CD27']\n",
    "t2_ctrls = ['CXCR3', 'HLA-DR', 'CD69', 'CD25']\n",
    "n_ctrls = ['CD11b', 'HLA-DR', 'CD40', 'CD62L']\n",
    "root = '/media/rossco/FCS_DATA/study_fcs_files/'\n",
    "for x in [f'sep{x}' for x in [6,12,13,17,19,28,29,34,37,38,49,50,51,61,67,68,70,71,75,76,87,88,97,98,99]]:\n",
    "    print(f'Fetching files for: {x}')\n",
    "    print('T1 panel...')\n",
    "    t1_files[x] = get_fcs_file_paths(f'{root}{x}/day1/t1', control_names=t1_ctrls, ctrl_id='FMO')\n",
    "    print('T2 panel...')\n",
    "    t2_files[x] = get_fcs_file_paths(f'{root}{x}/day1/t2', control_names=t2_ctrls, ctrl_id='FMO')\n",
    "    print('Monocyte/Neutrophil panel...')\n",
    "    n_files[x] = get_fcs_file_paths(f'{root}{x}/day1/mononeutro', control_names=n_ctrls, ctrl_id='FMO')\n",
    "    print('Complete!')\n",
    "    print('---------------------------------------------------')"
   ]
  },
  {
   "cell_type": "markdown",
   "metadata": {},
   "source": [
    "Some samples are missing FMO's so let's remove those."
   ]
  },
  {
   "cell_type": "code",
   "execution_count": 8,
   "metadata": {},
   "outputs": [],
   "source": [
    "for x in [f'sep{x}' for x in [12,61,68,75]]:\n",
    "    _=t1_files.pop(x)\n",
    "    _=t2_files.pop(x)\n",
    "    _=n_files.pop(x)"
   ]
  },
  {
   "cell_type": "code",
   "execution_count": 9,
   "metadata": {},
   "outputs": [],
   "source": [
    "sample_ids = [f'sep{x}' for x in [6,13,17,19,28,29,34,37,38,49,50,51,67,70,71,76,87,88,97,98,99]]"
   ]
  },
  {
   "cell_type": "code",
   "execution_count": 11,
   "metadata": {},
   "outputs": [
    {
     "name": "stdout",
     "output_type": "stream",
     "text": [
      "Help on method add_new_sample in module immunova.data.fcs_experiments:\n",
      "\n",
      "add_new_sample(sample_id: str, file_path: str, controls: list, comp_matrix: <built-in function array> = None, compensate: bool = True, feedback: bool = True, catch_standardisation_errors: bool = False) -> str method of immunova.data.fcs_experiments.FCSExperiment instance\n",
      "    Add a new sample (FileGroup) to this experiment\n",
      "    :param sample_id: primary ID for identification of sample (FileGroup.primary_id)\n",
      "    :param file_path: file path of the primary fcs file (e.g. the fcs file that is of primary interest such as the\n",
      "    file with complete staining)\n",
      "    :param controls: list of file paths for control files e.g. a list of file paths for associated FMO controls\n",
      "    :param comp_matrix: (optional) numpy array for spillover matrix for compensation calculation; if not supplied\n",
      "    the matrix linked within the fcs file will be used, if not present will present an error\n",
      "    :param compensate: boolean value as to whether compensation should be applied before data entry (default=True)\n",
      "    :param feedback: boolean value, if True function will provide feedback in the form of print statements\n",
      "    (default=True)\n",
      "    :param catch_standardisation_errors: if True, standardisation errors will cause process to abort\n",
      "    :return: MongoDB ObjectID string for new FileGroup entry\n",
      "\n"
     ]
    }
   ],
   "source": [
    "t1 = FCSExperiment.objects(experiment_id='ILTIS_T1').get()\n",
    "help(t1.add_new_sample)"
   ]
  },
  {
   "cell_type": "code",
   "execution_count": 12,
   "metadata": {},
   "outputs": [
    {
     "name": "stdout",
     "output_type": "stream",
     "text": [
      "--------------------------------------------------------------------\n",
      "Processing fcs files for  sep6\n",
      "Adding files for T1 experiment...\n",
      "Completed!\n",
      "--------------------------------------------------------------------\n",
      "--------------------------------------------------------------------\n",
      "Processing fcs files for  sep13\n",
      "Adding files for T1 experiment...\n",
      "Completed!\n",
      "--------------------------------------------------------------------\n",
      "--------------------------------------------------------------------\n",
      "Processing fcs files for  sep17\n",
      "Adding files for T1 experiment...\n",
      "Completed!\n",
      "--------------------------------------------------------------------\n",
      "--------------------------------------------------------------------\n",
      "Processing fcs files for  sep19\n",
      "Adding files for T1 experiment...\n",
      "Completed!\n",
      "--------------------------------------------------------------------\n",
      "--------------------------------------------------------------------\n",
      "Processing fcs files for  sep28\n",
      "Adding files for T1 experiment...\n",
      "Completed!\n",
      "--------------------------------------------------------------------\n",
      "--------------------------------------------------------------------\n",
      "Processing fcs files for  sep29\n",
      "Adding files for T1 experiment...\n",
      "Completed!\n",
      "--------------------------------------------------------------------\n",
      "--------------------------------------------------------------------\n",
      "Processing fcs files for  sep34\n",
      "Adding files for T1 experiment...\n",
      "Completed!\n",
      "--------------------------------------------------------------------\n",
      "--------------------------------------------------------------------\n",
      "Processing fcs files for  sep37\n",
      "Adding files for T1 experiment...\n",
      "Completed!\n",
      "--------------------------------------------------------------------\n",
      "--------------------------------------------------------------------\n",
      "Processing fcs files for  sep38\n",
      "Adding files for T1 experiment...\n",
      "Completed!\n",
      "--------------------------------------------------------------------\n",
      "--------------------------------------------------------------------\n",
      "Processing fcs files for  sep49\n",
      "Adding files for T1 experiment...\n",
      "Completed!\n",
      "--------------------------------------------------------------------\n",
      "--------------------------------------------------------------------\n",
      "Processing fcs files for  sep50\n",
      "Adding files for T1 experiment...\n",
      "Completed!\n",
      "--------------------------------------------------------------------\n",
      "--------------------------------------------------------------------\n",
      "Processing fcs files for  sep51\n",
      "Adding files for T1 experiment...\n",
      "Completed!\n",
      "--------------------------------------------------------------------\n",
      "--------------------------------------------------------------------\n",
      "Processing fcs files for  sep67\n",
      "Adding files for T1 experiment...\n",
      "Completed!\n",
      "--------------------------------------------------------------------\n",
      "--------------------------------------------------------------------\n",
      "Processing fcs files for  sep70\n",
      "Adding files for T1 experiment...\n",
      "Completed!\n",
      "--------------------------------------------------------------------\n",
      "--------------------------------------------------------------------\n",
      "Processing fcs files for  sep71\n",
      "Adding files for T1 experiment...\n",
      "Completed!\n",
      "--------------------------------------------------------------------\n",
      "--------------------------------------------------------------------\n",
      "Processing fcs files for  sep76\n",
      "Adding files for T1 experiment...\n",
      "Completed!\n",
      "--------------------------------------------------------------------\n",
      "--------------------------------------------------------------------\n",
      "Processing fcs files for  sep87\n",
      "Adding files for T1 experiment...\n",
      "Completed!\n",
      "--------------------------------------------------------------------\n",
      "--------------------------------------------------------------------\n",
      "Processing fcs files for  sep88\n",
      "Adding files for T1 experiment...\n",
      "Completed!\n",
      "--------------------------------------------------------------------\n",
      "--------------------------------------------------------------------\n",
      "Processing fcs files for  sep97\n",
      "Adding files for T1 experiment...\n",
      "Completed!\n",
      "--------------------------------------------------------------------\n",
      "--------------------------------------------------------------------\n",
      "Processing fcs files for  sep98\n",
      "Adding files for T1 experiment...\n",
      "Completed!\n",
      "--------------------------------------------------------------------\n",
      "--------------------------------------------------------------------\n",
      "Processing fcs files for  sep99\n",
      "Adding files for T1 experiment...\n",
      "Completed!\n",
      "--------------------------------------------------------------------\n"
     ]
    }
   ],
   "source": [
    "for x in sample_ids:\n",
    "    print('--------------------------------------------------------------------')\n",
    "    print(f'Processing fcs files for  {x}')\n",
    "    print('Adding files for T1 experiment...')\n",
    "    t1.add_new_sample(sample_id=x, file_path=t1_files[x]['primary'][0],\n",
    "                     controls=t1_files[x]['controls'], feedback=False)\n",
    "    print('Completed!')\n",
    "    print('--------------------------------------------------------------------')"
   ]
  },
  {
   "cell_type": "code",
   "execution_count": null,
   "metadata": {},
   "outputs": [],
   "source": []
  }
 ],
 "metadata": {
  "kernelspec": {
   "display_name": "Python 3",
   "language": "python",
   "name": "python3"
  },
  "language_info": {
   "codemirror_mode": {
    "name": "ipython",
    "version": 3
   },
   "file_extension": ".py",
   "mimetype": "text/x-python",
   "name": "python",
   "nbconvert_exporter": "python",
   "pygments_lexer": "ipython3",
   "version": "3.7.3"
  }
 },
 "nbformat": 4,
 "nbformat_minor": 4
}
