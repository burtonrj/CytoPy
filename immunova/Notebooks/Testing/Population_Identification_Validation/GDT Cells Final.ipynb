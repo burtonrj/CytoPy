{
 "cells": [
  {
   "cell_type": "markdown",
   "metadata": {},
   "source": [
    "<h1>Gamma Delta T-cells</h1>"
   ]
  },
  {
   "cell_type": "code",
   "execution_count": 2,
   "metadata": {},
   "outputs": [],
   "source": [
    "import sys\n",
    "if '/home/ross/immunova' not in sys.path:\n",
    "    sys.path.append('/home/ross/immunova')\n",
    "from immunova.data.fcs_experiments import FCSExperiment\n",
    "from immunova.flow.gating.actions import Gating\n",
    "from immunova.flow.gating.transforms import apply_transform\n",
    "from immunova.flow.gating.defaults import ChildPopulationCollection\n",
    "from immunova.flow.plotting.static_plots import Plot\n",
    "from immunova.data.mongo_setup import test_init\n",
    "from sklearn.metrics import accuracy_score, f1_score, recall_score, precision_score, confusion_matrix\n",
    "from datetime import datetime\n",
    "from matplotlib.patches import Rectangle, Ellipse\n",
    "from matplotlib.colors import LogNorm\n",
    "import matplotlib.pyplot as plt\n",
    "from scipy.spatial import ConvexHull\n",
    "import pandas as pd\n",
    "import numpy as np\n",
    "import functools\n",
    "import warnings\n",
    "import os\n",
    "warnings.filterwarnings('ignore')\n",
    "test_init()"
   ]
  },
  {
   "cell_type": "code",
   "execution_count": 3,
   "metadata": {},
   "outputs": [],
   "source": [
    "if os.path.isfile('algo_times.csv'):\n",
    "    performance = pd.read_csv('algo_times.csv').to_dict('list')\n",
    "else:\n",
    "    performance = dict(sample_id=[], task=[], method=[], time_seconds=[])"
   ]
  },
  {
   "cell_type": "code",
   "execution_count": 4,
   "metadata": {},
   "outputs": [],
   "source": [
    "def timed_apply(sample_go, task_name, gate_name, performance_record, plot=True, save=True):\n",
    "    start = datetime.now()\n",
    "    sample_go.apply(gate_name, plot_output=plot)\n",
    "    end = datetime.now()\n",
    "    performance['sample_id'].append(sample_go.id)\n",
    "    performance['method'].append(gate_name)\n",
    "    performance['time_seconds'].append((end-start).total_seconds())\n",
    "    performance['task'].append(task_name)\n",
    "    if save:\n",
    "        pd.DataFrame(performance).to_csv('algo_times.csv', index=False)\n",
    "    return performance_record"
   ]
  },
  {
   "cell_type": "code",
   "execution_count": 5,
   "metadata": {},
   "outputs": [],
   "source": [
    "def visualise_manual_rect(sample_go, parent_population, x, y, x_min, x_max, y_min, y_max, xlim, ylim):\n",
    "    data = apply_transform(sample_go.get_population_df(parent_population).copy(), [x, y], 'logicle')\n",
    "    fig, ax = plt.subplots(figsize=(5,5))\n",
    "    ax.hist2d(data[x], data[y], bins=500, norm=LogNorm())\n",
    "    r = Rectangle(xy=(x_min, y_min), width=x_max, height=y_max, fill=False, edgecolor='r')\n",
    "    ax.add_patch(r)\n",
    "    ax.set_xlim(xlim[0], xlim[1])\n",
    "    ax.set_ylim(ylim[0], ylim[1])\n",
    "    fig.show()"
   ]
  },
  {
   "cell_type": "code",
   "execution_count": 6,
   "metadata": {},
   "outputs": [],
   "source": [
    "def visualise_manual_ellipse(sample_go, population, x, y, centroid, width, height, angle, xlim, ylim):\n",
    "    data = apply_transform(sample_go.get_population_df(population)[[x, y]], features_to_transform=[x,y],\n",
    "                           transform_method='logicle')\n",
    "    fig, ax = plt.subplots(figsize=(5,5))\n",
    "    ax.hist2d(data[x], data[y], bins=500, norm=LogNorm())\n",
    "    ellipse = Ellipse(xy=centroid, width=width, height=height,\n",
    "                              angle=angle, fill=False, edgecolor='r')\n",
    "    ax.add_patch(ellipse)\n",
    "    ax.set_xlim(xlim[0], xlim[1])\n",
    "    ax.set_ylim(ylim[0], ylim[1])\n",
    "    fig.show()"
   ]
  },
  {
   "cell_type": "code",
   "execution_count": 7,
   "metadata": {},
   "outputs": [],
   "source": [
    "exp = FCSExperiment.objects(experiment_id='ILTIS_T1').get()"
   ]
  },
  {
   "cell_type": "markdown",
   "metadata": {},
   "source": [
    "Remove autonomous gates and populations applied with erronous gates."
   ]
  },
  {
   "cell_type": "code",
   "execution_count": 8,
   "metadata": {},
   "outputs": [],
   "source": [
    "samples = exp.list_samples()\n",
    "samples = [x for x in samples if x!= 'sep6']"
   ]
  },
  {
   "cell_type": "code",
   "execution_count": 11,
   "metadata": {},
   "outputs": [
    {
     "name": "stdout",
     "output_type": "stream",
     "text": [
      "Saved successfully!\n",
      "Saved successfully!\n",
      "Saved successfully!\n",
      "Saved successfully!\n",
      "Saved successfully!\n",
      "Saved successfully!\n",
      "Saved successfully!\n",
      "Saved successfully!\n",
      "Saved successfully!\n",
      "Saved successfully!\n",
      "Saved successfully!\n",
      "Saved successfully!\n",
      "Saved successfully!\n",
      "Saved successfully!\n"
     ]
    }
   ],
   "source": [
    "populations_to_remove = ['gmm_gdt', 'gmm_gdtNEG', 'dbscan_gdt', 'dbscan_nongdt', 'dbscan_vd2',\n",
    "                        'hdbscan_gdt', 'hdbscan_nongdt', 'hdbscan_vd2', 'dens2d_gdt', 'dens2d_nongdt',\n",
    "                        'dens2d_vd2', 'dens2d_noise']\n",
    "gates_to_remove = ['gmm_gdt', 'dbscan_gdt', 'hdbscan_gdt', 'dens2d_gdt']\n",
    "for x in samples:\n",
    "    hc = Gating(exp, x)\n",
    "    for p in populations_to_remove:\n",
    "        if p in hc.populations.keys():\n",
    "            hc.populations.pop(p)\n",
    "    for g in gates_to_remove:\n",
    "        if g in hc.gates.keys():\n",
    "            hc.gates.pop(g)\n",
    "    hc.save(overwrite=True)"
   ]
  },
  {
   "cell_type": "code",
   "execution_count": 9,
   "metadata": {},
   "outputs": [
    {
     "name": "stdout",
     "output_type": "stream",
     "text": [
      "Gating hc1...\n",
      "mixture model...\n",
      "dbscan...\n",
      "Expected 3 populations, identified 2; {0, 1, -1}\n",
      "Populations f['dbscan_nongdt', 'dbscan_vd2'] assigned to the same cluster 0;prioritising dbscan_nongdt based on weighting.\n",
      "hdbscan...\n",
      "2D density threshold...\n",
      "Saved successfully!\n",
      "Complete!\n",
      ".........................................................\n",
      "Gating hc4...\n",
      "mixture model...\n",
      "dbscan...\n",
      "Populations f['dbscan_nongdt', 'dbscan_vd2'] assigned to the same cluster 0;prioritising dbscan_nongdt based on weighting.\n",
      "hdbscan...\n",
      "2D density threshold...\n",
      "Saved successfully!\n",
      "Complete!\n",
      ".........................................................\n",
      "Gating hc5...\n",
      "mixture model...\n",
      "dbscan...\n",
      "Expected 3 populations, identified 2; {0, 1, -1}\n",
      "Populations f['dbscan_gdt', 'dbscan_vd2'] assigned to the same cluster 1;prioritising dbscan_gdt based on weighting.\n",
      "hdbscan...\n",
      "Populations f['hdbscan_gdt', 'hdbscan_vd2'] assigned to the same cluster 0;prioritising hdbscan_gdt based on weighting.\n",
      "2D density threshold...\n",
      "Saved successfully!\n",
      "Complete!\n",
      ".........................................................\n",
      "Gating hc7...\n",
      "mixture model...\n",
      "dbscan...\n",
      "Expected 3 populations, identified 2; {0, 1, -1}\n",
      "Populations f['dbscan_gdt', 'dbscan_vd2'] assigned to the same cluster 1;prioritising dbscan_gdt based on weighting.\n",
      "hdbscan...\n",
      "Populations f['hdbscan_gdt', 'hdbscan_vd2'] assigned to the same cluster 0;prioritising hdbscan_gdt based on weighting.\n",
      "2D density threshold...\n",
      "Saved successfully!\n",
      "Complete!\n",
      ".........................................................\n",
      "Gating hc9...\n",
      "mixture model...\n",
      "dbscan...\n",
      "Expected 3 populations, identified 2; {0, 1, -1}\n",
      "Populations f['dbscan_gdt', 'dbscan_vd2'] assigned to the same cluster 1;prioritising dbscan_gdt based on weighting.\n",
      "hdbscan...\n",
      "Populations f['hdbscan_gdt', 'hdbscan_vd2'] assigned to the same cluster 1;prioritising hdbscan_gdt based on weighting.\n",
      "2D density threshold...\n",
      "Saved successfully!\n",
      "Complete!\n",
      ".........................................................\n",
      "Gating hc10...\n",
      "mixture model...\n",
      "dbscan...\n",
      "Expected 3 populations, identified 2; {0, 1, -1}\n",
      "Populations f['dbscan_gdt', 'dbscan_vd2'] assigned to the same cluster 1;prioritising dbscan_gdt based on weighting.\n",
      "hdbscan...\n",
      "Populations f['hdbscan_gdt', 'hdbscan_vd2'] assigned to the same cluster 0;prioritising hdbscan_gdt based on weighting.\n",
      "2D density threshold...\n",
      "Saved successfully!\n",
      "Complete!\n",
      ".........................................................\n",
      "Gating hc11...\n",
      "mixture model...\n",
      "dbscan...\n",
      "Expected 3 populations, identified 6; {0, 1, 2, 3, 4, 5, -1}\n",
      "Populations f['dbscan_gdt', 'dbscan_nongdt', 'dbscan_vd2'] assigned to the same cluster -1;prioritising dbscan_gdt based on weighting.\n",
      "hdbscan...\n",
      "Populations f['hdbscan_gdt', 'hdbscan_vd2'] assigned to the same cluster 0;prioritising hdbscan_gdt based on weighting.\n",
      "2D density threshold...\n",
      "Saved successfully!\n",
      "Complete!\n",
      ".........................................................\n",
      "Gating hc12...\n",
      "mixture model...\n",
      "dbscan...\n",
      "Error: density dependendent downsampling failed; weights sum to zero. Defaulting to uniform samplings\n",
      "Expected 3 populations, identified 2; {0, 1, -1}\n",
      "Populations f['dbscan_gdt', 'dbscan_vd2'] assigned to the same cluster 1;prioritising dbscan_gdt based on weighting.\n",
      "Population ['dbscan_nongdt'] assigned to noise (i.e. population not found)\n",
      "hdbscan...\n",
      "Error: density dependendent downsampling failed; weights sum to zero. Defaulting to uniform samplings\n",
      "Populations f['hdbscan_nongdt', 'hdbscan_vd2'] assigned to the same cluster 1;prioritising hdbscan_nongdt based on weighting.\n",
      "2D density threshold...\n",
      "Saved successfully!\n",
      "Complete!\n",
      ".........................................................\n",
      "Gating hc13...\n",
      "mixture model...\n",
      "dbscan...\n",
      "Error: density dependendent downsampling failed; weights sum to zero. Defaulting to uniform samplings\n",
      "Expected 3 populations, identified 2; {0, 1, -1}\n",
      "Populations f['dbscan_gdt', 'dbscan_vd2'] assigned to the same cluster 1;prioritising dbscan_gdt based on weighting.\n",
      "Population ['dbscan_nongdt'] assigned to noise (i.e. population not found)\n",
      "hdbscan...\n",
      "Error: density dependendent downsampling failed; weights sum to zero. Defaulting to uniform samplings\n",
      "Populations f['hdbscan_nongdt', 'hdbscan_vd2'] assigned to the same cluster 2;prioritising hdbscan_nongdt based on weighting.\n",
      "2D density threshold...\n",
      "Saved successfully!\n",
      "Complete!\n",
      ".........................................................\n",
      "Gating hc15...\n",
      "mixture model...\n",
      "dbscan...\n",
      "Expected 3 populations, identified 4; {0, 1, 2, 3, -1}\n",
      "Populations f['dbscan_nongdt', 'dbscan_vd2'] assigned to the same cluster 0;prioritising dbscan_nongdt based on weighting.\n",
      "hdbscan...\n",
      "Populations f['hdbscan_nongdt', 'hdbscan_vd2'] assigned to the same cluster 1;prioritising hdbscan_nongdt based on weighting.\n",
      "2D density threshold...\n",
      "Saved successfully!\n",
      "Complete!\n",
      ".........................................................\n",
      "Gating hc16...\n",
      "mixture model...\n",
      "dbscan...\n",
      "Populations f['dbscan_nongdt', 'dbscan_vd2'] assigned to the same cluster 0;prioritising dbscan_nongdt based on weighting.\n",
      "hdbscan...\n",
      "Populations f['hdbscan_nongdt', 'hdbscan_vd2'] assigned to the same cluster 2;prioritising hdbscan_nongdt based on weighting.\n",
      "2D density threshold...\n",
      "Saved successfully!\n",
      "Complete!\n",
      ".........................................................\n",
      "Gating hc17...\n",
      "mixture model...\n",
      "dbscan...\n",
      "Populations f['dbscan_nongdt', 'dbscan_vd2'] assigned to the same cluster 0;prioritising dbscan_nongdt based on weighting.\n",
      "hdbscan...\n",
      "Populations f['hdbscan_nongdt', 'hdbscan_vd2'] assigned to the same cluster 0;prioritising hdbscan_nongdt based on weighting.\n",
      "2D density threshold...\n",
      "Saved successfully!\n",
      "Complete!\n",
      ".........................................................\n",
      "Gating hc18...\n",
      "mixture model...\n",
      "dbscan...\n",
      "Expected 3 populations, identified 2; {0, 1, -1}\n",
      "Populations f['dbscan_nongdt', 'dbscan_vd2'] assigned to the same cluster 0;prioritising dbscan_nongdt based on weighting.\n",
      "hdbscan...\n",
      "Populations f['hdbscan_nongdt', 'hdbscan_vd2'] assigned to the same cluster 0;prioritising hdbscan_nongdt based on weighting.\n",
      "2D density threshold...\n",
      "Saved successfully!\n",
      "Complete!\n",
      ".........................................................\n",
      "Gating hc19...\n",
      "mixture model...\n",
      "dbscan...\n",
      "Expected 3 populations, identified 2; {0, 1, -1}\n",
      "Populations f['dbscan_nongdt', 'dbscan_vd2'] assigned to the same cluster 0;prioritising dbscan_nongdt based on weighting.\n",
      "hdbscan...\n",
      "Populations f['hdbscan_nongdt', 'hdbscan_vd2'] assigned to the same cluster 0;prioritising hdbscan_nongdt based on weighting.\n",
      "2D density threshold...\n",
      "Saved successfully!\n",
      "Complete!\n",
      ".........................................................\n"
     ]
    }
   ],
   "source": [
    "for x in samples:\n",
    "    print(f'Gating {x}...')\n",
    "    hc = Gating(exp, x)\n",
    "    \n",
    "    print('mixture model...')\n",
    "    child_populations = ChildPopulationCollection('geom')\n",
    "    child_populations.add_population('gmm_gdt', definition='+')\n",
    "    child_populations.add_population('gmm_gdtNEG', definition='-')\n",
    "\n",
    "    pre_filter=dict(xmin=0.4, xmax=1.0, ymin=0.4, ymax=1.0)\n",
    "    gate_definition = dict(x='PanGD', y='Vd2', target=[0.6, 0.8], conf=0.99, rect_filter=pre_filter,\n",
    "                      k=2)\n",
    "    hc.create_gate(gate_name='gmm_gdt', parent='manual_liveCD3', class_='MixtureModel', method='gate',\n",
    "                   kwargs=gate_definition, child_populations=child_populations)\n",
    "    performance = timed_apply(sample_go=hc, task_name='Gamma Delta T cells', gate_name='gmm_gdt',\n",
    "                          performance_record=performance, save=True, plot=False)\n",
    "    \n",
    "    print('dbscan...')\n",
    "    child_populations = ChildPopulationCollection('cluster')\n",
    "    child_populations.add_population('dbscan_gdt', target=[0.6, 0.8], weight=2)\n",
    "    child_populations.add_population('dbscan_nongdt', target=[0.2, 0.2], weight=2)\n",
    "    child_populations.add_population('dbscan_vd2', target=[0.6, 0.2], weight=1)\n",
    "\n",
    "    sampling_kwargs = dict()\n",
    "    gate_definition = dict(x='PanGD', y='Vd2', min_pop_size=100, distance_nn=0.02,\n",
    "                          downsample_method='density', frac=0.2)\n",
    "    hc.create_gate(gate_name='dbscan_gdt', parent='manual_liveCD3', class_='DensityBasedClustering', \n",
    "                   method='dbscan', kwargs=gate_definition, child_populations=child_populations)\n",
    "    performance = timed_apply(sample_go=hc, task_name='Gamma Delta T cells', gate_name='dbscan_gdt',\n",
    "                          performance_record=performance, save=True, plot=False)\n",
    "    \n",
    "    print('hdbscan...')\n",
    "    child_populations = ChildPopulationCollection('cluster')\n",
    "    child_populations.add_population('hdbscan_gdt', target=[0.6, 0.8], weight=2)\n",
    "    child_populations.add_population('hdbscan_nongdt', target=[0.2, 0.2], weight=2)\n",
    "    child_populations.add_population('hdbscan_vd2', target=[0.6, 0.2], weight=1)\n",
    "\n",
    "    gate_definition = dict(x='PanGD', y='Vd2', min_pop_size=100, downsample_method='density', frac=0.2)\n",
    "    hc.create_gate(gate_name='hdbscan_gdt', parent='manual_liveCD3', class_='DensityBasedClustering', \n",
    "                   method='hdbscan', kwargs=gate_definition, child_populations=child_populations)\n",
    "    performance = timed_apply(sample_go=hc, task_name='Gamma Delta T cells', gate_name='hdbscan_gdt',\n",
    "                              performance_record=performance, save=True, plot=False)\n",
    "    \n",
    "    print('2D density threshold...')\n",
    "    child_populations = ChildPopulationCollection('threshold_2d')\n",
    "    child_populations.add_population('dens2d_gdt', definition=['++'])\n",
    "    child_populations.add_population('dens2d_nongdt', definition=['--'])\n",
    "    child_populations.add_population('dens2d_vd2', definition=['-+'])\n",
    "    child_populations.add_population('dens2d_noise', definition=['+-'])\n",
    "    gate_definition = dict(x='PanGD', y='Vd2', kde_bw=0.1, peak_threshold=0.05)\n",
    "    hc.create_gate(gate_name='dens2d_gdt', parent='manual_liveCD3', class_='DensityThreshold', \n",
    "                     method='gate_2d', kwargs=gate_definition, child_populations=child_populations)\n",
    "    performance = timed_apply(sample_go=hc, task_name='Gamma Delta T cells', gate_name='dens2d_gdt',\n",
    "                          performance_record=performance, save=True, plot=False)\n",
    "    hc.save(overwrite=True)\n",
    "    print('Complete!')\n",
    "    print('.........................................................')"
   ]
  },
  {
   "cell_type": "markdown",
   "metadata": {},
   "source": [
    "<h2>Evaluate performance</h2>"
   ]
  },
  {
   "cell_type": "code",
   "execution_count": 48,
   "metadata": {},
   "outputs": [
    {
     "name": "stderr",
     "output_type": "stream",
     "text": [
      "100%|██████████| 14/14 [01:18<00:00,  5.63s/it]\n"
     ]
    }
   ],
   "source": [
    "from tqdm import tqdm, tqdm_notebook\n",
    "def calc_performance(so, true_pop_name, predicted_pop_name, parent):\n",
    "    parent = so.get_population_df(parent)\n",
    "    automated = so.get_population_df(predicted_pop_name)\n",
    "    manual = so.get_population_df(true_pop_name)\n",
    "    parent['auto'], parent['manual'] = 0, 0\n",
    "    parent['auto'] = parent['auto'].mask(parent.index.isin(automated.index), 1)\n",
    "    parent['manual'] = parent['manual'].mask(parent.index.isin(manual.index), 1)\n",
    "    \n",
    "    recall = recall_score(y_true=parent['manual'].values, y_pred=parent['auto'])\n",
    "    precision = precision_score(y_true=parent['manual'].values, y_pred=parent['auto'])\n",
    "    accuracy = accuracy_score(y_true=parent['manual'].values, y_pred=parent['auto'])\n",
    "    f1 = f1_score(y_true=parent['manual'].values, y_pred=parent['auto'])\n",
    "    tn, fp, fn, tp = confusion_matrix(y_pred=parent['auto'], y_true=parent['manual']).ravel()\n",
    "    fpr = fp/(fp+tn)\n",
    "    \n",
    "    return dict(recall=recall, precision=precision, accuracy=accuracy, f1_score=f1, FPR=fpr)\n",
    "\n",
    "gdt_performance = list()\n",
    "nongdt_performance = list()\n",
    "vd2_performance = list()\n",
    "for x in tqdm(samples):\n",
    "    hc = Gating(exp, x)\n",
    "    #GMM\n",
    "    results = calc_performance(hc, 'manual_gdt', 'gmm_gdt', 'manual_liveCD3')\n",
    "    results['method'] = 'gmm'\n",
    "    results['id'] = x\n",
    "    gdt_performance.append(results)\n",
    "    #DBSCAN\n",
    "    results = calc_performance(hc, 'manual_gdt', 'dbscan_gdt', 'manual_liveCD3')\n",
    "    results['method'] = 'dbscan'\n",
    "    results['id'] = x\n",
    "    gdt_performance.append(results)\n",
    "    results = calc_performance(hc, 'manual_nongdt', 'dbscan_nongdt', 'manual_liveCD3')\n",
    "    results['method'] = 'dbscan'\n",
    "    results['id'] = x\n",
    "    nongdt_performance.append(results)\n",
    "    results = calc_performance(hc, 'manual_vd2Neg', 'dbscan_vd2', 'manual_liveCD3')\n",
    "    results['method'] = 'dbscan'\n",
    "    results['id'] = x\n",
    "    vd2_performance.append(results)\n",
    "    #HDBSCAN\n",
    "    results = calc_performance(hc, 'manual_gdt', 'hdbscan_gdt', 'manual_liveCD3')\n",
    "    results['method'] = 'hdbscan'\n",
    "    results['id'] = x\n",
    "    gdt_performance.append(results)\n",
    "    results = calc_performance(hc, 'manual_nongdt', 'hdbscan_nongdt', 'manual_liveCD3')\n",
    "    results['method'] = 'hdbscan'\n",
    "    results['id'] = x\n",
    "    nongdt_performance.append(results)\n",
    "    results = calc_performance(hc, 'manual_vd2Neg', 'hdbscan_vd2', 'manual_liveCD3')\n",
    "    results['method'] = 'hdbscan'\n",
    "    results['id'] = x\n",
    "    vd2_performance.append(results)\n",
    "    #2D Density Threshold\n",
    "    results = calc_performance(hc, 'manual_gdt', 'dens2d_gdt', 'manual_liveCD3')\n",
    "    results['method'] = 'dens2d'\n",
    "    results['id'] = x\n",
    "    gdt_performance.append(results)\n",
    "    results = calc_performance(hc, 'manual_nongdt', 'dens2d_nongdt', 'manual_liveCD3')\n",
    "    results['method'] = 'dens2d'\n",
    "    results['id'] = x\n",
    "    nongdt_performance.append(results)\n",
    "    results = calc_performance(hc, 'manual_vd2Neg', 'dens2d_vd2', 'manual_liveCD3')\n",
    "    results['method'] = 'dens2d'\n",
    "    results['id'] = x\n",
    "    vd2_performance.append(results)\n",
    "    "
   ]
  },
  {
   "cell_type": "code",
   "execution_count": 61,
   "metadata": {},
   "outputs": [],
   "source": [
    "gdt_results = pd.DataFrame(gdt_performance)\n",
    "nongdt_results = pd.DataFrame(nongdt_performance)\n",
    "vd2_results = pd.DataFrame(vd2_performance)"
   ]
  },
  {
   "cell_type": "code",
   "execution_count": 62,
   "metadata": {},
   "outputs": [],
   "source": [
    "import seaborn as sns"
   ]
  },
  {
   "cell_type": "code",
   "execution_count": 63,
   "metadata": {},
   "outputs": [],
   "source": [
    "def rename_method(x):\n",
    "    if 'gmm' in x:\n",
    "        return 'Gaussian Mixture Model'\n",
    "    if 'hdbscan' in x:\n",
    "        return 'HDBSCAN'\n",
    "    if 'dbscan' in x:\n",
    "        return 'DBSCAN'\n",
    "    if 'dens2d' in x:\n",
    "        return 'Density threshold (2D)'\n",
    "    return x\n",
    "gdt_results['method'] = gdt_results['method'].apply(rename_method)\n",
    "nongdt_results['method'] = nongdt_results['method'].apply(rename_method)\n",
    "vd2_results['method'] = vd2_results['method'].apply(rename_method)"
   ]
  },
  {
   "cell_type": "code",
   "execution_count": 64,
   "metadata": {},
   "outputs": [
    {
     "data": {
      "text/plain": [
       "Text(0, 0.5, '')"
      ]
     },
     "execution_count": 64,
     "metadata": {},
     "output_type": "execute_result"
    },
    {
     "data": {
      "image/png": "[encoded data removed]",
      "text/plain": [
       "<Figure size 432x288 with 1 Axes>"
      ]
     },
     "metadata": {
      "needs_background": "light"
     },
     "output_type": "display_data"
    }
   ],
   "source": [
    "ax = sns.boxplot(x=\"f1_score\", y=\"method\", data=gdt_results, whis=np.inf, color='white')\n",
    "ax = sns.swarmplot(x=\"f1_score\", y=\"method\", data=gdt_results, color=\".2\")\n",
    "ax.set_xlabel('F1 Score')\n",
    "ax.set_ylabel('')"
   ]
  },
  {
   "cell_type": "code",
   "execution_count": 65,
   "metadata": {},
   "outputs": [
    {
     "data": {
      "text/plain": [
       "Text(0, 0.5, '')"
      ]
     },
     "execution_count": 65,
     "metadata": {},
     "output_type": "execute_result"
    },
    {
     "data": {
      "image/png": "[encoded data removed]",
      "text/plain": [
       "<Figure size 432x288 with 1 Axes>"
      ]
     },
     "metadata": {
      "needs_background": "light"
     },
     "output_type": "display_data"
    }
   ],
   "source": [
    "ax = sns.boxplot(x=\"f1_score\", y=\"method\", data=nongdt_results, whis=np.inf, color='white')\n",
    "ax = sns.swarmplot(x=\"f1_score\", y=\"method\", data=nongdt_results, color=\".2\")\n",
    "ax.set_xlabel('F1 Score')\n",
    "ax.set_ylabel('')"
   ]
  },
  {
   "cell_type": "code",
   "execution_count": 78,
   "metadata": {},
   "outputs": [
    {
     "data": {
      "image/png": "[encoded data removed]",
      "text/plain": [
       "<Figure size 360x360 with 1 Axes>"
      ]
     },
     "metadata": {
      "needs_background": "light"
     },
     "output_type": "display_data"
    }
   ],
   "source": [
    "hc = Gating(exp, 'hc4')\n",
    "hc.plotting.plot_gate('dbscan_gdt')"
   ]
  },
  {
   "cell_type": "code",
   "execution_count": 79,
   "metadata": {},
   "outputs": [
    {
     "data": {
      "text/plain": [
       "Node('/root/cells/lymphocytes/manual_liveCD3/dbscan_gdt', geom={'shape': 'cluster', 'x': 'PanGD', 'y': 'Vd2'}, index=array([     4,     15,     21, ..., 627738, 627739, 627747]), prop_of_parent=0.1987702539381235, prop_of_total=0.09274581519972983, warnings=[\"Populations f['dbscan_nongdt', 'dbscan_vd2'] assigned to the same cluster 0;prioritising dbscan_nongdt based on weighting.\"])"
      ]
     },
     "execution_count": 79,
     "metadata": {},
     "output_type": "execute_result"
    }
   ],
   "source": [
    "hc.populations['dbscan_gdt']"
   ]
  },
  {
   "cell_type": "code",
   "execution_count": 83,
   "metadata": {},
   "outputs": [],
   "source": [
    "data = apply_transform(hc.get_population_df('dbscan_nongdt'), ['PanGD', 'Vd2'], 'logicle')\n",
    "parent = apply_transform(hc.get_population_df('manual_liveCD3'), ['PanGD', 'Vd2'], 'logicle')"
   ]
  },
  {
   "cell_type": "code",
   "execution_count": 96,
   "metadata": {},
   "outputs": [
    {
     "data": {
      "text/plain": [
       "29291"
      ]
     },
     "execution_count": 96,
     "metadata": {},
     "output_type": "execute_result"
    }
   ],
   "source": [
    "import math\n",
    "d = np.ceil(parent.shape[0]/30000)\n",
    "chunksize = np.ceil(parent.shape[0]/d)\n",
    "int(chunksize)"
   ]
  },
  {
   "cell_type": "code",
   "execution_count": 66,
   "metadata": {},
   "outputs": [
    {
     "data": {
      "text/plain": [
       "Text(0, 0.5, '')"
      ]
     },
     "execution_count": 66,
     "metadata": {},
     "output_type": "execute_result"
    },
    {
     "data": {
      "image/png": "[encoded data removed]",
      "text/plain": [
       "<Figure size 432x288 with 1 Axes>"
      ]
     },
     "metadata": {
      "needs_background": "light"
     },
     "output_type": "display_data"
    }
   ],
   "source": [
    "ax = sns.boxplot(x=\"f1_score\", y=\"method\", data=vd2_results, whis=np.inf, color='white')\n",
    "ax = sns.swarmplot(x=\"f1_score\", y=\"method\", data=vd2_results, color=\".2\")\n",
    "ax.set_xlabel('F1 Score')\n",
    "ax.set_ylabel('')"
   ]
  },
  {
   "cell_type": "code",
   "execution_count": null,
   "metadata": {},
   "outputs": [],
   "source": []
  }
 ],
 "metadata": {
  "kernelspec": {
   "display_name": "Python 3",
   "language": "python",
   "name": "python3"
  },
  "language_info": {
   "codemirror_mode": {
    "name": "ipython",
    "version": 3
   },
   "file_extension": ".py",
   "mimetype": "text/x-python",
   "name": "python",
   "nbconvert_exporter": "python",
   "pygments_lexer": "ipython3",
   "version": "3.6.8"
  }
 },
 "nbformat": 4,
 "nbformat_minor": 4
}
