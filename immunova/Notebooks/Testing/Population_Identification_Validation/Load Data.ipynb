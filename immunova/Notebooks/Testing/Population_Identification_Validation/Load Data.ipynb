{
 "cells": [
  {
   "cell_type": "markdown",
   "metadata": {},
   "source": [
    "<h1>Loading ILTIS data into Immunova</h1>"
   ]
  },
  {
   "cell_type": "code",
   "execution_count": 1,
   "metadata": {},
   "outputs": [],
   "source": [
    "import sys\n",
    "if '/home/ross/immunova' not in sys.path:\n",
    "    sys.path.append('/home/ross/immunova')\n",
    "from immunova.data.fcs_experiments import FCSExperiment\n",
    "from immunova.data.utilities import get_fcs_file_paths\n",
    "from immunova.data.panel import Panel\n",
    "from immunova.data.mongo_setup import test_init"
   ]
  },
  {
   "cell_type": "code",
   "execution_count": 2,
   "metadata": {},
   "outputs": [],
   "source": [
    "test_init()"
   ]
  },
  {
   "cell_type": "markdown",
   "metadata": {},
   "source": [
    "<h2>Create Panels</h2>\n",
    "\n",
    "Start by using the excel templates in the root folder of this notebook to create `Panel` objects. These represent the expected channel/marker mappings of fcs files and are used to 'standardise' input at the point of entry."
   ]
  },
  {
   "cell_type": "code",
   "execution_count": 3,
   "metadata": {},
   "outputs": [
    {
     "data": {
      "text/plain": [
       "<Panel: Panel object>"
      ]
     },
     "execution_count": 3,
     "metadata": {},
     "output_type": "execute_result"
    }
   ],
   "source": [
    "t1_panel = Panel()\n",
    "t1_panel.panel_name = 'ILTIS_T1'\n",
    "t1_panel.create_from_excel('t1_mappings.xlsx')\n",
    "t1_panel.save()"
   ]
  },
  {
   "cell_type": "code",
   "execution_count": 4,
   "metadata": {},
   "outputs": [
    {
     "data": {
      "text/plain": [
       "<Panel: Panel object>"
      ]
     },
     "execution_count": 4,
     "metadata": {},
     "output_type": "execute_result"
    }
   ],
   "source": [
    "t2_panel = Panel()\n",
    "t2_panel.panel_name = 'ILTIS_T2'\n",
    "t2_panel.create_from_excel('t2_mappings.xlsx')\n",
    "t2_panel.save()"
   ]
  },
  {
   "cell_type": "code",
   "execution_count": 5,
   "metadata": {},
   "outputs": [
    {
     "data": {
      "text/plain": [
       "<Panel: Panel object>"
      ]
     },
     "execution_count": 5,
     "metadata": {},
     "output_type": "execute_result"
    }
   ],
   "source": [
    "n_panel = Panel()\n",
    "n_panel.panel_name = 'ILTIS_N'\n",
    "n_panel.create_from_excel('mononeutro_mappings.xlsx')\n",
    "n_panel.save()"
   ]
  },
  {
   "cell_type": "markdown",
   "metadata": {},
   "source": [
    "<h2>Create experiments</h2>\n",
    "\n",
    "I need three experiments, one for each of the above Panels. This is the central object that will be used to add fcs files, sample data, and then interact with that data."
   ]
  },
  {
   "cell_type": "code",
   "execution_count": 6,
   "metadata": {},
   "outputs": [
    {
     "data": {
      "text/plain": [
       "<FCSExperiment: FCSExperiment object>"
      ]
     },
     "execution_count": 6,
     "metadata": {},
     "output_type": "execute_result"
    }
   ],
   "source": [
    "t1 = FCSExperiment()\n",
    "t1.experiment_id = 'ILTIS_T1'\n",
    "t1.panel = t1_panel\n",
    "t1.save()"
   ]
  },
  {
   "cell_type": "code",
   "execution_count": 7,
   "metadata": {},
   "outputs": [
    {
     "data": {
      "text/plain": [
       "<FCSExperiment: FCSExperiment object>"
      ]
     },
     "execution_count": 7,
     "metadata": {},
     "output_type": "execute_result"
    }
   ],
   "source": [
    "t2 = FCSExperiment()\n",
    "t2.experiment_id = 'ILTIS_T2'\n",
    "t2.panel = t2_panel\n",
    "t2.save()"
   ]
  },
  {
   "cell_type": "code",
   "execution_count": 8,
   "metadata": {},
   "outputs": [
    {
     "data": {
      "text/plain": [
       "<FCSExperiment: FCSExperiment object>"
      ]
     },
     "execution_count": 8,
     "metadata": {},
     "output_type": "execute_result"
    }
   ],
   "source": [
    "n = FCSExperiment()\n",
    "n.experiment_id = 'ILTIS_N'\n",
    "n.panel = n_panel\n",
    "n.save()"
   ]
  },
  {
   "cell_type": "markdown",
   "metadata": {},
   "source": [
    "<h2>Add data to experiments</h2>\n",
    "I'm going to add the first 10 samples from ILTIS to each experiment. I can use the utility function in Immunova `get_fcs_file_paths` to generate a dictionary of fcs file paths from any location."
   ]
  },
  {
   "cell_type": "code",
   "execution_count": 9,
   "metadata": {},
   "outputs": [
    {
     "name": "stdout",
     "output_type": "stream",
     "text": [
      "Help on function get_fcs_file_paths in module immunova.data.utilities:\n",
      "\n",
      "get_fcs_file_paths(fcs_dir:str, control_names:list, ctrl_id:str, ignore_comp=True) -> dict\n",
      "    Generate a standard dictionary object of fcs files in given directory\n",
      "    :param fcs_dir: target directory for search\n",
      "    :param control_names: names of expected control files (names must appear in filenames)\n",
      "    :param ctrl_id: global identifier for control file e.g. 'FMO' (must appear in filenames)\n",
      "    :param ignore_comp: If True, files with 'compensation' in their name will be ignored (default = True)\n",
      "    :return: standard dictionary of fcs files contained in target directory\n",
      "\n"
     ]
    }
   ],
   "source": [
    "help(get_fcs_file_paths)"
   ]
  },
  {
   "cell_type": "code",
   "execution_count": 10,
   "metadata": {
    "scrolled": false
   },
   "outputs": [
    {
     "name": "stdout",
     "output_type": "stream",
     "text": [
      "Fetching files for: hc1\n",
      "T1 panel...\n",
      "T2 panel...\n",
      "Monocyte/Neutrophil panel...\n",
      "Complete!\n",
      "---------------------------------------------------\n",
      "Fetching files for: hc2\n",
      "T1 panel...\n",
      "T2 panel...\n",
      "Monocyte/Neutrophil panel...\n",
      "Warning: no file found for CD11b control\n",
      "Warning: no file found for HLA-DR control\n",
      "Warning: no file found for CD40 control\n",
      "Warning: no file found for CD62L control\n",
      "Complete!\n",
      "---------------------------------------------------\n",
      "Fetching files for: hc3\n",
      "T1 panel...\n",
      "Warning: no file found for CD57 control\n",
      "Warning: no file found for CCR7 control\n",
      "Warning: no file found for CD45RA control\n",
      "Warning: no file found for CD27 control\n",
      "T2 panel...\n",
      "Warning: no file found for CXCR3 control\n",
      "Warning: no file found for HLA-DR control\n",
      "Warning: no file found for CD69 control\n",
      "Warning: no file found for CD25 control\n",
      "Monocyte/Neutrophil panel...\n",
      "Complete!\n",
      "---------------------------------------------------\n",
      "Fetching files for: hc4\n",
      "T1 panel...\n",
      "T2 panel...\n",
      "Monocyte/Neutrophil panel...\n",
      "Complete!\n",
      "---------------------------------------------------\n",
      "Fetching files for: hc5\n",
      "T1 panel...\n",
      "T2 panel...\n",
      "Monocyte/Neutrophil panel...\n",
      "Complete!\n",
      "---------------------------------------------------\n",
      "Fetching files for: hc6\n",
      "T1 panel...\n",
      "T2 panel...\n",
      "Warning: no file found for CXCR3 control\n",
      "Warning: no file found for HLA-DR control\n",
      "Warning: no file found for CD69 control\n",
      "Warning: no file found for CD25 control\n",
      "Monocyte/Neutrophil panel...\n",
      "Complete!\n",
      "---------------------------------------------------\n",
      "Fetching files for: hc7\n",
      "T1 panel...\n",
      "T2 panel...\n",
      "Monocyte/Neutrophil panel...\n",
      "Complete!\n",
      "---------------------------------------------------\n",
      "Fetching files for: hc8\n",
      "T1 panel...\n",
      "T2 panel...\n",
      "Monocyte/Neutrophil panel...\n",
      "Warning: no file found for CD62L control\n",
      "Complete!\n",
      "---------------------------------------------------\n",
      "Fetching files for: hc9\n",
      "T1 panel...\n",
      "T2 panel...\n",
      "Monocyte/Neutrophil panel...\n",
      "Complete!\n",
      "---------------------------------------------------\n",
      "Fetching files for: hc10\n",
      "T1 panel...\n",
      "T2 panel...\n",
      "Monocyte/Neutrophil panel...\n",
      "Complete!\n",
      "---------------------------------------------------\n",
      "Fetching files for: hc11\n",
      "T1 panel...\n",
      "T2 panel...\n",
      "Monocyte/Neutrophil panel...\n",
      "Complete!\n",
      "---------------------------------------------------\n",
      "Fetching files for: hc12\n",
      "T1 panel...\n",
      "T2 panel...\n",
      "Monocyte/Neutrophil panel...\n",
      "Complete!\n",
      "---------------------------------------------------\n",
      "Fetching files for: hc13\n",
      "T1 panel...\n",
      "T2 panel...\n",
      "Monocyte/Neutrophil panel...\n",
      "Complete!\n",
      "---------------------------------------------------\n",
      "Fetching files for: hc14\n",
      "T1 panel...\n",
      "Warning: no file found for CCR7 control\n",
      "Warning: no file found for CD45RA control\n",
      "Warning: no file found for CD27 control\n",
      "T2 panel...\n",
      "Warning! Multiple non-control (primary) files found in directory. Check before proceeding.\n",
      "Monocyte/Neutrophil panel...\n",
      "Complete!\n",
      "---------------------------------------------------\n",
      "Fetching files for: hc15\n",
      "T1 panel...\n",
      "T2 panel...\n",
      "Monocyte/Neutrophil panel...\n",
      "Complete!\n",
      "---------------------------------------------------\n",
      "Fetching files for: hc16\n",
      "T1 panel...\n",
      "T2 panel...\n",
      "Monocyte/Neutrophil panel...\n",
      "Complete!\n",
      "---------------------------------------------------\n",
      "Fetching files for: hc17\n",
      "T1 panel...\n",
      "T2 panel...\n",
      "Monocyte/Neutrophil panel...\n",
      "Complete!\n",
      "---------------------------------------------------\n",
      "Fetching files for: hc18\n",
      "T1 panel...\n",
      "T2 panel...\n",
      "Monocyte/Neutrophil panel...\n",
      "Complete!\n",
      "---------------------------------------------------\n",
      "Fetching files for: hc19\n",
      "T1 panel...\n",
      "T2 panel...\n",
      "Monocyte/Neutrophil panel...\n",
      "Complete!\n",
      "---------------------------------------------------\n",
      "Fetching files for: hc20\n",
      "T1 panel...\n",
      "T2 panel...\n",
      "Monocyte/Neutrophil panel...\n",
      "Warning: no file found for CD62L control\n",
      "Complete!\n",
      "---------------------------------------------------\n",
      "Fetching files for: hc21\n",
      "T1 panel...\n",
      "T2 panel...\n",
      "Monocyte/Neutrophil panel...\n",
      "Warning: multiple files found for CD62L control\n",
      "Complete!\n",
      "---------------------------------------------------\n"
     ]
    }
   ],
   "source": [
    "t1_files = dict()\n",
    "t2_files = dict()\n",
    "n_files = dict()\n",
    "t1_ctrls = ['CD57', 'CCR7', 'CD45RA', 'CD27']\n",
    "t2_ctrls = ['CXCR3', 'HLA-DR', 'CD69', 'CD25']\n",
    "n_ctrls = ['CD11b', 'HLA-DR', 'CD40', 'CD62L']\n",
    "root = '/media/ross/extdrive/ILTIS/study_fcs_files/'\n",
    "for x in [f'hc{x}' for x in range(1, 22)]:\n",
    "    print(f'Fetching files for: {x}')\n",
    "    print('T1 panel...')\n",
    "    t1_files[x] = get_fcs_file_paths(f'{root}{x}/day1/t1', control_names=t1_ctrls, ctrl_id='FMO')\n",
    "    print('T2 panel...')\n",
    "    t2_files[x] = get_fcs_file_paths(f'{root}{x}/day1/t2', control_names=t2_ctrls, ctrl_id='FMO')\n",
    "    print('Monocyte/Neutrophil panel...')\n",
    "    n_files[x] = get_fcs_file_paths(f'{root}{x}/day1/mononeutro', control_names=n_ctrls, ctrl_id='FMO')\n",
    "    print('Complete!')\n",
    "    print('---------------------------------------------------')"
   ]
  },
  {
   "cell_type": "markdown",
   "metadata": {},
   "source": [
    "Some samples are missing FMO's so let's remove those."
   ]
  },
  {
   "cell_type": "code",
   "execution_count": 11,
   "metadata": {},
   "outputs": [],
   "source": [
    "for x in [f'hc{x}' for x in [2,3,6,8,14,20,21]]:\n",
    "    _=t1_files.pop(x)\n",
    "    _=t2_files.pop(x)\n",
    "    _=n_files.pop(x)"
   ]
  },
  {
   "cell_type": "code",
   "execution_count": 12,
   "metadata": {},
   "outputs": [],
   "source": [
    "sample_ids = ['hc1',\n",
    " 'hc4',\n",
    " 'hc5',\n",
    " 'hc7',\n",
    " 'hc9',\n",
    " 'hc10',\n",
    " 'hc11',\n",
    " 'hc12',\n",
    " 'hc13',\n",
    " 'hc15',\n",
    " 'hc16',\n",
    " 'hc17',\n",
    " 'hc18',\n",
    " 'hc19']"
   ]
  },
  {
   "cell_type": "code",
   "execution_count": 13,
   "metadata": {},
   "outputs": [
    {
     "name": "stdout",
     "output_type": "stream",
     "text": [
      "Help on method add_new_sample in module immunova.data.fcs_experiments:\n",
      "\n",
      "add_new_sample(sample_id:str, file_path:str, controls:list, comp_matrix:<built-in function array>=None, compensate:bool=True, feedback:bool=True, catch_standardisation_errors:bool=False) -> str method of immunova.data.fcs_experiments.FCSExperiment instance\n",
      "    Add a new sample (FileGroup) to this experiment\n",
      "    :param sample_id: primary ID for identification of sample (FileGroup.primary_id)\n",
      "    :param file_path: file path of the primary fcs file (e.g. the fcs file that is of primary interest such as the\n",
      "    file with complete staining)\n",
      "    :param controls: list of file paths for control files e.g. a list of file paths for associated FMO controls\n",
      "    :param comp_matrix: (optional) numpy array for spillover matrix for compensation calculation; if not supplied\n",
      "    the matrix linked within the fcs file will be used, if not present will present an error\n",
      "    :param compensate: boolean value as to whether compensation should be applied before data entry (default=True)\n",
      "    :param feedback: boolean value, if True function will provide feedback in the form of print statements\n",
      "    (default=True)\n",
      "    :param catch_standardisation_errors: if True, standardisation errors will cause process to abort\n",
      "    :return: MongoDB ObjectID string for new FileGroup entry\n",
      "\n"
     ]
    }
   ],
   "source": [
    "help(t1.add_new_sample)"
   ]
  },
  {
   "cell_type": "code",
   "execution_count": 14,
   "metadata": {},
   "outputs": [
    {
     "name": "stdout",
     "output_type": "stream",
     "text": [
      "--------------------------------------------------------------------\n",
      "Processing fcs files for  hc1\n",
      "Adding files for T1 experiment...\n",
      "Adding files for T2 experiment...\n",
      "Adding files for Monocyte/Neutrophil experiment...\n",
      "Completed!\n",
      "--------------------------------------------------------------------\n",
      "--------------------------------------------------------------------\n",
      "Processing fcs files for  hc4\n",
      "Adding files for T1 experiment...\n",
      "Adding files for T2 experiment...\n",
      "Adding files for Monocyte/Neutrophil experiment...\n",
      "Completed!\n",
      "--------------------------------------------------------------------\n",
      "--------------------------------------------------------------------\n",
      "Processing fcs files for  hc5\n",
      "Adding files for T1 experiment...\n",
      "Adding files for T2 experiment...\n",
      "Adding files for Monocyte/Neutrophil experiment...\n",
      "Completed!\n",
      "--------------------------------------------------------------------\n",
      "--------------------------------------------------------------------\n",
      "Processing fcs files for  hc7\n",
      "Adding files for T1 experiment...\n",
      "Adding files for T2 experiment...\n",
      "Adding files for Monocyte/Neutrophil experiment...\n",
      "Completed!\n",
      "--------------------------------------------------------------------\n",
      "--------------------------------------------------------------------\n",
      "Processing fcs files for  hc9\n",
      "Adding files for T1 experiment...\n",
      "Adding files for T2 experiment...\n",
      "Adding files for Monocyte/Neutrophil experiment...\n",
      "Completed!\n",
      "--------------------------------------------------------------------\n",
      "--------------------------------------------------------------------\n",
      "Processing fcs files for  hc10\n",
      "Adding files for T1 experiment...\n",
      "Adding files for T2 experiment...\n",
      "Adding files for Monocyte/Neutrophil experiment...\n",
      "Completed!\n",
      "--------------------------------------------------------------------\n",
      "--------------------------------------------------------------------\n",
      "Processing fcs files for  hc11\n",
      "Adding files for T1 experiment...\n",
      "Adding files for T2 experiment...\n",
      "Adding files for Monocyte/Neutrophil experiment...\n",
      "Completed!\n",
      "--------------------------------------------------------------------\n",
      "--------------------------------------------------------------------\n",
      "Processing fcs files for  hc12\n",
      "Adding files for T1 experiment...\n",
      "Adding files for T2 experiment...\n",
      "Adding files for Monocyte/Neutrophil experiment...\n",
      "Completed!\n",
      "--------------------------------------------------------------------\n",
      "--------------------------------------------------------------------\n",
      "Processing fcs files for  hc13\n",
      "Adding files for T1 experiment...\n",
      "Adding files for T2 experiment...\n",
      "Adding files for Monocyte/Neutrophil experiment...\n",
      "Completed!\n",
      "--------------------------------------------------------------------\n",
      "--------------------------------------------------------------------\n",
      "Processing fcs files for  hc15\n",
      "Adding files for T1 experiment...\n",
      "Adding files for T2 experiment...\n",
      "Adding files for Monocyte/Neutrophil experiment...\n",
      "Completed!\n",
      "--------------------------------------------------------------------\n",
      "--------------------------------------------------------------------\n",
      "Processing fcs files for  hc16\n",
      "Adding files for T1 experiment...\n",
      "Adding files for T2 experiment...\n",
      "Adding files for Monocyte/Neutrophil experiment...\n",
      "Completed!\n",
      "--------------------------------------------------------------------\n",
      "--------------------------------------------------------------------\n",
      "Processing fcs files for  hc17\n",
      "Adding files for T1 experiment...\n",
      "Adding files for T2 experiment...\n",
      "Adding files for Monocyte/Neutrophil experiment...\n",
      "Completed!\n",
      "--------------------------------------------------------------------\n",
      "--------------------------------------------------------------------\n",
      "Processing fcs files for  hc18\n",
      "Adding files for T1 experiment...\n",
      "Adding files for T2 experiment...\n",
      "Adding files for Monocyte/Neutrophil experiment...\n",
      "Completed!\n",
      "--------------------------------------------------------------------\n",
      "--------------------------------------------------------------------\n",
      "Processing fcs files for  hc19\n",
      "Adding files for T1 experiment...\n",
      "Adding files for T2 experiment...\n",
      "Adding files for Monocyte/Neutrophil experiment...\n",
      "Completed!\n",
      "--------------------------------------------------------------------\n"
     ]
    }
   ],
   "source": [
    "for x in sample_ids:\n",
    "    print('--------------------------------------------------------------------')\n",
    "    print(f'Processing fcs files for  {x}')\n",
    "    print('Adding files for T1 experiment...')\n",
    "    t1.add_new_sample(sample_id=x, file_path=t1_files[x]['primary'][0],\n",
    "                     controls=t1_files[x]['controls'], feedback=False)\n",
    "    print('Adding files for T2 experiment...')\n",
    "    t2.add_new_sample(sample_id=x, file_path=t2_files[x]['primary'][0],\n",
    "                 controls=t2_files[x]['controls'], feedback=False)\n",
    "    print('Adding files for Monocyte/Neutrophil experiment...')\n",
    "    n.add_new_sample(sample_id=x, file_path=n_files[x]['primary'][0],\n",
    "                 controls=n_files[x]['controls'], feedback=False)\n",
    "    print('Completed!')\n",
    "    print('--------------------------------------------------------------------')"
   ]
  },
  {
   "cell_type": "code",
   "execution_count": null,
   "metadata": {},
   "outputs": [],
   "source": []
  }
 ],
 "metadata": {
  "kernelspec": {
   "display_name": "Python 3",
   "language": "python",
   "name": "python3"
  },
  "language_info": {
   "codemirror_mode": {
    "name": "ipython",
    "version": 3
   },
   "file_extension": ".py",
   "mimetype": "text/x-python",
   "name": "python",
   "nbconvert_exporter": "python",
   "pygments_lexer": "ipython3",
   "version": "3.6.8"
  }
 },
 "nbformat": 4,
 "nbformat_minor": 4
}
