{
 "cells": [
  {
   "cell_type": "markdown",
   "metadata": {},
   "source": [
    "<h1>CD3 Population</h1>"
   ]
  },
  {
   "cell_type": "code",
   "execution_count": 2,
   "metadata": {},
   "outputs": [],
   "source": [
    "import sys\n",
    "if '/home/ross/immunova' not in sys.path:\n",
    "    sys.path.append('/home/ross/immunova')\n",
    "from immunova.data.fcs_experiments import FCSExperiment\n",
    "from immunova.flow.gating.actions import Gating\n",
    "from immunova.flow.gating.transforms import apply_transform\n",
    "from immunova.flow.gating.defaults import ChildPopulationCollection\n",
    "from immunova.flow.plotting.static_plots import Plot\n",
    "from immunova.data.mongo_setup import test_init\n",
    "from sklearn.metrics import accuracy_score, f1_score, recall_score, precision_score\n",
    "from datetime import datetime\n",
    "from matplotlib.patches import Ellipse\n",
    "from matplotlib.colors import LogNorm\n",
    "import matplotlib.pyplot as plt\n",
    "from scipy.spatial import ConvexHull\n",
    "import pandas as pd\n",
    "import numpy as np\n",
    "import functools\n",
    "import warnings\n",
    "warnings.filterwarnings('ignore')\n",
    "test_init()"
   ]
  },
  {
   "cell_type": "code",
   "execution_count": 3,
   "metadata": {},
   "outputs": [],
   "source": [
    "def visualise_manual_threshold(sample_go, parent_population, x, t, xlim, ylim):\n",
    "    data = apply_transform(sample_go.get_population_df(parent_population).copy(), [x], 'logicle')\n",
    "    fig, ax = plt.subplots(figsize=(5,5))\n",
    "    ax.hist2d(data[x], data['SSC-A'], bins=500, norm=LogNorm())\n",
    "    ax.axvline(t, c='r')\n",
    "    ax.set_xlim(xlim[0], xlim[1])\n",
    "    ax.set_ylim(ylim[0], ylim[1])\n",
    "    fig.show()"
   ]
  },
  {
   "cell_type": "markdown",
   "metadata": {},
   "source": [
    "<h2>Manual Gating</h2>"
   ]
  },
  {
   "cell_type": "code",
   "execution_count": 4,
   "metadata": {},
   "outputs": [],
   "source": [
    "exp = FCSExperiment.objects(experiment_id='ILTIS_T1').get()"
   ]
  },
  {
   "cell_type": "code",
   "execution_count": 5,
   "metadata": {},
   "outputs": [],
   "source": [
    "samples = exp.list_samples()\n",
    "samples = [x for x in samples if x != 'hc1']"
   ]
  },
  {
   "cell_type": "code",
   "execution_count": 26,
   "metadata": {},
   "outputs": [
    {
     "name": "stdout",
     "output_type": "stream",
     "text": [
      "Gating hc4...\n",
      "WARNING: actual population is at least a 3 fold distance from the target. Is this really the population of interest?\n",
      "Complete!\n",
      "Saved successfully!\n",
      "-----------------------------------------------------\n",
      "Gating hc5...\n",
      "WARNING: actual population is at least a 3 fold distance from the target. Is this really the population of interest?\n",
      "Complete!\n",
      "Saved successfully!\n",
      "-----------------------------------------------------\n",
      "Gating hc7...\n",
      "WARNING: actual population is at least a 3 fold distance from the target. Is this really the population of interest?\n",
      "Complete!\n",
      "Saved successfully!\n",
      "-----------------------------------------------------\n",
      "Gating hc9...\n",
      "WARNING: actual population is at least a 3 fold distance from the target. Is this really the population of interest?\n",
      "Complete!\n",
      "Saved successfully!\n",
      "-----------------------------------------------------\n",
      "Gating hc10...\n",
      "WARNING: actual population is at least a 3 fold distance from the target. Is this really the population of interest?\n",
      "Complete!\n",
      "Saved successfully!\n",
      "-----------------------------------------------------\n",
      "Gating hc11...\n",
      "WARNING: actual population is at least a 3 fold distance from the target. Is this really the population of interest?\n",
      "Complete!\n",
      "Saved successfully!\n",
      "-----------------------------------------------------\n",
      "Gating hc12...\n",
      "WARNING: actual population is at least a 3 fold distance from the target. Is this really the population of interest?\n",
      "Complete!\n",
      "Saved successfully!\n",
      "-----------------------------------------------------\n",
      "Gating hc13...\n",
      "WARNING: actual population is at least a 3 fold distance from the target. Is this really the population of interest?\n",
      "Complete!\n",
      "Saved successfully!\n",
      "-----------------------------------------------------\n",
      "Gating hc15...\n",
      "WARNING: actual population is at least a 3 fold distance from the target. Is this really the population of interest?\n",
      "Complete!\n",
      "Saved successfully!\n",
      "-----------------------------------------------------\n",
      "Gating hc16...\n",
      "WARNING: actual population is at least a 3 fold distance from the target. Is this really the population of interest?\n",
      "Complete!\n",
      "Saved successfully!\n",
      "-----------------------------------------------------\n",
      "Gating hc17...\n",
      "WARNING: actual population is at least a 3 fold distance from the target. Is this really the population of interest?\n",
      "Complete!\n",
      "Saved successfully!\n",
      "-----------------------------------------------------\n",
      "Gating hc18...\n",
      "WARNING: actual population is at least a 3 fold distance from the target. Is this really the population of interest?\n",
      "Complete!\n",
      "Saved successfully!\n",
      "-----------------------------------------------------\n",
      "Gating hc19...\n",
      "WARNING: actual population is at least a 3 fold distance from the target. Is this really the population of interest?\n",
      "Complete!\n",
      "Saved successfully!\n",
      "-----------------------------------------------------\n",
      "Gating sep6...\n",
      "WARNING: actual population is at least a 3 fold distance from the target. Is this really the population of interest?\n",
      "Complete!\n",
      "Saved successfully!\n",
      "-----------------------------------------------------\n"
     ]
    }
   ],
   "source": [
    "for x in samples:\n",
    "    print(f'Gating {x}...')\n",
    "    hc = Gating(exp, x)\n",
    "    # Debris Gate\n",
    "    child_populations = ChildPopulationCollection('geom')\n",
    "    child_populations.add_population('cells', definition='+')\n",
    "    child_populations.add_population('debris', definition='-')\n",
    "    gate_definition = dict(x='FSC-A', y='SSC-A')\n",
    "    hc.create_gate(gate_name='debris_gate', parent='root', class_='Static', method='border_gate',\n",
    "                    kwargs=gate_definition, child_populations=child_populations)\n",
    "    hc.apply('debris_gate', plot_output=False)\n",
    "    # Lymphocyte Gate\n",
    "    child_populations = ChildPopulationCollection('geom')\n",
    "    child_populations.add_population('lymphocytes', definition='+')\n",
    "    child_populations.add_population('other_cells', definition='-')\n",
    "    pre_filter = dict(xmin=50000, xmax=200000, ymin=0, ymax=150000)\n",
    "    gate_definition = dict(x='FSC-A', y='SSC-A', target=(70000, 40000), k=3, rect_filter=pre_filter,\n",
    "                          conf=0.99)\n",
    "    hc.create_gate(gate_name='lymphocyte_gate', parent='cells', class_='MixtureModel', method='gate',\n",
    "                    kwargs=gate_definition, child_populations=child_populations)\n",
    "    hc.apply('lymphocyte_gate', plot_output=False)\n",
    "    print('Complete!')\n",
    "    hc.save(overwrite=True)\n",
    "    print('-----------------------------------------------------')"
   ]
  },
  {
   "cell_type": "code",
   "execution_count": 5,
   "metadata": {},
   "outputs": [
    {
     "data": {
      "image/png": "[encoded data removed]",
      "text/plain": [
       "<Figure size 360x360 with 1 Axes>"
      ]
     },
     "metadata": {
      "needs_background": "light"
     },
     "output_type": "display_data"
    }
   ],
   "source": [
    "hc = Gating(exp, 'hc4')\n",
    "visualise_manual_threshold(hc, 'lymphocytes', 'L/D', 0.7, (0, 1), (0,250000))"
   ]
  },
  {
   "cell_type": "code",
   "execution_count": 8,
   "metadata": {},
   "outputs": [
    {
     "data": {
      "text/plain": [
       "0             9.790423\n",
       "1          5046.780762\n",
       "2          6037.646973\n",
       "4          5008.037598\n",
       "5            30.915833\n",
       "              ...     \n",
       "627743     3991.658203\n",
       "627744     4252.265137\n",
       "627745     -110.017578\n",
       "627746     5385.425293\n",
       "627747    10353.541016\n",
       "Name: CD3, Length: 461584, dtype: float32"
      ]
     },
     "execution_count": 8,
     "metadata": {},
     "output_type": "execute_result"
    }
   ],
   "source": [
    "hc.get_population_df('lymphocytes')['CD3']"
   ]
  },
  {
   "cell_type": "code",
   "execution_count": 13,
   "metadata": {},
   "outputs": [
    {
     "data": {
      "image/png": "[encoded data removed]",
      "text/plain": [
       "<Figure size 360x360 with 1 Axes>"
      ]
     },
     "metadata": {
      "needs_background": "light"
     },
     "output_type": "display_data"
    }
   ],
   "source": [
    "hc.plotting.plot_population('lymphocytes', 'L/D', 'CD3')"
   ]
  },
  {
   "cell_type": "code",
   "execution_count": 36,
   "metadata": {},
   "outputs": [],
   "source": [
    "hc = Gating(exp, 'hc4')"
   ]
  },
  {
   "cell_type": "code",
   "execution_count": 40,
   "metadata": {},
   "outputs": [
    {
     "data": {
      "text/plain": [
       "'root'"
      ]
     },
     "execution_count": 40,
     "metadata": {},
     "output_type": "execute_result"
    }
   ],
   "source": [
    "hc.populations['root'].name"
   ]
  },
  {
   "cell_type": "code",
   "execution_count": 6,
   "metadata": {},
   "outputs": [],
   "source": [
    "y = exp.pull_sample('hc4')"
   ]
  },
  {
   "cell_type": "code",
   "execution_count": 8,
   "metadata": {},
   "outputs": [
    {
     "data": {
      "text/plain": [
       "[<Population: Population object>,\n",
       " <Population: Population object>,\n",
       " <Population: Population object>,\n",
       " <Population: Population object>,\n",
       " <Population: Population object>]"
      ]
     },
     "execution_count": 8,
     "metadata": {},
     "output_type": "execute_result"
    }
   ],
   "source": [
    "y.populations"
   ]
  },
  {
   "cell_type": "code",
   "execution_count": 50,
   "metadata": {},
   "outputs": [],
   "source": [
    "from immunova.data.fcs import FileGroup"
   ]
  },
  {
   "cell_type": "code",
   "execution_count": 56,
   "metadata": {},
   "outputs": [],
   "source": [
    "x = FileGroup.objects(id='5da7098b3f12eb8ffc50cca7').get()"
   ]
  },
  {
   "cell_type": "code",
   "execution_count": 57,
   "metadata": {},
   "outputs": [
    {
     "data": {
      "text/plain": [
       "[<Population: Population object>,\n",
       " <Population: Population object>,\n",
       " <Population: Population object>,\n",
       " <Population: Population object>,\n",
       " <Population: Population object>]"
      ]
     },
     "execution_count": 57,
     "metadata": {},
     "output_type": "execute_result"
    }
   ],
   "source": [
    "x.populations"
   ]
  },
  {
   "cell_type": "code",
   "execution_count": null,
   "metadata": {},
   "outputs": [],
   "source": [
    "child_populations = ChildPopulationCollection('threshold_1d')\n",
    "child_populations.add_population('CD3+', definition='+')\n",
    "child_populations.add_population('other_cells', definition='-')"
   ]
  }
 ],
 "metadata": {
  "kernelspec": {
   "display_name": "Python 3",
   "language": "python",
   "name": "python3"
  },
  "language_info": {
   "codemirror_mode": {
    "name": "ipython",
    "version": 3
   },
   "file_extension": ".py",
   "mimetype": "text/x-python",
   "name": "python",
   "nbconvert_exporter": "python",
   "pygments_lexer": "ipython3",
   "version": "3.6.8"
  }
 },
 "nbformat": 4,
 "nbformat_minor": 4
}
