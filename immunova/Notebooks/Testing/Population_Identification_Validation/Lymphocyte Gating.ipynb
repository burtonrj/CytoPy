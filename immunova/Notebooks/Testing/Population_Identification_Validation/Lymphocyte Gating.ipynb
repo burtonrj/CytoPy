{
 "cells": [
  {
   "cell_type": "markdown",
   "metadata": {},
   "source": [
    "<h1>Lymphocyte Gating</h1>\n",
    "\n",
    "Testing the performance of Immunova's automated gating algorithms at detecting lymphocyte populations gated using forward and sideward scatter. The accuracy, sensitivity, specificity and F1 score will be reported for each sample and then summarised as the average across all samples."
   ]
  },
  {
   "cell_type": "code",
   "execution_count": 1,
   "metadata": {},
   "outputs": [
    {
     "name": "stderr",
     "output_type": "stream",
     "text": [
      "/home/rossco/immunova/env/lib/python3.7/site-packages/sklearn/externals/six.py:31: DeprecationWarning: The module is deprecated in version 0.21 and will be removed in version 0.23 since we've dropped support for Python 2.7. Please rely on the official version of six (https://pypi.org/project/six/).\n",
      "  \"(https://pypi.org/project/six/).\", DeprecationWarning)\n",
      "/home/rossco/immunova/env/lib/python3.7/site-packages/sklearn/externals/joblib/__init__.py:15: DeprecationWarning: sklearn.externals.joblib is deprecated in 0.21 and will be removed in 0.23. Please import this functionality directly from joblib, which can be installed with: pip install joblib. If this warning is raised when loading pickled models, you may need to re-serialize those models with scikit-learn 0.21+.\n",
      "  warnings.warn(msg, category=DeprecationWarning)\n"
     ]
    }
   ],
   "source": [
    "import sys\n",
    "if '/home/rossco/immunova' not in sys.path:\n",
    "    sys.path.append('/home/rossco/immunova')\n",
    "from immunova.data.fcs_experiments import FCSExperiment\n",
    "from immunova.flow.gating.actions import Gating\n",
    "from immunova.flow.plotting.static_plots import Plot\n",
    "from immunova.data.mongo_setup import test_init\n",
    "import warnings\n",
    "warnings.filterwarnings('ignore')\n",
    "test_init()"
   ]
  },
  {
   "cell_type": "code",
   "execution_count": 2,
   "metadata": {},
   "outputs": [],
   "source": [
    "exp = FCSExperiment.objects(experiment_id='ILTIS_T1').get()"
   ]
  },
  {
   "cell_type": "code",
   "execution_count": 3,
   "metadata": {},
   "outputs": [
    {
     "name": "stdout",
     "output_type": "stream",
     "text": [
      "{'id': 'sep6', 'typ': 'complete', 'data':                  FSC-A     FSC-H          FSC-W          SSC-A     SSC-H  \\\n",
      "0        200913.296875  117800.0  111774.656250  262143.000000  203276.0   \n",
      "1        219078.718750  168977.0   84967.445312  262143.000000  221489.0   \n",
      "2        133687.265625  103241.0   84862.875000   83807.281250   74505.0   \n",
      "3        120320.546875   83503.0   94431.664062  256666.000000  215355.0   \n",
      "4        125345.429688   97907.0   83902.460938  262143.000000  215539.0   \n",
      "...                ...       ...            ...            ...       ...   \n",
      "1004933   92054.335938   74214.0   81290.234375   64599.320312   60786.0   \n",
      "1004934  129530.515625   66932.0  126828.906250  262143.000000  237588.0   \n",
      "1004935   77889.421875   64022.0   79731.359375   30483.041016   28790.0   \n",
      "1004936  157190.031250  109667.0   93935.320312  262143.000000  230883.0   \n",
      "1004937  111750.656250   80499.0   90978.664062  262143.000000  234167.0   \n",
      "\n",
      "                SSC-W         CD57       CD161          CD3         CCR7  \\\n",
      "0        84514.679688   292.929596   -6.398982   -16.271811   167.910019   \n",
      "1        77565.046875  1938.279297  443.962067  5195.460938   171.990921   \n",
      "2        73718.460938   241.737839   95.426445    40.630791   137.609192   \n",
      "3        78107.601562   350.346222   55.727585    18.278370   262.190033   \n",
      "4        79706.242188   335.718445   31.133179   100.243141   378.071991   \n",
      "...               ...          ...         ...          ...          ...   \n",
      "1004933  69647.304688  2224.193604  427.253265    89.585670   -41.191597   \n",
      "1004934  72309.218750   250.503830  -20.120525    16.780304   188.701294   \n",
      "1004935  69389.945312    39.484951  122.437912  5076.030762  4141.956543   \n",
      "1004936  74409.140625   252.406174  -86.268059   -26.329796   227.440109   \n",
      "1004937  73365.601562   294.956818   70.067337   -21.121397    58.037796   \n",
      "\n",
      "                 L/D       Va7.2         CD8         Vd2        CD45RA  \\\n",
      "0        1022.329712  512.270813   37.433445   81.354774    -69.962349   \n",
      "1        1732.395752  502.726776  321.350830   19.029881    483.250732   \n",
      "2        8180.567383  418.776581  151.197540 -106.475288   4702.135254   \n",
      "3        2055.867676  291.359253  102.731911   58.686741    104.965889   \n",
      "4        1070.627686  591.681519  -31.560398   68.579895    -36.787422   \n",
      "...              ...         ...         ...         ...           ...   \n",
      "1004933   424.302032  489.406616   61.542122  -49.912586  28208.261719   \n",
      "1004934  2198.468750  360.961395    4.668657  105.988129    -77.912613   \n",
      "1004935   219.959549  729.448425    5.055601  -96.732277  28902.242188   \n",
      "1004936  1314.809204  206.938980   57.038414   75.533485     27.611666   \n",
      "1004937  1183.641113  389.834442  -13.386375   19.640972    -46.327328   \n",
      "\n",
      "              PanGD           CD4         CD27          Time  \n",
      "0         -5.695256    138.599823    15.960590     61.099998  \n",
      "1       -277.605774  12293.714844   999.810425     61.099998  \n",
      "2       -271.611359   1713.464355    31.777388     61.099998  \n",
      "3        -46.907658    215.161621    -9.221754     61.200001  \n",
      "4        -35.290871    136.920883   -71.251038     61.200001  \n",
      "...             ...           ...          ...           ...  \n",
      "1004933 -793.198181    -19.838472   129.094345  26715.500000  \n",
      "1004934   38.673969     38.705193    87.800598  26715.599609  \n",
      "1004935 -677.188232   9987.114258  8549.180664  26715.800781  \n",
      "1004936  154.353378    -44.038269    38.513214  26715.800781  \n",
      "1004937   25.507524    306.882019    33.493393  26716.099609  \n",
      "\n",
      "[1004938 rows x 19 columns]}\n"
     ]
    },
    {
     "ename": "AttributeError",
     "evalue": "'dict' object has no attribute 'index'",
     "output_type": "error",
     "traceback": [
      "\u001b[0;31m---------------------------------------------------------------------------\u001b[0m",
      "\u001b[0;31mAttributeError\u001b[0m                            Traceback (most recent call last)",
      "\u001b[0;32m<ipython-input-3-5a0a57224871>\u001b[0m in \u001b[0;36m<module>\u001b[0;34m\u001b[0m\n\u001b[0;32m----> 1\u001b[0;31m \u001b[0msep6\u001b[0m \u001b[0;34m=\u001b[0m \u001b[0mGating\u001b[0m\u001b[0;34m(\u001b[0m\u001b[0mexp\u001b[0m\u001b[0;34m,\u001b[0m \u001b[0;34m'sep6'\u001b[0m\u001b[0;34m)\u001b[0m\u001b[0;34m\u001b[0m\u001b[0;34m\u001b[0m\u001b[0m\n\u001b[0m",
      "\u001b[0;32m~/immunova/immunova/flow/gating/actions.py\u001b[0m in \u001b[0;36m__init__\u001b[0;34m(self, experiment, sample_id, data_type, sample)\u001b[0m\n\u001b[1;32m     65\u001b[0m             \u001b[0;32melse\u001b[0m\u001b[0;34m:\u001b[0m\u001b[0;34m\u001b[0m\u001b[0;34m\u001b[0m\u001b[0m\n\u001b[1;32m     66\u001b[0m                 root = Node(name='root', prop_of_parent=1.0, prop_of_total=1.0,\n\u001b[0;32m---> 67\u001b[0;31m                             \u001b[0mwarnings\u001b[0m\u001b[0;34m=\u001b[0m\u001b[0;34m[\u001b[0m\u001b[0;34m]\u001b[0m\u001b[0;34m,\u001b[0m \u001b[0mgeom\u001b[0m\u001b[0;34m=\u001b[0m\u001b[0mdict\u001b[0m\u001b[0;34m(\u001b[0m\u001b[0mshape\u001b[0m\u001b[0;34m=\u001b[0m\u001b[0;32mNone\u001b[0m\u001b[0;34m,\u001b[0m \u001b[0mx\u001b[0m\u001b[0;34m=\u001b[0m\u001b[0;34m'FSC-A'\u001b[0m\u001b[0;34m,\u001b[0m \u001b[0my\u001b[0m\u001b[0;34m=\u001b[0m\u001b[0;34m'SSC-A'\u001b[0m\u001b[0;34m)\u001b[0m\u001b[0;34m,\u001b[0m \u001b[0mindex\u001b[0m\u001b[0;34m=\u001b[0m\u001b[0mself\u001b[0m\u001b[0;34m.\u001b[0m\u001b[0mdata\u001b[0m\u001b[0;34m.\u001b[0m\u001b[0mindex\u001b[0m\u001b[0;34m.\u001b[0m\u001b[0mvalues\u001b[0m\u001b[0;34m,\u001b[0m\u001b[0;34m\u001b[0m\u001b[0;34m\u001b[0m\u001b[0m\n\u001b[0m\u001b[1;32m     68\u001b[0m                             parent=None)\n\u001b[1;32m     69\u001b[0m                 \u001b[0mself\u001b[0m\u001b[0;34m.\u001b[0m\u001b[0mpopulations\u001b[0m\u001b[0;34m[\u001b[0m\u001b[0;34m'root'\u001b[0m\u001b[0;34m]\u001b[0m \u001b[0;34m=\u001b[0m \u001b[0mroot\u001b[0m\u001b[0;34m\u001b[0m\u001b[0;34m\u001b[0m\u001b[0m\n",
      "\u001b[0;31mAttributeError\u001b[0m: 'dict' object has no attribute 'index'"
     ]
    }
   ],
   "source": [
    "sep6 = Gating(exp, 'sep6')"
   ]
  },
  {
   "cell_type": "code",
   "execution_count": null,
   "metadata": {},
   "outputs": [],
   "source": []
  }
 ],
 "metadata": {
  "kernelspec": {
   "display_name": "Python 3",
   "language": "python",
   "name": "python3"
  },
  "language_info": {
   "codemirror_mode": {
    "name": "ipython",
    "version": 3
   },
   "file_extension": ".py",
   "mimetype": "text/x-python",
   "name": "python",
   "nbconvert_exporter": "python",
   "pygments_lexer": "ipython3",
   "version": "3.7.3"
  }
 },
 "nbformat": 4,
 "nbformat_minor": 2
}
