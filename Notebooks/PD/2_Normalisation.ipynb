{
 "cells": [
  {
   "cell_type": "markdown",
   "metadata": {},
   "source": [
    "<h1>Normalisation for the removal of batch effect</h1>"
   ]
  },
  {
   "cell_type": "code",
   "execution_count": 2,
   "metadata": {},
   "outputs": [],
   "source": [
    "import sys\n",
    "if '/home/ross/immunova' not in sys.path:\n",
    "    sys.path.append('/home/ross/immunova')\n",
    "from immunova.data.mongo_setup import pd_init\n",
    "from immunova.data.fcs_experiments import FCSExperiment\n",
    "from immunova.flow.gating.actions import Gating, Template\n",
    "from immunova.flow.normalisation.normalise import Normalise\n",
    "from immunova.flow.deep_gating.deep_gating import calculate_reference_sample\n",
    "from warnings import filterwarnings\n",
    "from tqdm import tqdm_notebook\n",
    "import matplotlib\n",
    "import pandas as pd\n",
    "import os\n",
    "filterwarnings('ignore')\n",
    "pd_init()"
   ]
  },
  {
   "cell_type": "code",
   "execution_count": 3,
   "metadata": {},
   "outputs": [],
   "source": [
    "texp = FCSExperiment.objects(experiment_id='PD_T_PDMCs').get()"
   ]
  },
  {
   "cell_type": "markdown",
   "metadata": {},
   "source": [
    "<h2>Calculate Reference Sample</h2>"
   ]
  },
  {
   "cell_type": "code",
   "execution_count": 4,
   "metadata": {},
   "outputs": [],
   "source": [
    "exclude = ['142-09_pdmc_t',\n",
    " '210-14_pdmc_t',\n",
    " '273-01_pdmc_t',\n",
    " '276-01_pdmc_t',\n",
    " '286-03_pdmc_t',\n",
    " '298-01_pdmc_t',\n",
    " '305-01_pdmc_t',\n",
    " '308-02R_pdmc_t',\n",
    " '315-01_pdmc_t',\n",
    " '322-01_pdmc_t',\n",
    " '323-01_pdmc_t',\n",
    " '324-01_pdmc_t',\n",
    " '302-01_pdmc_t']"
   ]
  },
  {
   "cell_type": "code",
   "execution_count": 5,
   "metadata": {},
   "outputs": [
    {
     "name": "stdout",
     "output_type": "stream",
     "text": [
      "Warning: this process can take some time as comparisons are made between all samples in the experiment.\n",
      "Running comparisons....\n",
      "----------------------- 142-09_pdmc_t -----------------------\n",
      "Skipping 142-09_pdmc_t; found in exclude list\n",
      "----------------------- 165-09_pdmc_t -----------------------\n",
      "Estimating covariance matrix\n",
      "Make comparisons to other samples...\n",
      "Compare to 165-09_pdmc_t..\n",
      "Compare to 175-09_pdmc_t..\n"
     ]
    },
    {
     "ename": "ValueError",
     "evalue": "operands could not be broadcast together with shapes (17,17) (18,18) ",
     "output_type": "error",
     "traceback": [
      "\u001b[0;31m---------------------------------------------------------------------------\u001b[0m",
      "\u001b[0;31mValueError\u001b[0m                                Traceback (most recent call last)",
      "\u001b[0;32m<ipython-input-5-45368f115620>\u001b[0m in \u001b[0;36m<module>\u001b[0;34m\u001b[0m\n\u001b[0;32m----> 1\u001b[0;31m \u001b[0mreference_sample\u001b[0m \u001b[0;34m=\u001b[0m \u001b[0mcalculate_reference_sample\u001b[0m\u001b[0;34m(\u001b[0m\u001b[0mtexp\u001b[0m\u001b[0;34m,\u001b[0m \u001b[0mexclude_samples\u001b[0m\u001b[0;34m=\u001b[0m\u001b[0mexclude\u001b[0m\u001b[0;34m)\u001b[0m\u001b[0;34m\u001b[0m\u001b[0;34m\u001b[0m\u001b[0m\n\u001b[0m",
      "\u001b[0;32m~/immunova/immunova/flow/deep_gating/deep_gating.py\u001b[0m in \u001b[0;36mcalculate_reference_sample\u001b[0;34m(experiment, exclude_samples)\u001b[0m\n\u001b[1;32m     75\u001b[0m                 \u001b[0;32mcontinue\u001b[0m\u001b[0;34m\u001b[0m\u001b[0;34m\u001b[0m\u001b[0m\n\u001b[1;32m     76\u001b[0m             \u001b[0mcov_j\u001b[0m \u001b[0;34m=\u001b[0m \u001b[0mnp\u001b[0m\u001b[0;34m.\u001b[0m\u001b[0mcov\u001b[0m\u001b[0;34m(\u001b[0m\u001b[0mdata_j\u001b[0m\u001b[0;34m,\u001b[0m \u001b[0mrowvar\u001b[0m\u001b[0;34m=\u001b[0m\u001b[0;32mFalse\u001b[0m\u001b[0;34m)\u001b[0m\u001b[0;34m\u001b[0m\u001b[0;34m\u001b[0m\u001b[0m\n\u001b[0;32m---> 77\u001b[0;31m             \u001b[0mcov_diff\u001b[0m \u001b[0;34m=\u001b[0m \u001b[0mcov_i\u001b[0m \u001b[0;34m-\u001b[0m \u001b[0mcov_j\u001b[0m\u001b[0;34m\u001b[0m\u001b[0;34m\u001b[0m\u001b[0m\n\u001b[0m\u001b[1;32m     78\u001b[0m             \u001b[0mnorms\u001b[0m\u001b[0;34m[\u001b[0m\u001b[0mi\u001b[0m\u001b[0;34m,\u001b[0m \u001b[0mj\u001b[0m\u001b[0;34m]\u001b[0m \u001b[0;34m=\u001b[0m \u001b[0mnp\u001b[0m\u001b[0;34m.\u001b[0m\u001b[0mlinalg\u001b[0m\u001b[0;34m.\u001b[0m\u001b[0mnorm\u001b[0m\u001b[0;34m(\u001b[0m\u001b[0mcov_diff\u001b[0m\u001b[0;34m,\u001b[0m \u001b[0mord\u001b[0m\u001b[0;34m=\u001b[0m\u001b[0;34m'fro'\u001b[0m\u001b[0;34m)\u001b[0m\u001b[0;34m\u001b[0m\u001b[0;34m\u001b[0m\u001b[0m\n\u001b[1;32m     79\u001b[0m             \u001b[0mnorms\u001b[0m\u001b[0;34m[\u001b[0m\u001b[0mj\u001b[0m\u001b[0;34m,\u001b[0m \u001b[0mi\u001b[0m\u001b[0;34m]\u001b[0m \u001b[0;34m=\u001b[0m \u001b[0mnorms\u001b[0m\u001b[0;34m[\u001b[0m\u001b[0mi\u001b[0m\u001b[0;34m,\u001b[0m \u001b[0mj\u001b[0m\u001b[0;34m]\u001b[0m\u001b[0;34m\u001b[0m\u001b[0;34m\u001b[0m\u001b[0m\n",
      "\u001b[0;31mValueError\u001b[0m: operands could not be broadcast together with shapes (17,17) (18,18) "
     ]
    }
   ],
   "source": [
    "reference_sample = calculate_reference_sample(texp, exclude_samples=exclude)"
   ]
  },
  {
   "cell_type": "code",
   "execution_count": 4,
   "metadata": {},
   "outputs": [],
   "source": [
    "from immunova.flow.gating.transforms import apply_transform\n",
    "import numpy as np\n",
    "def pull_data(sid, experiment):\n",
    "    d = experiment.pull_sample_data(sample_id=sid, data_type='raw')\n",
    "    if d is None:\n",
    "        return None\n",
    "    d = [x for x in d if x['typ'] == 'complete'][0]['data']\n",
    "    d = d[[x for x in d.columns if x != 'Time']]\n",
    "    return apply_transform(d, transform_method='log_transform')"
   ]
  },
  {
   "cell_type": "code",
   "execution_count": 13,
   "metadata": {},
   "outputs": [],
   "source": [
    "x = '165-09_pdmc_t'\n",
    "y = '175-09_pdmc_t'"
   ]
  },
  {
   "cell_type": "code",
   "execution_count": 15,
   "metadata": {},
   "outputs": [],
   "source": [
    "xd = pull_data(x, texp)\n",
    "yd = pull_data(y, texp)"
   ]
  },
  {
   "cell_type": "code",
   "execution_count": 19,
   "metadata": {},
   "outputs": [],
   "source": [
    "xcov = np.cov(xd, rowvar=False)\n",
    "ycov = np.cov(yd, rowvar=False)"
   ]
  },
  {
   "cell_type": "code",
   "execution_count": 22,
   "metadata": {},
   "outputs": [
    {
     "data": {
      "text/plain": [
       "Index(['FSC-A', 'FSC-H', 'FSC-W', 'SSC-A', 'SSC-H', 'SSC-W', 'CXCR3', 'CD161',\n",
       "       'CD3', 'CCR7', 'L/D', 'Va7.2', 'CD8', 'Vd2', 'CD45RA', 'PanGD', 'CD4',\n",
       "       'CD27'],\n",
       "      dtype='object')"
      ]
     },
     "execution_count": 22,
     "metadata": {},
     "output_type": "execute_result"
    }
   ],
   "source": [
    "yd.columns"
   ]
  },
  {
   "cell_type": "code",
   "execution_count": 23,
   "metadata": {},
   "outputs": [
    {
     "data": {
      "text/plain": [
       "Index(['FSC-A', 'FSC-H', 'SSC-A', 'SSC-H', 'SSC-W', 'CXCR3', 'CD161', 'CD3',\n",
       "       'CCR7', 'L/D', 'Va7.2', 'CD8', 'Vd2', 'CD45RA', 'PanGD', 'CD4', 'CD27'],\n",
       "      dtype='object')"
      ]
     },
     "execution_count": 23,
     "metadata": {},
     "output_type": "execute_result"
    }
   ],
   "source": [
    "xd.columns"
   ]
  },
  {
   "cell_type": "code",
   "execution_count": 24,
   "metadata": {},
   "outputs": [
    {
     "data": {
      "text/plain": [
       "['FSC-A',\n",
       " 'FSC-H',\n",
       " 'SSC-A',\n",
       " 'SSC-H',\n",
       " 'SSC-W',\n",
       " 'CXCR3',\n",
       " 'CD161',\n",
       " 'CD3',\n",
       " 'CCR7',\n",
       " 'L/D',\n",
       " 'Va7.2',\n",
       " 'CD8',\n",
       " 'Vd2',\n",
       " 'CD45RA',\n",
       " 'PanGD',\n",
       " 'CD4',\n",
       " 'CD27']"
      ]
     },
     "execution_count": 24,
     "metadata": {},
     "output_type": "execute_result"
    }
   ],
   "source": [
    "[x for x in yd.columns if x in xd.columns]"
   ]
  },
  {
   "cell_type": "code",
   "execution_count": 19,
   "metadata": {},
   "outputs": [],
   "source": [
    "def find_common_features(experiment: FCSExperiment):\n",
    "    \n",
    "    def is_common(x, a):\n",
    "        return all([x in c for c in a])\n",
    "    \n",
    "    def pull(sid):\n",
    "        d = experiment.pull_sample_data(sample_id=sid, data_type='raw', include_controls=False)\n",
    "        return [x for x in d if x['typ'] == 'complete'][0]['data']\n",
    "    \n",
    "    all_features = list(map(lambda x: list(pull(x).columns),\n",
    "                            experiment.list_samples()))\n",
    "    common_features = set(all_features[0])\n",
    "    for f in all_features[1:]:\n",
    "        common_features.intersection_update(f)\n",
    "    return common_features"
   ]
  },
  {
   "cell_type": "code",
   "execution_count": 20,
   "metadata": {},
   "outputs": [
    {
     "name": "stdout",
     "output_type": "stream",
     "text": [
      "Time: 50.983219\n"
     ]
    }
   ],
   "source": [
    "from datetime import datetime\n",
    "start = datetime.now()\n",
    "common = find_common_features(texp)\n",
    "end = datetime.now()\n",
    "print(f'Time: {(end-start).total_seconds()}')"
   ]
  },
  {
   "cell_type": "code",
   "execution_count": 21,
   "metadata": {},
   "outputs": [
    {
     "data": {
      "text/plain": [
       "{'CCR7',\n",
       " 'CD161',\n",
       " 'CD27',\n",
       " 'CD3',\n",
       " 'CD4',\n",
       " 'CD45RA',\n",
       " 'CD8',\n",
       " 'CXCR3',\n",
       " 'FSC-A',\n",
       " 'FSC-H',\n",
       " 'L/D',\n",
       " 'PanGD',\n",
       " 'SSC-A',\n",
       " 'SSC-W',\n",
       " 'Time',\n",
       " 'Va7.2',\n",
       " 'Vd2'}"
      ]
     },
     "execution_count": 21,
     "metadata": {},
     "output_type": "execute_result"
    }
   ],
   "source": [
    "common"
   ]
  },
  {
   "cell_type": "code",
   "execution_count": null,
   "metadata": {},
   "outputs": [],
   "source": []
  }
 ],
 "metadata": {
  "kernelspec": {
   "display_name": "Python 3",
   "language": "python",
   "name": "python3"
  },
  "language_info": {
   "codemirror_mode": {
    "name": "ipython",
    "version": 3
   },
   "file_extension": ".py",
   "mimetype": "text/x-python",
   "name": "python",
   "nbconvert_exporter": "python",
   "pygments_lexer": "ipython3",
   "version": "3.6.8"
  }
 },
 "nbformat": 4,
 "nbformat_minor": 4
}
