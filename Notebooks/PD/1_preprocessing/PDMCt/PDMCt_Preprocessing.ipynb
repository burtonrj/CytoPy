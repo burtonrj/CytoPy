{
 "cells": [
  {
   "cell_type": "markdown",
   "metadata": {},
   "source": [
    "<h1>Preprocessing PDMCs T Panel</h1>"
   ]
  },
  {
   "cell_type": "code",
   "execution_count": 1,
   "metadata": {},
   "outputs": [],
   "source": [
    "from warnings import simplefilter\n",
    "simplefilter(\"ignore\", category=FutureWarning) \n",
    "simplefilter(\"ignore\", category=UserWarning)\n",
    "import sys\n",
    "if '/home/rossco/immunova' not in sys.path:\n",
    "    sys.path.append('/home/rossco/immunova')\n",
    "from immunova.data.mongo_setup import pd_init\n",
    "from immunova.data.fcs_experiments import FCSExperiment\n",
    "from immunova.flow.gating.actions import Gating, Template\n",
    "from immunova.flow.gating.defaults import ChildPopulationCollection\n",
    "from tqdm import tqdm_notebook\n",
    "import matplotlib\n",
    "import pandas as pd\n",
    "import os\n",
    "pd_init()"
   ]
  },
  {
   "cell_type": "code",
   "execution_count": 2,
   "metadata": {},
   "outputs": [],
   "source": [
    "texp = FCSExperiment.objects(experiment_id='PD_T_PDMCs').get()"
   ]
  },
  {
   "cell_type": "markdown",
   "metadata": {},
   "source": [
    "<h2>Create a template</h2>\n",
    "\n",
    "We can use the same template as with the PBMCs, so I just need to create the notebooks."
   ]
  },
  {
   "cell_type": "code",
   "execution_count": 7,
   "metadata": {},
   "outputs": [],
   "source": [
    "import os\n",
    "from notebook.services.contents.filemanager import FileContentsManager as FCM\n",
    "for x in texp.list_samples():\n",
    "    notebook_fname = f'{x}.ipynb'\n",
    "    if not os.path.exists(notebook_fname):\n",
    "        FCM().new(path=notebook_fname)"
   ]
  },
  {
   "cell_type": "code",
   "execution_count": 8,
   "metadata": {},
   "outputs": [
    {
     "data": {
      "text/plain": [
       "True"
      ]
     },
     "execution_count": 8,
     "metadata": {},
     "output_type": "execute_result"
    }
   ],
   "source": [
    "texp.remove_sample('PD_T_PDMCs_sampled_data')"
   ]
  },
  {
   "cell_type": "code",
   "execution_count": null,
   "metadata": {},
   "outputs": [],
   "source": []
  }
 ],
 "metadata": {
  "kernelspec": {
   "display_name": "Python 3",
   "language": "python",
   "name": "python3"
  },
  "language_info": {
   "codemirror_mode": {
    "name": "ipython",
    "version": 3
   },
   "file_extension": ".py",
   "mimetype": "text/x-python",
   "name": "python",
   "nbconvert_exporter": "python",
   "pygments_lexer": "ipython3",
   "version": "3.7.3"
  },
  "toc": {
   "base_numbering": 1,
   "nav_menu": {},
   "number_sections": true,
   "sideBar": true,
   "skip_h1_title": false,
   "title_cell": "Table of Contents",
   "title_sidebar": "Contents",
   "toc_cell": false,
   "toc_position": {
    "height": "calc(100% - 180px)",
    "left": "10px",
    "top": "150px",
    "width": "288px"
   },
   "toc_section_display": true,
   "toc_window_display": true
  }
 },
 "nbformat": 4,
 "nbformat_minor": 4
}
