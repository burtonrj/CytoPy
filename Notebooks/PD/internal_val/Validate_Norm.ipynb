{
 "cells": [
  {
   "cell_type": "markdown",
   "metadata": {},
   "source": [
    "<h1>Validating Normalisation</h1>"
   ]
  },
  {
   "cell_type": "code",
   "execution_count": 5,
   "metadata": {},
   "outputs": [],
   "source": [
    "import sys\n",
    "if '/home/ross/immunova' not in sys.path:\n",
    "    sys.path.append('/home/ross/immunova')\n",
    "from immunova.data.mongo_setup import pd_init\n",
    "from immunova.data.fcs_experiments import FCSExperiment\n",
    "from immunova.flow.gating.actions import Gating, Template\n",
    "from immunova.flow.normalisation.normalise import Normalise\n",
    "from immunova.flow.supervised_algo.utilities import calculate_reference_sample\n",
    "from datetime import datetime\n",
    "from warnings import filterwarnings\n",
    "from tqdm import tqdm_notebook\n",
    "import matplotlib\n",
    "import pandas as pd\n",
    "import os\n",
    "filterwarnings('ignore')\n",
    "pd_init()"
   ]
  },
  {
   "cell_type": "code",
   "execution_count": 3,
   "metadata": {},
   "outputs": [],
   "source": [
    "texp = FCSExperiment.objects(experiment_id='PD_T_PDMCs').get()"
   ]
  },
  {
   "cell_type": "markdown",
   "metadata": {},
   "source": [
    "<h2>Calculate Reference Sample</h2>"
   ]
  },
  {
   "cell_type": "code",
   "execution_count": 4,
   "metadata": {},
   "outputs": [],
   "source": [
    "exclude = ['142-09_pdmc_t',\n",
    " '210-14_pdmc_t',\n",
    " '273-01_pdmc_t',\n",
    " '276-01_pdmc_t',\n",
    " '286-03_pdmc_t',\n",
    " '298-01_pdmc_t',\n",
    " '305-01_pdmc_t',\n",
    " '308-02R_pdmc_t',\n",
    " '315-01_pdmc_t',\n",
    " '322-01_pdmc_t',\n",
    " '323-01_pdmc_t',\n",
    " '324-01_pdmc_t',\n",
    " '302-01_pdmc_t']"
   ]
  },
  {
   "cell_type": "code",
   "execution_count": 6,
   "metadata": {},
   "outputs": [
    {
     "name": "stdout",
     "output_type": "stream",
     "text": [
      "Running comparisons for 165-09_pdmc_t\n",
      "Running comparisons for 175-09_pdmc_t\n",
      "Running comparisons for 209-03_pdmc_t\n",
      "Running comparisons for 209-05_pdmc_t\n",
      "Running comparisons for 239-02_pdmc_t\n",
      "Running comparisons for 239-04_pdmc_t\n",
      "Running comparisons for 251-07_pdmc_t\n",
      "Running comparisons for 251-08_pdmc_t\n",
      "Running comparisons for 254-04_pdmc_t\n",
      "Running comparisons for 254-05_pdmc_t\n",
      "Running comparisons for 255-04_pdmc_t\n",
      "Running comparisons for 255-05_pdmc_t\n",
      "Running comparisons for 264-02_pdmc_t\n",
      "Running comparisons for 267-02_pdmc_t\n",
      "Running comparisons for 286-04_pdmc_t\n",
      "Running comparisons for 294-02_pdmc_t\n",
      "Running comparisons for 294-03_pdmc_t\n",
      "Running comparisons for 305-03_pdmc_t\n",
      "Running comparisons for 306-01_pdmc_t\n",
      "Running comparisons for 308-03R_pdmc_t\n",
      "Running comparisons for 308-04_pdmc_t\n",
      "Running comparisons for 310-01_pdmc_t\n",
      "Running comparisons for 315-02_pdmc_t\n",
      "Running comparisons for 318-01_pdmc_t\n",
      "Running comparisons for 326-01_pdmc_t\n",
      "Running comparisons for 237-06_pdmc_t\n",
      "Running comparisons for 267-01_pdmc_t\n",
      "Running comparisons for 279-03_pdmc_t\n",
      "Running comparisons for 286-02_pdmc_t\n",
      "Running comparisons for 288-02_pdmc_t\n",
      "Running comparisons for 294-01_pdmc_t\n",
      "Running comparisons for 307-01_pdmc_t\n",
      "Time: 1736.060621\n"
     ]
    }
   ],
   "source": [
    "s = datetime.now()\n",
    "reference_sample = calculate_reference_sample(texp, exclude_samples=exclude)\n",
    "e = datetime.now()\n",
    "print(f'Time: {(e-s).total_seconds()}')"
   ]
  },
  {
   "cell_type": "code",
   "execution_count": 7,
   "metadata": {},
   "outputs": [
    {
     "data": {
      "text/plain": [
       "'288-02_pdmc_t'"
      ]
     },
     "execution_count": 7,
     "metadata": {},
     "output_type": "execute_result"
    }
   ],
   "source": [
    "reference_sample"
   ]
  },
  {
   "cell_type": "code",
   "execution_count": null,
   "metadata": {},
   "outputs": [],
   "source": []
  }
 ],
 "metadata": {
  "kernelspec": {
   "display_name": "Python 3",
   "language": "python",
   "name": "python3"
  },
  "language_info": {
   "codemirror_mode": {
    "name": "ipython",
    "version": 3
   },
   "file_extension": ".py",
   "mimetype": "text/x-python",
   "name": "python",
   "nbconvert_exporter": "python",
   "pygments_lexer": "ipython3",
   "version": "3.6.8"
  }
 },
 "nbformat": 4,
 "nbformat_minor": 4
}
