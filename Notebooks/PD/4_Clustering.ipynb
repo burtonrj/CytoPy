{
 "cells": [
  {
   "cell_type": "markdown",
   "metadata": {},
   "source": [
    "<h1>Clustering with PhenoGraph</h1>\n",
    "\n",
    "The PDMC samples have been gated by a supervised algorithm, providing one methodology for feature extraction. Clustering is another method that can be used to this end. This is an 'unbiased' approach as events are clustered together based on simularities in high dimensional space as opposed to gating, which is biased to sequential selection of events in two-dimensional plots."
   ]
  },
  {
   "cell_type": "code",
   "execution_count": 2,
   "metadata": {},
   "outputs": [],
   "source": [
    "import sys\n",
    "if '/home/rossco/immunova' not in sys.path:\n",
    "    sys.path.append('/home/rossco/immunova')\n",
    "from immunova.data.mongo_setup import pd_init\n",
    "from immunova.data.fcs_experiments import FCSExperiment\n",
    "from immunova.flow.supervised.cell_classifier import create_reference_sample\n",
    "from immunova.flow.clustering.phenograph import PhenoGraph\n",
    "from warnings import filterwarnings\n",
    "from tqdm import tqdm_notebook\n",
    "import matplotlib\n",
    "import pandas as pd\n",
    "import os\n",
    "filterwarnings('ignore')\n",
    "pd_init()"
   ]
  },
  {
   "cell_type": "markdown",
   "metadata": {},
   "source": [
    "<h2>Clustering on a concatenated sample</h2>\n",
    "\n",
    "Clustering can be performed on a per-sample basis and clusters matched between samples. This provides added complexity in that a suitable method must be chosen for matching clusters together. According to the literature, QFMatch (an adaption of the quadratic distance metric) is the best performing method. With that being said it is a complicated method that has not been validated across multiple datasets. The original method used in the PhenoGraph paper and has been replicated in multiple studies is medoid meta-clustering with PhenoGraph. Later on I will be using both methods. \n",
    "\n",
    "First I will take a concatenated sample and apply PhenoGraph clustering. This has the risk that the clustering algorithm will capture information that discerns patients from one another than some other global information relating to disease progression, cause or outcome. This first approach is purely exploratory."
   ]
  },
  {
   "cell_type": "code",
   "execution_count": 3,
   "metadata": {},
   "outputs": [],
   "source": [
    "texp = FCSExperiment.objects(experiment_id='PD_T_PDMCs').get()"
   ]
  },
  {
   "cell_type": "code",
   "execution_count": 4,
   "metadata": {},
   "outputs": [],
   "source": [
    "concatenated_clustering = PhenoGraph(clustering_uid='PhenoGraph_071219', \n",
    "                                     experiment=texp, \n",
    "                                     sample_id='PD_T_PDMCs_sampled_data', \n",
    "                                     root_population='single_Live_CD3+')"
   ]
  },
  {
   "cell_type": "code",
   "execution_count": 4,
   "metadata": {},
   "outputs": [],
   "source": [
    "from immunova.flow.gating.actions import Gating"
   ]
  },
  {
   "cell_type": "code",
   "execution_count": 5,
   "metadata": {},
   "outputs": [],
   "source": [
    "g = Gating(texp, 'PD_T_PDMCs_sampled_data')"
   ]
  },
  {
   "cell_type": "code",
   "execution_count": 19,
   "metadata": {},
   "outputs": [
    {
     "data": {
      "text/plain": [
       "()"
      ]
     },
     "execution_count": 19,
     "metadata": {},
     "output_type": "execute_result"
    }
   ],
   "source": [
    "g.populations['nongdt'].children[1].children[0].children"
   ]
  },
  {
   "cell_type": "code",
   "execution_count": 13,
   "metadata": {},
   "outputs": [
    {
     "data": {
      "text/plain": [
       "dict_keys(['single_Live_CD3+', 'gdt', 'nongdt', 'mait', 'classic', 'CD4+CD8+', 'CD4-CD8-', 'CD4+CD8-', 'CD4-CD8+', 'mait+CD4+CD8+', 'mait+CD4-CD8-', 'mait+CD4+CD8-', 'mait+CD4-CD8+'])"
      ]
     },
     "execution_count": 13,
     "metadata": {},
     "output_type": "execute_result"
    }
   ],
   "source": [
    "g.populations.keys()"
   ]
  },
  {
   "cell_type": "code",
   "execution_count": 21,
   "metadata": {},
   "outputs": [
    {
     "data": {
      "text/plain": [
       "Node('/single_Live_CD3+', geom={'shape': None, 'x': 'FSC-A', 'y': 'SSC-A'}, index=array([     0,      1,      2, ..., 913733, 913734, 913735]), prop_of_parent=1.0, prop_of_total=1.0, warnings=[])"
      ]
     },
     "execution_count": 21,
     "metadata": {},
     "output_type": "execute_result"
    }
   ],
   "source": [
    "g.populations['single_Live_CD3+']"
   ]
  },
  {
   "cell_type": "code",
   "execution_count": 23,
   "metadata": {},
   "outputs": [],
   "source": [
    "p = g.populations['single_Live_CD3+']"
   ]
  },
  {
   "cell_type": "code",
   "execution_count": 80,
   "metadata": {},
   "outputs": [],
   "source": [
    "def population_labels(data: pd.DataFrame, root_node) -> pd.DataFrame:\n",
    "    def recursive_label(d, n):\n",
    "        mask = d.index.isin(n.index)\n",
    "        d.loc[mask, 'population_label'] = n.name\n",
    "        if len(n.children) == 0:\n",
    "            return d\n",
    "        for c in n.children:\n",
    "            recursive_label(d, c)\n",
    "        return d\n",
    "    data = data.copy()\n",
    "    data['population_label'] = root_node.name\n",
    "    data = recursive_label(data, root_node)\n",
    "    return data"
   ]
  },
  {
   "cell_type": "code",
   "execution_count": 81,
   "metadata": {},
   "outputs": [],
   "source": [
    "d = g.get_population_df('single_Live_CD3+')\n",
    "n = g.populations['single_Live_CD3+']"
   ]
  },
  {
   "cell_type": "code",
   "execution_count": 82,
   "metadata": {},
   "outputs": [],
   "source": [
    "x = population_labels(d, n)"
   ]
  },
  {
   "cell_type": "code",
   "execution_count": 84,
   "metadata": {},
   "outputs": [
    {
     "data": {
      "text/plain": [
       "array(['CD4-CD8-', 'CD4+CD8+', 'CD4+CD8-', 'CD4-CD8+', 'mait+CD4+CD8+',\n",
       "       'gdt', 'mait+CD4-CD8+', 'mait+CD4+CD8-', 'mait+CD4-CD8-'],\n",
       "      dtype=object)"
      ]
     },
     "execution_count": 84,
     "metadata": {},
     "output_type": "execute_result"
    }
   ],
   "source": [
    "x.population_label.unique()"
   ]
  },
  {
   "cell_type": "code",
   "execution_count": 71,
   "metadata": {},
   "outputs": [
    {
     "data": {
      "text/plain": [
       "Node('/single_Live_CD3+/nongdt', geom={'x_min': 0.6, 'x_max': 1, 'y_min': 0.2, 'y_max': 1, 'shape': 'rect', 'x': 'Vd2', 'y': 'PanGD'}, index=array([     0,      1,      2, ..., 913733, 913734, 913735]), prop_of_parent=0.9689286621080925, prop_of_total=0.9689286621080925, warnings=[])"
      ]
     },
     "execution_count": 71,
     "metadata": {},
     "output_type": "execute_result"
    }
   ],
   "source": [
    "p.children[1]"
   ]
  }
 ],
 "metadata": {
  "kernelspec": {
   "display_name": "Python 3",
   "language": "python",
   "name": "python3"
  },
  "language_info": {
   "codemirror_mode": {
    "name": "ipython",
    "version": 3
   },
   "file_extension": ".py",
   "mimetype": "text/x-python",
   "name": "python",
   "nbconvert_exporter": "python",
   "pygments_lexer": "ipython3",
   "version": "3.7.3"
  },
  "toc": {
   "base_numbering": 1,
   "nav_menu": {},
   "number_sections": true,
   "sideBar": true,
   "skip_h1_title": false,
   "title_cell": "Table of Contents",
   "title_sidebar": "Contents",
   "toc_cell": false,
   "toc_position": {},
   "toc_section_display": true,
   "toc_window_display": false
  }
 },
 "nbformat": 4,
 "nbformat_minor": 4
}
