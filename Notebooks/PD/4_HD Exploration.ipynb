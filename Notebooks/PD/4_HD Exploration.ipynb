{
 "cells": [
  {
   "cell_type": "markdown",
   "metadata": {},
   "source": [
    "<h1>Exploring the data in high dimensional space</h1>\n",
    "\n",
    "The PDMC samples have been gated by a supervised algorithm, providing one methodology for feature extraction. Clustering is another method that can be used to this end. This is an 'unbiased' approach as events are clustered together based on simularities in high dimensional space as opposed to gating, which is biased to sequential selection of events in two-dimensional plots.\n",
    "\n",
    "Clustering can be performed on a per-sample basis and clusters matched between samples. This provides added complexity in that a suitable method must be chosen for matching clusters together. According to the literature, QFMatch (an adaption of the quadratic distance metric) is the best performing method. With that being said it is a complicated method that has not been validated across multiple datasets. The original method used in the PhenoGraph paper and has been replicated in multiple studies is medoid meta-clustering with PhenoGraph. Later on I will be using both methods.\n",
    "\n",
    "First I will take a concatenated sample and apply PhenoGraph clustering. This has the risk that the clustering algorithm will capture information that discerns patients from one another, rather than some global information relating to disease progression, cause or outcome. This first approach is purely exploratory.\n",
    "\n",
    "The Explorer class provides an object for loading all data associated to an experiment, labelling it, performing PhenoGraph clustering, and visualising using a manifold learning technique such as UMAP or PHATE."
   ]
  },
  {
   "cell_type": "code",
   "execution_count": 2,
   "metadata": {},
   "outputs": [],
   "source": [
    "import sys\n",
    "if '/home/ross/immunova' not in sys.path:\n",
    "    sys.path.append('/home/ross/immunova')\n",
    "from immunova.data.mongo_setup import pd_init\n",
    "from immunova.data.fcs_experiments import FCSExperiment\n",
    "from immunova.flow.explorer import Explorer\n",
    "from warnings import filterwarnings\n",
    "from tqdm import tqdm_notebook\n",
    "import matplotlib\n",
    "import pandas as pd\n",
    "import os\n",
    "filterwarnings('ignore')\n",
    "pd_init()"
   ]
  },
  {
   "cell_type": "markdown",
   "metadata": {},
   "source": [
    "<h2>Create and explore single cell data from all PDMC samples</h2>"
   ]
  },
  {
   "cell_type": "code",
   "execution_count": 3,
   "metadata": {},
   "outputs": [],
   "source": [
    "texp = FCSExperiment.objects(experiment_id='PD_T_PDMCs').get()"
   ]
  },
  {
   "cell_type": "code",
   "execution_count": 4,
   "metadata": {},
   "outputs": [],
   "source": [
    "exclude = [f'{x}_pdmc_t' for x in ['209-03', '210-14', '273-01', \n",
    "                                   '298-01', '322-01', '237-06', \n",
    "                                   '302-01', '307-01']]\n",
    "exclude.append('PD_T_PDMCs_sampled_data')\n",
    "samples = [s for s in texp.list_samples() if s not in exclude]"
   ]
  },
  {
   "cell_type": "code",
   "execution_count": 5,
   "metadata": {},
   "outputs": [
    {
     "data": {
      "text/plain": [
       "37"
      ]
     },
     "execution_count": 5,
     "metadata": {},
     "output_type": "execute_result"
    }
   ],
   "source": [
    "len(samples)"
   ]
  },
  {
   "cell_type": "code",
   "execution_count": 6,
   "metadata": {},
   "outputs": [],
   "source": [
    "explore = Explorer(root_population='single_Live_CD3+', transform='logicle')"
   ]
  },
  {
   "cell_type": "code",
   "execution_count": 7,
   "metadata": {
    "scrolled": false
   },
   "outputs": [
    {
     "name": "stdout",
     "output_type": "stream",
     "text": [
      "------------ Loading flow data: PD_T_PDMCs ------------\n"
     ]
    },
    {
     "data": {
      "application/vnd.jupyter.widget-view+json": {
       "model_id": "ef6bd5a46f744d5382b0b4375809ddd5",
       "version_major": 2,
       "version_minor": 0
      },
      "text/plain": [
       "HBox(children=(IntProgress(value=0, max=37), HTML(value='')))"
      ]
     },
     "metadata": {},
     "output_type": "display_data"
    },
    {
     "name": "stdout",
     "output_type": "stream",
     "text": [
      "\n",
      "------------ Completed! ------------\n"
     ]
    }
   ],
   "source": [
    "explore.load_data(experiment=texp, samples=samples, sample_n=10000)"
   ]
  },
  {
   "cell_type": "code",
   "execution_count": 8,
   "metadata": {},
   "outputs": [
    {
     "data": {
      "text/plain": [
       "(331755, 22)"
      ]
     },
     "execution_count": 8,
     "metadata": {},
     "output_type": "execute_result"
    }
   ],
   "source": [
    "explore.data.shape"
   ]
  },
  {
   "cell_type": "markdown",
   "metadata": {},
   "source": [
    "We're left with a dataframe of concatenated single cell data (10000 cells from each sample). There is total of 331,755 data points and 22 columns. The column names are listed below:"
   ]
  },
  {
   "cell_type": "code",
   "execution_count": 9,
   "metadata": {},
   "outputs": [
    {
     "data": {
      "text/plain": [
       "Index(['CCR7', 'CD161', 'CD27', 'CD3', 'CD4', 'CD45RA', 'CD8', 'CXCR3',\n",
       "       'FSC-A', 'FSC-H', 'FSC-W', 'L/D', 'PanGD', 'SSC-A', 'SSC-H', 'SSC-W',\n",
       "       'Time', 'Va7.2', 'Vd2', 'original_index', 'population_label', 'pt_id'],\n",
       "      dtype='object')"
      ]
     },
     "execution_count": 9,
     "metadata": {},
     "output_type": "execute_result"
    }
   ],
   "source": [
    "explore.data.columns"
   ]
  },
  {
   "cell_type": "markdown",
   "metadata": {},
   "source": [
    "Before we cluster and visualise, it would be useful to associate the single cell data in this dataframe to clinical meta-data. Immunova is built around a document database where each flow file is associated directly with the clinical meta data. This means we can simple choose a common field name like 'status' or 'gender' and assoicate it to our single cell data. We can also access timeseries data and data with 'depth' such as the pathogens isolated from a patient and things like gram-status and HMBPP stauts.\n",
    "\n",
    "We use the following methods of our Explorer object to associate single cell data to clinical meta-data:\n",
    "* `load_meta` - given a field name associate to single cell data\n",
    "* `load_biology_data` - summarise a blood test or some other time series data\n",
    "* `load_infectious_data` - summarise the infectious agents isolate from each patient; creates four new columns, one with a list of organisms isolated, one with the common isolate type e.g. bacteria/virus/fungal, the common gram status amongst isolates, and the common HMBPP/Ribo status"
   ]
  },
  {
   "cell_type": "code",
   "execution_count": 10,
   "metadata": {},
   "outputs": [
    {
     "name": "stdout",
     "output_type": "stream",
     "text": [
      "Help on method load_meta in module immunova.flow.explorer:\n",
      "\n",
      "load_meta(variable:str) method of immunova.flow.explorer.Explorer instance\n",
      "    Load meta data for each patient. Must be provided with a variable that is a field with a single value\n",
      "    NOT an embedded document. A column will be generated in the Pandas DataFrame stored in the attribute 'data'\n",
      "    that pertains to the variable given and the value will correspond to that of the patients.\n",
      "    :param variable: field name to populate data with\n",
      "\n"
     ]
    }
   ],
   "source": [
    "help(explore.load_meta)"
   ]
  },
  {
   "cell_type": "code",
   "execution_count": 11,
   "metadata": {},
   "outputs": [
    {
     "name": "stdout",
     "output_type": "stream",
     "text": [
      "Help on method load_biology_data in module immunova.flow.explorer:\n",
      "\n",
      "load_biology_data(test_name:str, summary_method:str='average') method of immunova.flow.explorer.Explorer instance\n",
      "    Load the pathology results of a given test from each patient and populate 'data' accordingly. As multiple\n",
      "    results may exist for one particular test, a summary method should be provided, this should have a value as\n",
      "    follows:\n",
      "    * average - the average test result is generated and stored\n",
      "    * max - the maximum value is stored\n",
      "    * min - the minimum value is stored\n",
      "    * median - the median test result is generated and stored\n",
      "\n"
     ]
    }
   ],
   "source": [
    "help(explore.load_biology_data)"
   ]
  },
  {
   "cell_type": "code",
   "execution_count": 12,
   "metadata": {},
   "outputs": [
    {
     "name": "stdout",
     "output_type": "stream",
     "text": [
      "Help on method load_infectious_data in module immunova.flow.explorer:\n",
      "\n",
      "load_infectious_data(multi_org:str='list') method of immunova.flow.explorer.Explorer instance\n",
      "    Load the bug data from each patient and populate 'data' accordingly. As default variables will be created as\n",
      "    follows:\n",
      "    * organism_name = If 'multi_org' equals 'list' then multiple organisms will be stored as a comma separated list\n",
      "    without duplicates, whereas if the value is 'mixed' then multiple organisms will result in a value of 'mixed'.\n",
      "    * organism_type = value of either 'gram positive', 'gram negative', 'virus', 'mixed' or 'fungal'\n",
      "    * hmbpp = True or False based on HMBPP status (Note: it only takes one positive organism for this value to be\n",
      "    True)\n",
      "    * ribo = True or False based on Ribo status (Note: it only takes one positive organism for this value to be\n",
      "    True)\n",
      "\n"
     ]
    }
   ],
   "source": [
    "help(explore.load_infectious_data)"
   ]
  },
  {
   "cell_type": "code",
   "execution_count": 13,
   "metadata": {},
   "outputs": [
    {
     "data": {
      "application/vnd.jupyter.widget-view+json": {
       "model_id": "1b848e500bb3451893027eabf8459fe8",
       "version_major": 2,
       "version_minor": 0
      },
      "text/plain": [
       "HBox(children=(IntProgress(value=0, max=37), HTML(value='')))"
      ]
     },
     "metadata": {},
     "output_type": "display_data"
    },
    {
     "name": "stdout",
     "output_type": "stream",
     "text": [
      "\n"
     ]
    }
   ],
   "source": [
    "explore.load_meta(variable='status')"
   ]
  },
  {
   "cell_type": "code",
   "execution_count": 14,
   "metadata": {},
   "outputs": [
    {
     "data": {
      "text/plain": [
       "Index(['CCR7', 'CD161', 'CD27', 'CD3', 'CD4', 'CD45RA', 'CD8', 'CXCR3',\n",
       "       'FSC-A', 'FSC-H', 'FSC-W', 'L/D', 'PanGD', 'SSC-A', 'SSC-H', 'SSC-W',\n",
       "       'Time', 'Va7.2', 'Vd2', 'original_index', 'population_label', 'pt_id',\n",
       "       'status'],\n",
       "      dtype='object')"
      ]
     },
     "execution_count": 14,
     "metadata": {},
     "output_type": "execute_result"
    }
   ],
   "source": [
    "explore.data.columns"
   ]
  },
  {
   "cell_type": "code",
   "execution_count": 15,
   "metadata": {},
   "outputs": [
    {
     "data": {
      "application/vnd.jupyter.widget-view+json": {
       "model_id": "f4fc4d03edba4dd2a3407e457df91768",
       "version_major": 2,
       "version_minor": 0
      },
      "text/plain": [
       "HBox(children=(IntProgress(value=0, max=37), HTML(value='')))"
      ]
     },
     "metadata": {},
     "output_type": "display_data"
    },
    {
     "name": "stdout",
     "output_type": "stream",
     "text": [
      "\n"
     ]
    }
   ],
   "source": [
    "explore.load_infectious_data()"
   ]
  },
  {
   "cell_type": "code",
   "execution_count": 16,
   "metadata": {},
   "outputs": [
    {
     "data": {
      "text/plain": [
       "Index(['CCR7', 'CD161', 'CD27', 'CD3', 'CD4', 'CD45RA', 'CD8', 'CXCR3',\n",
       "       'FSC-A', 'FSC-H', 'FSC-W', 'L/D', 'PanGD', 'SSC-A', 'SSC-H', 'SSC-W',\n",
       "       'Time', 'Va7.2', 'Vd2', 'original_index', 'population_label', 'pt_id',\n",
       "       'status', 'organism_name', 'organism_type', 'hmbpp', 'ribo'],\n",
       "      dtype='object')"
      ]
     },
     "execution_count": 16,
     "metadata": {},
     "output_type": "execute_result"
    }
   ],
   "source": [
    "explore.data.columns"
   ]
  },
  {
   "cell_type": "code",
   "execution_count": 17,
   "metadata": {},
   "outputs": [
    {
     "data": {
      "text/plain": [
       "array(['Staphylococcus epidermis', 'Unknown', 'Enterobacter species',\n",
       "       'Coagulase Negative Staphylococcus', 'Staphylococcus aureus',\n",
       "       'Yeast', 'Alpha Haemolytic Streptococcus', 'Streptococcus mitis',\n",
       "       'Corynebacterium amycolatum'], dtype=object)"
      ]
     },
     "execution_count": 17,
     "metadata": {},
     "output_type": "execute_result"
    }
   ],
   "source": [
    "explore.data.organism_name.unique()"
   ]
  },
  {
   "cell_type": "markdown",
   "metadata": {},
   "source": [
    "<h3>PhenoGraph clustering</h3>\n",
    "\n",
    "I'll now use the PhenoGraph algorithm with a k=30 to cluster single cell data on this concatenation of all patients."
   ]
  },
  {
   "cell_type": "code",
   "execution_count": 18,
   "metadata": {},
   "outputs": [],
   "source": [
    "features = ['CCR7', 'CD161', 'CD27', 'CD4', 'CD45RA', 'CD8', 'CXCR3',\n",
    "            'FSC-A', 'FSC-H', 'FSC-W', 'PanGD', 'SSC-A', 'SSC-H', 'SSC-W',\n",
    "            'Va7.2', 'Vd2']"
   ]
  },
  {
   "cell_type": "code",
   "execution_count": 19,
   "metadata": {},
   "outputs": [
    {
     "data": {
      "text/html": [
       "<div>\n",
       "<style scoped>\n",
       "    .dataframe tbody tr th:only-of-type {\n",
       "        vertical-align: middle;\n",
       "    }\n",
       "\n",
       "    .dataframe tbody tr th {\n",
       "        vertical-align: top;\n",
       "    }\n",
       "\n",
       "    .dataframe thead th {\n",
       "        text-align: right;\n",
       "    }\n",
       "</style>\n",
       "<table border=\"1\" class=\"dataframe\">\n",
       "  <thead>\n",
       "    <tr style=\"text-align: right;\">\n",
       "      <th></th>\n",
       "      <th>CCR7</th>\n",
       "      <th>CD161</th>\n",
       "      <th>CD27</th>\n",
       "      <th>CD4</th>\n",
       "      <th>CD45RA</th>\n",
       "      <th>CD8</th>\n",
       "      <th>CXCR3</th>\n",
       "      <th>FSC-A</th>\n",
       "      <th>FSC-H</th>\n",
       "      <th>FSC-W</th>\n",
       "      <th>PanGD</th>\n",
       "      <th>SSC-A</th>\n",
       "      <th>SSC-H</th>\n",
       "      <th>SSC-W</th>\n",
       "      <th>Va7.2</th>\n",
       "      <th>Vd2</th>\n",
       "    </tr>\n",
       "  </thead>\n",
       "  <tbody>\n",
       "    <tr>\n",
       "      <td>0</td>\n",
       "      <td>0.314096</td>\n",
       "      <td>0.143977</td>\n",
       "      <td>0.115868</td>\n",
       "      <td>0.359975</td>\n",
       "      <td>0.265690</td>\n",
       "      <td>0.256996</td>\n",
       "      <td>0.344031</td>\n",
       "      <td>0.910921</td>\n",
       "      <td>0.875326</td>\n",
       "      <td>NaN</td>\n",
       "      <td>0.092609</td>\n",
       "      <td>0.849198</td>\n",
       "      <td>NaN</td>\n",
       "      <td>0.882189</td>\n",
       "      <td>0.348076</td>\n",
       "      <td>0.163224</td>\n",
       "    </tr>\n",
       "    <tr>\n",
       "      <td>1</td>\n",
       "      <td>0.252092</td>\n",
       "      <td>0.124231</td>\n",
       "      <td>0.108327</td>\n",
       "      <td>0.358234</td>\n",
       "      <td>0.278323</td>\n",
       "      <td>0.233635</td>\n",
       "      <td>0.342267</td>\n",
       "      <td>0.756497</td>\n",
       "      <td>0.731804</td>\n",
       "      <td>NaN</td>\n",
       "      <td>0.082894</td>\n",
       "      <td>0.861271</td>\n",
       "      <td>NaN</td>\n",
       "      <td>0.893098</td>\n",
       "      <td>0.377044</td>\n",
       "      <td>0.146978</td>\n",
       "    </tr>\n",
       "    <tr>\n",
       "      <td>2</td>\n",
       "      <td>0.336972</td>\n",
       "      <td>0.189160</td>\n",
       "      <td>0.256796</td>\n",
       "      <td>0.427699</td>\n",
       "      <td>0.273953</td>\n",
       "      <td>0.686293</td>\n",
       "      <td>0.343221</td>\n",
       "      <td>0.914021</td>\n",
       "      <td>0.882587</td>\n",
       "      <td>NaN</td>\n",
       "      <td>0.059161</td>\n",
       "      <td>0.860154</td>\n",
       "      <td>NaN</td>\n",
       "      <td>0.879292</td>\n",
       "      <td>0.399576</td>\n",
       "      <td>0.165935</td>\n",
       "    </tr>\n",
       "    <tr>\n",
       "      <td>3</td>\n",
       "      <td>0.183506</td>\n",
       "      <td>0.124260</td>\n",
       "      <td>0.101012</td>\n",
       "      <td>0.105199</td>\n",
       "      <td>0.146271</td>\n",
       "      <td>0.132413</td>\n",
       "      <td>0.110670</td>\n",
       "      <td>0.704059</td>\n",
       "      <td>0.687184</td>\n",
       "      <td>NaN</td>\n",
       "      <td>0.052495</td>\n",
       "      <td>0.638961</td>\n",
       "      <td>NaN</td>\n",
       "      <td>0.881787</td>\n",
       "      <td>0.105355</td>\n",
       "      <td>0.116732</td>\n",
       "    </tr>\n",
       "    <tr>\n",
       "      <td>4</td>\n",
       "      <td>0.301040</td>\n",
       "      <td>0.120671</td>\n",
       "      <td>0.196876</td>\n",
       "      <td>0.479939</td>\n",
       "      <td>0.398108</td>\n",
       "      <td>0.342750</td>\n",
       "      <td>0.359458</td>\n",
       "      <td>0.921268</td>\n",
       "      <td>0.895870</td>\n",
       "      <td>NaN</td>\n",
       "      <td>0.022729</td>\n",
       "      <td>0.856237</td>\n",
       "      <td>NaN</td>\n",
       "      <td>0.878322</td>\n",
       "      <td>0.404114</td>\n",
       "      <td>0.193799</td>\n",
       "    </tr>\n",
       "  </tbody>\n",
       "</table>\n",
       "</div>"
      ],
      "text/plain": [
       "       CCR7     CD161      CD27       CD4    CD45RA       CD8     CXCR3  \\\n",
       "0  0.314096  0.143977  0.115868  0.359975  0.265690  0.256996  0.344031   \n",
       "1  0.252092  0.124231  0.108327  0.358234  0.278323  0.233635  0.342267   \n",
       "2  0.336972  0.189160  0.256796  0.427699  0.273953  0.686293  0.343221   \n",
       "3  0.183506  0.124260  0.101012  0.105199  0.146271  0.132413  0.110670   \n",
       "4  0.301040  0.120671  0.196876  0.479939  0.398108  0.342750  0.359458   \n",
       "\n",
       "      FSC-A     FSC-H  FSC-W     PanGD     SSC-A  SSC-H     SSC-W     Va7.2  \\\n",
       "0  0.910921  0.875326    NaN  0.092609  0.849198    NaN  0.882189  0.348076   \n",
       "1  0.756497  0.731804    NaN  0.082894  0.861271    NaN  0.893098  0.377044   \n",
       "2  0.914021  0.882587    NaN  0.059161  0.860154    NaN  0.879292  0.399576   \n",
       "3  0.704059  0.687184    NaN  0.052495  0.638961    NaN  0.881787  0.105355   \n",
       "4  0.921268  0.895870    NaN  0.022729  0.856237    NaN  0.878322  0.404114   \n",
       "\n",
       "        Vd2  \n",
       "0  0.163224  \n",
       "1  0.146978  \n",
       "2  0.165935  \n",
       "3  0.116732  \n",
       "4  0.193799  "
      ]
     },
     "execution_count": 19,
     "metadata": {},
     "output_type": "execute_result"
    }
   ],
   "source": [
    "explore.data[features].head()"
   ]
  },
  {
   "cell_type": "code",
   "execution_count": 20,
   "metadata": {},
   "outputs": [],
   "source": [
    "# Exclide FSC-W and SSC-H as this is missing for some samples\n",
    "features = ['CCR7', 'CD161', 'CD27', 'CD4', 'CD45RA', 'CD8', 'CXCR3',\n",
    "            'FSC-A', 'FSC-H', 'PanGD', 'SSC-A', 'SSC-W',\n",
    "            'Va7.2', 'Vd2']"
   ]
  },
  {
   "cell_type": "code",
   "execution_count": 21,
   "metadata": {},
   "outputs": [
    {
     "name": "stdout",
     "output_type": "stream",
     "text": [
      "Finding 30 nearest neighbors using minkowski metric and 'auto' algorithm\n",
      "Neighbors computed in 119.10998034477234 seconds\n",
      "Jaccard graph constructed in 21.86886715888977 seconds\n",
      "Wrote graph to binary file in 17.20834708213806 seconds\n",
      "Running Louvain modularity optimization\n",
      "After 1 runs, maximum modularity is Q = 0.876366\n",
      "After 2 runs, maximum modularity is Q = 0.879943\n",
      "After 7 runs, maximum modularity is Q = 0.881021\n",
      "After 26 runs, maximum modularity is Q = 0.8823\n",
      "Louvain completed 46 runs in 1073.5626339912415 seconds\n",
      "PhenoGraph complete in 1232.7709901332855 seconds\n"
     ]
    }
   ],
   "source": [
    "explore.phenograph_clustering(features=features)"
   ]
  },
  {
   "cell_type": "code",
   "execution_count": 22,
   "metadata": {},
   "outputs": [
    {
     "data": {
      "text/plain": [
       "42"
      ]
     },
     "execution_count": 22,
     "metadata": {},
     "output_type": "execute_result"
    }
   ],
   "source": [
    "len(explore.data['PhenoGraph labels'].unique())"
   ]
  },
  {
   "cell_type": "markdown",
   "metadata": {},
   "source": [
    "PhenoGraph generated 42 clusters. It is worth noting that PhenoGraph tends to 'over-cluster' (that is, it is a very sensitive technique) but it has the benefit of being non-parametric and is not biased by a user defined number of clusters or other hyperparamters."
   ]
  },
  {
   "cell_type": "markdown",
   "metadata": {},
   "source": [
    "<h3>Visualisation</h3>\n",
    "\n",
    "Now that we have clustered the concatenated single cell data we can explore the data using dimensionality reduction techeniques. Immunova exclusively employs the manifold learning techniques UMAP and PHATE as they capture both local and global structure. These methods also scale easily to large datasets.\n",
    "\n",
    "We can use UMAP and PHATE to see if any particular clusters/gated populations correlate with our clinical meta data. Any patterns found will be confirmed by embedded feature elimination and inference testing."
   ]
  },
  {
   "cell_type": "code",
   "execution_count": 23,
   "metadata": {},
   "outputs": [
    {
     "data": {
      "image/png": "[encoded data removed]",
      "text/plain": [
       "<Figure size 864x576 with 2 Axes>"
      ]
     },
     "metadata": {
      "needs_background": "light"
     },
     "output_type": "display_data"
    }
   ],
   "source": [
    "# Basic UMAP of global clustering\n",
    "ax = explore.scatter_plot(features=features, primary_label='global clusters', dim_reduction_method='UMAP')"
   ]
  },
  {
   "cell_type": "code",
   "execution_count": 24,
   "metadata": {},
   "outputs": [
    {
     "data": {
      "text/plain": [
       "<matplotlib.axes._subplots.AxesSubplot at 0x7f0e60056b38>"
      ]
     },
     "execution_count": 24,
     "metadata": {},
     "output_type": "execute_result"
    }
   ],
   "source": [
    "ax"
   ]
  },
  {
   "cell_type": "code",
   "execution_count": null,
   "metadata": {},
   "outputs": [],
   "source": []
  }
 ],
 "metadata": {
  "kernelspec": {
   "display_name": "Python 3",
   "language": "python",
   "name": "python3"
  },
  "language_info": {
   "codemirror_mode": {
    "name": "ipython",
    "version": 3
   },
   "file_extension": ".py",
   "mimetype": "text/x-python",
   "name": "python",
   "nbconvert_exporter": "python",
   "pygments_lexer": "ipython3",
   "version": "3.6.8"
  },
  "toc": {
   "base_numbering": 1,
   "nav_menu": {},
   "number_sections": true,
   "sideBar": true,
   "skip_h1_title": false,
   "title_cell": "Table of Contents",
   "title_sidebar": "Contents",
   "toc_cell": false,
   "toc_position": {},
   "toc_section_display": true,
   "toc_window_display": false
  }
 },
 "nbformat": 4,
 "nbformat_minor": 4
}
