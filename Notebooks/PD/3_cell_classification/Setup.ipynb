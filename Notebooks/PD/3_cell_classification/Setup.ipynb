{
 "cells": [
  {
   "cell_type": "markdown",
   "metadata": {},
   "source": [
    "<h1>Setup: selecting the training data, validation data, and labelling</h1>"
   ]
  },
  {
   "cell_type": "markdown",
   "metadata": {},
   "source": [
    "We know that the autonomous algorithms that work in 2-dimensional space and applied according to some gating strategy struggle to capture relevant cell populations in disease datasets where there is alot of variation. \n",
    "\n",
    "An alternative approach is taking a representative sample, labelling the cells in that sample according to our gating strategy with a traditional manual approach, and then using this labelled dataset to train a classifier. The theory here is that dispite the inter-sample variation, there exists biological signals (cell populations) that are shared across samples and are distinguishable in our high-dimensional expression data.\n",
    "\n",
    "In this notebook I will, for each experiment, create training data, validation data, and label according to our standard gating strategy; that is I will identify the major cell subsets of interest and label cells by these subsets.\n",
    "\n",
    "Training data is a difficult question, because what is a representative sample? To address this issue I will create two different sources of training data:\n",
    "1. The training sample will be chosen by computing the euclidean norm of each pair of samples and choose the sample that is the minimum i.e. the most central sample in a shared euclidean space.\n",
    "2. Cells will be sampled uniformally from each patient to create a concatenated 'global sample', containing cells from every patient. This should capture the variation from every patient.\n",
    "\n",
    "The best performing method of training will be chosen based on weighted F1 score when compared to validation data."
   ]
  },
  {
   "cell_type": "code",
   "execution_count": 2,
   "metadata": {},
   "outputs": [],
   "source": [
    "import sys\n",
    "if '/home/ross/immunova' not in sys.path:\n",
    "    sys.path.append('/home/ross/immunova')\n",
    "from immunova.data.mongo_setup import pd_init\n",
    "from immunova.data.fcs_experiments import FCSExperiment\n",
    "from immunova.flow.gating.actions import Gating\n",
    "from immunova.flow.gating.defaults import ChildPopulationCollection\n",
    "from immunova.flow.supervised.cell_classifier import create_reference_sample\n",
    "from immunova.flow.supervised.utilities import calculate_ref_sample_fast\n",
    "from warnings import filterwarnings\n",
    "from tqdm import tqdm_notebook\n",
    "import matplotlib\n",
    "import pandas as pd\n",
    "import os\n",
    "filterwarnings('ignore')\n",
    "pd_init()"
   ]
  },
  {
   "cell_type": "code",
   "execution_count": 3,
   "metadata": {},
   "outputs": [],
   "source": [
    "# Load experiments\n",
    "pdtexp = FCSExperiment.objects(experiment_id='PD_T_PDMCs').get()\n",
    "pbtexp = FCSExperiment.objects(experiment_id='PD_T_PBMCs').get()\n",
    "nexp = FCSExperiment.objects(experiment_id='PD_N_PDMCs').get()"
   ]
  },
  {
   "cell_type": "markdown",
   "metadata": {},
   "source": [
    "<h2>Choosing the training data</h2>\n",
    "\n",
    "<h3>The 'average' sample</h3>\n",
    "\n",
    "Immunova has many utility functions. One of these selects the sample with the smallest average distance to all other samples in euclidean space; for every 2 samples i, j compute the Frobenius norm of the difference between their covariance matrics and then select the sample with the smallest average distance to all other samples. This is performed as described in Li et al paper (https://www.ncbi.nlm.nih.gov/pmc/articles/PMC5860171/)\n",
    "\n",
    "There are two implementations in Immunova: `calculate_reference_sample` and `calculate_ref_sample_fast`, the only difference in the later is that it uses multi-processing for faster computation."
   ]
  },
  {
   "cell_type": "code",
   "execution_count": 4,
   "metadata": {},
   "outputs": [
    {
     "name": "stdout",
     "output_type": "stream",
     "text": [
      "PDMCs T Panel ref sample: 288-02_pdmc_t\n"
     ]
    }
   ],
   "source": [
    "exclude = [f'{x}_pdmc_t' for x in ['209-03', '210-14', '273-01', '298-01', '322-01', '237-06', '302-01']]\n",
    "print(f'PDMCs T Panel ref sample: {calculate_ref_sample_fast(pdtexp, exclude_samples=exclude, sample_n=1000)}')"
   ]
  },
  {
   "cell_type": "code",
   "execution_count": 5,
   "metadata": {},
   "outputs": [
    {
     "name": "stdout",
     "output_type": "stream",
     "text": [
      "PBMCs T Panel ref sample: 305-02_pbmc_t\n"
     ]
    }
   ],
   "source": [
    "exclude = [f'{x}_pbmc_t' for x in ['305-01', '286-02']]\n",
    "print(f'PBMCs T Panel ref sample: {calculate_ref_sample_fast(pbtexp, exclude_samples=exclude, sample_n=1000)}')"
   ]
  },
  {
   "cell_type": "code",
   "execution_count": 6,
   "metadata": {},
   "outputs": [
    {
     "name": "stdout",
     "output_type": "stream",
     "text": [
      "PDMCs N Panel ref sample: 294-03_pdmc_n\n"
     ]
    }
   ],
   "source": [
    "exclude = [f'{x}_pdmc_n' for x in ['209-05']]\n",
    "print(f'PDMCs N Panel ref sample: {calculate_ref_sample_fast(nexp, exclude_samples=exclude, sample_n=1000)}')"
   ]
  },
  {
   "cell_type": "markdown",
   "metadata": {},
   "source": [
    "<h3>Uniform sample</h3>\n",
    "\n",
    "An alternative to the above is to take a uniform sample from every patient in an experiment and create a concatenated sample that is 'representative' of variance seen across all samples. This can be achieved by using the `create_reference_sample` function from `flow.supervised.cell_classifier`. This function takes an experiment, the root population (e.g. if this was 'Live_CD3+' then cells will be sampled from the population named 'Live_CD3+' in every patient), a list of files that should be excluded, the naming convention for the new file that is created, and how many/what proportion of cells to sample."
   ]
  },
  {
   "cell_type": "code",
   "execution_count": 7,
   "metadata": {},
   "outputs": [
    {
     "name": "stdout",
     "output_type": "stream",
     "text": [
      "-------------------- Generating Reference Sample --------------------\n",
      "Finding features common to all fcs files...\n",
      "Sampling 142-09_pdmc_t...\n",
      "Sampling 165-09_pdmc_t...\n",
      "Sampling 175-09_pdmc_t...\n",
      "Sampling 209-05_pdmc_t...\n",
      "Sampling 239-02_pdmc_t...\n",
      "Sampling 239-04_pdmc_t...\n",
      "Sampling 251-07_pdmc_t...\n",
      "Sampling 251-08_pdmc_t...\n",
      "Sampling 254-04_pdmc_t...\n",
      "Sampling 254-05_pdmc_t...\n",
      "Sampling 255-04_pdmc_t...\n",
      "Sampling 255-05_pdmc_t...\n",
      "Sampling 264-02_pdmc_t...\n",
      "Sampling 267-02_pdmc_t...\n",
      "Sampling 276-01_pdmc_t...\n",
      "Sampling 286-03_pdmc_t...\n",
      "Sampling 286-04_pdmc_t...\n",
      "Sampling 294-02_pdmc_t...\n",
      "Sampling 294-03_pdmc_t...\n",
      "Sampling 305-01_pdmc_t...\n",
      "Sampling 305-03_pdmc_t...\n",
      "Sampling 306-01_pdmc_t...\n",
      "Sampling 308-02R_pdmc_t...\n",
      "Sampling 308-03R_pdmc_t...\n",
      "Sampling 308-04_pdmc_t...\n",
      "Sampling 310-01_pdmc_t...\n",
      "Sampling 315-01_pdmc_t...\n",
      "Sampling 315-02_pdmc_t...\n",
      "Sampling 318-01_pdmc_t...\n",
      "Sampling 323-01_pdmc_t...\n",
      "Sampling 324-01_pdmc_t...\n",
      "Sampling 326-01_pdmc_t...\n",
      "Sampling 267-01_pdmc_t...\n",
      "Sampling 279-03_pdmc_t...\n",
      "Sampling 286-02_pdmc_t...\n",
      "Sampling 288-02_pdmc_t...\n",
      "Sampling 294-01_pdmc_t...\n",
      "Sampling 307-01_pdmc_t...\n",
      "Skipping 307-01_pdmc_t as single_Live_CD3+ is absent from gated populations\n",
      "Sampling PD_T_PDMCs_sampled_data...\n",
      "Sampling complete!\n",
      "Inserting sampled data to database...\n",
      "Saving changes...\n",
      "Complete! New file saved to database: Global_Uniform_Sample, FileGroup object\n",
      "-----------------------------------------------------------------\n"
     ]
    }
   ],
   "source": [
    "exclude = [f'{x}_pdmc_t' for x in ['209-03', '210-14', '273-01', '298-01', '322-01', '237-06', '302-01']]\n",
    "create_reference_sample(experiment=pdtexp,\n",
    "                        root_population='single_Live_CD3+',\n",
    "                        exclude=exclude,\n",
    "                        new_file_name='Global_Uniform_Sample',\n",
    "                        sampling_method='uniform',\n",
    "                        sample_n=10000)"
   ]
  },
  {
   "cell_type": "code",
   "execution_count": 8,
   "metadata": {},
   "outputs": [
    {
     "name": "stdout",
     "output_type": "stream",
     "text": [
      "-------------------- Generating Reference Sample --------------------\n",
      "Finding features common to all fcs files...\n",
      "Sampling 142-09_pbmc_t...\n",
      "Sampling 165-09_pbmc_t...\n",
      "Sampling 175-09_pbmc_t...\n",
      "Sampling 210-14_pbmc_t...\n",
      "Sampling 239-02_pbmc_t...\n",
      "Skipping 239-02_pbmc_t as single_Live_CD3+ is absent from gated populations\n",
      "Sampling 239-04_pbmc_t...\n",
      "Skipping 239-04_pbmc_t as single_Live_CD3+ is absent from gated populations\n",
      "Sampling 251-08_pbmc_t...\n",
      "Sampling 254-04_pbmc_t...\n",
      "Sampling 254-05_pbmc_t...\n",
      "Sampling 255-04_pbmc_t...\n",
      "Sampling 255-05_pbmc_t...\n",
      "Sampling 264-02_pbmc_t...\n",
      "Sampling 273-01_pbmc_t...\n",
      "Sampling 276-01_pbmc_t...\n",
      "Sampling 286-03_pbmc_t...\n",
      "Sampling 286-04_pbmc_t...\n",
      "Sampling 294-02_pbmc_t...\n",
      "Sampling 294-03_pbmc_t...\n",
      "Sampling 298-01_pbmc_t...\n",
      "Sampling 305-02_pbmc_t...\n",
      "Sampling 305-03_pbmc_t...\n",
      "Sampling 306-01_pbmc_t...\n",
      "Sampling 308-01_pbmc_t...\n",
      "Sampling 308-02R_pbmc_t...\n",
      "Sampling 308-03R_pbmc_t...\n",
      "Sampling 308-04_pbmc_t...\n",
      "Sampling 310-01_pbmc_t...\n",
      "Sampling 315-01_pbmc_t...\n",
      "Sampling 315-02_pbmc_t...\n",
      "Sampling 316-01_pbmc_t...\n",
      "Sampling 318-01_pbmc_t...\n",
      "Skipping 318-01_pbmc_t as single_Live_CD3+ is absent from gated populations\n",
      "Sampling 322-01_pbmc_t...\n",
      "Sampling 323-01_pbmc_t...\n",
      "Sampling 324-01_pbmc_t...\n",
      "Sampling 326-01_pbmc_t...\n",
      "Sampling complete!\n",
      "Inserting sampled data to database...\n",
      "Saving changes...\n",
      "Complete! New file saved to database: Global_Uniform_Sample, FileGroup object\n",
      "-----------------------------------------------------------------\n"
     ]
    }
   ],
   "source": [
    "exclude = [f'{x}_pbmc_t' for x in ['305-01', '286-02']]\n",
    "create_reference_sample(experiment=pbtexp,\n",
    "                        root_population='single_Live_CD3+',\n",
    "                        exclude=exclude,\n",
    "                        new_file_name='Global_Uniform_Sample',\n",
    "                        sampling_method='uniform',\n",
    "                        sample_n=10000)"
   ]
  },
  {
   "cell_type": "code",
   "execution_count": 9,
   "metadata": {},
   "outputs": [
    {
     "name": "stdout",
     "output_type": "stream",
     "text": [
      "-------------------- Generating Reference Sample --------------------\n",
      "Finding features common to all fcs files...\n",
      "Sampling 142-09_pdmc_n...\n",
      "Sampling 210-14_pdmc_n...\n",
      "Sampling 239-02_pdmc_n...\n",
      "Sampling 239-04_pdmc_n...\n",
      "Sampling 251-07_pdmc_n...\n",
      "Sampling 251-08_pdmc_n...\n",
      "Sampling 254-04_pdmc_n...\n",
      "Sampling 254-05_pdmc_n...\n",
      "Sampling 255-04_pdmc_n...\n",
      "Sampling 255-05_pdmc_n...\n",
      "Sampling 264-02_pdmc_n...\n",
      "Sampling 267-02_pdmc_n...\n",
      "Sampling 273-01_pdmc_n...\n",
      "Sampling 276-01_pdmc_n...\n",
      "Sampling 286-03_pdmc_n...\n",
      "Sampling 286-04_pdmc_n...\n",
      "Sampling 294-02_pdmc_n...\n",
      "Sampling 294-03_pdmc_n...\n",
      "Sampling 298-01_pdmc_n...\n",
      "Sampling 305-01_pdmc_n...\n",
      "Sampling 305-02_pdmc_n...\n",
      "Sampling 305-03_pdmc_n...\n",
      "Sampling 306-01_pdmc_n...\n",
      "Sampling 308-01_pdmc_n...\n",
      "Sampling 308-02R_pdmc_n...\n",
      "Sampling 308-03R_pdmc_n...\n",
      "Sampling 310-01_pdmc_n...\n",
      "Sampling 315-01_pdmc_n...\n",
      "Sampling 315-02_pdmc_n...\n",
      "Sampling 318-01_pdmc_n...\n",
      "Sampling 320-01_pdmc_n...\n",
      "Sampling 321-01_pdmc_n...\n",
      "Sampling 322-01_pdmc_n...\n",
      "Sampling 323-01_pdmc_n...\n",
      "Sampling 324-01_pdmc_n...\n",
      "Sampling 326-01_pdmc_n...\n",
      "Sampling 237-06_pdmc_n...\n",
      "Skipping 237-06_pdmc_n as Single_Live_CD45+ is absent from gated populations\n",
      "Sampling 267-01_pdmc_n...\n",
      "Skipping 267-01_pdmc_n as Single_Live_CD45+ is absent from gated populations\n",
      "Sampling 279-03_pdmc_n...\n",
      "Skipping 279-03_pdmc_n as Single_Live_CD45+ is absent from gated populations\n",
      "Sampling 286-02_pdmc_n...\n",
      "Skipping 286-02_pdmc_n as Single_Live_CD45+ is absent from gated populations\n",
      "Sampling 288-02_pdmc_n...\n",
      "Skipping 288-02_pdmc_n as Single_Live_CD45+ is absent from gated populations\n",
      "Sampling 302-01_pdmc_n...\n",
      "Skipping 302-01_pdmc_n as Single_Live_CD45+ is absent from gated populations\n",
      "Sampling complete!\n",
      "Inserting sampled data to database...\n",
      "Saving changes...\n",
      "Complete! New file saved to database: Global_Uniform_Sample, FileGroup object\n",
      "-----------------------------------------------------------------\n"
     ]
    }
   ],
   "source": [
    "exclude = [f'{x}_pdmc_n' for x in ['209-05']]\n",
    "create_reference_sample(experiment=nexp,\n",
    "                        root_population='Single_Live_CD45+',\n",
    "                        exclude=exclude,\n",
    "                        new_file_name='Global_Uniform_Sample',\n",
    "                        sampling_method='uniform',\n",
    "                        sample_n=10000)"
   ]
  },
  {
   "cell_type": "code",
   "execution_count": null,
   "metadata": {},
   "outputs": [],
   "source": []
  }
 ],
 "metadata": {
  "kernelspec": {
   "display_name": "Python 3",
   "language": "python",
   "name": "python3"
  },
  "language_info": {
   "codemirror_mode": {
    "name": "ipython",
    "version": 3
   },
   "file_extension": ".py",
   "mimetype": "text/x-python",
   "name": "python",
   "nbconvert_exporter": "python",
   "pygments_lexer": "ipython3",
   "version": "3.6.8"
  }
 },
 "nbformat": 4,
 "nbformat_minor": 4
}
