{
 "cells": [
  {
   "cell_type": "markdown",
   "metadata": {
    "toc-hr-collapsed": false
   },
   "source": [
    "<h1>Setup: selecting and labelling the training data</h1>"
   ]
  },
  {
   "cell_type": "markdown",
   "metadata": {},
   "source": [
    "We know that the autonomous algorithms that work in 2-dimensional space and applied according to some gating strategy struggle to capture relevant cell populations in disease datasets where there is alot of variation. \n",
    "\n",
    "An alternative approach is taking a representative sample, labelling the cells in that sample according to our gating strategy with a traditional manual approach, and then using this labelled dataset to train a classifier. The theory here is that dispite the inter-sample variation, there exists biological signals (cell populations) that are shared across samples and are distinguishable in our high-dimensional expression data.\n",
    "\n",
    "In this notebook I will, for each experiment, create training data, validation data, and label according to our standard gating strategy; that is I will identify the major cell subsets of interest and label cells by these subsets.\n",
    "\n",
    "Training data is a difficult question, because what is a representative sample? To address this issue I will create two different sources of training data:\n",
    "1. The training sample will be chosen by computing the euclidean norm of each pair of samples and choose the sample that is the minimum i.e. the most central sample in a shared euclidean space.\n",
    "2. Cells will be sampled uniformally from each patient to create a concatenated 'global sample', containing cells from every patient. This should capture the variation from every patient.\n",
    "\n",
    "The best performing method of training will be chosen based on weighted F1 score when compared to validation data."
   ]
  },
  {
   "cell_type": "code",
   "execution_count": 1,
   "metadata": {},
   "outputs": [
    {
     "name": "stderr",
     "output_type": "stream",
     "text": [
      "Using TensorFlow backend.\n"
     ]
    }
   ],
   "source": [
    "from warnings import simplefilter\n",
    "simplefilter('ignore', category=FutureWarning)\n",
    "simplefilter('ignore', category=UserWarning)\n",
    "import sys\n",
    "if '/home/rossco/immunova' not in sys.path:\n",
    "    sys.path.append('/home/rossco/immunova')\n",
    "from immunova.data.mongo_setup import pd_init\n",
    "from immunova.data.fcs_experiments import FCSExperiment\n",
    "from immunova.flow.gating.actions import Gating, Template\n",
    "from immunova.flow.gating.defaults import ChildPopulationCollection\n",
    "from immunova.flow.supervised.cell_classifier import create_reference_sample\n",
    "from immunova.flow.supervised.utilities import calculate_ref_sample_fast\n",
    "from tqdm import tqdm_notebook\n",
    "import matplotlib\n",
    "import pandas as pd\n",
    "import os\n",
    "pd_init()"
   ]
  },
  {
   "cell_type": "code",
   "execution_count": 2,
   "metadata": {},
   "outputs": [],
   "source": [
    "# Load experiments\n",
    "pdtexp = FCSExperiment.objects(experiment_id='PD_T_PDMCs').get()\n",
    "pbtexp = FCSExperiment.objects(experiment_id='PD_T_PBMCs').get()\n",
    "nexp = FCSExperiment.objects(experiment_id='PD_N_PDMCs').get()"
   ]
  },
  {
   "cell_type": "markdown",
   "metadata": {
    "toc-hr-collapsed": false
   },
   "source": [
    "<h2>Choosing the training data</h2>\n",
    "\n",
    "<h3>The 'average' sample</h3>\n",
    "\n",
    "Immunova has many utility functions. One of these selects the sample with the smallest average distance to all other samples in euclidean space; for every 2 samples i, j compute the Frobenius norm of the difference between their covariance matrics and then select the sample with the smallest average distance to all other samples. This is performed as described in Li et al paper (https://www.ncbi.nlm.nih.gov/pmc/articles/PMC5860171/)\n",
    "\n",
    "There are two implementations in Immunova: `calculate_reference_sample` and `calculate_ref_sample_fast`, the only difference in the later is that it uses multi-processing for faster computation."
   ]
  },
  {
   "cell_type": "code",
   "execution_count": null,
   "metadata": {},
   "outputs": [
    {
     "name": "stderr",
     "output_type": "stream",
     "text": [
      "/home/rossco/immunova/env/lib/python3.7/site-packages/pandas/core/series.py:853: RuntimeWarning: invalid value encountered in log10\n",
      "  result = getattr(ufunc, method)(*inputs, **kwargs)\n",
      "/home/rossco/immunova/env/lib/python3.7/site-packages/pandas/core/series.py:853: RuntimeWarning: divide by zero encountered in log10\n",
      "  result = getattr(ufunc, method)(*inputs, **kwargs)\n",
      "/home/rossco/immunova/env/lib/python3.7/site-packages/pandas/core/series.py:853: RuntimeWarning: invalid value encountered in log10\n",
      "  result = getattr(ufunc, method)(*inputs, **kwargs)\n",
      "/home/rossco/immunova/env/lib/python3.7/site-packages/pandas/core/series.py:853: RuntimeWarning: divide by zero encountered in log10\n",
      "  result = getattr(ufunc, method)(*inputs, **kwargs)\n",
      "/home/rossco/immunova/env/lib/python3.7/site-packages/pandas/core/series.py:853: RuntimeWarning: invalid value encountered in log10\n",
      "  result = getattr(ufunc, method)(*inputs, **kwargs)\n",
      "/home/rossco/immunova/env/lib/python3.7/site-packages/pandas/core/series.py:853: RuntimeWarning: divide by zero encountered in log10\n",
      "  result = getattr(ufunc, method)(*inputs, **kwargs)\n",
      "/home/rossco/immunova/env/lib/python3.7/site-packages/pandas/core/series.py:853: RuntimeWarning: invalid value encountered in log10\n",
      "  result = getattr(ufunc, method)(*inputs, **kwargs)\n",
      "/home/rossco/immunova/env/lib/python3.7/site-packages/pandas/core/series.py:853: RuntimeWarning: divide by zero encountered in log10\n",
      "  result = getattr(ufunc, method)(*inputs, **kwargs)\n"
     ]
    }
   ],
   "source": [
    "exclude = pdtexp.list_invalid()\n",
    "print(f'PDMCs T Panel ref sample: {calculate_ref_sample_fast(pdtexp, exclude_samples=exclude, sample_n=1000)}')"
   ]
  },
  {
   "cell_type": "code",
   "execution_count": null,
   "metadata": {},
   "outputs": [],
   "source": [
    "exclude = pbtexp.list_invalid()\n",
    "print(f'PBMCs T Panel ref sample: {calculate_ref_sample_fast(pbtexp, exclude_samples=exclude, sample_n=1000)}')"
   ]
  },
  {
   "cell_type": "code",
   "execution_count": null,
   "metadata": {},
   "outputs": [],
   "source": [
    "exclude = nexp.list_invalid()\n",
    "print(f'PDMCs N Panel ref sample: {calculate_ref_sample_fast(nexp, exclude_samples=exclude, sample_n=1000)}')"
   ]
  },
  {
   "cell_type": "markdown",
   "metadata": {},
   "source": [
    "<h3>Uniform sample</h3>\n",
    "\n",
    "An alternative to the above is to take a uniform sample from every patient in an experiment and create a concatenated sample that is 'representative' of variance seen across all samples. This can be achieved by using the `create_reference_sample` function from `flow.supervised.cell_classifier`. This function takes an experiment, the root population (e.g. if this was 'Live_CD3+' then cells will be sampled from the population named 'Live_CD3+' in every patient), a list of files that should be excluded, the naming convention for the new file that is created, and how many/what proportion of cells to sample."
   ]
  },
  {
   "cell_type": "code",
   "execution_count": null,
   "metadata": {},
   "outputs": [],
   "source": [
    "exclude = [f'{x}_pdmc_t' for x in ['209-03', '210-14', '273-01', '298-01', '322-01', '237-06', '302-01']]\n",
    "create_reference_sample(experiment=pdtexp,\n",
    "                        root_population='single_Live_CD3+_cleaned',\n",
    "                        exclude=exclude,\n",
    "                        new_file_name='Global_Uniform_Sample',\n",
    "                        sampling_method='uniform',\n",
    "                        sample_n=10000)"
   ]
  },
  {
   "cell_type": "code",
   "execution_count": null,
   "metadata": {},
   "outputs": [],
   "source": [
    "exclude = [f'{x}_pbmc_t' for x in ['305-01', '286-02']]\n",
    "create_reference_sample(experiment=pbtexp,\n",
    "                        root_population='single_Live_CD3+_cleaned',\n",
    "                        exclude=exclude,\n",
    "                        new_file_name='Global_Uniform_Sample',\n",
    "                        sampling_method='uniform',\n",
    "                        sample_n=10000)"
   ]
  },
  {
   "cell_type": "code",
   "execution_count": null,
   "metadata": {},
   "outputs": [],
   "source": [
    "exclude = [f'{x}_pdmc_n' for x in ['209-05']]\n",
    "create_reference_sample(experiment=nexp,\n",
    "                        root_population='Single_Live_CD45+_cleaned',\n",
    "                        exclude=exclude,\n",
    "                        new_file_name='Global_Uniform_Sample',\n",
    "                        sampling_method='uniform',\n",
    "                        sample_n=10000)"
   ]
  },
  {
   "cell_type": "markdown",
   "metadata": {},
   "source": [
    "<h3>Label the training data: PDMC T Panel</h3>"
   ]
  },
  {
   "cell_type": "code",
   "execution_count": null,
   "metadata": {},
   "outputs": [],
   "source": [
    "g = Template(pdtexp, '288-02_pdmc_t', include_controls=False)"
   ]
  },
  {
   "cell_type": "code",
   "execution_count": null,
   "metadata": {},
   "outputs": [],
   "source": [
    "g.plotting.plot_population('single_Live_CD3+_cleaned', 'PanGD', 'Vd2')"
   ]
  },
  {
   "cell_type": "code",
   "execution_count": null,
   "metadata": {},
   "outputs": [],
   "source": [
    "g.population_size('single_Live_CD3+_cleaned')"
   ]
  },
  {
   "cell_type": "code",
   "execution_count": null,
   "metadata": {},
   "outputs": [],
   "source": [
    "children = ChildPopulationCollection('cluster')\n",
    "children.add_population('gdt', target=(0.4,0.8), weight=1)\n",
    "children.add_population('non_gdt', target=(0.25,0.35), weight=1)\n",
    "kwargs = dict(x='PanGD', y='Vd2', min_pop_size=100, frac=0.1)\n",
    "g.create_gate(gate_name='gdt_gate', \n",
    "              parent='single_Live_CD3+_cleaned',\n",
    "              class_='DensityBasedClustering',\n",
    "              method='hdbscan',\n",
    "              child_populations=children, \n",
    "              kwargs=kwargs)\n",
    "g.apply('gdt_gate')"
   ]
  },
  {
   "cell_type": "code",
   "execution_count": null,
   "metadata": {},
   "outputs": [],
   "source": [
    "g.plotting.plot_population('non_gdt', 'Va7.2', 'CD161')"
   ]
  },
  {
   "cell_type": "code",
   "execution_count": null,
   "metadata": {},
   "outputs": [],
   "source": [
    "children = ChildPopulationCollection('threshold_2d')\n",
    "children.add_population('mait', definition='++')\n",
    "children.add_population('classic', definition=['-+', '+-', '--'])\n",
    "kwargs = dict(x='Va7.2', y='CD161', kde_bw=0.05, low_memory=True, peak_threshold=0.05)\n",
    "g.create_gate(gate_name='mait_gate', \n",
    "              parent='non_gdt',\n",
    "              class_='DensityThreshold',\n",
    "              method='gate_2d',\n",
    "              child_populations=children, \n",
    "              kwargs=kwargs)\n",
    "g.apply('mait_gate')"
   ]
  },
  {
   "cell_type": "code",
   "execution_count": null,
   "metadata": {},
   "outputs": [],
   "source": [
    "g.print_population_tree()"
   ]
  },
  {
   "cell_type": "code",
   "execution_count": null,
   "metadata": {},
   "outputs": [],
   "source": [
    "g.plotting.plot_population('classic', 'CD4', 'CD8')"
   ]
  },
  {
   "cell_type": "code",
   "execution_count": null,
   "metadata": {},
   "outputs": [],
   "source": [
    "children = ChildPopulationCollection('threshold_2d')\n",
    "children.add_population('CD4+CD8-', definition='+-')\n",
    "children.add_population('CD4-CD8-', definition='--')\n",
    "children.add_population('CD4+CD8+', definition='++')\n",
    "children.add_population('CD4-CD8+', definition='-+')\n",
    "kwargs = dict(x='CD4', y='CD8', kde_bw=0.05, low_memory=True, peak_threshold=0.05)\n",
    "g.create_gate(gate_name='cd4cd8_gate', \n",
    "              parent='classic',\n",
    "              class_='DensityThreshold',\n",
    "              method='gate_2d',\n",
    "              child_populations=children, \n",
    "              kwargs=kwargs)\n",
    "g.apply('cd4cd8_gate')"
   ]
  },
  {
   "cell_type": "code",
   "execution_count": null,
   "metadata": {},
   "outputs": [],
   "source": [
    "children = ChildPopulationCollection('threshold_2d')\n",
    "children.add_population('mait+CD4+CD8-', definition='+-')\n",
    "children.add_population('mait+CD4-CD8-', definition='--')\n",
    "children.add_population('mait+CD4+CD8+', definition='++')\n",
    "children.add_population('mait+CD4-CD8+', definition='-+')\n",
    "kwargs = dict(x='CD4', y='CD8', kde_bw=0.05, low_memory=True, peak_threshold=0.05)\n",
    "g.create_gate(gate_name='maitcd4cd8_gate', \n",
    "              parent='mait',\n",
    "              class_='DensityThreshold',\n",
    "              method='gate_2d',\n",
    "              child_populations=children, \n",
    "              kwargs=kwargs)\n",
    "g.apply('maitcd4cd8_gate')"
   ]
  },
  {
   "cell_type": "code",
   "execution_count": null,
   "metadata": {},
   "outputs": [],
   "source": [
    "g.print_population_tree()"
   ]
  },
  {
   "cell_type": "code",
   "execution_count": null,
   "metadata": {},
   "outputs": [],
   "source": [
    "g.save(overwrite=True)"
   ]
  },
  {
   "cell_type": "code",
   "execution_count": null,
   "metadata": {},
   "outputs": [],
   "source": [
    "g.save_new_template('Major_T_Populations_Cleaned')"
   ]
  },
  {
   "cell_type": "code",
   "execution_count": null,
   "metadata": {},
   "outputs": [],
   "source": [
    "g = Template(pdtexp, 'Global_Uniform_Sample', include_controls=False)"
   ]
  },
  {
   "cell_type": "code",
   "execution_count": null,
   "metadata": {},
   "outputs": [],
   "source": [
    "g.load_template('Major_T_Populations_Cleaned')"
   ]
  },
  {
   "cell_type": "code",
   "execution_count": null,
   "metadata": {},
   "outputs": [],
   "source": [
    "g.population_size('single_Live_CD3+_cleaned')*0.05"
   ]
  },
  {
   "cell_type": "code",
   "execution_count": null,
   "metadata": {},
   "outputs": [],
   "source": [
    "g.apply('gdt_gate', min_pop_size=200, frac=0.05)"
   ]
  },
  {
   "cell_type": "code",
   "execution_count": null,
   "metadata": {},
   "outputs": [],
   "source": [
    "g.apply('mait_gate')"
   ]
  },
  {
   "cell_type": "code",
   "execution_count": null,
   "metadata": {},
   "outputs": [],
   "source": [
    "g.apply('cd4cd8_gate')"
   ]
  },
  {
   "cell_type": "code",
   "execution_count": null,
   "metadata": {},
   "outputs": [],
   "source": [
    "g.apply('maitcd4cd8_gate')"
   ]
  },
  {
   "cell_type": "code",
   "execution_count": null,
   "metadata": {},
   "outputs": [],
   "source": [
    "g.save(overwrite=True)"
   ]
  },
  {
   "cell_type": "markdown",
   "metadata": {},
   "source": [
    "<h3>Label training data: PBMC T Panel</h3>"
   ]
  },
  {
   "cell_type": "code",
   "execution_count": null,
   "metadata": {},
   "outputs": [],
   "source": [
    "g = Template(pbtexp, '305-02_pbmc_t', include_controls=False)"
   ]
  },
  {
   "cell_type": "code",
   "execution_count": null,
   "metadata": {},
   "outputs": [],
   "source": [
    "g.remove_gate('gdt_gate')"
   ]
  },
  {
   "cell_type": "code",
   "execution_count": null,
   "metadata": {},
   "outputs": [],
   "source": [
    "g.load_template('Major_T_Populations_Cleaned')"
   ]
  },
  {
   "cell_type": "code",
   "execution_count": null,
   "metadata": {},
   "outputs": [],
   "source": [
    "g.apply('gdt_gate', min_pop_size=50)"
   ]
  },
  {
   "cell_type": "code",
   "execution_count": null,
   "metadata": {},
   "outputs": [],
   "source": [
    "g.remove_population('mait')\n",
    "g.remove_population('classic')"
   ]
  },
  {
   "cell_type": "code",
   "execution_count": null,
   "metadata": {},
   "outputs": [],
   "source": [
    "g.apply('mait_gate', kde_bw=0.01, peak_threshold=0.1)"
   ]
  },
  {
   "cell_type": "code",
   "execution_count": null,
   "metadata": {},
   "outputs": [],
   "source": [
    "g.apply('cd4cd8_gate')"
   ]
  },
  {
   "cell_type": "code",
   "execution_count": null,
   "metadata": {},
   "outputs": [],
   "source": [
    "g.apply('maitcd4cd8_gate')"
   ]
  },
  {
   "cell_type": "code",
   "execution_count": null,
   "metadata": {},
   "outputs": [],
   "source": [
    "g.save(overwrite=True)"
   ]
  },
  {
   "cell_type": "code",
   "execution_count": null,
   "metadata": {},
   "outputs": [],
   "source": [
    "g = Template(pbtexp, 'Global_Uniform_Sample', include_controls=False)"
   ]
  },
  {
   "cell_type": "code",
   "execution_count": null,
   "metadata": {},
   "outputs": [],
   "source": [
    "g.load_template('Major_T_Populations_Cleaned')"
   ]
  },
  {
   "cell_type": "code",
   "execution_count": null,
   "metadata": {},
   "outputs": [],
   "source": [
    "g.apply('gdt_gate')"
   ]
  },
  {
   "cell_type": "code",
   "execution_count": null,
   "metadata": {},
   "outputs": [],
   "source": [
    "g.apply('mait_gate')"
   ]
  },
  {
   "cell_type": "code",
   "execution_count": null,
   "metadata": {},
   "outputs": [],
   "source": [
    "g.apply('cd4cd8_gate')"
   ]
  },
  {
   "cell_type": "code",
   "execution_count": null,
   "metadata": {},
   "outputs": [],
   "source": [
    "g.apply('maitcd4cd8_gate')"
   ]
  },
  {
   "cell_type": "code",
   "execution_count": null,
   "metadata": {},
   "outputs": [],
   "source": [
    "g.save(overwrite=True)"
   ]
  },
  {
   "cell_type": "markdown",
   "metadata": {},
   "source": [
    "<h3>Label the training data: PDMC N Panel</h3>"
   ]
  },
  {
   "cell_type": "code",
   "execution_count": null,
   "metadata": {},
   "outputs": [],
   "source": [
    "g = Template(nexp, '294-03_pdmc_n', include_controls=False)"
   ]
  },
  {
   "cell_type": "code",
   "execution_count": null,
   "metadata": {},
   "outputs": [],
   "source": [
    "g.print_population_tree()"
   ]
  },
  {
   "cell_type": "code",
   "execution_count": null,
   "metadata": {},
   "outputs": [],
   "source": [
    "children = ChildPopulationCollection('threshold_1d')\n",
    "children.add_population('CD3+', definition='+')\n",
    "children.add_population('CD3-', definition='-')\n",
    "kwargs = dict(x='CD3', kde_bw=0.01, low_memory=True)\n",
    "g.create_gate(gate_name='cd3_gate', \n",
    "              parent='Single_Live_CD45+_cleaned',\n",
    "              class_='DensityThreshold',\n",
    "              method='gate_1d',\n",
    "              child_populations=children, \n",
    "              kwargs=kwargs)\n",
    "g.apply('cd3_gate')"
   ]
  },
  {
   "cell_type": "code",
   "execution_count": null,
   "metadata": {},
   "outputs": [],
   "source": [
    "children = ChildPopulationCollection('threshold_1d')\n",
    "children.add_population('CD3+CD19-', definition='-')\n",
    "children.add_population('CD3+CD19+', definition='+')\n",
    "kwargs = dict(x='CD19', kde_bw=0.05, low_memory=True)\n",
    "g.create_gate(gate_name='cd3+cd19_gate', \n",
    "              parent='CD3+',\n",
    "              class_='DensityThreshold',\n",
    "              method='gate_1d',\n",
    "              child_populations=children, \n",
    "              kwargs=kwargs)\n",
    "g.apply('cd3+cd19_gate')"
   ]
  },
  {
   "cell_type": "code",
   "execution_count": null,
   "metadata": {},
   "outputs": [],
   "source": [
    "children = ChildPopulationCollection('threshold_1d')\n",
    "children.add_population('CD3-CD19-', definition='-')\n",
    "children.add_population('CD3-CD19+', definition='+')\n",
    "kwargs = dict(x='CD19', kde_bw=0.05, low_memory=True)\n",
    "g.create_gate(gate_name='cd3-cd19_gate', \n",
    "              parent='CD3-',\n",
    "              class_='DensityThreshold',\n",
    "              method='gate_1d',\n",
    "              child_populations=children, \n",
    "              kwargs=kwargs)\n",
    "g.apply('cd3-cd19_gate')"
   ]
  },
  {
   "cell_type": "code",
   "execution_count": null,
   "metadata": {},
   "outputs": [],
   "source": [
    "children = ChildPopulationCollection('geom')\n",
    "children.add_population('B cells', definition='+')\n",
    "children.add_population('not_B cells', definition='-')\n",
    "kwargs = dict(x='FSC-A', y='SSC-A', transform_x=None, transform_y=None, target=(80000, 25000))\n",
    "g.create_gate(gate_name='bcell_gate', \n",
    "              parent='CD3-CD19+',\n",
    "              class_='MixtureModel',\n",
    "              method='gate',\n",
    "              child_populations=children, \n",
    "              kwargs=kwargs)\n",
    "g.apply('bcell_gate')"
   ]
  },
  {
   "cell_type": "code",
   "execution_count": null,
   "metadata": {},
   "outputs": [],
   "source": [
    "children = ChildPopulationCollection('geom')\n",
    "children.add_population('T cells', definition='+')\n",
    "children.add_population('not_T cells', definition='-')\n",
    "kwargs = dict(x='FSC-A', y='SSC-A', transform_x=None, transform_y=None, target=(60000, 10000))\n",
    "g.create_gate(gate_name='tcell_gate', \n",
    "              parent='CD3+CD19-',\n",
    "              class_='MixtureModel',\n",
    "              method='gate',\n",
    "              child_populations=children, \n",
    "              kwargs=kwargs)\n",
    "g.apply('tcell_gate')"
   ]
  },
  {
   "cell_type": "code",
   "execution_count": null,
   "metadata": {},
   "outputs": [],
   "source": [
    "g.plotting.plot_population('CD3-CD19-', 'CD15', 'CD116')"
   ]
  },
  {
   "cell_type": "code",
   "execution_count": null,
   "metadata": {},
   "outputs": [],
   "source": [
    "children = ChildPopulationCollection('geom')\n",
    "children.add_population('CD15-CD116-', definition='+')\n",
    "children.add_population('Myeloid', definition='-')\n",
    "\n",
    "kwargs = dict(x='CD15', y='CD116', x_min=-0.2, x_max=0.4, y_min=-0.2, y_max=0.4)\n",
    "g.create_gate(gate_name='cd15cd116_gate', \n",
    "              parent='CD3-CD19-',\n",
    "              class_='Static',\n",
    "              method='rect_gate',\n",
    "              child_populations=children, \n",
    "              kwargs=kwargs)\n",
    "g.apply('cd15cd116_gate')"
   ]
  },
  {
   "cell_type": "code",
   "execution_count": null,
   "metadata": {},
   "outputs": [],
   "source": [
    "g.plotting.plot_population('Myeloid', 'CD15', 'FSC-A', transforms={'x': 'logicle', 'y': None})"
   ]
  },
  {
   "cell_type": "code",
   "execution_count": null,
   "metadata": {},
   "outputs": [],
   "source": [
    "children = ChildPopulationCollection('threshold_1d')\n",
    "children.add_population('CD15+', definition='+')\n",
    "children.add_population('CD15-', definition='-')\n",
    "\n",
    "kwargs = dict(x='CD15', kde_bw=0.01, peak_threshold=0.01, low_memory=True)\n",
    "g.create_gate(gate_name='cd15_gate', \n",
    "              parent='Myeloid',\n",
    "              class_='DensityThreshold',\n",
    "              method='gate_1d',\n",
    "              child_populations=children, \n",
    "              kwargs=kwargs)\n",
    "g.apply('cd15_gate')"
   ]
  },
  {
   "cell_type": "code",
   "execution_count": null,
   "metadata": {},
   "outputs": [],
   "source": [
    "g.plotting.plot_population('CD15+', 'FSC-A', 'SSC-A', transforms={'x':None, 'y':None})"
   ]
  },
  {
   "cell_type": "code",
   "execution_count": null,
   "metadata": {},
   "outputs": [],
   "source": [
    "g.population_size('CD15+')*0.1"
   ]
  },
  {
   "cell_type": "code",
   "execution_count": null,
   "metadata": {},
   "outputs": [],
   "source": [
    "children = ChildPopulationCollection('cluster')\n",
    "children.add_population('Neutrophils', target=(90000, 70000), weight=1)\n",
    "\n",
    "kwargs = dict(x='FSC-A', y='SSC-A', transform_x=None, transform_y=None, min_pop_size=100, frac=0.1)\n",
    "g.create_gate(gate_name='neutro_gate', \n",
    "              parent='CD15+',\n",
    "              class_='DensityBasedClustering',\n",
    "              method='hdbscan',\n",
    "              child_populations=children, \n",
    "              kwargs=kwargs)\n",
    "g.apply('neutro_gate')"
   ]
  },
  {
   "cell_type": "code",
   "execution_count": null,
   "metadata": {},
   "outputs": [],
   "source": [
    "g.plotting.plot_population('CD15-', 'Siglec-8', 'FSC-A', transforms={'x':'logicle', 'y':None})"
   ]
  },
  {
   "cell_type": "code",
   "execution_count": null,
   "metadata": {},
   "outputs": [],
   "source": [
    "children = ChildPopulationCollection('threshold_1d')\n",
    "children.add_population('Siglec8+', definition='+')\n",
    "children.add_population('Siglec8-', definition='-')\n",
    "\n",
    "kwargs = dict(x='Siglec-8', kde_bw=0.1, low_memory=True, peak_threshold=0.01)\n",
    "g.create_gate(gate_name='siglec8_gate', \n",
    "              parent='CD15-',\n",
    "              class_='DensityThreshold',\n",
    "              method='gate_1d',\n",
    "              child_populations=children, \n",
    "              kwargs=kwargs)\n",
    "g.apply('siglec8_gate')"
   ]
  },
  {
   "cell_type": "code",
   "execution_count": null,
   "metadata": {},
   "outputs": [],
   "source": [
    "g.plotting.plot_population('Siglec8+', 'FSC-A', 'SSC-A', transforms={'x':None, 'y':None})"
   ]
  },
  {
   "cell_type": "code",
   "execution_count": null,
   "metadata": {},
   "outputs": [],
   "source": [
    "g.population_size('Siglec8+')"
   ]
  },
  {
   "cell_type": "code",
   "execution_count": null,
   "metadata": {},
   "outputs": [],
   "source": [
    "children = ChildPopulationCollection('cluster')\n",
    "children.add_population('Eosinophils', target=(80000, 80000), weight=1)\n",
    "\n",
    "kwargs = dict(x='FSC-A', y='SSC-A', transform_x=None, transform_y=None, min_pop_size=100, frac=0.5)\n",
    "g.create_gate(gate_name='eosino_gate', \n",
    "              parent='Siglec8+',\n",
    "              class_='DensityBasedClustering',\n",
    "              method='hdbscan',\n",
    "              child_populations=children, \n",
    "              kwargs=kwargs)\n",
    "g.apply('eosino_gate')"
   ]
  },
  {
   "cell_type": "code",
   "execution_count": null,
   "metadata": {},
   "outputs": [],
   "source": [
    "g.plotting.plot_population('Siglec8-', 'HLA-DR', 'CD14')"
   ]
  },
  {
   "cell_type": "code",
   "execution_count": null,
   "metadata": {},
   "outputs": [],
   "source": [
    "children = ChildPopulationCollection('geom')\n",
    "children.add_population('MonoDCs', definition='-')\n",
    "children.add_population('nonMonoDCs', definition='+')\n",
    "\n",
    "kwargs = dict(x='HLA-DR', y='CD14', x_min=-0.2, x_max=0.5, y_min=-0.2, y_max=0.4)\n",
    "g.create_gate(gate_name='monodc_gate', \n",
    "              parent='Siglec8-',\n",
    "              class_='Static',\n",
    "              method='rect_gate',\n",
    "              child_populations=children, \n",
    "              kwargs=kwargs)\n",
    "g.apply('monodc_gate')"
   ]
  },
  {
   "cell_type": "code",
   "execution_count": null,
   "metadata": {},
   "outputs": [],
   "source": [
    "g.plotting.plot_population('MonoDCs', 'CD1c', 'FSC-A', transforms={'x':'logicle', 'y':None})"
   ]
  },
  {
   "cell_type": "code",
   "execution_count": null,
   "metadata": {},
   "outputs": [],
   "source": [
    "children = ChildPopulationCollection('threshold_1d')\n",
    "children.add_population('CD1c+', definition='+')\n",
    "children.add_population('CD1c-', definition='-')\n",
    "\n",
    "kwargs = dict(x='CD1c', kde_bw=0.01, low_memory=True, peak_threshold=0.01)\n",
    "g.create_gate(gate_name='cd1c_gate', \n",
    "              parent='MonoDCs',\n",
    "              class_='DensityThreshold',\n",
    "              method='gate_1d',\n",
    "              child_populations=children, \n",
    "              kwargs=kwargs)\n",
    "g.apply('cd1c_gate')"
   ]
  },
  {
   "cell_type": "code",
   "execution_count": null,
   "metadata": {},
   "outputs": [],
   "source": [
    "children = ChildPopulationCollection('geom')\n",
    "children.add_population('DCs', definition='+')\n",
    "children.add_population('non_DCs', definition='-')\n",
    "kwargs = dict(x='FSC-A', y='SSC-A', transform_x=None, transform_y=None, target=(80000, 25000), conf=0.999)\n",
    "g.create_gate(gate_name='dc_gate', \n",
    "              parent='CD1c+',\n",
    "              class_='MixtureModel',\n",
    "              method='gate',\n",
    "              child_populations=children, \n",
    "              kwargs=kwargs)\n",
    "g.apply('dc_gate')"
   ]
  },
  {
   "cell_type": "code",
   "execution_count": null,
   "metadata": {},
   "outputs": [],
   "source": [
    "children = ChildPopulationCollection('threshold_1d')\n",
    "children.add_population('CD14+', definition='+')\n",
    "children.add_population('CD14-', definition='-')\n",
    "\n",
    "kwargs = dict(x='CD14', kde_bw=0.01, low_memory=True, peak_threshold=0.01)\n",
    "g.create_gate(gate_name='cd14_gate', \n",
    "              parent='CD1c-',\n",
    "              class_='DensityThreshold',\n",
    "              method='gate_1d',\n",
    "              child_populations=children, \n",
    "              kwargs=kwargs)\n",
    "g.apply('cd14_gate')"
   ]
  },
  {
   "cell_type": "code",
   "execution_count": null,
   "metadata": {},
   "outputs": [],
   "source": [
    "children = ChildPopulationCollection('geom')\n",
    "children.add_population('Monocytes', definition='+')\n",
    "children.add_population('non_Monocytes', definition='-')\n",
    "kwargs = dict(x='FSC-A', y='SSC-A', transform_x=None, transform_y=None, target=(80000, 25000), conf=0.99)\n",
    "g.create_gate(gate_name='mono_gate', \n",
    "              parent='CD1c-',\n",
    "              class_='MixtureModel',\n",
    "              method='gate',\n",
    "              child_populations=children, \n",
    "              kwargs=kwargs)\n",
    "g.apply('mono_gate')"
   ]
  },
  {
   "cell_type": "code",
   "execution_count": null,
   "metadata": {},
   "outputs": [],
   "source": [
    "g.save(overwrite=True)"
   ]
  },
  {
   "cell_type": "code",
   "execution_count": null,
   "metadata": {},
   "outputs": [],
   "source": [
    "g.save_new_template('Major_N_Populations')"
   ]
  },
  {
   "cell_type": "code",
   "execution_count": null,
   "metadata": {},
   "outputs": [],
   "source": [
    "g = Template(nexp, 'Global_Uniform_Sample', include_controls=False)"
   ]
  },
  {
   "cell_type": "code",
   "execution_count": null,
   "metadata": {},
   "outputs": [],
   "source": [
    "g.plotting.plot_population('Single_Live_CD45+_cleaned', 'CD3', 'CD19')"
   ]
  },
  {
   "cell_type": "code",
   "execution_count": null,
   "metadata": {},
   "outputs": [],
   "source": [
    "g.load_template('Major_N_Populations')"
   ]
  },
  {
   "cell_type": "code",
   "execution_count": null,
   "metadata": {},
   "outputs": [],
   "source": [
    "g.gates.keys()"
   ]
  },
  {
   "cell_type": "code",
   "execution_count": null,
   "metadata": {},
   "outputs": [],
   "source": [
    "g.apply('cd3_gate', kde_bw=0.04)"
   ]
  },
  {
   "cell_type": "code",
   "execution_count": null,
   "metadata": {},
   "outputs": [],
   "source": [
    "g.populations.pop('CD3+')\n",
    "g.populations.pop('CD3-')"
   ]
  },
  {
   "cell_type": "code",
   "execution_count": null,
   "metadata": {},
   "outputs": [],
   "source": []
  }
 ],
 "metadata": {
  "kernelspec": {
   "display_name": "Python 3",
   "language": "python",
   "name": "python3"
  },
  "language_info": {
   "codemirror_mode": {
    "name": "ipython",
    "version": 3
   },
   "file_extension": ".py",
   "mimetype": "text/x-python",
   "name": "python",
   "nbconvert_exporter": "python",
   "pygments_lexer": "ipython3",
   "version": "3.7.3"
  }
 },
 "nbformat": 4,
 "nbformat_minor": 4
}
