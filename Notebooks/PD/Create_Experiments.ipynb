{
 "cells": [
  {
   "cell_type": "code",
   "execution_count": 1,
   "metadata": {},
   "outputs": [],
   "source": [
    "import sys\n",
    "if '/home/ross/immunova' not in sys.path:\n",
    "    sys.path.append('/home/ross/immunova')\n",
    "from immunova.data.panel import Panel\n",
    "from immunova.data.fcs_experiments import FCSExperiment\n",
    "from immunova.data.mongo_setup import pd_init\n",
    "pd_init()"
   ]
  },
  {
   "cell_type": "markdown",
   "metadata": {},
   "source": [
    "<h1>Create Panels</h1>"
   ]
  },
  {
   "cell_type": "code",
   "execution_count": 2,
   "metadata": {},
   "outputs": [],
   "source": [
    "n_template = 'Panel_Templates/peritonitis_m_template.xlsx'\n",
    "t_template = 'Panel_Templates/peritonitis_t_template.xlsx'"
   ]
  },
  {
   "cell_type": "code",
   "execution_count": 3,
   "metadata": {},
   "outputs": [
    {
     "data": {
      "text/plain": [
       "<Panel: Panel object>"
      ]
     },
     "execution_count": 3,
     "metadata": {},
     "output_type": "execute_result"
    }
   ],
   "source": [
    "t_panel = Panel()\n",
    "t_panel.panel_name = 'PD_T_Panel'\n",
    "t_panel.create_from_excel(t_template)\n",
    "t_panel.save()"
   ]
  },
  {
   "cell_type": "code",
   "execution_count": 4,
   "metadata": {},
   "outputs": [
    {
     "data": {
      "text/plain": [
       "<Panel: Panel object>"
      ]
     },
     "execution_count": 4,
     "metadata": {},
     "output_type": "execute_result"
    }
   ],
   "source": [
    "n_panel = Panel()\n",
    "n_panel.panel_name = 'PD_N_Panel'\n",
    "n_panel.create_from_excel(n_template)\n",
    "n_panel.save()"
   ]
  },
  {
   "cell_type": "markdown",
   "metadata": {},
   "source": [
    "<h1>Create Experiments</h1>"
   ]
  },
  {
   "cell_type": "code",
   "execution_count": 5,
   "metadata": {},
   "outputs": [
    {
     "data": {
      "text/plain": [
       "<FCSExperiment: FCSExperiment object>"
      ]
     },
     "execution_count": 5,
     "metadata": {},
     "output_type": "execute_result"
    }
   ],
   "source": [
    "t = FCSExperiment()\n",
    "t.experiment_id = 'PD_T_PBMCs'\n",
    "t.panel = t_panel\n",
    "t.save()"
   ]
  },
  {
   "cell_type": "code",
   "execution_count": 6,
   "metadata": {},
   "outputs": [
    {
     "data": {
      "text/plain": [
       "<FCSExperiment: FCSExperiment object>"
      ]
     },
     "execution_count": 6,
     "metadata": {},
     "output_type": "execute_result"
    }
   ],
   "source": [
    "t = FCSExperiment()\n",
    "t.experiment_id = 'PD_T_PDMCs'\n",
    "t.panel = t_panel\n",
    "t.save()"
   ]
  },
  {
   "cell_type": "code",
   "execution_count": 7,
   "metadata": {},
   "outputs": [
    {
     "data": {
      "text/plain": [
       "<FCSExperiment: FCSExperiment object>"
      ]
     },
     "execution_count": 7,
     "metadata": {},
     "output_type": "execute_result"
    }
   ],
   "source": [
    "n = FCSExperiment()\n",
    "n.experiment_id = 'PD_N_PBMCs'\n",
    "n.panel = n_panel\n",
    "n.save()"
   ]
  },
  {
   "cell_type": "code",
   "execution_count": 8,
   "metadata": {},
   "outputs": [
    {
     "data": {
      "text/plain": [
       "<FCSExperiment: FCSExperiment object>"
      ]
     },
     "execution_count": 8,
     "metadata": {},
     "output_type": "execute_result"
    }
   ],
   "source": [
    "n = FCSExperiment()\n",
    "n.experiment_id = 'PD_N_PDMCs'\n",
    "n.panel = n_panel\n",
    "n.save()"
   ]
  },
  {
   "cell_type": "code",
   "execution_count": null,
   "metadata": {},
   "outputs": [],
   "source": []
  }
 ],
 "metadata": {
  "kernelspec": {
   "display_name": "Python 3",
   "language": "python",
   "name": "python3"
  },
  "language_info": {
   "codemirror_mode": {
    "name": "ipython",
    "version": 3
   },
   "file_extension": ".py",
   "mimetype": "text/x-python",
   "name": "python",
   "nbconvert_exporter": "python",
   "pygments_lexer": "ipython3",
   "version": "3.6.8"
  }
 },
 "nbformat": 4,
 "nbformat_minor": 4
}
