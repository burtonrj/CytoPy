{
 "cells": [
  {
   "cell_type": "code",
   "execution_count": 1,
   "metadata": {},
   "outputs": [
    {
     "ename": "ModuleNotFoundError",
     "evalue": "No module named 'immunova'",
     "output_type": "error",
     "traceback": [
      "\u001b[0;31m---------------------------------------------------------------------------\u001b[0m",
      "\u001b[0;31mModuleNotFoundError\u001b[0m                       Traceback (most recent call last)",
      "\u001b[0;32m<ipython-input-1-632e9b7b7c86>\u001b[0m in \u001b[0;36m<module>\u001b[0;34m\u001b[0m\n\u001b[1;32m      2\u001b[0m \u001b[0;32mif\u001b[0m \u001b[0;34m'/home/ross/immunova'\u001b[0m \u001b[0;32mnot\u001b[0m \u001b[0;32min\u001b[0m \u001b[0msys\u001b[0m\u001b[0;34m.\u001b[0m\u001b[0mpath\u001b[0m\u001b[0;34m:\u001b[0m\u001b[0;34m\u001b[0m\u001b[0;34m\u001b[0m\u001b[0m\n\u001b[1;32m      3\u001b[0m     \u001b[0msys\u001b[0m\u001b[0;34m.\u001b[0m\u001b[0mpath\u001b[0m\u001b[0;34m.\u001b[0m\u001b[0mappend\u001b[0m\u001b[0;34m(\u001b[0m\u001b[0;34m'/home/ross/immunova'\u001b[0m\u001b[0;34m)\u001b[0m\u001b[0;34m\u001b[0m\u001b[0;34m\u001b[0m\u001b[0m\n\u001b[0;32m----> 4\u001b[0;31m \u001b[0;32mfrom\u001b[0m \u001b[0mimmunova\u001b[0m\u001b[0;34m.\u001b[0m\u001b[0mdata\u001b[0m\u001b[0;34m.\u001b[0m\u001b[0mfcs_experiments\u001b[0m \u001b[0;32mimport\u001b[0m \u001b[0mFCSExperiment\u001b[0m\u001b[0;34m\u001b[0m\u001b[0;34m\u001b[0m\u001b[0m\n\u001b[0m\u001b[1;32m      5\u001b[0m \u001b[0;32mfrom\u001b[0m \u001b[0mimmunova\u001b[0m\u001b[0;34m.\u001b[0m\u001b[0mdata\u001b[0m\u001b[0;34m.\u001b[0m\u001b[0mpanel\u001b[0m \u001b[0;32mimport\u001b[0m \u001b[0mPanel\u001b[0m\u001b[0;34m\u001b[0m\u001b[0;34m\u001b[0m\u001b[0m\n\u001b[1;32m      6\u001b[0m \u001b[0;32mfrom\u001b[0m \u001b[0mimmunova\u001b[0m\u001b[0;34m.\u001b[0m\u001b[0mdata\u001b[0m\u001b[0;34m.\u001b[0m\u001b[0mmongo_setup\u001b[0m \u001b[0;32mimport\u001b[0m \u001b[0mtest_init\u001b[0m\u001b[0;34m\u001b[0m\u001b[0;34m\u001b[0m\u001b[0m\n",
      "\u001b[0;31mModuleNotFoundError\u001b[0m: No module named 'immunova'"
     ]
    }
   ],
   "source": [
    "import sys\n",
    "if '/home/ross/immunova' not in sys.path:\n",
    "    sys.path.append('/home/ross/immunova')\n",
    "from immunova.data.fcs_experiments import FCSExperiment\n",
    "from immunova.data.panel import Panel\n",
    "from immunova.data.mongo_setup import test_init\n"
   ]
  },
  {
   "cell_type": "code",
   "execution_count": 2,
   "metadata": {},
   "outputs": [],
   "source": [
    "test_init()"
   ]
  },
  {
   "cell_type": "code",
   "execution_count": 3,
   "metadata": {},
   "outputs": [],
   "source": [
    "test_data_root = '/home/ross/immunova/immunova/tests/test_data'"
   ]
  },
  {
   "cell_type": "code",
   "execution_count": 4,
   "metadata": {},
   "outputs": [
    {
     "data": {
      "text/plain": [
       "<Panel: Panel object>"
      ]
     },
     "execution_count": 4,
     "metadata": {},
     "output_type": "execute_result"
    }
   ],
   "source": [
    "test_panel = Panel()\n",
    "test_panel.panel_name = 'test_panel1'\n",
    "test_panel.create_from_excel(f'{test_data_root}/panels/valid.xlsx')\n",
    "test_panel.save()"
   ]
  },
  {
   "cell_type": "code",
   "execution_count": 5,
   "metadata": {},
   "outputs": [
    {
     "data": {
      "text/plain": [
       "<FCSExperiment: FCSExperiment object>"
      ]
     },
     "execution_count": 5,
     "metadata": {},
     "output_type": "execute_result"
    }
   ],
   "source": [
    "test_exp1 = FCSExperiment()\n",
    "test_exp1.experiment_id = 'test_exp1'\n",
    "test_exp1.panel = test_panel\n",
    "test_exp1.save()"
   ]
  },
  {
   "cell_type": "code",
   "execution_count": 6,
   "metadata": {},
   "outputs": [
    {
     "name": "stdout",
     "output_type": "stream",
     "text": [
      "Generating main file entry...\n",
      "The channel/marker pairing FSC-A/None does not correspond to any defined in panel\n",
      "The channel/marker pairing FSC-H/None does not correspond to any defined in panel\n",
      "The channel/marker pairing FSC-W/None does not correspond to any defined in panel\n",
      "The channel/marker pairing SSC-A/None does not correspond to any defined in panel\n",
      "The channel/marker pairing SSC-H/None does not correspond to any defined in panel\n",
      "The channel/marker pairing SSC-W/None does not correspond to any defined in panel\n",
      "The channel/marker pairing Time/None does not correspond to any defined in panel\n",
      "Generating file entries for controls...\n",
      "Successfully created hc1 and associated to test_exp1\n"
     ]
    },
    {
     "data": {
      "text/plain": [
       "'5da37b0a09fc4f733392f7b0'"
      ]
     },
     "execution_count": 6,
     "metadata": {},
     "output_type": "execute_result"
    }
   ],
   "source": [
    "hc_path = f'{test_data_root}/fcs/hc1/day1/t1/healthy control 001 SD_1 LT1 whole panel_001.fcs'\n",
    "test_exp1.add_new_sample('hc1', hc_path, controls=[], feedback=True)"
   ]
  },
  {
   "cell_type": "code",
   "execution_count": 9,
   "metadata": {},
   "outputs": [
    {
     "data": {
      "text/plain": [
       "''"
      ]
     },
     "execution_count": 9,
     "metadata": {},
     "output_type": "execute_result"
    }
   ],
   "source": [
    "test_panel.mappings[0].marker"
   ]
  },
  {
   "cell_type": "code",
   "execution_count": 20,
   "metadata": {},
   "outputs": [
    {
     "name": "stdout",
     "output_type": "stream",
     "text": [
      "FSC-A\n",
      "FSC-H\n",
      "FSC-W\n",
      "SSC-A\n",
      "SSC-H\n",
      "SSC-W\n",
      "Alexa Fluor 488-A\n",
      "Alexa Fluor 647-A\n",
      "APC-Cy7-A\n",
      "Alexa Fluor 405-A\n",
      "AmCyan-A\n",
      "BV711-A\n",
      "PE-CF594-A\n",
      "PE-Cy5-5-A\n",
      "PE-Cy7-A\n",
      "BV605-A\n",
      "PE-A\n",
      "7-AAD-A\n",
      "Time\n"
     ]
    }
   ],
   "source": [
    "for x in test_panel.channels:\n",
    "    print(x.standard)"
   ]
  },
  {
   "cell_type": "code",
   "execution_count": null,
   "metadata": {},
   "outputs": [],
   "source": [
    "te"
   ]
  }
 ],
 "metadata": {
  "kernelspec": {
   "display_name": "Python 3",
   "language": "python",
   "name": "python3"
  },
  "language_info": {
   "codemirror_mode": {
    "name": "ipython",
    "version": 3
   },
   "file_extension": ".py",
   "mimetype": "text/x-python",
   "name": "python",
   "nbconvert_exporter": "python",
   "pygments_lexer": "ipython3",
   "version": "3.7.3"
  }
 },
 "nbformat": 4,
 "nbformat_minor": 2
}
