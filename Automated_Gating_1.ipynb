{
 "cells": [
  {
   "cell_type": "markdown",
   "metadata": {},
   "source": [
    "<h1>Automated Gating with Immunova: Loading peritonitis data into database</h1>\n",
    "\n",
    "This is the first of three notebooks comparing the automated gating in immunova to expert manual gating. In this notebook I am creating the database entries.\n",
    "\n",
    "<h3>Create project and experiments</h3>"
   ]
  },
  {
   "cell_type": "code",
   "execution_count": 12,
   "metadata": {},
   "outputs": [],
   "source": [
    "from immunova.data.project import Project\n",
    "from immunova.data.mongo_setup import global_init\n",
    "from immunova.data.fcs_experiments import FCSExperiment, Panel\n",
    "from immunova.data.utilities import get_fcs_file_paths\n",
    "from immunova.flow.readwrite.read_fcs import explore_channel_mappings, FCSFile\n",
    "from tqdm import tqdm_notebook, tqdm\n",
    "from functools import partial\n",
    "import pandas as pd\n",
    "global_init()\n",
    "root_drive = '/media/rossco/FCS_DATA'"
   ]
  },
  {
   "cell_type": "code",
   "execution_count": 2,
   "metadata": {},
   "outputs": [
    {
     "data": {
      "text/plain": [
       "<Project: Project object>"
      ]
     },
     "execution_count": 2,
     "metadata": {},
     "output_type": "execute_result"
    }
   ],
   "source": [
    "pd_project = Project(project_id='Peritonitis', owner='burtonrossj')\n",
    "pd_project.save()"
   ]
  },
  {
   "cell_type": "code",
   "execution_count": 3,
   "metadata": {},
   "outputs": [
    {
     "data": {
      "text/plain": [
       "'5d84fca4975ee6db94526c28'"
      ]
     },
     "execution_count": 3,
     "metadata": {},
     "output_type": "execute_result"
    }
   ],
   "source": [
    "pd_project.id.__str__()"
   ]
  },
  {
   "cell_type": "markdown",
   "metadata": {},
   "source": [
    "I will create four experiments in total:\n",
    "* PBMC_T: T cell panel for PBMC samples\n",
    "* PBMC_M: Myeloid cell panel for PBMC samples\n",
    "* PDMC_T: T cell panel for peritoneal fluid samples\n",
    "* PDMC_M: Myeloid cell panel for peritoneal fluid samples\n",
    "\n",
    "For each of these experiments I need to associate a flow cytometry panel. A Panel object defines the channel(fluorochrome)/marker(antibody) mappings for all associated flow data. This allows for standardisation of the flow cytometry meta-data at the point of entry.\n",
    "\n",
    "Panel objects can be created from a python dictionary object or using an excel template. In this case I have created an excel template (see documentation for details on creating panel templates).\n",
    "\n",
    "It is often useful to explore the channel and marker names of a large selection of fcs files to get a feel for the naming conventions and make sure you have convered all edge cases. There is a useful utility function in `immunova.flow.readwrite.read_fcs` called `explore_channel_mappings`. Given a directory, the function will search for all `.fcs` files and return all permutations of channel/marker pairings found."
   ]
  },
  {
   "cell_type": "code",
   "execution_count": null,
   "metadata": {},
   "outputs": [],
   "source": [
    "cm_permutations = explore_channel_mappings('/media/ross/FCS_DATA/Raya PD Samples/ds_friendly')"
   ]
  },
  {
   "cell_type": "code",
   "execution_count": 6,
   "metadata": {},
   "outputs": [
    {
     "data": {
      "text/plain": [
       "20"
      ]
     },
     "execution_count": 6,
     "metadata": {},
     "output_type": "execute_result"
    }
   ],
   "source": [
    "len(cm_permutations)"
   ]
  },
  {
   "cell_type": "markdown",
   "metadata": {},
   "source": [
    "So there is 20 permutations for the different ways that markers have been labelled in fcs files. I can account for most cases using regular expression but in a few cases (e.g. live/dead staining) I have added like-for-like matches in the templates."
   ]
  },
  {
   "cell_type": "code",
   "execution_count": 4,
   "metadata": {},
   "outputs": [],
   "source": [
    "t_panel = Panel(panel_name='peritonitis_t_panel')\n",
    "m_panel = Panel(panel_name='peritonitis_m_panel')"
   ]
  },
  {
   "cell_type": "code",
   "execution_count": 5,
   "metadata": {},
   "outputs": [
    {
     "data": {
      "text/plain": [
       "True"
      ]
     },
     "execution_count": 5,
     "metadata": {},
     "output_type": "execute_result"
    }
   ],
   "source": [
    "t_panel.create_from_excel(path='experiment_data/peritonitis_t_template.xlsx')"
   ]
  },
  {
   "cell_type": "code",
   "execution_count": 6,
   "metadata": {},
   "outputs": [
    {
     "data": {
      "text/plain": [
       "True"
      ]
     },
     "execution_count": 6,
     "metadata": {},
     "output_type": "execute_result"
    }
   ],
   "source": [
    "m_panel.create_from_excel(path='experiment_data/peritonitis_m_template.xlsx')"
   ]
  },
  {
   "cell_type": "markdown",
   "metadata": {},
   "source": [
    "The `create_from_excel` method will populate the Panel object using the excel template. I can now save the panels to the database."
   ]
  },
  {
   "cell_type": "code",
   "execution_count": 7,
   "metadata": {},
   "outputs": [
    {
     "data": {
      "text/plain": [
       "<Panel: Panel object>"
      ]
     },
     "execution_count": 7,
     "metadata": {},
     "output_type": "execute_result"
    }
   ],
   "source": [
    "t_panel.save()\n",
    "m_panel.save()"
   ]
  },
  {
   "cell_type": "markdown",
   "metadata": {},
   "source": [
    "With the panels created I can now create the experiments. When you create an experiment you must always associate it to a project. We therefore use the `add_experiment` method of the Project object."
   ]
  },
  {
   "cell_type": "code",
   "execution_count": 8,
   "metadata": {},
   "outputs": [
    {
     "name": "stdout",
     "output_type": "stream",
     "text": [
      "Experiment created successfully!\n",
      "Experiment created successfully!\n",
      "Experiment created successfully!\n",
      "Experiment created successfully!\n"
     ]
    }
   ],
   "source": [
    "pbmc_t = pd_project.add_experiment(experiment_id='PBMC_T', panel_name='peritonitis_t_panel')\n",
    "pdmc_t = pd_project.add_experiment(experiment_id='PDMC_T', panel_name='peritonitis_t_panel')\n",
    "pbmc_m = pd_project.add_experiment(experiment_id='PBMC_M', panel_name='peritonitis_m_panel')\n",
    "pdmc_m = pd_project.add_experiment(experiment_id='PDMC_M', panel_name='peritonitis_m_panel')"
   ]
  },
  {
   "cell_type": "markdown",
   "metadata": {},
   "source": [
    "Now that the experiments are created I can start adding the fcs files. The `add_new_sample` method is used to generate a new fcs file entry into the mongo database, which is then associated to the experiment. See the documentation below:\n"
   ]
  },
  {
   "cell_type": "code",
   "execution_count": 9,
   "metadata": {},
   "outputs": [
    {
     "data": {
      "text/plain": [
       "\u001b[0;31mSignature:\u001b[0m\n",
       "\u001b[0mpbmc_t\u001b[0m\u001b[0;34m.\u001b[0m\u001b[0madd_new_sample\u001b[0m\u001b[0;34m(\u001b[0m\u001b[0;34m\u001b[0m\n",
       "\u001b[0;34m\u001b[0m    \u001b[0msample_id\u001b[0m\u001b[0;34m:\u001b[0m \u001b[0mstr\u001b[0m\u001b[0;34m,\u001b[0m\u001b[0;34m\u001b[0m\n",
       "\u001b[0;34m\u001b[0m    \u001b[0mfile_path\u001b[0m\u001b[0;34m:\u001b[0m \u001b[0mstr\u001b[0m\u001b[0;34m,\u001b[0m\u001b[0;34m\u001b[0m\n",
       "\u001b[0;34m\u001b[0m    \u001b[0mcontrols\u001b[0m\u001b[0;34m:\u001b[0m \u001b[0mlist\u001b[0m\u001b[0;34m,\u001b[0m\u001b[0;34m\u001b[0m\n",
       "\u001b[0;34m\u001b[0m    \u001b[0mcomp_matrix\u001b[0m\u001b[0;34m:\u001b[0m \u001b[0;34m<\u001b[0m\u001b[0mbuilt\u001b[0m\u001b[0;34m-\u001b[0m\u001b[0;32min\u001b[0m \u001b[0mfunction\u001b[0m \u001b[0marray\u001b[0m\u001b[0;34m>\u001b[0m \u001b[0;34m=\u001b[0m \u001b[0;32mNone\u001b[0m\u001b[0;34m,\u001b[0m\u001b[0;34m\u001b[0m\n",
       "\u001b[0;34m\u001b[0m    \u001b[0mcompensate\u001b[0m\u001b[0;34m:\u001b[0m \u001b[0mbool\u001b[0m \u001b[0;34m=\u001b[0m \u001b[0;32mTrue\u001b[0m\u001b[0;34m,\u001b[0m\u001b[0;34m\u001b[0m\n",
       "\u001b[0;34m\u001b[0m    \u001b[0mfeedback\u001b[0m\u001b[0;34m:\u001b[0m \u001b[0mbool\u001b[0m \u001b[0;34m=\u001b[0m \u001b[0;32mTrue\u001b[0m\u001b[0;34m,\u001b[0m\u001b[0;34m\u001b[0m\n",
       "\u001b[0;34m\u001b[0m\u001b[0;34m)\u001b[0m \u001b[0;34m->\u001b[0m \u001b[0mstr\u001b[0m\u001b[0;34m\u001b[0m\u001b[0;34m\u001b[0m\u001b[0m\n",
       "\u001b[0;31mDocstring:\u001b[0m\n",
       "Add a new sample (FileGroup) to this experiment\n",
       ":param sample_id: primary ID for identification of sample (FileGroup.primary_id)\n",
       ":param file_path: file path of the primary fcs file (e.g. the fcs file that is of primary interest such as the\n",
       "file with complete staining)\n",
       ":param controls: list of file paths for control files e.g. a list of file paths for associated FMO controls\n",
       ":param comp_matrix: (optional) numpy array for spillover matrix for compensation calculation; if not supplied\n",
       "the matrix linked within the fcs file will be used, if not present will present an error\n",
       ":param compensate: boolean value as to whether compensation should be applied before data entry (default=True)\n",
       ":param feedback: boolean value, if True function will provide feedback in the form of print statements\n",
       "(default=True)\n",
       ":return: MongoDB ObjectID string for new FileGroup entry\n",
       "\u001b[0;31mFile:\u001b[0m      ~/immunova/immunova/data/fcs_experiments.py\n",
       "\u001b[0;31mType:\u001b[0m      method\n"
      ]
     },
     "metadata": {},
     "output_type": "display_data"
    }
   ],
   "source": [
    "?pbmc_t.add_new_sample"
   ]
  },
  {
   "cell_type": "markdown",
   "metadata": {},
   "source": [
    "<h3>Add PDMC files (Myeloid cell panel)</h3>\n",
    "\n",
    "A summary table of all the samples collected in the peritonitis study can provide us with the sample numbers and the manual gating results."
   ]
  },
  {
   "cell_type": "code",
   "execution_count": 13,
   "metadata": {},
   "outputs": [],
   "source": [
    "summary = pd.read_excel(f'{root_drive}/Raya PD Samples/ClinicalData_and_ManualGatingResults.xlsx')"
   ]
  },
  {
   "cell_type": "code",
   "execution_count": 14,
   "metadata": {},
   "outputs": [],
   "source": [
    "pdmc_sample_ids = summary[summary['Cell origin'] == 'PDMC']['Patient no.'].values"
   ]
  },
  {
   "cell_type": "code",
   "execution_count": 15,
   "metadata": {},
   "outputs": [
    {
     "data": {
      "text/plain": [
       "array(['142-09', '175-09', '209-03', '209-05', '210-12', '210-14',\n",
       "       '229-02', '237-06', '239-02', '239-04', '251-07', '251-08',\n",
       "       '254-04', '254-05', '255-04', '255-05', '262-01', '264-02',\n",
       "       '267-01', '267-02', '272-01', '273-01', '276-01', '279-03',\n",
       "       '286-02', '286-03', '286-04', '288-02', '289-01', '294-01',\n",
       "       '294-02', '294-03', '295-01', '298-01', '302-01', '305-01',\n",
       "       '305-02', '305-03', '306-01', '307-01', '308-01', '308-02R',\n",
       "       '308-03R', '308-04', '310-01', '315-01', '315-02', '316-01',\n",
       "       '318-01', '320-01', '321-01', '322-01', '323-01', '323-02',\n",
       "       '324-01', '326-01'], dtype=object)"
      ]
     },
     "execution_count": 15,
     "metadata": {},
     "output_type": "execute_result"
    }
   ],
   "source": [
    "pdmc_sample_ids"
   ]
  },
  {
   "cell_type": "markdown",
   "metadata": {},
   "source": [
    "We can use the utility functin `get_fcs_file_paths` from immunova's data module to generate file paths for adding samples."
   ]
  },
  {
   "cell_type": "code",
   "execution_count": 18,
   "metadata": {},
   "outputs": [
    {
     "data": {
      "text/plain": [
       "{'primary': ['/media/rossco/FCS_DATA/Raya PD Samples/ds_friendly/PDMC/142-09/m_panel/Peri 142-09R PDMC 1 N Panel_N1_013.fcs'],\n",
       " 'controls': [{'control_id': 'CD1c',\n",
       "   'path': '/media/rossco/FCS_DATA/Raya PD Samples/ds_friendly/PDMC/142-09/m_panel/Peri 142-09R PDMC 1 N Panel_N2 FMO CD1c_014.fcs'},\n",
       "  {'control_id': 'HLA-DR',\n",
       "   'path': '/media/rossco/FCS_DATA/Raya PD Samples/ds_friendly/PDMC/142-09/m_panel/Peri 142-09R PDMC 1 N Panel_N3 FMO HLA-DR_015.fcs'}]}"
      ]
     },
     "execution_count": 18,
     "metadata": {},
     "output_type": "execute_result"
    }
   ],
   "source": [
    "get_fcs_file_paths(fcs_dir=f'{root_drive}/Raya PD Samples/ds_friendly/PDMC/142-09/m_panel',\n",
    "                  control_names=['CD1c', 'HLA-DR'], ctrl_id='FMO')"
   ]
  },
  {
   "cell_type": "code",
   "execution_count": 19,
   "metadata": {},
   "outputs": [],
   "source": [
    "pdmc_m_142_09 = get_fcs_file_paths(fcs_dir=f'{root_drive}/Raya PD Samples/ds_friendly/PDMC/142-09/m_panel',\n",
    "                  control_names=['CD1c', 'HLA-DR'], ctrl_id='FMO')\n",
    "primary = pdmc_m_142_09['primary'][0]\n",
    "controls = pdmc_m_142_09['controls']"
   ]
  },
  {
   "cell_type": "code",
   "execution_count": 20,
   "metadata": {},
   "outputs": [
    {
     "name": "stdout",
     "output_type": "stream",
     "text": [
      "Generating main file entry...\n",
      "WARNING: FSC-W,  pair not found!\n",
      "Generating file entries for controls...\n",
      "WARNING: FSC-W,  pair not found!\n",
      "WARNING: FSC-W,  pair not found!\n",
      "Successfully created pd142_09_m and associated to PDMC_M\n"
     ]
    },
    {
     "data": {
      "text/plain": [
       "'5d84fd30975ee6db9452715e'"
      ]
     },
     "execution_count": 20,
     "metadata": {},
     "output_type": "execute_result"
    }
   ],
   "source": [
    "pdmc_m.add_new_sample(sample_id='pd142_09_m', file_path=primary, controls=controls)"
   ]
  },
  {
   "cell_type": "markdown",
   "metadata": {},
   "source": [
    "Let's add the rest of the files for PDMC's."
   ]
  },
  {
   "cell_type": "code",
   "execution_count": 21,
   "metadata": {},
   "outputs": [
    {
     "name": "stdout",
     "output_type": "stream",
     "text": [
      "Generating main file entry...\n",
      "WARNING: FSC-W,  pair not found!\n",
      "WARNING: PerCP-A, CD16 pair not found!\n",
      "Generating file entries for controls...\n",
      "Successfully created pd209-03_m and associated to PDMC_M\n"
     ]
    },
    {
     "data": {
      "text/plain": [
       "'5d84fd41975ee6db945274c0'"
      ]
     },
     "execution_count": 21,
     "metadata": {},
     "output_type": "execute_result"
    }
   ],
   "source": [
    "#pd209-03 M\n",
    "# Only one file for this patient\n",
    "primary = f'{root_drive}/Raya PD Samples/ds_friendly/PDMC/209-03/m_panel/Peri 209-03 PDMC_A1_001.fcs'\n",
    "pdmc_m.add_new_sample(sample_id='pd209-03_m', controls=[], file_path=primary)"
   ]
  },
  {
   "cell_type": "code",
   "execution_count": 22,
   "metadata": {},
   "outputs": [],
   "source": [
    "from flowio import FlowData\n",
    "fcs = FlowData(primary)"
   ]
  },
  {
   "cell_type": "code",
   "execution_count": 23,
   "metadata": {},
   "outputs": [
    {
     "data": {
      "text/plain": [
       "{'1': {'PnN': 'FSC-A'},\n",
       " '2': {'PnN': 'FSC-H'},\n",
       " '3': {'PnN': 'SSC-A'},\n",
       " '4': {'PnN': 'SSC-H'},\n",
       " '5': {'PnN': 'SSC-W'},\n",
       " '6': {'PnN': 'Alexa Fluor 488-A', 'PnS': 'CD14'},\n",
       " '7': {'PnN': 'Alexa Fluor 647-A', 'PnS': 'Siglec-8'},\n",
       " '8': {'PnN': 'APC-Cy7-A', 'PnS': 'CD3'},\n",
       " '9': {'PnN': 'Alexa Fluor 405-A', 'PnS': 'CD1c'},\n",
       " '10': {'PnN': 'AmCyan-A', 'PnS': 'Zombie Aqua'},\n",
       " '11': {'PnN': 'BV605-A', 'PnS': 'CD15'},\n",
       " '12': {'PnN': 'BV711-A', 'PnS': 'HLA-DR'},\n",
       " '13': {'PnN': 'PE-A', 'PnS': 'CD116'},\n",
       " '14': {'PnN': 'PE-Cy7-A', 'PnS': 'CD19'},\n",
       " '15': {'PnN': 'Alexa Fluor 700-A', 'PnS': 'CD45'},\n",
       " '16': {'PnN': 'Time'}}"
      ]
     },
     "execution_count": 23,
     "metadata": {},
     "output_type": "execute_result"
    }
   ],
   "source": [
    "fcs.channels"
   ]
  },
  {
   "cell_type": "markdown",
   "metadata": {},
   "source": [
    "pd209-03 for M panel is missing CD16"
   ]
  },
  {
   "cell_type": "code",
   "execution_count": 24,
   "metadata": {},
   "outputs": [
    {
     "name": "stdout",
     "output_type": "stream",
     "text": [
      "Generating main file entry...\n",
      "WARNING: FSC-W,  pair not found!\n",
      "Generating file entries for controls...\n",
      "Successfully created pd209-05_m and associated to PDMC_M\n"
     ]
    },
    {
     "data": {
      "text/plain": [
       "'5d84fd4c975ee6db945274d3'"
      ]
     },
     "execution_count": 24,
     "metadata": {},
     "output_type": "execute_result"
    }
   ],
   "source": [
    "# pd209-05 M\n",
    "# Only one file for this patient\n",
    "primary = f'{root_drive}/Raya PD Samples/ds_friendly/PDMC/209-05/m_panel/Stable 209-05 PDMC N1 FSC 350_013.fcs'\n",
    "pdmc_m.add_new_sample(sample_id='pd209-05_m', controls=[], file_path=primary)"
   ]
  },
  {
   "cell_type": "code",
   "execution_count": 25,
   "metadata": {},
   "outputs": [],
   "source": [
    "# Add some convenience variables/partialised func\n",
    "from functools import partial\n",
    "root = f'{root_drive}/Raya PD Samples/ds_friendly/PDMC'\n",
    "get_fp = partial(get_fcs_file_paths, control_names=['CD1c', 'HLA-DR'], ctrl_id='FMO')"
   ]
  },
  {
   "cell_type": "code",
   "execution_count": 26,
   "metadata": {},
   "outputs": [
    {
     "name": "stdout",
     "output_type": "stream",
     "text": [
      "Warning: not file found for CD1c control\n",
      "Warning: not file found for HLA-DR control\n",
      "Warning! Multiple non-control (primary) files found in directory. Check before proceeding.\n"
     ]
    }
   ],
   "source": [
    "# pd210-14 M\n",
    "file_paths = get_fp(f'{root}/210-14/m_panel')"
   ]
  },
  {
   "cell_type": "code",
   "execution_count": 27,
   "metadata": {},
   "outputs": [
    {
     "data": {
      "text/plain": [
       "{'primary': ['/media/rossco/FCS_DATA/Raya PD Samples/ds_friendly/PDMC/210-14/m_panel/Peri 210-14 PDMC N1_019.fcs',\n",
       "  '/media/rossco/FCS_DATA/Raya PD Samples/ds_friendly/PDMC/210-14/m_panel/Peri 210-14 PDMC N2_020.fcs',\n",
       "  '/media/rossco/FCS_DATA/Raya PD Samples/ds_friendly/PDMC/210-14/m_panel/Peri 210-14 PDMC N3_021.fcs'],\n",
       " 'controls': []}"
      ]
     },
     "execution_count": 27,
     "metadata": {},
     "output_type": "execute_result"
    }
   ],
   "source": [
    "file_paths"
   ]
  },
  {
   "cell_type": "markdown",
   "metadata": {},
   "source": [
    "File names missing name of the FMO and therefore not captured by my function. I know that N2 is the FMO for CD1c and N3 is the FMO for HLA-DR"
   ]
  },
  {
   "cell_type": "code",
   "execution_count": 28,
   "metadata": {},
   "outputs": [],
   "source": [
    "primary = file_paths['primary'][0]\n",
    "controls = [dict(control_id='CD1c', path=file_paths['primary'][1]),\n",
    "           dict(control_id='HLA-DR', path=file_paths['primary'][2])]"
   ]
  },
  {
   "cell_type": "code",
   "execution_count": 29,
   "metadata": {},
   "outputs": [
    {
     "name": "stdout",
     "output_type": "stream",
     "text": [
      "Generating main file entry...\n",
      "WARNING: FSC-W,  pair not found!\n",
      "Generating file entries for controls...\n",
      "WARNING: FSC-W,  pair not found!\n",
      "WARNING: FSC-W,  pair not found!\n",
      "Successfully created pd210-14_m and associated to PDMC_M\n"
     ]
    },
    {
     "data": {
      "text/plain": [
       "'5d84fd70975ee6db94527934'"
      ]
     },
     "execution_count": 29,
     "metadata": {},
     "output_type": "execute_result"
    }
   ],
   "source": [
    "pdmc_m.add_new_sample(sample_id='pd210-14_m', controls=controls, file_path=primary)"
   ]
  },
  {
   "cell_type": "code",
   "execution_count": 30,
   "metadata": {},
   "outputs": [
    {
     "name": "stdout",
     "output_type": "stream",
     "text": [
      "Warning: not file found for CD1c control\n",
      "Warning: not file found for HLA-DR control\n",
      "Warning! Multiple non-control (primary) files found in directory. Check before proceeding.\n"
     ]
    }
   ],
   "source": [
    "# pd237-06 M\n",
    "file_paths = get_fp(f'{root}/237-06/m_panel')"
   ]
  },
  {
   "cell_type": "code",
   "execution_count": 31,
   "metadata": {},
   "outputs": [
    {
     "data": {
      "text/plain": [
       "{'primary': ['/media/rossco/FCS_DATA/Raya PD Samples/ds_friendly/PDMC/237-06/m_panel/Peri 237-06 PDMC N1_001.fcs',\n",
       "  '/media/rossco/FCS_DATA/Raya PD Samples/ds_friendly/PDMC/237-06/m_panel/Peri 237-06 PDMC N2_002.fcs',\n",
       "  '/media/rossco/FCS_DATA/Raya PD Samples/ds_friendly/PDMC/237-06/m_panel/Peri 237-06 PDMC N3_003.fcs'],\n",
       " 'controls': []}"
      ]
     },
     "execution_count": 31,
     "metadata": {},
     "output_type": "execute_result"
    }
   ],
   "source": [
    "file_paths"
   ]
  },
  {
   "cell_type": "code",
   "execution_count": 32,
   "metadata": {},
   "outputs": [],
   "source": [
    "primary = file_paths['primary'][0]\n",
    "controls = [dict(control_id='CD1c', path=file_paths['primary'][1]),\n",
    "           dict(control_id='HLA-DR', path=file_paths['primary'][2])]"
   ]
  },
  {
   "cell_type": "code",
   "execution_count": 33,
   "metadata": {},
   "outputs": [
    {
     "name": "stdout",
     "output_type": "stream",
     "text": [
      "Generating main file entry...\n",
      "Generating file entries for controls...\n",
      "Successfully created pd237-06_m and associated to PDMC_M\n"
     ]
    },
    {
     "data": {
      "text/plain": [
       "'5d84fd92975ee6db9452808e'"
      ]
     },
     "execution_count": 33,
     "metadata": {},
     "output_type": "execute_result"
    }
   ],
   "source": [
    "pdmc_m.add_new_sample(sample_id='pd237-06_m', controls=controls, file_path=primary)"
   ]
  },
  {
   "cell_type": "code",
   "execution_count": 34,
   "metadata": {},
   "outputs": [
    {
     "name": "stdout",
     "output_type": "stream",
     "text": [
      "Warning: not file found for CD1c control\n",
      "Warning: not file found for HLA-DR control\n",
      "Warning! Multiple non-control (primary) files found in directory. Check before proceeding.\n"
     ]
    }
   ],
   "source": [
    "# pd239-02 M\n",
    "file_paths = get_fp(f'{root}/239-02/m_panel')"
   ]
  },
  {
   "cell_type": "code",
   "execution_count": 35,
   "metadata": {},
   "outputs": [
    {
     "data": {
      "text/plain": [
       "{'primary': ['/media/rossco/FCS_DATA/Raya PD Samples/ds_friendly/PDMC/239-02/m_panel/239-02 Stable PDMC Neat N1_014.fcs',\n",
       "  '/media/rossco/FCS_DATA/Raya PD Samples/ds_friendly/PDMC/239-02/m_panel/239-02 Stable PDMC Neat N2_015.fcs',\n",
       "  '/media/rossco/FCS_DATA/Raya PD Samples/ds_friendly/PDMC/239-02/m_panel/239-02 Stable PDMC Neat N3_016.fcs'],\n",
       " 'controls': []}"
      ]
     },
     "execution_count": 35,
     "metadata": {},
     "output_type": "execute_result"
    }
   ],
   "source": [
    "file_paths"
   ]
  },
  {
   "cell_type": "code",
   "execution_count": 36,
   "metadata": {},
   "outputs": [],
   "source": [
    "primary = file_paths['primary'][0]\n",
    "controls = [dict(control_id='CD1c', path=file_paths['primary'][1]),\n",
    "           dict(control_id='HLA-DR', path=file_paths['primary'][2])]"
   ]
  },
  {
   "cell_type": "code",
   "execution_count": 37,
   "metadata": {},
   "outputs": [
    {
     "name": "stdout",
     "output_type": "stream",
     "text": [
      "Generating main file entry...\n",
      "Generating file entries for controls...\n",
      "Successfully created pd239-02_m and associated to PDMC_M\n"
     ]
    },
    {
     "data": {
      "text/plain": [
       "'5d84fdab975ee6db9452871a'"
      ]
     },
     "execution_count": 37,
     "metadata": {},
     "output_type": "execute_result"
    }
   ],
   "source": [
    "pdmc_m.add_new_sample(sample_id='pd239-02_m', controls=controls, file_path=primary)"
   ]
  },
  {
   "cell_type": "code",
   "execution_count": 38,
   "metadata": {},
   "outputs": [
    {
     "name": "stdout",
     "output_type": "stream",
     "text": [
      "Warning: not file found for CD1c control\n",
      "Warning: not file found for HLA-DR control\n"
     ]
    }
   ],
   "source": [
    "# pd239-03\n",
    "file_paths = get_fp(f'{root}/239-04/m_panel')"
   ]
  },
  {
   "cell_type": "markdown",
   "metadata": {},
   "source": [
    "I now know the general errors that arrise now so I can loop over the remaining files and catch errors where necessary."
   ]
  },
  {
   "cell_type": "code",
   "execution_count": 39,
   "metadata": {},
   "outputs": [
    {
     "data": {
      "text/plain": [
       "['142_09', '209-03', '209-05', '210-14', '237-06', '239-02']"
      ]
     },
     "execution_count": 39,
     "metadata": {},
     "output_type": "execute_result"
    }
   ],
   "source": [
    "from immunova.data.fcs import FileGroup\n",
    "processed_so_far = FileGroup.objects()\n",
    "processed_so_far = [f.primary_id.replace('_m', '').replace('pd', '') for f in processed_so_far]\n",
    "processed_so_far"
   ]
  },
  {
   "cell_type": "code",
   "execution_count": 40,
   "metadata": {},
   "outputs": [],
   "source": [
    "remaining = [p for p in pdmc_sample_ids if p not in processed_so_far]"
   ]
  },
  {
   "cell_type": "code",
   "execution_count": 41,
   "metadata": {},
   "outputs": [
    {
     "data": {
      "application/vnd.jupyter.widget-view+json": {
       "model_id": "d0c2283b6d6d4b60864622745ca580fb",
       "version_major": 2,
       "version_minor": 0
      },
      "text/plain": [
       "HBox(children=(IntProgress(value=0, max=51), HTML(value='')))"
      ]
     },
     "metadata": {},
     "output_type": "display_data"
    },
    {
     "name": "stdout",
     "output_type": "stream",
     "text": [
      "Warning: not file found for CD1c control\n",
      "Warning: not file found for HLA-DR control\n",
      "Warning: multiple files found for CD1c control\n",
      "Warning: multiple files found for HLA-DR control\n",
      "Warning! Multiple non-control (primary) files found in directory. Check before proceeding.\n",
      "Warning: not file found for CD1c control\n",
      "Warning: not file found for HLA-DR control\n",
      "Warning: not file found for CD1c control\n",
      "Warning: not file found for HLA-DR control\n",
      "Single file found for 239-04\n",
      "Generating main file entry...\n",
      "Generating file entries for controls...\n",
      "Successfully created pd239-04_m and associated to PDMC_M\n",
      "Warning: not file found for CD1c control\n",
      "Warning: not file found for HLA-DR control\n",
      "Warning! Multiple non-control (primary) files found in directory. Check before proceeding.\n",
      "Generating main file entry...\n",
      "Generating file entries for controls...\n",
      "Successfully created pd251-07_m and associated to PDMC_M\n",
      "Warning: not file found for CD1c control\n",
      "Warning: not file found for HLA-DR control\n",
      "Warning! Multiple non-control (primary) files found in directory. Check before proceeding.\n",
      "Generating main file entry...\n",
      "Generating file entries for controls...\n",
      "Successfully created pd251-08_m and associated to PDMC_M\n",
      "Warning: not file found for CD1c control\n",
      "Warning: not file found for HLA-DR control\n",
      "Single file found for 254-04\n",
      "Generating main file entry...\n",
      "Generating file entries for controls...\n",
      "Successfully created pd254-04_m and associated to PDMC_M\n",
      "Warning: not file found for CD1c control\n",
      "Warning: not file found for HLA-DR control\n",
      "Single file found for 254-05\n",
      "Generating main file entry...\n",
      "Generating file entries for controls...\n",
      "Successfully created pd254-05_m and associated to PDMC_M\n",
      "Warning: not file found for CD1c control\n",
      "Warning: not file found for HLA-DR control\n",
      "Single file found for 255-04\n",
      "Generating main file entry...\n",
      "Generating file entries for controls...\n",
      "Successfully created pd255-04_m and associated to PDMC_M\n",
      "Warning: not file found for CD1c control\n",
      "Warning: not file found for HLA-DR control\n",
      "Single file found for 255-05\n",
      "Generating main file entry...\n",
      "Generating file entries for controls...\n",
      "Successfully created pd255-05_m and associated to PDMC_M\n",
      "Warning: not file found for CD1c control\n",
      "Warning: not file found for HLA-DR control\n",
      "Warning: not file found for CD1c control\n",
      "Warning: not file found for HLA-DR control\n",
      "Warning! Multiple non-control (primary) files found in directory. Check before proceeding.\n",
      "Generating main file entry...\n",
      "Generating file entries for controls...\n",
      "Successfully created pd264-02_m and associated to PDMC_M\n",
      "Warning: not file found for CD1c control\n",
      "Warning: not file found for HLA-DR control\n",
      "Single file found for 267-01\n",
      "Generating main file entry...\n",
      "Generating file entries for controls...\n",
      "Successfully created pd267-01_m and associated to PDMC_M\n",
      "Warning: not file found for CD1c control\n",
      "Warning: not file found for HLA-DR control\n",
      "Warning! Multiple non-control (primary) files found in directory. Check before proceeding.\n",
      "Generating main file entry...\n",
      "Generating file entries for controls...\n",
      "Successfully created pd267-02_m and associated to PDMC_M\n",
      "Warning: not file found for CD1c control\n",
      "Warning: not file found for HLA-DR control\n",
      "Single file found for 272-01\n",
      "Generating main file entry...\n",
      "Generating file entries for controls...\n",
      "Successfully created pd272-01_m and associated to PDMC_M\n",
      "Warning: not file found for CD1c control\n",
      "Warning: not file found for HLA-DR control\n",
      "Warning! Multiple non-control (primary) files found in directory. Check before proceeding.\n",
      "Generating main file entry...\n",
      "Generating file entries for controls...\n",
      "Successfully created pd273-01_m and associated to PDMC_M\n",
      "Warning: not file found for CD1c control\n",
      "Warning: not file found for HLA-DR control\n",
      "Warning! Multiple non-control (primary) files found in directory. Check before proceeding.\n",
      "Generating main file entry...\n",
      "WARNING: FSC-W,  pair not found!\n",
      "Generating file entries for controls...\n",
      "WARNING: FSC-W,  pair not found!\n",
      "WARNING: FSC-W,  pair not found!\n",
      "Successfully created pd276-01_m and associated to PDMC_M\n",
      "Warning: not file found for CD1c control\n",
      "Warning: not file found for HLA-DR control\n",
      "Warning! Multiple non-control (primary) files found in directory. Check before proceeding.\n",
      "Generating main file entry...\n",
      "Generating file entries for controls...\n",
      "Successfully created pd286-02_m and associated to PDMC_M\n",
      "Warning: not file found for CD1c control\n",
      "Warning: not file found for HLA-DR control\n",
      "Warning! Multiple non-control (primary) files found in directory. Check before proceeding.\n",
      "Generating main file entry...\n",
      "Generating file entries for controls...\n",
      "Successfully created pd286-03_m and associated to PDMC_M\n",
      "Warning: not file found for CD1c control\n",
      "Warning: not file found for HLA-DR control\n",
      "Single file found for 286-04\n",
      "Generating main file entry...\n",
      "Generating file entries for controls...\n",
      "Successfully created pd286-04_m and associated to PDMC_M\n",
      "Warning: not file found for CD1c control\n",
      "Warning: not file found for HLA-DR control\n",
      "Warning! Multiple non-control (primary) files found in directory. Check before proceeding.\n",
      "Generating main file entry...\n",
      "Generating file entries for controls...\n",
      "Successfully created pd288-02_m and associated to PDMC_M\n",
      "Warning: not file found for CD1c control\n",
      "Warning: not file found for HLA-DR control\n",
      "Warning: not file found for CD1c control\n",
      "Warning: not file found for HLA-DR control\n",
      "Warning: not file found for CD1c control\n",
      "Warning: not file found for HLA-DR control\n",
      "Single file found for 294-03\n",
      "Generating main file entry...\n",
      "Generating file entries for controls...\n",
      "Successfully created pd294-03_m and associated to PDMC_M\n",
      "Warning: not file found for CD1c control\n",
      "Warning: not file found for HLA-DR control\n",
      "Warning! Multiple non-control (primary) files found in directory. Check before proceeding.\n",
      "Generating main file entry...\n",
      "Generating file entries for controls...\n",
      "Successfully created pd302-01_m and associated to PDMC_M\n",
      "Warning: not file found for CD1c control\n",
      "Warning: not file found for HLA-DR control\n",
      "Warning! Multiple non-control (primary) files found in directory. Check before proceeding.\n",
      "Generating main file entry...\n",
      "WARNING: FSC-W,  pair not found!\n",
      "Generating file entries for controls...\n",
      "WARNING: FSC-W,  pair not found!\n",
      "WARNING: FSC-W,  pair not found!\n",
      "Successfully created pd305-01_m and associated to PDMC_M\n",
      "Warning: not file found for CD1c control\n",
      "Warning: not file found for HLA-DR control\n",
      "Warning! Multiple non-control (primary) files found in directory. Check before proceeding.\n",
      "Generating main file entry...\n",
      "Generating file entries for controls...\n",
      "Successfully created pd305-02_m and associated to PDMC_M\n",
      "Warning: not file found for CD1c control\n",
      "Warning: not file found for HLA-DR control\n",
      "Single file found for 305-03\n",
      "Generating main file entry...\n",
      "Generating file entries for controls...\n",
      "Successfully created pd305-03_m and associated to PDMC_M\n",
      "Warning: not file found for CD1c control\n",
      "Warning: not file found for HLA-DR control\n",
      "Warning! Multiple non-control (primary) files found in directory. Check before proceeding.\n",
      "Generating main file entry...\n",
      "Generating file entries for controls...\n",
      "Successfully created pd306-01_m and associated to PDMC_M\n",
      "Warning: not file found for CD1c control\n",
      "Warning: not file found for HLA-DR control\n",
      "Single file found for 307-01\n",
      "Generating main file entry...\n",
      "Generating file entries for controls...\n",
      "Successfully created pd307-01_m and associated to PDMC_M\n",
      "Warning: not file found for CD1c control\n",
      "Warning: not file found for HLA-DR control\n",
      "Single file found for 308-01\n",
      "Generating main file entry...\n",
      "Generating file entries for controls...\n",
      "Successfully created pd308-01_m and associated to PDMC_M\n",
      "Warning: not file found for CD1c control\n",
      "Warning: not file found for HLA-DR control\n",
      "Warning! Multiple non-control (primary) files found in directory. Check before proceeding.\n",
      "Generating main file entry...\n",
      "Generating file entries for controls...\n",
      "Successfully created pd308-02R_m and associated to PDMC_M\n",
      "Warning: not file found for CD1c control\n",
      "Warning: not file found for HLA-DR control\n",
      "Warning! Multiple non-control (primary) files found in directory. Check before proceeding.\n",
      "Generating main file entry...\n",
      "Generating file entries for controls...\n",
      "Successfully created pd308-03R_m and associated to PDMC_M\n",
      "Warning: not file found for CD1c control\n",
      "Warning: not file found for HLA-DR control\n",
      "Warning: not file found for CD1c control\n",
      "Warning: not file found for HLA-DR control\n",
      "Warning! Multiple non-control (primary) files found in directory. Check before proceeding.\n",
      "Generating main file entry...\n",
      "Generating file entries for controls...\n",
      "Successfully created pd310-01_m and associated to PDMC_M\n",
      "Warning: not file found for CD1c control\n",
      "Warning: not file found for HLA-DR control\n",
      "Warning! Multiple non-control (primary) files found in directory. Check before proceeding.\n",
      "Generating main file entry...\n",
      "Generating file entries for controls...\n",
      "Successfully created pd315-01_m and associated to PDMC_M\n",
      "Warning: not file found for CD1c control\n",
      "Warning: not file found for HLA-DR control\n",
      "Warning! Multiple non-control (primary) files found in directory. Check before proceeding.\n",
      "Generating main file entry...\n",
      "Generating file entries for controls...\n",
      "Successfully created pd315-02_m and associated to PDMC_M\n",
      "Warning: not file found for CD1c control\n",
      "Warning: not file found for HLA-DR control\n",
      "Warning! Multiple non-control (primary) files found in directory. Check before proceeding.\n",
      "Generating main file entry...\n",
      "Generating file entries for controls...\n",
      "Successfully created pd316-01_m and associated to PDMC_M\n",
      "Warning: not file found for CD1c control\n",
      "Warning: not file found for HLA-DR control\n",
      "Single file found for 318-01\n",
      "Generating main file entry...\n",
      "Generating file entries for controls...\n",
      "Successfully created pd318-01_m and associated to PDMC_M\n",
      "Warning: not file found for CD1c control\n",
      "Warning: not file found for HLA-DR control\n",
      "Warning: not file found for CD1c control\n",
      "Warning: not file found for HLA-DR control\n",
      "Warning: not file found for CD1c control\n",
      "Warning: not file found for HLA-DR control\n",
      "Warning: not file found for CD1c control\n",
      "Warning: not file found for HLA-DR control\n",
      "Warning! Multiple non-control (primary) files found in directory. Check before proceeding.\n",
      "Generating main file entry...\n",
      "Generating file entries for controls...\n",
      "Successfully created pd323-01_m and associated to PDMC_M\n",
      "Warning: not file found for CD1c control\n",
      "Warning: not file found for HLA-DR control\n",
      "Warning: not file found for CD1c control\n",
      "Warning: not file found for HLA-DR control\n",
      "Warning: not file found for CD1c control\n",
      "Warning: not file found for HLA-DR control\n",
      "\n"
     ]
    }
   ],
   "source": [
    "# Add some convenience variables/partialised func\n",
    "root = f'{root_drive}/Raya PD Samples/ds_friendly/PDMC'\n",
    "get_fp = partial(get_fcs_file_paths, control_names=['CD1c', 'HLA-DR'], ctrl_id='FMO')\n",
    "no_files = []\n",
    "errors = []\n",
    "\n",
    "for pt_id in tqdm_notebook(remaining):\n",
    "    file_paths = get_fp(f'{root}/{pt_id}/m_panel')\n",
    "    if not file_paths['controls']:\n",
    "        if not file_paths['primary']:\n",
    "            no_files.append(pt_id)\n",
    "            continue\n",
    "        if len(file_paths['primary']) == 1:\n",
    "            print(f'Single file found for {pt_id}')\n",
    "            primary = file_paths['primary'][0]\n",
    "            controls = []\n",
    "            pdmc_m.add_new_sample(sample_id=f'pd{pt_id}_m', \n",
    "                                  controls=controls, \n",
    "                                  file_path=primary)\n",
    "        else:\n",
    "            primary = []\n",
    "            controls = []\n",
    "            for f in file_paths['primary']:\n",
    "                if f.find('N2') != -1:\n",
    "                    controls.append(dict(control_id='CD1c', path=f))\n",
    "                if f.find('N3') != -1:\n",
    "                    controls.append(dict(control_id='HLA-DR', path=f))\n",
    "                if f.find('N1') != -1:\n",
    "                    primary.append(f)\n",
    "            if len(primary) > 1:\n",
    "                errors.append(pt_id)\n",
    "                continue\n",
    "            if len(controls) > 2:\n",
    "                errors.append(pt_id)\n",
    "                continue\n",
    "            primary = primary[0]\n",
    "            pdmc_m.add_new_sample(sample_id=f'pd{pt_id}_m', \n",
    "                      controls=controls, \n",
    "                      file_path=primary)\n",
    "    else:\n",
    "        if not file_paths['primary']:\n",
    "            errors.append(pt_id)\n",
    "            continue\n",
    "        if len(file_paths['primary'])>1:\n",
    "            errors.append(pt_id)\n",
    "            continue\n",
    "        if len(file_paths['controls'])>3:\n",
    "            errors.append(pt_id)\n",
    "            continue\n",
    "        if len(file_paths['primary']) == 1 and len(file_paths['controls']) == 3:\n",
    "            primary = file_paths['primary'][0]\n",
    "            controls = file_paths['controls']\n",
    "            pdmc_m.add_new_sample(sample_id=f'pd{pt_id}_m', \n",
    "                                  controls=controls, \n",
    "                                  file_path=primary)"
   ]
  },
  {
   "cell_type": "code",
   "execution_count": 42,
   "metadata": {},
   "outputs": [
    {
     "data": {
      "text/plain": [
       "['175-09',\n",
       " '229-02',\n",
       " '262-01',\n",
       " '289-01',\n",
       " '294-01',\n",
       " '308-04',\n",
       " '320-01',\n",
       " '321-01',\n",
       " '322-01',\n",
       " '323-02',\n",
       " '324-01',\n",
       " '326-01']"
      ]
     },
     "execution_count": 42,
     "metadata": {},
     "output_type": "execute_result"
    }
   ],
   "source": [
    "no_files"
   ]
  },
  {
   "cell_type": "code",
   "execution_count": 43,
   "metadata": {},
   "outputs": [
    {
     "data": {
      "text/plain": [
       "['210-12']"
      ]
     },
     "execution_count": 43,
     "metadata": {},
     "output_type": "execute_result"
    }
   ],
   "source": [
    "errors"
   ]
  },
  {
   "cell_type": "markdown",
   "metadata": {},
   "source": [
    "210-12 has duplicate files. It has also been flagged as unusable in manual gating so I will ignore it."
   ]
  },
  {
   "cell_type": "markdown",
   "metadata": {},
   "source": [
    "<h3>Add PDMC files (T cell panel)</h3>"
   ]
  },
  {
   "cell_type": "code",
   "execution_count": 44,
   "metadata": {},
   "outputs": [],
   "source": [
    "root = f'{root_drive}/Raya PD Samples/ds_friendly/PDMC'\n",
    "get_fp = partial(get_fcs_file_paths, control_names=['CXCR3', 'CD27', 'CD45RA',\n",
    "                                                   'CCR7'], ctrl_id='FMO')"
   ]
  },
  {
   "cell_type": "code",
   "execution_count": 45,
   "metadata": {},
   "outputs": [
    {
     "data": {
      "application/vnd.jupyter.widget-view+json": {
       "model_id": "3841119b54ac4c189bb2cd3c98f47198",
       "version_major": 2,
       "version_minor": 0
      },
      "text/plain": [
       "HBox(children=(IntProgress(value=0, max=56), HTML(value='')))"
      ]
     },
     "metadata": {},
     "output_type": "display_data"
    },
    {
     "name": "stdout",
     "output_type": "stream",
     "text": [
      "Warning: not file found for CD27 control\n",
      "Warning: multiple files found for CCR7 control\n",
      "Warning! Multiple non-control (primary) files found in directory. Check before proceeding.\n",
      "Warning: not file found for CXCR3 control\n",
      "Warning: not file found for CD27 control\n",
      "Warning: not file found for CD45RA control\n",
      "Warning: not file found for CCR7 control\n",
      "Single file found for 175-09\n",
      "Generating main file entry...\n",
      "Generating file entries for controls...\n",
      "Successfully created pd175-09_t and associated to PDMC_T\n",
      "Warning: multiple files found for CXCR3 control\n",
      "Warning: multiple files found for CD27 control\n",
      "Warning: multiple files found for CD45RA control\n",
      "Warning: multiple files found for CCR7 control\n",
      "Warning! Multiple non-control (primary) files found in directory. Check before proceeding.\n",
      "Warning: not file found for CXCR3 control\n",
      "Warning: not file found for CD27 control\n",
      "Warning: not file found for CD45RA control\n",
      "Warning: not file found for CCR7 control\n",
      "Single file found for 209-05\n",
      "Generating main file entry...\n",
      "WARNING: Alexa Fluor 405-A, CCR7 pair not found!\n",
      "WARNING: PE-Cy7-A, CD27 pair not found!\n",
      "Generating file entries for controls...\n",
      "Successfully created pd209-05_t and associated to PDMC_T\n",
      "Warning: not file found for CXCR3 control\n",
      "Warning: not file found for CD27 control\n",
      "Warning: not file found for CD45RA control\n",
      "Warning: not file found for CCR7 control\n",
      "Warning! Multiple non-control (primary) files found in directory. Check before proceeding.\n",
      "Warning: not file found for CXCR3 control\n",
      "Warning: not file found for CD27 control\n",
      "Warning: not file found for CD45RA control\n",
      "Warning: not file found for CCR7 control\n",
      "Warning! Multiple non-control (primary) files found in directory. Check before proceeding.\n",
      "Warning: not file found for CXCR3 control\n",
      "Warning: not file found for CD27 control\n",
      "Warning: not file found for CD45RA control\n",
      "Warning: not file found for CCR7 control\n",
      "Warning: not file found for CXCR3 control\n",
      "Warning: not file found for CD27 control\n",
      "Warning: not file found for CD45RA control\n",
      "Warning: not file found for CCR7 control\n",
      "Warning! Multiple non-control (primary) files found in directory. Check before proceeding.\n",
      "Warning: not file found for CXCR3 control\n",
      "Warning: not file found for CD27 control\n",
      "Warning: not file found for CD45RA control\n",
      "Warning: not file found for CCR7 control\n",
      "Single file found for 239-02\n",
      "Generating main file entry...\n",
      "Generating file entries for controls...\n",
      "Successfully created pd239-02_t and associated to PDMC_T\n",
      "Warning: not file found for CXCR3 control\n",
      "Warning: not file found for CD27 control\n",
      "Warning: not file found for CD45RA control\n",
      "Warning: not file found for CCR7 control\n",
      "Single file found for 239-04\n",
      "Generating main file entry...\n",
      "Generating file entries for controls...\n",
      "Successfully created pd239-04_t and associated to PDMC_T\n",
      "Generating main file entry...\n",
      "Generating file entries for controls...\n",
      "Successfully created pd251-07_t and associated to PDMC_T\n",
      "Generating main file entry...\n",
      "Generating file entries for controls...\n",
      "WARNING: FSC-W,  pair not found!\n",
      "WARNING: FSC-W,  pair not found!\n",
      "WARNING: FSC-W,  pair not found!\n",
      "WARNING: FSC-W,  pair not found!\n",
      "Successfully created pd251-08_t and associated to PDMC_T\n",
      "Warning: not file found for CXCR3 control\n",
      "Warning: not file found for CD27 control\n",
      "Warning: not file found for CD45RA control\n",
      "Warning: not file found for CCR7 control\n",
      "Single file found for 254-04\n",
      "Generating main file entry...\n",
      "Generating file entries for controls...\n",
      "Successfully created pd254-04_t and associated to PDMC_T\n",
      "Warning: not file found for CXCR3 control\n",
      "Warning: not file found for CD27 control\n",
      "Warning: not file found for CD45RA control\n",
      "Warning: not file found for CCR7 control\n",
      "Warning! Multiple non-control (primary) files found in directory. Check before proceeding.\n",
      "Warning: not file found for CXCR3 control\n",
      "Warning: not file found for CD27 control\n",
      "Warning: not file found for CD45RA control\n",
      "Warning: not file found for CCR7 control\n",
      "Single file found for 255-04\n",
      "Generating main file entry...\n",
      "Generating file entries for controls...\n",
      "Successfully created pd255-04_t and associated to PDMC_T\n",
      "Warning: not file found for CXCR3 control\n",
      "Warning: not file found for CD27 control\n",
      "Warning: not file found for CD45RA control\n",
      "Warning: not file found for CCR7 control\n",
      "Single file found for 255-05\n",
      "Generating main file entry...\n",
      "Generating file entries for controls...\n",
      "Successfully created pd255-05_t and associated to PDMC_T\n",
      "Warning: not file found for CXCR3 control\n",
      "Warning: not file found for CD27 control\n",
      "Warning: not file found for CD45RA control\n",
      "Warning: not file found for CCR7 control\n",
      "Warning: not file found for CXCR3 control\n",
      "Warning: not file found for CD27 control\n",
      "Warning: not file found for CD45RA control\n",
      "Warning: not file found for CCR7 control\n",
      "Warning! Multiple non-control (primary) files found in directory. Check before proceeding.\n",
      "Warning: not file found for CXCR3 control\n",
      "Warning: not file found for CD27 control\n",
      "Warning: not file found for CD45RA control\n",
      "Warning: not file found for CCR7 control\n",
      "Single file found for 267-01\n",
      "Generating main file entry...\n",
      "Generating file entries for controls...\n",
      "Successfully created pd267-01_t and associated to PDMC_T\n",
      "Warning: not file found for CXCR3 control\n",
      "Warning: not file found for CD27 control\n",
      "Warning: not file found for CD45RA control\n",
      "Warning: not file found for CCR7 control\n",
      "Warning! Multiple non-control (primary) files found in directory. Check before proceeding.\n",
      "Warning: not file found for CXCR3 control\n",
      "Warning: not file found for CD27 control\n",
      "Warning: not file found for CD45RA control\n",
      "Warning: not file found for CCR7 control\n",
      "Single file found for 272-01\n",
      "Generating main file entry...\n",
      "Generating file entries for controls...\n",
      "Successfully created pd272-01_t and associated to PDMC_T\n",
      "Warning: not file found for CXCR3 control\n",
      "Warning: not file found for CD27 control\n",
      "Warning: not file found for CD45RA control\n",
      "Warning: not file found for CCR7 control\n",
      "Warning! Multiple non-control (primary) files found in directory. Check before proceeding.\n",
      "Warning: not file found for CXCR3 control\n",
      "Warning: not file found for CD27 control\n",
      "Warning: not file found for CD45RA control\n",
      "Warning: not file found for CCR7 control\n",
      "Warning! Multiple non-control (primary) files found in directory. Check before proceeding.\n",
      "Generating main file entry...\n",
      "Generating file entries for controls...\n",
      "Successfully created pd279-03_t and associated to PDMC_T\n",
      "Generating main file entry...\n",
      "Generating file entries for controls...\n",
      "WARNING: FSC-W,  pair not found!\n",
      "WARNING: FSC-W,  pair not found!\n",
      "WARNING: FSC-W,  pair not found!\n",
      "WARNING: FSC-W,  pair not found!\n",
      "Successfully created pd286-02_t and associated to PDMC_T\n",
      "Warning: not file found for CXCR3 control\n",
      "Warning: not file found for CD27 control\n",
      "Warning: not file found for CD45RA control\n",
      "Warning: not file found for CCR7 control\n",
      "Warning! Multiple non-control (primary) files found in directory. Check before proceeding.\n",
      "Warning: not file found for CXCR3 control\n",
      "Warning: not file found for CD27 control\n",
      "Warning: not file found for CD45RA control\n",
      "Warning: not file found for CCR7 control\n",
      "Single file found for 286-04\n",
      "Generating main file entry...\n",
      "Generating file entries for controls...\n",
      "Successfully created pd286-04_t and associated to PDMC_T\n",
      "Warning: not file found for CXCR3 control\n",
      "Warning: not file found for CD27 control\n",
      "Warning: not file found for CD45RA control\n",
      "Warning: not file found for CCR7 control\n",
      "Warning! Multiple non-control (primary) files found in directory. Check before proceeding.\n",
      "Warning: not file found for CXCR3 control\n",
      "Warning: not file found for CD27 control\n",
      "Warning: not file found for CD45RA control\n",
      "Warning: not file found for CCR7 control\n",
      "Generating main file entry...\n",
      "WARNING: FSC-W,  pair not found!\n",
      "WARNING: SSC-H,  pair not found!\n",
      "WARNING: Alexa Fluor 405-A, CCR7 pair not found!\n",
      "WARNING: PE-Cy7-A, CD27 pair not found!\n",
      "Generating file entries for controls...\n",
      "WARNING: FSC-W,  pair not found!\n",
      "WARNING: SSC-H,  pair not found!\n",
      "WARNING: Alexa Fluor 405-A, CCR7 pair not found!\n",
      "WARNING: PE-Cy7-A, CD27 pair not found!\n",
      "WARNING: FSC-W,  pair not found!\n",
      "WARNING: SSC-H,  pair not found!\n",
      "WARNING: Alexa Fluor 405-A, CCR7 pair not found!\n",
      "WARNING: PE-Cy7-A, CD27 pair not found!\n",
      "WARNING: FSC-W,  pair not found!\n",
      "WARNING: SSC-H,  pair not found!\n",
      "WARNING: Alexa Fluor 405-A, CCR7 pair not found!\n",
      "WARNING: PE-Cy7-A, CD27 pair not found!\n",
      "WARNING: FSC-W,  pair not found!\n",
      "WARNING: SSC-H,  pair not found!\n",
      "WARNING: Alexa Fluor 405-A, CCR7 pair not found!\n",
      "WARNING: PE-Cy7-A, CD27 pair not found!\n",
      "Successfully created pd294-01_t and associated to PDMC_T\n",
      "Warning: not file found for CXCR3 control\n",
      "Warning: not file found for CD27 control\n",
      "Warning: not file found for CD45RA control\n",
      "Warning: not file found for CCR7 control\n",
      "Single file found for 294-02\n",
      "Generating main file entry...\n",
      "WARNING: FSC-W,  pair not found!\n",
      "WARNING: SSC-H,  pair not found!\n",
      "Generating file entries for controls...\n",
      "Successfully created pd294-02_t and associated to PDMC_T\n",
      "Warning: not file found for CXCR3 control\n",
      "Warning: not file found for CD27 control\n",
      "Warning: not file found for CD45RA control\n",
      "Warning: not file found for CCR7 control\n",
      "Single file found for 294-03\n",
      "Generating main file entry...\n",
      "Generating file entries for controls...\n",
      "Successfully created pd294-03_t and associated to PDMC_T\n",
      "Warning: multiple files found for CXCR3 control\n",
      "Warning: multiple files found for CD27 control\n",
      "Warning: multiple files found for CD45RA control\n",
      "Warning: multiple files found for CCR7 control\n",
      "Warning! Multiple non-control (primary) files found in directory. Check before proceeding.\n",
      "Generating main file entry...\n",
      "Generating file entries for controls...\n",
      "Successfully created pd298-01_t and associated to PDMC_T\n",
      "Warning: multiple files found for CXCR3 control\n",
      "Warning: multiple files found for CD27 control\n",
      "Warning: multiple files found for CD45RA control\n",
      "Warning: multiple files found for CCR7 control\n",
      "Warning! Multiple non-control (primary) files found in directory. Check before proceeding.\n",
      "Generating main file entry...\n",
      "WARNING: FSC-W,  pair not found!\n",
      "Generating file entries for controls...\n",
      "WARNING: FSC-W,  pair not found!\n",
      "WARNING: FSC-W,  pair not found!\n",
      "WARNING: FSC-W,  pair not found!\n",
      "WARNING: FSC-W,  pair not found!\n",
      "Successfully created pd305-01_t and associated to PDMC_T\n",
      "Warning: not file found for CD27 control\n",
      "Warning! Multiple non-control (primary) files found in directory. Check before proceeding.\n",
      "Warning: not file found for CXCR3 control\n",
      "Warning: not file found for CD27 control\n",
      "Warning: not file found for CD45RA control\n",
      "Warning: not file found for CCR7 control\n",
      "Single file found for 305-03\n",
      "Generating main file entry...\n",
      "Generating file entries for controls...\n",
      "Successfully created pd305-03_t and associated to PDMC_T\n",
      "Warning! Multiple non-control (primary) files found in directory. Check before proceeding.\n",
      "Warning: not file found for CXCR3 control\n",
      "Warning: not file found for CD27 control\n",
      "Warning: not file found for CD45RA control\n",
      "Warning: not file found for CCR7 control\n",
      "Single file found for 307-01\n",
      "Generating main file entry...\n",
      "Generating file entries for controls...\n",
      "Successfully created pd307-01_t and associated to PDMC_T\n",
      "Warning: not file found for CXCR3 control\n",
      "Warning: not file found for CD27 control\n",
      "Warning: not file found for CD45RA control\n",
      "Warning: not file found for CCR7 control\n",
      "Single file found for 308-01\n",
      "Generating main file entry...\n",
      "Generating file entries for controls...\n",
      "Successfully created pd308-01_t and associated to PDMC_T\n",
      "Generating main file entry...\n",
      "Generating file entries for controls...\n",
      "WARNING: FSC-W,  pair not found!\n",
      "WARNING: FSC-W,  pair not found!\n",
      "WARNING: FSC-W,  pair not found!\n",
      "WARNING: FSC-W,  pair not found!\n",
      "Successfully created pd308-02R_t and associated to PDMC_T\n",
      "Warning: not file found for CXCR3 control\n",
      "Warning: not file found for CD27 control\n",
      "Warning: not file found for CD45RA control\n",
      "Warning: not file found for CCR7 control\n",
      "Warning! Multiple non-control (primary) files found in directory. Check before proceeding.\n",
      "Warning: not file found for CXCR3 control\n",
      "Warning: not file found for CD27 control\n",
      "Warning: not file found for CD45RA control\n",
      "Warning: not file found for CCR7 control\n",
      "Single file found for 308-04\n",
      "Generating main file entry...\n",
      "Generating file entries for controls...\n",
      "Successfully created pd308-04_t and associated to PDMC_T\n",
      "Generating main file entry...\n",
      "Generating file entries for controls...\n",
      "Successfully created pd310-01_t and associated to PDMC_T\n",
      "Warning: not file found for CXCR3 control\n",
      "Warning: not file found for CD27 control\n",
      "Warning: not file found for CD45RA control\n",
      "Warning: not file found for CCR7 control\n",
      "Warning! Multiple non-control (primary) files found in directory. Check before proceeding.\n",
      "Warning: not file found for CXCR3 control\n",
      "Warning: not file found for CD27 control\n",
      "Warning: not file found for CD45RA control\n",
      "Warning: not file found for CCR7 control\n",
      "Warning! Multiple non-control (primary) files found in directory. Check before proceeding.\n",
      "Warning: not file found for CXCR3 control\n",
      "Warning! Multiple non-control (primary) files found in directory. Check before proceeding.\n",
      "Warning: not file found for CXCR3 control\n",
      "Warning: not file found for CD27 control\n",
      "Warning: not file found for CD45RA control\n",
      "Warning: not file found for CCR7 control\n",
      "Warning! Multiple non-control (primary) files found in directory. Check before proceeding.\n",
      "Warning: not file found for CXCR3 control\n",
      "Warning: not file found for CD27 control\n",
      "Warning: not file found for CD45RA control\n",
      "Warning: not file found for CCR7 control\n",
      "Warning! Multiple non-control (primary) files found in directory. Check before proceeding.\n",
      "Warning: not file found for CXCR3 control\n",
      "Warning: not file found for CD27 control\n",
      "Warning: not file found for CD45RA control\n",
      "Warning: not file found for CCR7 control\n",
      "Warning: not file found for CXCR3 control\n",
      "Warning: not file found for CD27 control\n",
      "Warning: not file found for CD45RA control\n",
      "Warning: not file found for CCR7 control\n",
      "Single file found for 322-01\n",
      "Generating main file entry...\n",
      "Generating file entries for controls...\n",
      "Successfully created pd322-01_t and associated to PDMC_T\n",
      "Warning! Multiple non-control (primary) files found in directory. Check before proceeding.\n",
      "Warning: not file found for CXCR3 control\n",
      "Warning: not file found for CD27 control\n",
      "Warning: not file found for CD45RA control\n",
      "Warning: not file found for CCR7 control\n",
      "Warning: not file found for CXCR3 control\n",
      "Warning: not file found for CD27 control\n",
      "Warning: not file found for CD45RA control\n",
      "Warning: not file found for CCR7 control\n",
      "Single file found for 324-01\n",
      "Generating main file entry...\n",
      "Generating file entries for controls...\n",
      "Successfully created pd324-01_t and associated to PDMC_T\n",
      "Warning: not file found for CXCR3 control\n",
      "Warning: not file found for CD27 control\n",
      "Warning: not file found for CD45RA control\n",
      "Warning: not file found for CCR7 control\n",
      "Single file found for 326-01\n",
      "Generating main file entry...\n",
      "Generating file entries for controls...\n",
      "Successfully created pd326-01_t and associated to PDMC_T\n",
      "\n"
     ]
    }
   ],
   "source": [
    "pdmc_t = FCSExperiment.objects(experiment_id='PDMC_T').get()\n",
    "no_files = []\n",
    "errors = []\n",
    "\n",
    "for pt_id in tqdm_notebook(pdmc_sample_ids):\n",
    "    file_paths = get_fp(f'{root}/{pt_id}/t_panel')\n",
    "    if not file_paths['controls']:\n",
    "        if not file_paths['primary']:\n",
    "            no_files.append(pt_id)\n",
    "            continue\n",
    "        if len(file_paths['primary']) == 1:\n",
    "            print(f'Single file found for {pt_id}')\n",
    "            primary = file_paths['primary'][0]\n",
    "            controls = []\n",
    "            pdmc_t.add_new_sample(sample_id=f'pd{pt_id}_t', \n",
    "                                  controls=controls, \n",
    "                                  file_path=primary)\n",
    "        else:\n",
    "            primary = []\n",
    "            controls = []\n",
    "            for f in file_paths['primary']:\n",
    "                if f.find('T2') != -1:\n",
    "                    controls.append(dict(control_id='CXCR3', path=f))\n",
    "                if f.find('T3') != -1:\n",
    "                    controls.append(dict(control_id='CD27', path=f))\n",
    "                if f.find('T4') != -1:\n",
    "                    controls.append(dict(control_id='CD45RA', path=f))\n",
    "                if f.find('T5') != -1:\n",
    "                    controls.append(dict(control_id='CCR7', path=f))\n",
    "                if f.find('T1') != -1:\n",
    "                    primary.append(f)\n",
    "            if not primary:\n",
    "                errors.append(pt_id)\n",
    "                continue                \n",
    "            if len(primary) > 1:\n",
    "                errors.append(pt_id)\n",
    "                continue\n",
    "            if len(controls) > 2:\n",
    "                errors.append(pt_id)\n",
    "                continue\n",
    "            primary = primary[0]\n",
    "            pdmc_t.add_new_sample(sample_id=f'pd{pt_id}_t', \n",
    "                      controls=controls, \n",
    "                      file_path=primary)\n",
    "    else:\n",
    "        if not file_paths['primary']:\n",
    "            errors.append(pt_id)\n",
    "            continue\n",
    "        if len(file_paths['primary'])>1:\n",
    "            errors.append(pt_id)\n",
    "            continue\n",
    "        if len(file_paths['controls'])>4:\n",
    "            errors.append(pt_id)\n",
    "            continue\n",
    "        if len(file_paths['primary']) == 1 and len(file_paths['controls']) == 4:\n",
    "            primary = file_paths['primary'][0]\n",
    "            controls = file_paths['controls']\n",
    "            pdmc_t.add_new_sample(sample_id=f'pd{pt_id}_t', \n",
    "                                  controls=controls, \n",
    "                                  file_path=primary)"
   ]
  },
  {
   "cell_type": "code",
   "execution_count": 46,
   "metadata": {},
   "outputs": [
    {
     "data": {
      "text/plain": [
       "['142-09',\n",
       " '209-03',\n",
       " '210-12',\n",
       " '210-14',\n",
       " '237-06',\n",
       " '254-05',\n",
       " '264-02',\n",
       " '267-02',\n",
       " '273-01',\n",
       " '276-01',\n",
       " '286-03',\n",
       " '288-02',\n",
       " '295-01',\n",
       " '302-01',\n",
       " '305-02',\n",
       " '306-01',\n",
       " '308-03R',\n",
       " '315-01',\n",
       " '315-02',\n",
       " '316-01',\n",
       " '318-01',\n",
       " '320-01',\n",
       " '323-01']"
      ]
     },
     "execution_count": 46,
     "metadata": {},
     "output_type": "execute_result"
    }
   ],
   "source": [
    "errors"
   ]
  },
  {
   "cell_type": "markdown",
   "metadata": {},
   "source": [
    "Let's address the errors:\n",
    "\n",
    "* 142-09 - No T cells, ignore\n",
    "* 209-03 - No T cells, ignore\n",
    "* 210-12 - No T cells, ignore\n",
    "* 210-14 - unclear why this didn't load, will repeat\n",
    "* 237-06 - unclear why this didn't load, will repeat\n",
    "* 254-05 - files missing\n",
    "* 264-02 - unclear why this didn't load, will repeat\n",
    "* 267-02 - unclear why this didn't load, will repeat\n",
    "* 273-01 - unclear why this didn't load, will repeat\n",
    "* 276-01 - unclear why this didn't load, will repeat\n",
    "* 286-03 - unclear why this didn't load, will repeat\n",
    "* 288-02 - unclear why this didn't load, will repeat\n",
    "* 295-01 - Flow experiment failed, ignore\n",
    "* 302-01 - Done in duplicate; use 44-48\n",
    "* 305-02 - unclear why this didn't load, will repeat\n",
    "* 306-01 - Unstained file needs removing\n",
    "* 308-03R - unclear why this didn't load, will repeat\n",
    "* 315-01 - unclear why this didn't load, will repeat\n",
    "* 315-02 - unclear why this didn't load, will repeat\n",
    "* 316-01 - unclear why this didn't load, will repeat\n",
    "* 320-01 - unclear why this didn't load, will repeat\n",
    "* 323-01 - duplicate files, according to manual gating use 019-023\n",
    "\n",
    "In addition to the above, entrie for pd209-05_t and pd294-01_t encountered errors for mappings to CCR7 and CD27:\n",
    "* Alexa Fluor 405-A, CCR7\n",
    "* PE-Cy7-A, CD27"
   ]
  },
  {
   "cell_type": "code",
   "execution_count": 47,
   "metadata": {},
   "outputs": [],
   "source": [
    "#pd209-05_t and pd294-01_t\n",
    "fcs = FCSFile(f'{root}/209-05/t_panel/PD210-12-P PDMC 2 T Cells_T1 209-05stable Tpanel PDMC_019.fcs')"
   ]
  },
  {
   "cell_type": "code",
   "execution_count": 48,
   "metadata": {},
   "outputs": [
    {
     "data": {
      "text/plain": [
       "[{'channel': 'FSC-A', 'marker': ''},\n",
       " {'channel': 'FSC-H', 'marker': ''},\n",
       " {'channel': 'FSC-W', 'marker': ''},\n",
       " {'channel': 'SSC-A', 'marker': ''},\n",
       " {'channel': 'SSC-H', 'marker': ''},\n",
       " {'channel': 'SSC-W', 'marker': ''},\n",
       " {'channel': 'Alexa Fluor 488-A', 'marker': 'CXCR3 FITC'},\n",
       " {'channel': 'Alexa Fluor 647-A', 'marker': 'CD161 APC'},\n",
       " {'channel': 'APC-Cy7-A', 'marker': 'CD3 APCFire750'},\n",
       " {'channel': 'Alexa Fluor 405-A', 'marker': 'CD27 BV421'},\n",
       " {'channel': 'AmCyan-A', 'marker': 'CD14-19-LD'},\n",
       " {'channel': 'BV605-A', 'marker': 'Va7-2'},\n",
       " {'channel': 'BV711-A', 'marker': 'CD8'},\n",
       " {'channel': 'PE-A', 'marker': 'Vd2'},\n",
       " {'channel': 'PE-CF594-A', 'marker': 'CD45RA PE Dazz'},\n",
       " {'channel': '7-AAD-A', 'marker': 'Pan gd PECy5'},\n",
       " {'channel': 'PE-Cy5-5-A', 'marker': 'CD4'},\n",
       " {'channel': 'PE-Cy7-A', 'marker': 'CCR7 rat'},\n",
       " {'channel': 'Time', 'marker': ''}]"
      ]
     },
     "execution_count": 48,
     "metadata": {},
     "output_type": "execute_result"
    }
   ],
   "source": [
    "fcs.fluoro_mappings"
   ]
  },
  {
   "cell_type": "code",
   "execution_count": 49,
   "metadata": {},
   "outputs": [],
   "source": [
    "fcs = FCSFile(f'{root}/294-01/t_panel/Peri 294-01 PDMC 2 T Cells_T1_014.fcs')"
   ]
  },
  {
   "cell_type": "code",
   "execution_count": 50,
   "metadata": {},
   "outputs": [
    {
     "data": {
      "text/plain": [
       "[{'channel': 'FSC-A', 'marker': ''},\n",
       " {'channel': 'FSC-H', 'marker': ''},\n",
       " {'channel': 'SSC-A', 'marker': ''},\n",
       " {'channel': 'SSC-W', 'marker': ''},\n",
       " {'channel': 'Alexa Fluor 488-A', 'marker': 'CXCR3 FITC'},\n",
       " {'channel': 'Alexa Fluor 647-A', 'marker': 'CD161 APC'},\n",
       " {'channel': 'APC-Cy7-A', 'marker': 'CD3 APCFire750'},\n",
       " {'channel': 'Alexa Fluor 405-A', 'marker': 'CD27 BV421'},\n",
       " {'channel': 'AmCyan-A', 'marker': 'CD14-19-LD'},\n",
       " {'channel': 'BV605-A', 'marker': 'Va7-2'},\n",
       " {'channel': 'BV711-A', 'marker': 'CD8'},\n",
       " {'channel': 'PE-A', 'marker': 'Vd2'},\n",
       " {'channel': 'PE-CF594-A', 'marker': 'CD45RA PE Dazz'},\n",
       " {'channel': '7-AAD-A', 'marker': 'Pan gd PECy5'},\n",
       " {'channel': 'PE-Cy5-5-A', 'marker': 'CD4'},\n",
       " {'channel': 'PE-Cy7-A', 'marker': 'CCR7 rat'},\n",
       " {'channel': 'Time', 'marker': ''}]"
      ]
     },
     "execution_count": 50,
     "metadata": {},
     "output_type": "execute_result"
    }
   ],
   "source": [
    "fcs.fluoro_mappings"
   ]
  },
  {
   "cell_type": "markdown",
   "metadata": {},
   "source": [
    "The mappings are incorrect for these two files so I cannot trust them. I will remove them from the database."
   ]
  },
  {
   "cell_type": "code",
   "execution_count": 51,
   "metadata": {},
   "outputs": [],
   "source": [
    "pdmc_t = FCSExperiment.objects(experiment_id='PDMC_T').get()"
   ]
  },
  {
   "cell_type": "code",
   "execution_count": 52,
   "metadata": {},
   "outputs": [
    {
     "data": {
      "text/plain": [
       "True"
      ]
     },
     "execution_count": 52,
     "metadata": {},
     "output_type": "execute_result"
    }
   ],
   "source": [
    "pdmc_t.remove_file('pd209-05_t', delete=True)"
   ]
  },
  {
   "cell_type": "code",
   "execution_count": 53,
   "metadata": {},
   "outputs": [
    {
     "data": {
      "text/plain": [
       "True"
      ]
     },
     "execution_count": 53,
     "metadata": {},
     "output_type": "execute_result"
    }
   ],
   "source": [
    "pdmc_t.remove_file('pd294-01_t', delete=True)"
   ]
  },
  {
   "cell_type": "code",
   "execution_count": 54,
   "metadata": {},
   "outputs": [],
   "source": [
    "pdmc_t = FCSExperiment.objects(experiment_id='PDMC_T').get()\n",
    "root = f'{root_drive}/Raya PD Samples/ds_friendly/PDMC'\n",
    "get_fp = partial(get_fcs_file_paths, control_names=['CXCR3', 'CD25', 'CD45RA',\n",
    "                                                   'CCR7'], ctrl_id='FMO')\n",
    "def correct_contols(file_paths):\n",
    "    primary = []\n",
    "    controls = []\n",
    "    for f in file_paths['primary']:\n",
    "        if f.find('T2') != -1:\n",
    "            controls.append(dict(control_id='CXCR3', path=f))\n",
    "        if f.find('T3') != -1:\n",
    "            controls.append(dict(control_id='CD27', path=f))\n",
    "        if f.find('T4') != -1:\n",
    "            controls.append(dict(control_id='CD45RA', path=f))\n",
    "        if f.find('T5') != -1:\n",
    "            controls.append(dict(control_id='CCR7', path=f))\n",
    "        if f.find('T1') != -1:\n",
    "            primary.append(f)\n",
    "    return primary, controls"
   ]
  },
  {
   "cell_type": "code",
   "execution_count": 55,
   "metadata": {},
   "outputs": [
    {
     "name": "stdout",
     "output_type": "stream",
     "text": [
      "Warning: not file found for CXCR3 control\n",
      "Warning: not file found for CD25 control\n",
      "Warning: not file found for CD45RA control\n",
      "Warning: not file found for CCR7 control\n",
      "Warning! Multiple non-control (primary) files found in directory. Check before proceeding.\n"
     ]
    }
   ],
   "source": [
    "#pd210-14 T\n",
    "filepaths = get_fp(f'{root}/210-14/t_panel')"
   ]
  },
  {
   "cell_type": "code",
   "execution_count": 56,
   "metadata": {},
   "outputs": [
    {
     "data": {
      "text/plain": [
       "{'primary': ['/media/rossco/FCS_DATA/Raya PD Samples/ds_friendly/PDMC/210-14/t_panel/Peri 210-14 PDMC T1_034.fcs',\n",
       "  '/media/rossco/FCS_DATA/Raya PD Samples/ds_friendly/PDMC/210-14/t_panel/Peri 210-14 PDMC T2_035.fcs',\n",
       "  '/media/rossco/FCS_DATA/Raya PD Samples/ds_friendly/PDMC/210-14/t_panel/Peri 210-14 PDMC T3_036.fcs',\n",
       "  '/media/rossco/FCS_DATA/Raya PD Samples/ds_friendly/PDMC/210-14/t_panel/Peri 210-14 PDMC T4_037.fcs',\n",
       "  '/media/rossco/FCS_DATA/Raya PD Samples/ds_friendly/PDMC/210-14/t_panel/Peri 210-14 PDMC T5_038.fcs'],\n",
       " 'controls': []}"
      ]
     },
     "execution_count": 56,
     "metadata": {},
     "output_type": "execute_result"
    }
   ],
   "source": [
    "filepaths"
   ]
  },
  {
   "cell_type": "code",
   "execution_count": 57,
   "metadata": {},
   "outputs": [],
   "source": [
    "primary, controls = correct_contols(filepaths)"
   ]
  },
  {
   "cell_type": "code",
   "execution_count": 58,
   "metadata": {},
   "outputs": [
    {
     "data": {
      "text/plain": [
       "['/media/rossco/FCS_DATA/Raya PD Samples/ds_friendly/PDMC/210-14/t_panel/Peri 210-14 PDMC T1_034.fcs']"
      ]
     },
     "execution_count": 58,
     "metadata": {},
     "output_type": "execute_result"
    }
   ],
   "source": [
    "primary"
   ]
  },
  {
   "cell_type": "code",
   "execution_count": 59,
   "metadata": {},
   "outputs": [
    {
     "data": {
      "text/plain": [
       "[{'control_id': 'CXCR3',\n",
       "  'path': '/media/rossco/FCS_DATA/Raya PD Samples/ds_friendly/PDMC/210-14/t_panel/Peri 210-14 PDMC T2_035.fcs'},\n",
       " {'control_id': 'CD27',\n",
       "  'path': '/media/rossco/FCS_DATA/Raya PD Samples/ds_friendly/PDMC/210-14/t_panel/Peri 210-14 PDMC T3_036.fcs'},\n",
       " {'control_id': 'CD45RA',\n",
       "  'path': '/media/rossco/FCS_DATA/Raya PD Samples/ds_friendly/PDMC/210-14/t_panel/Peri 210-14 PDMC T4_037.fcs'},\n",
       " {'control_id': 'CCR7',\n",
       "  'path': '/media/rossco/FCS_DATA/Raya PD Samples/ds_friendly/PDMC/210-14/t_panel/Peri 210-14 PDMC T5_038.fcs'}]"
      ]
     },
     "execution_count": 59,
     "metadata": {},
     "output_type": "execute_result"
    }
   ],
   "source": [
    "controls"
   ]
  },
  {
   "cell_type": "code",
   "execution_count": 60,
   "metadata": {},
   "outputs": [
    {
     "name": "stdout",
     "output_type": "stream",
     "text": [
      "Generating main file entry...\n",
      "WARNING: FSC-W,  pair not found!\n",
      "Generating file entries for controls...\n",
      "WARNING: FSC-W,  pair not found!\n",
      "WARNING: FSC-W,  pair not found!\n",
      "WARNING: FSC-W,  pair not found!\n",
      "WARNING: FSC-W,  pair not found!\n",
      "Successfully created pd210-14_t and associated to PDMC_T\n"
     ]
    },
    {
     "data": {
      "text/plain": [
       "'5d850740975ee6db9454ab23'"
      ]
     },
     "execution_count": 60,
     "metadata": {},
     "output_type": "execute_result"
    }
   ],
   "source": [
    "pdmc_t.add_new_sample(sample_id=f'pd210-14_t', \n",
    "                      controls=controls, \n",
    "                      file_path=primary[0])"
   ]
  },
  {
   "cell_type": "code",
   "execution_count": 61,
   "metadata": {},
   "outputs": [
    {
     "name": "stdout",
     "output_type": "stream",
     "text": [
      "Warning: not file found for CXCR3 control\n",
      "Warning: not file found for CD25 control\n",
      "Warning: not file found for CD45RA control\n",
      "Warning: not file found for CCR7 control\n",
      "Warning! Multiple non-control (primary) files found in directory. Check before proceeding.\n"
     ]
    }
   ],
   "source": [
    "#237-06 T\n",
    "filepaths = get_fp(f'{root}/237-06/t_panel')"
   ]
  },
  {
   "cell_type": "code",
   "execution_count": 62,
   "metadata": {},
   "outputs": [
    {
     "data": {
      "text/plain": [
       "{'primary': ['/media/rossco/FCS_DATA/Raya PD Samples/ds_friendly/PDMC/237-06/t_panel/Peri 237-06 PDMC T1_001.fcs',\n",
       "  '/media/rossco/FCS_DATA/Raya PD Samples/ds_friendly/PDMC/237-06/t_panel/Peri 237-06 PDMC T2_002.fcs',\n",
       "  '/media/rossco/FCS_DATA/Raya PD Samples/ds_friendly/PDMC/237-06/t_panel/Peri 237-06 PDMC T3_003.fcs',\n",
       "  '/media/rossco/FCS_DATA/Raya PD Samples/ds_friendly/PDMC/237-06/t_panel/Peri 237-06 PDMC T4_004.fcs',\n",
       "  '/media/rossco/FCS_DATA/Raya PD Samples/ds_friendly/PDMC/237-06/t_panel/Peri 237-06 PDMC T5_005.fcs'],\n",
       " 'controls': []}"
      ]
     },
     "execution_count": 62,
     "metadata": {},
     "output_type": "execute_result"
    }
   ],
   "source": [
    "filepaths"
   ]
  },
  {
   "cell_type": "code",
   "execution_count": 63,
   "metadata": {},
   "outputs": [],
   "source": [
    "primary, controls = correct_contols(filepaths)"
   ]
  },
  {
   "cell_type": "code",
   "execution_count": 64,
   "metadata": {},
   "outputs": [
    {
     "data": {
      "text/plain": [
       "['/media/rossco/FCS_DATA/Raya PD Samples/ds_friendly/PDMC/237-06/t_panel/Peri 237-06 PDMC T1_001.fcs']"
      ]
     },
     "execution_count": 64,
     "metadata": {},
     "output_type": "execute_result"
    }
   ],
   "source": [
    "primary"
   ]
  },
  {
   "cell_type": "code",
   "execution_count": 65,
   "metadata": {},
   "outputs": [
    {
     "data": {
      "text/plain": [
       "[{'control_id': 'CXCR3',\n",
       "  'path': '/media/rossco/FCS_DATA/Raya PD Samples/ds_friendly/PDMC/237-06/t_panel/Peri 237-06 PDMC T2_002.fcs'},\n",
       " {'control_id': 'CD27',\n",
       "  'path': '/media/rossco/FCS_DATA/Raya PD Samples/ds_friendly/PDMC/237-06/t_panel/Peri 237-06 PDMC T3_003.fcs'},\n",
       " {'control_id': 'CD45RA',\n",
       "  'path': '/media/rossco/FCS_DATA/Raya PD Samples/ds_friendly/PDMC/237-06/t_panel/Peri 237-06 PDMC T4_004.fcs'},\n",
       " {'control_id': 'CCR7',\n",
       "  'path': '/media/rossco/FCS_DATA/Raya PD Samples/ds_friendly/PDMC/237-06/t_panel/Peri 237-06 PDMC T5_005.fcs'}]"
      ]
     },
     "execution_count": 65,
     "metadata": {},
     "output_type": "execute_result"
    }
   ],
   "source": [
    "controls"
   ]
  },
  {
   "cell_type": "code",
   "execution_count": 66,
   "metadata": {},
   "outputs": [
    {
     "name": "stdout",
     "output_type": "stream",
     "text": [
      "Generating main file entry...\n",
      "Generating file entries for controls...\n",
      "Successfully created pd237-06_t and associated to PDMC_T\n"
     ]
    },
    {
     "data": {
      "text/plain": [
       "'5d8507c0975ee6db9454ccde'"
      ]
     },
     "execution_count": 66,
     "metadata": {},
     "output_type": "execute_result"
    }
   ],
   "source": [
    "pdmc_t.add_new_sample(sample_id=f'pd237-06_t', \n",
    "                      controls=controls, \n",
    "                      file_path=primary[0])"
   ]
  },
  {
   "cell_type": "code",
   "execution_count": 67,
   "metadata": {},
   "outputs": [
    {
     "name": "stdout",
     "output_type": "stream",
     "text": [
      "Warning: not file found for CXCR3 control\n",
      "Warning: not file found for CD25 control\n",
      "Warning: not file found for CD45RA control\n",
      "Warning: not file found for CCR7 control\n",
      "Warning! Multiple non-control (primary) files found in directory. Check before proceeding.\n"
     ]
    }
   ],
   "source": [
    "#pd264-02 T\n",
    "filepaths = get_fp(f'{root}/264-02/t_panel')"
   ]
  },
  {
   "cell_type": "code",
   "execution_count": 68,
   "metadata": {},
   "outputs": [],
   "source": [
    "primary, controls = correct_contols(filepaths)"
   ]
  },
  {
   "cell_type": "code",
   "execution_count": 69,
   "metadata": {},
   "outputs": [
    {
     "data": {
      "text/plain": [
       "['/media/rossco/FCS_DATA/Raya PD Samples/ds_friendly/PDMC/264-02/t_panel/Stable 264-02 PDMC T1_026.fcs']"
      ]
     },
     "execution_count": 69,
     "metadata": {},
     "output_type": "execute_result"
    }
   ],
   "source": [
    "primary"
   ]
  },
  {
   "cell_type": "code",
   "execution_count": 70,
   "metadata": {},
   "outputs": [
    {
     "data": {
      "text/plain": [
       "[{'control_id': 'CXCR3',\n",
       "  'path': '/media/rossco/FCS_DATA/Raya PD Samples/ds_friendly/PDMC/264-02/t_panel/Stable 264-02 PDMC T2_027.fcs'},\n",
       " {'control_id': 'CD27',\n",
       "  'path': '/media/rossco/FCS_DATA/Raya PD Samples/ds_friendly/PDMC/264-02/t_panel/Stable 264-02 PDMC T3_028.fcs'},\n",
       " {'control_id': 'CD45RA',\n",
       "  'path': '/media/rossco/FCS_DATA/Raya PD Samples/ds_friendly/PDMC/264-02/t_panel/Stable 264-02 PDMC T4_029.fcs'},\n",
       " {'control_id': 'CCR7',\n",
       "  'path': '/media/rossco/FCS_DATA/Raya PD Samples/ds_friendly/PDMC/264-02/t_panel/Stable 264-02 PDMC T5_030.fcs'}]"
      ]
     },
     "execution_count": 70,
     "metadata": {},
     "output_type": "execute_result"
    }
   ],
   "source": [
    "controls"
   ]
  },
  {
   "cell_type": "code",
   "execution_count": 71,
   "metadata": {},
   "outputs": [
    {
     "name": "stdout",
     "output_type": "stream",
     "text": [
      "Generating main file entry...\n",
      "Generating file entries for controls...\n",
      "Successfully created pd264-02_t and associated to PDMC_T\n"
     ]
    },
    {
     "data": {
      "text/plain": [
       "'5d8507e1975ee6db9454d5ab'"
      ]
     },
     "execution_count": 71,
     "metadata": {},
     "output_type": "execute_result"
    }
   ],
   "source": [
    "pdmc_t.add_new_sample(sample_id=f'pd264-02_t', \n",
    "                      controls=controls, \n",
    "                      file_path=primary[0])"
   ]
  },
  {
   "cell_type": "code",
   "execution_count": 72,
   "metadata": {},
   "outputs": [
    {
     "name": "stdout",
     "output_type": "stream",
     "text": [
      "Warning: not file found for CXCR3 control\n",
      "Warning: not file found for CD25 control\n",
      "Warning: not file found for CD45RA control\n",
      "Warning: not file found for CCR7 control\n",
      "Warning! Multiple non-control (primary) files found in directory. Check before proceeding.\n"
     ]
    }
   ],
   "source": [
    "#pd267-02 T\n",
    "filepaths = get_fp(f'{root}/267-02/t_panel')"
   ]
  },
  {
   "cell_type": "code",
   "execution_count": 73,
   "metadata": {},
   "outputs": [],
   "source": [
    "primary, controls = correct_contols(filepaths)"
   ]
  },
  {
   "cell_type": "code",
   "execution_count": 74,
   "metadata": {},
   "outputs": [
    {
     "data": {
      "text/plain": [
       "['/media/rossco/FCS_DATA/Raya PD Samples/ds_friendly/PDMC/267-02/t_panel/267-02 Peri PDMC T1_027.fcs']"
      ]
     },
     "execution_count": 74,
     "metadata": {},
     "output_type": "execute_result"
    }
   ],
   "source": [
    "primary"
   ]
  },
  {
   "cell_type": "code",
   "execution_count": 75,
   "metadata": {},
   "outputs": [
    {
     "data": {
      "text/plain": [
       "[{'control_id': 'CXCR3',\n",
       "  'path': '/media/rossco/FCS_DATA/Raya PD Samples/ds_friendly/PDMC/267-02/t_panel/267-02 Peri PDMC T2_028.fcs'},\n",
       " {'control_id': 'CD27',\n",
       "  'path': '/media/rossco/FCS_DATA/Raya PD Samples/ds_friendly/PDMC/267-02/t_panel/267-02 Peri PDMC T3_029.fcs'},\n",
       " {'control_id': 'CD45RA',\n",
       "  'path': '/media/rossco/FCS_DATA/Raya PD Samples/ds_friendly/PDMC/267-02/t_panel/267-02 Peri PDMC T4_030.fcs'},\n",
       " {'control_id': 'CCR7',\n",
       "  'path': '/media/rossco/FCS_DATA/Raya PD Samples/ds_friendly/PDMC/267-02/t_panel/267-02 Peri PDMC T5_031.fcs'}]"
      ]
     },
     "execution_count": 75,
     "metadata": {},
     "output_type": "execute_result"
    }
   ],
   "source": [
    "controls"
   ]
  },
  {
   "cell_type": "code",
   "execution_count": 76,
   "metadata": {},
   "outputs": [
    {
     "name": "stdout",
     "output_type": "stream",
     "text": [
      "Generating main file entry...\n",
      "Generating file entries for controls...\n",
      "Successfully created pd267-02_t and associated to PDMC_T\n"
     ]
    },
    {
     "data": {
      "text/plain": [
       "'5d850825975ee6db9454e739'"
      ]
     },
     "execution_count": 76,
     "metadata": {},
     "output_type": "execute_result"
    }
   ],
   "source": [
    "pdmc_t.add_new_sample(sample_id=f'pd267-02_t', \n",
    "                      controls=controls, \n",
    "                      file_path=primary[0])"
   ]
  },
  {
   "cell_type": "code",
   "execution_count": 77,
   "metadata": {},
   "outputs": [
    {
     "name": "stdout",
     "output_type": "stream",
     "text": [
      "Warning: not file found for CXCR3 control\n",
      "Warning: not file found for CD25 control\n",
      "Warning: not file found for CD45RA control\n",
      "Warning: not file found for CCR7 control\n",
      "Warning! Multiple non-control (primary) files found in directory. Check before proceeding.\n"
     ]
    }
   ],
   "source": [
    "#pd273-01 T\n",
    "filepaths = get_fp(f'{root}/273-01/t_panel')"
   ]
  },
  {
   "cell_type": "code",
   "execution_count": 78,
   "metadata": {},
   "outputs": [],
   "source": [
    "primary, controls = correct_contols(filepaths)"
   ]
  },
  {
   "cell_type": "code",
   "execution_count": 79,
   "metadata": {},
   "outputs": [
    {
     "data": {
      "text/plain": [
       "['/media/rossco/FCS_DATA/Raya PD Samples/ds_friendly/PDMC/273-01/t_panel/Peri 273-01 PDMC T1_014.fcs']"
      ]
     },
     "execution_count": 79,
     "metadata": {},
     "output_type": "execute_result"
    }
   ],
   "source": [
    "primary"
   ]
  },
  {
   "cell_type": "code",
   "execution_count": 80,
   "metadata": {},
   "outputs": [
    {
     "data": {
      "text/plain": [
       "[{'control_id': 'CXCR3',\n",
       "  'path': '/media/rossco/FCS_DATA/Raya PD Samples/ds_friendly/PDMC/273-01/t_panel/Peri 273-01 PDMC T2_015.fcs'},\n",
       " {'control_id': 'CD27',\n",
       "  'path': '/media/rossco/FCS_DATA/Raya PD Samples/ds_friendly/PDMC/273-01/t_panel/Peri 273-01 PDMC T3_016.fcs'},\n",
       " {'control_id': 'CD45RA',\n",
       "  'path': '/media/rossco/FCS_DATA/Raya PD Samples/ds_friendly/PDMC/273-01/t_panel/Peri 273-01 PDMC T4_017.fcs'},\n",
       " {'control_id': 'CCR7',\n",
       "  'path': '/media/rossco/FCS_DATA/Raya PD Samples/ds_friendly/PDMC/273-01/t_panel/Peri 273-01 PDMC T5_018.fcs'}]"
      ]
     },
     "execution_count": 80,
     "metadata": {},
     "output_type": "execute_result"
    }
   ],
   "source": [
    "controls"
   ]
  },
  {
   "cell_type": "code",
   "execution_count": 81,
   "metadata": {},
   "outputs": [
    {
     "name": "stdout",
     "output_type": "stream",
     "text": [
      "Generating main file entry...\n",
      "Generating file entries for controls...\n",
      "Successfully created pd273-01_t and associated to PDMC_T\n"
     ]
    },
    {
     "data": {
      "text/plain": [
       "'5d8508e8975ee6db945519d8'"
      ]
     },
     "execution_count": 81,
     "metadata": {},
     "output_type": "execute_result"
    }
   ],
   "source": [
    "pdmc_t.add_new_sample(sample_id=f'pd273-01_t', \n",
    "                      controls=controls, \n",
    "                      file_path=primary[0])"
   ]
  },
  {
   "cell_type": "code",
   "execution_count": 82,
   "metadata": {},
   "outputs": [
    {
     "name": "stdout",
     "output_type": "stream",
     "text": [
      "Warning: not file found for CXCR3 control\n",
      "Warning: not file found for CD25 control\n",
      "Warning: not file found for CD45RA control\n",
      "Warning: not file found for CCR7 control\n",
      "Warning! Multiple non-control (primary) files found in directory. Check before proceeding.\n"
     ]
    }
   ],
   "source": [
    "#pd276-01 T\n",
    "filepaths = get_fp(f'{root}/276-01/t_panel')"
   ]
  },
  {
   "cell_type": "code",
   "execution_count": 83,
   "metadata": {},
   "outputs": [],
   "source": [
    "primary, controls = correct_contols(filepaths)"
   ]
  },
  {
   "cell_type": "code",
   "execution_count": 84,
   "metadata": {},
   "outputs": [
    {
     "data": {
      "text/plain": [
       "['/media/rossco/FCS_DATA/Raya PD Samples/ds_friendly/PDMC/276-01/t_panel/Peri 276-01 PDMC T1_024.fcs']"
      ]
     },
     "execution_count": 84,
     "metadata": {},
     "output_type": "execute_result"
    }
   ],
   "source": [
    "primary"
   ]
  },
  {
   "cell_type": "code",
   "execution_count": 85,
   "metadata": {},
   "outputs": [
    {
     "data": {
      "text/plain": [
       "[{'control_id': 'CXCR3',\n",
       "  'path': '/media/rossco/FCS_DATA/Raya PD Samples/ds_friendly/PDMC/276-01/t_panel/Peri 276-01 PDMC T2_025.fcs'},\n",
       " {'control_id': 'CD27',\n",
       "  'path': '/media/rossco/FCS_DATA/Raya PD Samples/ds_friendly/PDMC/276-01/t_panel/Peri 276-01 PDMC T3_026.fcs'},\n",
       " {'control_id': 'CD45RA',\n",
       "  'path': '/media/rossco/FCS_DATA/Raya PD Samples/ds_friendly/PDMC/276-01/t_panel/Peri 276-01 PDMC T4_027.fcs'},\n",
       " {'control_id': 'CCR7',\n",
       "  'path': '/media/rossco/FCS_DATA/Raya PD Samples/ds_friendly/PDMC/276-01/t_panel/Peri 276-01 PDMC T5_028.fcs'}]"
      ]
     },
     "execution_count": 85,
     "metadata": {},
     "output_type": "execute_result"
    }
   ],
   "source": [
    "controls"
   ]
  },
  {
   "cell_type": "code",
   "execution_count": 86,
   "metadata": {},
   "outputs": [
    {
     "name": "stdout",
     "output_type": "stream",
     "text": [
      "Generating main file entry...\n",
      "WARNING: FSC-W,  pair not found!\n",
      "Generating file entries for controls...\n",
      "WARNING: FSC-W,  pair not found!\n",
      "WARNING: FSC-W,  pair not found!\n",
      "WARNING: FSC-W,  pair not found!\n",
      "WARNING: FSC-W,  pair not found!\n",
      "Successfully created pd276-01_t and associated to PDMC_T\n"
     ]
    },
    {
     "data": {
      "text/plain": [
       "'5d85095d975ee6db9455396f'"
      ]
     },
     "execution_count": 86,
     "metadata": {},
     "output_type": "execute_result"
    }
   ],
   "source": [
    "pdmc_t.add_new_sample(sample_id=f'pd276-01_t', \n",
    "                      controls=controls, \n",
    "                      file_path=primary[0])"
   ]
  },
  {
   "cell_type": "code",
   "execution_count": 87,
   "metadata": {},
   "outputs": [
    {
     "name": "stdout",
     "output_type": "stream",
     "text": [
      "Warning: not file found for CXCR3 control\n",
      "Warning: not file found for CD25 control\n",
      "Warning: not file found for CD45RA control\n",
      "Warning: not file found for CCR7 control\n",
      "Warning! Multiple non-control (primary) files found in directory. Check before proceeding.\n"
     ]
    }
   ],
   "source": [
    "#pd286-03 T\n",
    "filepaths = get_fp(f'{root}/286-03/t_panel')"
   ]
  },
  {
   "cell_type": "code",
   "execution_count": 88,
   "metadata": {},
   "outputs": [],
   "source": [
    "primary, controls = correct_contols(filepaths)"
   ]
  },
  {
   "cell_type": "code",
   "execution_count": 89,
   "metadata": {},
   "outputs": [
    {
     "data": {
      "text/plain": [
       "['/media/rossco/FCS_DATA/Raya PD Samples/ds_friendly/PDMC/286-03/t_panel/286-03 Peri PDMC T1_014.fcs']"
      ]
     },
     "execution_count": 89,
     "metadata": {},
     "output_type": "execute_result"
    }
   ],
   "source": [
    "primary"
   ]
  },
  {
   "cell_type": "code",
   "execution_count": 90,
   "metadata": {},
   "outputs": [
    {
     "data": {
      "text/plain": [
       "[{'control_id': 'CXCR3',\n",
       "  'path': '/media/rossco/FCS_DATA/Raya PD Samples/ds_friendly/PDMC/286-03/t_panel/286-03 Peri PDMC T2_015.fcs'},\n",
       " {'control_id': 'CD27',\n",
       "  'path': '/media/rossco/FCS_DATA/Raya PD Samples/ds_friendly/PDMC/286-03/t_panel/286-03 Peri PDMC T3_016.fcs'},\n",
       " {'control_id': 'CD45RA',\n",
       "  'path': '/media/rossco/FCS_DATA/Raya PD Samples/ds_friendly/PDMC/286-03/t_panel/286-03 Peri PDMC T4_017.fcs'},\n",
       " {'control_id': 'CCR7',\n",
       "  'path': '/media/rossco/FCS_DATA/Raya PD Samples/ds_friendly/PDMC/286-03/t_panel/286-03 Peri PDMC T5_018.fcs'}]"
      ]
     },
     "execution_count": 90,
     "metadata": {},
     "output_type": "execute_result"
    }
   ],
   "source": [
    "controls"
   ]
  },
  {
   "cell_type": "code",
   "execution_count": 91,
   "metadata": {},
   "outputs": [
    {
     "name": "stdout",
     "output_type": "stream",
     "text": [
      "Generating main file entry...\n",
      "Generating file entries for controls...\n",
      "Successfully created pd286-03_t and associated to PDMC_T\n"
     ]
    },
    {
     "data": {
      "text/plain": [
       "'5d850993975ee6db945547f3'"
      ]
     },
     "execution_count": 91,
     "metadata": {},
     "output_type": "execute_result"
    }
   ],
   "source": [
    "pdmc_t.add_new_sample(sample_id=f'pd286-03_t', \n",
    "                      controls=controls, \n",
    "                      file_path=primary[0])"
   ]
  },
  {
   "cell_type": "code",
   "execution_count": 92,
   "metadata": {},
   "outputs": [
    {
     "name": "stdout",
     "output_type": "stream",
     "text": [
      "Warning: not file found for CXCR3 control\n",
      "Warning: not file found for CD25 control\n",
      "Warning: not file found for CD45RA control\n",
      "Warning: not file found for CCR7 control\n",
      "Warning! Multiple non-control (primary) files found in directory. Check before proceeding.\n"
     ]
    }
   ],
   "source": [
    "#pd288-02 T\n",
    "filepaths = get_fp(f'{root}/288-02/t_panel')"
   ]
  },
  {
   "cell_type": "code",
   "execution_count": 93,
   "metadata": {},
   "outputs": [],
   "source": [
    "primary, controls = correct_contols(filepaths)"
   ]
  },
  {
   "cell_type": "code",
   "execution_count": 94,
   "metadata": {},
   "outputs": [
    {
     "data": {
      "text/plain": [
       "['/media/rossco/FCS_DATA/Raya PD Samples/ds_friendly/PDMC/288-02/t_panel/Peri 288-02 Bag2 PDMC T1_006.fcs']"
      ]
     },
     "execution_count": 94,
     "metadata": {},
     "output_type": "execute_result"
    }
   ],
   "source": [
    "primary"
   ]
  },
  {
   "cell_type": "code",
   "execution_count": 95,
   "metadata": {},
   "outputs": [
    {
     "data": {
      "text/plain": [
       "[{'control_id': 'CXCR3',\n",
       "  'path': '/media/rossco/FCS_DATA/Raya PD Samples/ds_friendly/PDMC/288-02/t_panel/Peri 288-02 Bag2 PDMC T2_007.fcs'},\n",
       " {'control_id': 'CD27',\n",
       "  'path': '/media/rossco/FCS_DATA/Raya PD Samples/ds_friendly/PDMC/288-02/t_panel/Peri 288-02 Bag2 PDMC T3_008.fcs'},\n",
       " {'control_id': 'CD45RA',\n",
       "  'path': '/media/rossco/FCS_DATA/Raya PD Samples/ds_friendly/PDMC/288-02/t_panel/Peri 288-02 Bag2 PDMC T4_009.fcs'},\n",
       " {'control_id': 'CCR7',\n",
       "  'path': '/media/rossco/FCS_DATA/Raya PD Samples/ds_friendly/PDMC/288-02/t_panel/Peri 288-02 Bag2 PDMC T5_010.fcs'}]"
      ]
     },
     "execution_count": 95,
     "metadata": {},
     "output_type": "execute_result"
    }
   ],
   "source": [
    "controls"
   ]
  },
  {
   "cell_type": "code",
   "execution_count": 96,
   "metadata": {},
   "outputs": [
    {
     "name": "stdout",
     "output_type": "stream",
     "text": [
      "Generating main file entry...\n",
      "Generating file entries for controls...\n",
      "Successfully created pd288-02_t and associated to PDMC_T\n"
     ]
    },
    {
     "data": {
      "text/plain": [
       "'5d850a03975ee6db9455661f'"
      ]
     },
     "execution_count": 96,
     "metadata": {},
     "output_type": "execute_result"
    }
   ],
   "source": [
    "pdmc_t.add_new_sample(sample_id=f'pd288-02_t', \n",
    "                      controls=controls, \n",
    "                      file_path=primary[0])"
   ]
  },
  {
   "cell_type": "code",
   "execution_count": 97,
   "metadata": {},
   "outputs": [
    {
     "name": "stdout",
     "output_type": "stream",
     "text": [
      "Warning: multiple files found for CXCR3 control\n",
      "Warning: not file found for CD25 control\n",
      "Warning: multiple files found for CD45RA control\n",
      "Warning: multiple files found for CCR7 control\n",
      "Warning! Multiple non-control (primary) files found in directory. Check before proceeding.\n"
     ]
    }
   ],
   "source": [
    "#pd302-01 T\n",
    "filepaths = get_fp(f'{root}/302-01/t_panel')"
   ]
  },
  {
   "cell_type": "code",
   "execution_count": 98,
   "metadata": {},
   "outputs": [],
   "source": [
    "primary, controls = correct_contols(filepaths)"
   ]
  },
  {
   "cell_type": "code",
   "execution_count": 99,
   "metadata": {},
   "outputs": [
    {
     "data": {
      "text/plain": [
       "['/media/rossco/FCS_DATA/Raya PD Samples/ds_friendly/PDMC/302-01/t_panel/T Cell Panel_PD302-01-P PDMC T1_014.fcs',\n",
       " '/media/rossco/FCS_DATA/Raya PD Samples/ds_friendly/PDMC/302-01/t_panel/Peri 302-01 PDMC T1_044.fcs']"
      ]
     },
     "execution_count": 99,
     "metadata": {},
     "output_type": "execute_result"
    }
   ],
   "source": [
    "primary"
   ]
  },
  {
   "cell_type": "code",
   "execution_count": 100,
   "metadata": {},
   "outputs": [
    {
     "data": {
      "text/plain": [
       "[]"
      ]
     },
     "execution_count": 100,
     "metadata": {},
     "output_type": "execute_result"
    }
   ],
   "source": [
    "controls"
   ]
  },
  {
   "cell_type": "code",
   "execution_count": 101,
   "metadata": {},
   "outputs": [
    {
     "data": {
      "text/plain": [
       "{'primary': ['/media/rossco/FCS_DATA/Raya PD Samples/ds_friendly/PDMC/302-01/t_panel/T Cell Panel_PD302-01-P PDMC T1_014.fcs',\n",
       "  '/media/rossco/FCS_DATA/Raya PD Samples/ds_friendly/PDMC/302-01/t_panel/T Cell Panel_PD302-01-P PDMC Unstained_019.fcs',\n",
       "  '/media/rossco/FCS_DATA/Raya PD Samples/ds_friendly/PDMC/302-01/t_panel/Peri 302-01 PDMC T1_044.fcs'],\n",
       " 'controls': [{'control_id': 'CXCR3',\n",
       "   'path': ['/media/rossco/FCS_DATA/Raya PD Samples/ds_friendly/PDMC/302-01/t_panel/T Cell Panel_PD302-01-P PDMC T2 FMO CXCR3_015.fcs',\n",
       "    '/media/rossco/FCS_DATA/Raya PD Samples/ds_friendly/PDMC/302-01/t_panel/Peri 302-01 PDMC T2 FMO CXCR3_045.fcs']},\n",
       "  {'control_id': 'CD45RA',\n",
       "   'path': ['/media/rossco/FCS_DATA/Raya PD Samples/ds_friendly/PDMC/302-01/t_panel/T Cell Panel_PD302-01-P PDMC T4 FMO CD45RA_017.fcs',\n",
       "    '/media/rossco/FCS_DATA/Raya PD Samples/ds_friendly/PDMC/302-01/t_panel/Peri 302-01 PDMC T4 FMO CD45RA_047.fcs']},\n",
       "  {'control_id': 'CCR7',\n",
       "   'path': ['/media/rossco/FCS_DATA/Raya PD Samples/ds_friendly/PDMC/302-01/t_panel/T Cell Panel_PD302-01-P PDMC T3 FMO CCR7_016.fcs',\n",
       "    '/media/rossco/FCS_DATA/Raya PD Samples/ds_friendly/PDMC/302-01/t_panel/Peri 302-01 PDMC T3 FMO CCR7_046.fcs']}]}"
      ]
     },
     "execution_count": 101,
     "metadata": {},
     "output_type": "execute_result"
    }
   ],
   "source": [
    "filepaths"
   ]
  },
  {
   "cell_type": "code",
   "execution_count": 102,
   "metadata": {},
   "outputs": [],
   "source": [
    "primary = filepaths['primary'][2]"
   ]
  },
  {
   "cell_type": "code",
   "execution_count": 103,
   "metadata": {},
   "outputs": [
    {
     "data": {
      "text/plain": [
       "'/media/rossco/FCS_DATA/Raya PD Samples/ds_friendly/PDMC/302-01/t_panel/Peri 302-01 PDMC T1_044.fcs'"
      ]
     },
     "execution_count": 103,
     "metadata": {},
     "output_type": "execute_result"
    }
   ],
   "source": [
    "primary"
   ]
  },
  {
   "cell_type": "code",
   "execution_count": 104,
   "metadata": {},
   "outputs": [],
   "source": [
    "cxcr3 = [c for c in filepaths['controls'] if c['control_id'] == 'CXCR3']\n",
    "cd45ra = [c for c in filepaths['controls'] if c['control_id'] == 'CD45RA']\n",
    "ccr7 = [c for c in filepaths['controls'] if c['control_id'] == 'CCR7']"
   ]
  },
  {
   "cell_type": "code",
   "execution_count": 105,
   "metadata": {},
   "outputs": [],
   "source": [
    "def correction(d):\n",
    "    return dict(control_id=d[0]['control_id'], path=d[0]['path'][1])\n",
    "cxcr3 = correction(cxcr3)\n",
    "cd45ra = correction(cd45ra)\n",
    "ccr7 = correction(ccr7)"
   ]
  },
  {
   "cell_type": "code",
   "execution_count": 106,
   "metadata": {},
   "outputs": [
    {
     "data": {
      "text/plain": [
       "'/media/rossco/FCS_DATA/Raya PD Samples/ds_friendly/PDMC/302-01/t_panel/Peri 302-01 PDMC T1_044.fcs'"
      ]
     },
     "execution_count": 106,
     "metadata": {},
     "output_type": "execute_result"
    }
   ],
   "source": [
    "primary"
   ]
  },
  {
   "cell_type": "code",
   "execution_count": 107,
   "metadata": {},
   "outputs": [
    {
     "data": {
      "text/plain": [
       "[{'control_id': 'CXCR3',\n",
       "  'path': '/media/rossco/FCS_DATA/Raya PD Samples/ds_friendly/PDMC/302-01/t_panel/Peri 302-01 PDMC T2 FMO CXCR3_045.fcs'},\n",
       " {'control_id': 'CD45RA',\n",
       "  'path': '/media/rossco/FCS_DATA/Raya PD Samples/ds_friendly/PDMC/302-01/t_panel/Peri 302-01 PDMC T4 FMO CD45RA_047.fcs'},\n",
       " {'control_id': 'CCR7',\n",
       "  'path': '/media/rossco/FCS_DATA/Raya PD Samples/ds_friendly/PDMC/302-01/t_panel/Peri 302-01 PDMC T3 FMO CCR7_046.fcs'}]"
      ]
     },
     "execution_count": 107,
     "metadata": {},
     "output_type": "execute_result"
    }
   ],
   "source": [
    "controls = [cxcr3,cd45ra,ccr7]\n",
    "controls"
   ]
  },
  {
   "cell_type": "code",
   "execution_count": 108,
   "metadata": {},
   "outputs": [
    {
     "name": "stdout",
     "output_type": "stream",
     "text": [
      "Generating main file entry...\n",
      "Generating file entries for controls...\n",
      "Successfully created pd302-01_t and associated to PDMC_T\n"
     ]
    },
    {
     "data": {
      "text/plain": [
       "'5d850a13975ee6db94556a3a'"
      ]
     },
     "execution_count": 108,
     "metadata": {},
     "output_type": "execute_result"
    }
   ],
   "source": [
    "pdmc_t.add_new_sample(sample_id=f'pd302-01_t', \n",
    "                      controls=controls, \n",
    "                      file_path=primary)"
   ]
  },
  {
   "cell_type": "code",
   "execution_count": 109,
   "metadata": {},
   "outputs": [
    {
     "name": "stdout",
     "output_type": "stream",
     "text": [
      "Warning: not file found for CD25 control\n",
      "Warning! Multiple non-control (primary) files found in directory. Check before proceeding.\n"
     ]
    }
   ],
   "source": [
    "#pd305-02 T\n",
    "filepaths = get_fp(f'{root}/305-02/t_panel')"
   ]
  },
  {
   "cell_type": "code",
   "execution_count": 110,
   "metadata": {},
   "outputs": [],
   "source": [
    "primary, controls = correct_contols(filepaths)"
   ]
  },
  {
   "cell_type": "code",
   "execution_count": 111,
   "metadata": {},
   "outputs": [
    {
     "data": {
      "text/plain": [
       "['/media/rossco/FCS_DATA/Raya PD Samples/ds_friendly/PDMC/305-02/t_panel/305-02 Stable PDMC T1_030.fcs']"
      ]
     },
     "execution_count": 111,
     "metadata": {},
     "output_type": "execute_result"
    }
   ],
   "source": [
    "primary"
   ]
  },
  {
   "cell_type": "code",
   "execution_count": 112,
   "metadata": {},
   "outputs": [
    {
     "data": {
      "text/plain": [
       "[{'control_id': 'CCR7',\n",
       "  'path': '/media/rossco/FCS_DATA/Raya PD Samples/ds_friendly/PDMC/305-02/t_panel/305-02 Stable PDMC T5 CD27_034.fcs'}]"
      ]
     },
     "execution_count": 112,
     "metadata": {},
     "output_type": "execute_result"
    }
   ],
   "source": [
    "controls"
   ]
  },
  {
   "cell_type": "code",
   "execution_count": 113,
   "metadata": {},
   "outputs": [
    {
     "name": "stdout",
     "output_type": "stream",
     "text": [
      "Generating main file entry...\n",
      "Generating file entries for controls...\n",
      "Successfully created pd305-02_t and associated to PDMC_T\n"
     ]
    },
    {
     "data": {
      "text/plain": [
       "'5d850a21975ee6db94556e26'"
      ]
     },
     "execution_count": 113,
     "metadata": {},
     "output_type": "execute_result"
    }
   ],
   "source": [
    "pdmc_t.add_new_sample(sample_id=f'pd305-02_t', \n",
    "                      controls=controls, \n",
    "                      file_path=primary[0])"
   ]
  },
  {
   "cell_type": "code",
   "execution_count": 114,
   "metadata": {},
   "outputs": [
    {
     "name": "stdout",
     "output_type": "stream",
     "text": [
      "Warning: not file found for CXCR3 control\n",
      "Warning: not file found for CD25 control\n",
      "Warning: not file found for CD45RA control\n",
      "Warning: not file found for CCR7 control\n",
      "Warning! Multiple non-control (primary) files found in directory. Check before proceeding.\n"
     ]
    }
   ],
   "source": [
    "#pd308-03R T\n",
    "filepaths = get_fp(f'{root}/308-03R/t_panel')"
   ]
  },
  {
   "cell_type": "code",
   "execution_count": 115,
   "metadata": {},
   "outputs": [],
   "source": [
    "primary, controls = correct_contols(filepaths)"
   ]
  },
  {
   "cell_type": "code",
   "execution_count": 116,
   "metadata": {},
   "outputs": [
    {
     "data": {
      "text/plain": [
       "['/media/rossco/FCS_DATA/Raya PD Samples/ds_friendly/PDMC/308-03R/t_panel/308-03R Peri PDMC T1_032.fcs']"
      ]
     },
     "execution_count": 116,
     "metadata": {},
     "output_type": "execute_result"
    }
   ],
   "source": [
    "primary"
   ]
  },
  {
   "cell_type": "code",
   "execution_count": 117,
   "metadata": {},
   "outputs": [
    {
     "data": {
      "text/plain": [
       "[{'control_id': 'CXCR3',\n",
       "  'path': '/media/rossco/FCS_DATA/Raya PD Samples/ds_friendly/PDMC/308-03R/t_panel/308-03R Peri PDMC T2_033.fcs'},\n",
       " {'control_id': 'CD27',\n",
       "  'path': '/media/rossco/FCS_DATA/Raya PD Samples/ds_friendly/PDMC/308-03R/t_panel/308-03R Peri PDMC T3_034.fcs'},\n",
       " {'control_id': 'CD45RA',\n",
       "  'path': '/media/rossco/FCS_DATA/Raya PD Samples/ds_friendly/PDMC/308-03R/t_panel/308-03R Peri PDMC T4_036.fcs'},\n",
       " {'control_id': 'CCR7',\n",
       "  'path': '/media/rossco/FCS_DATA/Raya PD Samples/ds_friendly/PDMC/308-03R/t_panel/308-03R Peri PDMC T5_037.fcs'}]"
      ]
     },
     "execution_count": 117,
     "metadata": {},
     "output_type": "execute_result"
    }
   ],
   "source": [
    "controls"
   ]
  },
  {
   "cell_type": "code",
   "execution_count": 118,
   "metadata": {},
   "outputs": [
    {
     "name": "stdout",
     "output_type": "stream",
     "text": [
      "Generating main file entry...\n",
      "Generating file entries for controls...\n",
      "Successfully created pd308-03R_t and associated to PDMC_T\n"
     ]
    },
    {
     "data": {
      "text/plain": [
       "'5d850a66975ee6db945580c4'"
      ]
     },
     "execution_count": 118,
     "metadata": {},
     "output_type": "execute_result"
    }
   ],
   "source": [
    "pdmc_t.add_new_sample(sample_id=f'pd308-03R_t', \n",
    "                      controls=controls, \n",
    "                      file_path=primary[0])"
   ]
  },
  {
   "cell_type": "code",
   "execution_count": 119,
   "metadata": {},
   "outputs": [
    {
     "name": "stdout",
     "output_type": "stream",
     "text": [
      "Warning: not file found for CXCR3 control\n",
      "Warning: not file found for CD25 control\n",
      "Warning: not file found for CD45RA control\n",
      "Warning: not file found for CCR7 control\n",
      "Warning! Multiple non-control (primary) files found in directory. Check before proceeding.\n"
     ]
    }
   ],
   "source": [
    "#pd315-01 T\n",
    "filepaths = get_fp(f'{root}/315-01/t_panel')"
   ]
  },
  {
   "cell_type": "code",
   "execution_count": 120,
   "metadata": {},
   "outputs": [],
   "source": [
    "primary, controls = correct_contols(filepaths)"
   ]
  },
  {
   "cell_type": "code",
   "execution_count": 121,
   "metadata": {},
   "outputs": [
    {
     "data": {
      "text/plain": [
       "['/media/rossco/FCS_DATA/Raya PD Samples/ds_friendly/PDMC/315-01/t_panel/315-01 Peri PDMC T1_015.fcs']"
      ]
     },
     "execution_count": 121,
     "metadata": {},
     "output_type": "execute_result"
    }
   ],
   "source": [
    "primary"
   ]
  },
  {
   "cell_type": "code",
   "execution_count": 122,
   "metadata": {},
   "outputs": [
    {
     "data": {
      "text/plain": [
       "[{'control_id': 'CXCR3',\n",
       "  'path': '/media/rossco/FCS_DATA/Raya PD Samples/ds_friendly/PDMC/315-01/t_panel/315-01 Peri PDMC T2_016.fcs'},\n",
       " {'control_id': 'CD27',\n",
       "  'path': '/media/rossco/FCS_DATA/Raya PD Samples/ds_friendly/PDMC/315-01/t_panel/315-01 Peri PDMC T3_017.fcs'},\n",
       " {'control_id': 'CD45RA',\n",
       "  'path': '/media/rossco/FCS_DATA/Raya PD Samples/ds_friendly/PDMC/315-01/t_panel/315-01 Peri PDMC T4_018.fcs'},\n",
       " {'control_id': 'CCR7',\n",
       "  'path': '/media/rossco/FCS_DATA/Raya PD Samples/ds_friendly/PDMC/315-01/t_panel/315-01 Peri PDMC T5_019.fcs'}]"
      ]
     },
     "execution_count": 122,
     "metadata": {},
     "output_type": "execute_result"
    }
   ],
   "source": [
    "controls"
   ]
  },
  {
   "cell_type": "code",
   "execution_count": 123,
   "metadata": {},
   "outputs": [
    {
     "name": "stdout",
     "output_type": "stream",
     "text": [
      "Generating main file entry...\n",
      "Generating file entries for controls...\n",
      "Successfully created pd315-01_t and associated to PDMC_T\n"
     ]
    },
    {
     "data": {
      "text/plain": [
       "'5d850a86975ee6db94558986'"
      ]
     },
     "execution_count": 123,
     "metadata": {},
     "output_type": "execute_result"
    }
   ],
   "source": [
    "pdmc_t.add_new_sample(sample_id=f'pd315-01_t', \n",
    "                      controls=controls, \n",
    "                      file_path=primary[0])"
   ]
  },
  {
   "cell_type": "code",
   "execution_count": 124,
   "metadata": {},
   "outputs": [
    {
     "name": "stdout",
     "output_type": "stream",
     "text": [
      "Warning: not file found for CXCR3 control\n",
      "Warning: not file found for CD25 control\n",
      "Warning: not file found for CD45RA control\n",
      "Warning: not file found for CCR7 control\n",
      "Warning! Multiple non-control (primary) files found in directory. Check before proceeding.\n"
     ]
    }
   ],
   "source": [
    "#pd315-02 T\n",
    "filepaths = get_fp(f'{root}/315-02/t_panel')"
   ]
  },
  {
   "cell_type": "code",
   "execution_count": 125,
   "metadata": {},
   "outputs": [],
   "source": [
    "primary, controls = correct_contols(filepaths)"
   ]
  },
  {
   "cell_type": "code",
   "execution_count": 126,
   "metadata": {},
   "outputs": [
    {
     "data": {
      "text/plain": [
       "['/media/rossco/FCS_DATA/Raya PD Samples/ds_friendly/PDMC/315-02/t_panel/315-02 Stable PDMC T1_020.fcs']"
      ]
     },
     "execution_count": 126,
     "metadata": {},
     "output_type": "execute_result"
    }
   ],
   "source": [
    "primary"
   ]
  },
  {
   "cell_type": "code",
   "execution_count": 127,
   "metadata": {},
   "outputs": [
    {
     "data": {
      "text/plain": [
       "[{'control_id': 'CXCR3',\n",
       "  'path': '/media/rossco/FCS_DATA/Raya PD Samples/ds_friendly/PDMC/315-02/t_panel/315-02 Stable PDMC T2_021.fcs'},\n",
       " {'control_id': 'CD27',\n",
       "  'path': '/media/rossco/FCS_DATA/Raya PD Samples/ds_friendly/PDMC/315-02/t_panel/315-02 Stable PDMC T3_022.fcs'},\n",
       " {'control_id': 'CD45RA',\n",
       "  'path': '/media/rossco/FCS_DATA/Raya PD Samples/ds_friendly/PDMC/315-02/t_panel/315-02 Stable PDMC T4_023.fcs'},\n",
       " {'control_id': 'CCR7',\n",
       "  'path': '/media/rossco/FCS_DATA/Raya PD Samples/ds_friendly/PDMC/315-02/t_panel/315-02 Stable PDMC T5_024.fcs'}]"
      ]
     },
     "execution_count": 127,
     "metadata": {},
     "output_type": "execute_result"
    }
   ],
   "source": [
    "controls"
   ]
  },
  {
   "cell_type": "code",
   "execution_count": 128,
   "metadata": {},
   "outputs": [
    {
     "name": "stdout",
     "output_type": "stream",
     "text": [
      "Generating main file entry...\n",
      "Generating file entries for controls...\n",
      "Successfully created pd315-02_t and associated to PDMC_T\n"
     ]
    },
    {
     "data": {
      "text/plain": [
       "'5d850ac2975ee6db945599e4'"
      ]
     },
     "execution_count": 128,
     "metadata": {},
     "output_type": "execute_result"
    }
   ],
   "source": [
    "pdmc_t.add_new_sample(sample_id=f'pd315-02_t', \n",
    "                      controls=controls, \n",
    "                      file_path=primary[0])"
   ]
  },
  {
   "cell_type": "code",
   "execution_count": 129,
   "metadata": {},
   "outputs": [
    {
     "name": "stdout",
     "output_type": "stream",
     "text": [
      "Warning: not file found for CXCR3 control\n",
      "Warning: not file found for CD25 control\n",
      "Warning! Multiple non-control (primary) files found in directory. Check before proceeding.\n"
     ]
    }
   ],
   "source": [
    "#pd316-01 T\n",
    "filepaths = get_fp(f'{root}/316-01/t_panel')"
   ]
  },
  {
   "cell_type": "code",
   "execution_count": 130,
   "metadata": {},
   "outputs": [],
   "source": [
    "primary, controls = correct_contols(filepaths)"
   ]
  },
  {
   "cell_type": "code",
   "execution_count": 131,
   "metadata": {},
   "outputs": [
    {
     "data": {
      "text/plain": [
       "['/media/rossco/FCS_DATA/Raya PD Samples/ds_friendly/PDMC/316-01/t_panel/316-01 Peri  PDMC T1_021.fcs']"
      ]
     },
     "execution_count": 131,
     "metadata": {},
     "output_type": "execute_result"
    }
   ],
   "source": [
    "primary"
   ]
  },
  {
   "cell_type": "code",
   "execution_count": 132,
   "metadata": {},
   "outputs": [
    {
     "data": {
      "text/plain": [
       "[{'control_id': 'CXCR3',\n",
       "  'path': '/media/rossco/FCS_DATA/Raya PD Samples/ds_friendly/PDMC/316-01/t_panel/316-01 Peri  PDMC T2 CXCR3_022.fcs'}]"
      ]
     },
     "execution_count": 132,
     "metadata": {},
     "output_type": "execute_result"
    }
   ],
   "source": [
    "controls"
   ]
  },
  {
   "cell_type": "code",
   "execution_count": 133,
   "metadata": {},
   "outputs": [
    {
     "name": "stdout",
     "output_type": "stream",
     "text": [
      "Generating main file entry...\n",
      "Generating file entries for controls...\n",
      "Successfully created pd316-01_t and associated to PDMC_T\n"
     ]
    },
    {
     "data": {
      "text/plain": [
       "'5d850b28975ee6db9455b4c6'"
      ]
     },
     "execution_count": 133,
     "metadata": {},
     "output_type": "execute_result"
    }
   ],
   "source": [
    "pdmc_t.add_new_sample(sample_id=f'pd316-01_t', \n",
    "                      controls=controls, \n",
    "                      file_path=primary[0])"
   ]
  },
  {
   "cell_type": "code",
   "execution_count": 134,
   "metadata": {},
   "outputs": [
    {
     "name": "stdout",
     "output_type": "stream",
     "text": [
      "Warning: not file found for CXCR3 control\n",
      "Warning: not file found for CD25 control\n",
      "Warning: not file found for CD45RA control\n",
      "Warning: not file found for CCR7 control\n",
      "Warning! Multiple non-control (primary) files found in directory. Check before proceeding.\n"
     ]
    }
   ],
   "source": [
    "#pd320-01 T\n",
    "filepaths = get_fp(f'{root}/320-01/t_panel')"
   ]
  },
  {
   "cell_type": "code",
   "execution_count": 135,
   "metadata": {},
   "outputs": [],
   "source": [
    "primary, controls = correct_contols(filepaths)"
   ]
  },
  {
   "cell_type": "code",
   "execution_count": 136,
   "metadata": {},
   "outputs": [
    {
     "data": {
      "text/plain": [
       "['/media/rossco/FCS_DATA/Raya PD Samples/ds_friendly/PDMC/320-01/t_panel/320-01 Peri PDMC T1_015.fcs']"
      ]
     },
     "execution_count": 136,
     "metadata": {},
     "output_type": "execute_result"
    }
   ],
   "source": [
    "primary"
   ]
  },
  {
   "cell_type": "code",
   "execution_count": 137,
   "metadata": {},
   "outputs": [
    {
     "data": {
      "text/plain": [
       "[{'control_id': 'CXCR3',\n",
       "  'path': '/media/rossco/FCS_DATA/Raya PD Samples/ds_friendly/PDMC/320-01/t_panel/320-01 Peri PDMC T2_016.fcs'},\n",
       " {'control_id': 'CD27',\n",
       "  'path': '/media/rossco/FCS_DATA/Raya PD Samples/ds_friendly/PDMC/320-01/t_panel/320-01 Peri PDMC T3_017.fcs'},\n",
       " {'control_id': 'CD45RA',\n",
       "  'path': '/media/rossco/FCS_DATA/Raya PD Samples/ds_friendly/PDMC/320-01/t_panel/320-01 Peri PDMC T4_018.fcs'},\n",
       " {'control_id': 'CCR7',\n",
       "  'path': '/media/rossco/FCS_DATA/Raya PD Samples/ds_friendly/PDMC/320-01/t_panel/320-01 Peri PDMC T5_019.fcs'}]"
      ]
     },
     "execution_count": 137,
     "metadata": {},
     "output_type": "execute_result"
    }
   ],
   "source": [
    "controls"
   ]
  },
  {
   "cell_type": "code",
   "execution_count": 138,
   "metadata": {},
   "outputs": [
    {
     "name": "stdout",
     "output_type": "stream",
     "text": [
      "Generating main file entry...\n",
      "Generating file entries for controls...\n",
      "Successfully created pd320-01_t and associated to PDMC_T\n"
     ]
    },
    {
     "data": {
      "text/plain": [
       "'5d850b9a975ee6db9455d421'"
      ]
     },
     "execution_count": 138,
     "metadata": {},
     "output_type": "execute_result"
    }
   ],
   "source": [
    "pdmc_t.add_new_sample(sample_id=f'pd320-01_t', \n",
    "                      controls=controls, \n",
    "                      file_path=primary[0])"
   ]
  },
  {
   "cell_type": "code",
   "execution_count": 139,
   "metadata": {},
   "outputs": [
    {
     "name": "stdout",
     "output_type": "stream",
     "text": [
      "Warning: not file found for CD25 control\n",
      "Warning! Multiple non-control (primary) files found in directory. Check before proceeding.\n"
     ]
    }
   ],
   "source": [
    "#pd323-01 T\n",
    "filepaths = get_fp(f'{root}/323-01/t_panel')"
   ]
  },
  {
   "cell_type": "code",
   "execution_count": 140,
   "metadata": {},
   "outputs": [],
   "source": [
    "primary, controls = correct_contols(filepaths)"
   ]
  },
  {
   "cell_type": "code",
   "execution_count": 141,
   "metadata": {},
   "outputs": [
    {
     "data": {
      "text/plain": [
       "['/media/rossco/FCS_DATA/Raya PD Samples/ds_friendly/PDMC/323-01/t_panel/323-01 Stable PDMC T1_019.fcs',\n",
       " '/media/rossco/FCS_DATA/Raya PD Samples/ds_friendly/PDMC/323-01/t_panel/T Cell Panel_323-01 PDMC T1_014.fcs']"
      ]
     },
     "execution_count": 141,
     "metadata": {},
     "output_type": "execute_result"
    }
   ],
   "source": [
    "primary"
   ]
  },
  {
   "cell_type": "code",
   "execution_count": 142,
   "metadata": {},
   "outputs": [
    {
     "data": {
      "text/plain": [
       "[{'control_id': 'CXCR3',\n",
       "  'path': '/media/rossco/FCS_DATA/Raya PD Samples/ds_friendly/PDMC/323-01/t_panel/323-01 Stable PDMC T2_020.fcs'},\n",
       " {'control_id': 'CD27',\n",
       "  'path': '/media/rossco/FCS_DATA/Raya PD Samples/ds_friendly/PDMC/323-01/t_panel/323-01 Stable PDMC T3_021.fcs'},\n",
       " {'control_id': 'CD45RA',\n",
       "  'path': '/media/rossco/FCS_DATA/Raya PD Samples/ds_friendly/PDMC/323-01/t_panel/323-01 Stable PDMC T4_022.fcs'},\n",
       " {'control_id': 'CCR7',\n",
       "  'path': '/media/rossco/FCS_DATA/Raya PD Samples/ds_friendly/PDMC/323-01/t_panel/323-01 Stable PDMC T5_023.fcs'}]"
      ]
     },
     "execution_count": 142,
     "metadata": {},
     "output_type": "execute_result"
    }
   ],
   "source": [
    "controls"
   ]
  },
  {
   "cell_type": "code",
   "execution_count": 143,
   "metadata": {},
   "outputs": [
    {
     "name": "stdout",
     "output_type": "stream",
     "text": [
      "Generating main file entry...\n",
      "Generating file entries for controls...\n",
      "Successfully created pd323-01_t and associated to PDMC_T\n"
     ]
    },
    {
     "data": {
      "text/plain": [
       "'5d850beb975ee6db9455ea15'"
      ]
     },
     "execution_count": 143,
     "metadata": {},
     "output_type": "execute_result"
    }
   ],
   "source": [
    "pdmc_t.add_new_sample(sample_id=f'pd323-01_t', \n",
    "                      controls=controls, \n",
    "                      file_path=primary[0])"
   ]
  },
  {
   "cell_type": "code",
   "execution_count": 144,
   "metadata": {},
   "outputs": [
    {
     "name": "stdout",
     "output_type": "stream",
     "text": [
      "Warning: not file found for CXCR3 control\n",
      "Warning: not file found for CD25 control\n",
      "Warning: not file found for CD45RA control\n",
      "Warning: not file found for CCR7 control\n",
      "Warning! Multiple non-control (primary) files found in directory. Check before proceeding.\n"
     ]
    }
   ],
   "source": [
    "#pd318-01 T\n",
    "filepaths = get_fp(f'{root}/318-01/t_panel')"
   ]
  },
  {
   "cell_type": "code",
   "execution_count": 145,
   "metadata": {},
   "outputs": [],
   "source": [
    "primary, controls = correct_contols(filepaths)"
   ]
  },
  {
   "cell_type": "code",
   "execution_count": 146,
   "metadata": {},
   "outputs": [
    {
     "data": {
      "text/plain": [
       "['/media/rossco/FCS_DATA/Raya PD Samples/ds_friendly/PDMC/318-01/t_panel/318-01 Stable PBMC T1_015.fcs']"
      ]
     },
     "execution_count": 146,
     "metadata": {},
     "output_type": "execute_result"
    }
   ],
   "source": [
    "primary"
   ]
  },
  {
   "cell_type": "code",
   "execution_count": 147,
   "metadata": {},
   "outputs": [
    {
     "data": {
      "text/plain": [
       "[{'control_id': 'CXCR3',\n",
       "  'path': '/media/rossco/FCS_DATA/Raya PD Samples/ds_friendly/PDMC/318-01/t_panel/318-01 Stable PBMC T2_016.fcs'},\n",
       " {'control_id': 'CD27',\n",
       "  'path': '/media/rossco/FCS_DATA/Raya PD Samples/ds_friendly/PDMC/318-01/t_panel/318-01 Stable PBMC T3_017.fcs'},\n",
       " {'control_id': 'CD45RA',\n",
       "  'path': '/media/rossco/FCS_DATA/Raya PD Samples/ds_friendly/PDMC/318-01/t_panel/318-01 Stable PBMC T4_018.fcs'},\n",
       " {'control_id': 'CCR7',\n",
       "  'path': '/media/rossco/FCS_DATA/Raya PD Samples/ds_friendly/PDMC/318-01/t_panel/318-01 Stable PBMC T5_019.fcs'}]"
      ]
     },
     "execution_count": 147,
     "metadata": {},
     "output_type": "execute_result"
    }
   ],
   "source": [
    "controls"
   ]
  },
  {
   "cell_type": "code",
   "execution_count": 148,
   "metadata": {},
   "outputs": [
    {
     "name": "stdout",
     "output_type": "stream",
     "text": [
      "Generating main file entry...\n",
      "Generating file entries for controls...\n",
      "Successfully created pd318-01_t and associated to PDMC_T\n"
     ]
    },
    {
     "data": {
      "text/plain": [
       "'5d850c3a975ee6db9455ff70'"
      ]
     },
     "execution_count": 148,
     "metadata": {},
     "output_type": "execute_result"
    }
   ],
   "source": [
    "pdmc_t.add_new_sample(sample_id=f'pd318-01_t', \n",
    "                      controls=controls, \n",
    "                      file_path=primary[0])"
   ]
  }
 ],
 "metadata": {
  "kernelspec": {
   "display_name": "Python 3",
   "language": "python",
   "name": "python3"
  },
  "language_info": {
   "codemirror_mode": {
    "name": "ipython",
    "version": 3
   },
   "file_extension": ".py",
   "mimetype": "text/x-python",
   "name": "python",
   "nbconvert_exporter": "python",
   "pygments_lexer": "ipython3",
   "version": "3.6.8"
  }
 },
 "nbformat": 4,
 "nbformat_minor": 4
}
