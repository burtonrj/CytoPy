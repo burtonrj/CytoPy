{
 "cells": [
  {
   "cell_type": "markdown",
   "metadata": {},
   "source": [
    "<h1>Automated Gating with Immunova: Loading sepsis data into database</h1>\n",
    "\n",
    "This is the first of three notebooks comparing the automated gating in immunova to expert manual gating. In this notebook I am creating the database entries.\n",
    "\n",
    "<h3>Create project and experiments</h3>"
   ]
  },
  {
   "cell_type": "code",
   "execution_count": 1,
   "metadata": {},
   "outputs": [],
   "source": [
    "from immunova.data.project import Project\n",
    "from immunova.data.mongo_setup import global_init\n",
    "from immunova.data.fcs_experiments import FCSExperiment, Panel\n",
    "from immunova.data.utilities import get_fcs_file_paths\n",
    "from immunova.flow.readwrite.read_fcs import explore_channel_mappings, FCSFile\n",
    "from tqdm import tqdm_notebook, tqdm\n",
    "from functools import partial\n",
    "import pandas as pd\n",
    "global_init()\n",
    "root_drive = '/media/rossco/extdrive'"
   ]
  },
  {
   "cell_type": "code",
   "execution_count": 2,
   "metadata": {},
   "outputs": [
    {
     "data": {
      "text/plain": [
       "<Project: Project object>"
      ]
     },
     "execution_count": 2,
     "metadata": {},
     "output_type": "execute_result"
    }
   ],
   "source": [
    "project = Project(project_id='ILTIS', owner='burtonrossj')\n",
    "project.save()"
   ]
  },
  {
   "cell_type": "code",
   "execution_count": 3,
   "metadata": {},
   "outputs": [
    {
     "data": {
      "text/plain": [
       "'5d8ba07d2c4745eca23bff56'"
      ]
     },
     "execution_count": 3,
     "metadata": {},
     "output_type": "execute_result"
    }
   ],
   "source": [
    "pd_project.id.__str__()"
   ]
  },
  {
   "cell_type": "code",
   "execution_count": 5,
   "metadata": {},
   "outputs": [],
   "source": [
    "t1_panel = Panel(panel_name='t1_panel')\n",
    "t2_panel = Panel(panel_name='t2_panel')\n",
    "n_panel = Panel(panel_name='n_panel')"
   ]
  },
  {
   "cell_type": "code",
   "execution_count": 6,
   "metadata": {},
   "outputs": [
    {
     "data": {
      "text/plain": [
       "True"
      ]
     },
     "execution_count": 6,
     "metadata": {},
     "output_type": "execute_result"
    }
   ],
   "source": [
    "t1_panel.create_from_excel(path='experiment_data/t1_mappings.xlsx')"
   ]
  },
  {
   "cell_type": "code",
   "execution_count": 7,
   "metadata": {},
   "outputs": [
    {
     "data": {
      "text/plain": [
       "True"
      ]
     },
     "execution_count": 7,
     "metadata": {},
     "output_type": "execute_result"
    }
   ],
   "source": [
    "t2_panel.create_from_excel(path='experiment_data/t2_mappings.xlsx')"
   ]
  },
  {
   "cell_type": "code",
   "execution_count": 8,
   "metadata": {},
   "outputs": [
    {
     "data": {
      "text/plain": [
       "True"
      ]
     },
     "execution_count": 8,
     "metadata": {},
     "output_type": "execute_result"
    }
   ],
   "source": [
    "n_panel.create_from_excel(path='experiment_data/mononeutro_v2_mappings.xlsx')"
   ]
  },
  {
   "cell_type": "markdown",
   "metadata": {},
   "source": [
    "The `create_from_excel` method will populate the Panel object using the excel template. I can now save the panels to the database."
   ]
  },
  {
   "cell_type": "code",
   "execution_count": 10,
   "metadata": {},
   "outputs": [
    {
     "data": {
      "text/plain": [
       "<Panel: Panel object>"
      ]
     },
     "execution_count": 10,
     "metadata": {},
     "output_type": "execute_result"
    }
   ],
   "source": [
    "t1_panel.save()\n",
    "t2_panel.save()\n",
    "n_panel.save()"
   ]
  },
  {
   "cell_type": "markdown",
   "metadata": {},
   "source": [
    "With the panels created I can now create the experiments. When you create an experiment you must always associate it to a project. We therefore use the `add_experiment` method of the Project object."
   ]
  },
  {
   "cell_type": "code",
   "execution_count": 13,
   "metadata": {},
   "outputs": [
    {
     "name": "stdout",
     "output_type": "stream",
     "text": [
      "Experiment created successfully!\n"
     ]
    }
   ],
   "source": [
    "t1_exp = project.add_experiment(experiment_id='t1_exp', panel_name='t1_panel')"
   ]
  },
  {
   "cell_type": "code",
   "execution_count": 14,
   "metadata": {},
   "outputs": [
    {
     "name": "stdout",
     "output_type": "stream",
     "text": [
      "Experiment created successfully!\n"
     ]
    }
   ],
   "source": [
    "t2_exp = project.add_experiment(experiment_id='t2_exp', panel_name='t2_panel')"
   ]
  },
  {
   "cell_type": "code",
   "execution_count": 15,
   "metadata": {},
   "outputs": [
    {
     "name": "stdout",
     "output_type": "stream",
     "text": [
      "Experiment created successfully!\n"
     ]
    }
   ],
   "source": [
    "n_exp = project.add_experiment(experiment_id='n_exp', panel_name='n_panel')"
   ]
  },
  {
   "cell_type": "markdown",
   "metadata": {},
   "source": [
    "Now that the experiments are created I can start adding the fcs files. The `add_new_sample` method is used to generate a new fcs file entry into the mongo database, which is then associated to the experiment. See the documentation below:\n"
   ]
  },
  {
   "cell_type": "markdown",
   "metadata": {},
   "source": [
    "<h3>Add PDMC files (T cell panel)</h3>"
   ]
  },
  {
   "cell_type": "code",
   "execution_count": 17,
   "metadata": {},
   "outputs": [
    {
     "data": {
      "text/plain": [
       "['sep6',\n",
       " 'sep12',\n",
       " 'sep13',\n",
       " 'sep17',\n",
       " 'sep19',\n",
       " 'sep28',\n",
       " 'sep29',\n",
       " 'sep34',\n",
       " 'sep37',\n",
       " 'sep0.8',\n",
       " 'sep49',\n",
       " 'sep50',\n",
       " 'sep51',\n",
       " 'sep61',\n",
       " 'sep67',\n",
       " 'sep68']"
      ]
     },
     "execution_count": 17,
     "metadata": {},
     "output_type": "execute_result"
    }
   ],
   "source": [
    "sep_ids"
   ]
  },
  {
   "cell_type": "markdown",
   "metadata": {},
   "source": [
    "We can use the utility functin `get_fcs_file_paths` from immunova's data module to generate file paths for adding samples."
   ]
  },
  {
   "cell_type": "code",
   "execution_count": 21,
   "metadata": {},
   "outputs": [
    {
     "name": "stdout",
     "output_type": "stream",
     "text": [
      "Adding files for sep6...\n",
      "Generating main file entry...\n",
      "Generating file entries for controls...\n",
      "Successfully created sep6 and associated to t1_exp\n",
      "Adding files for sep12...\n",
      "Generating main file entry...\n",
      "Generating file entries for controls...\n",
      "Successfully created sep12 and associated to t1_exp\n",
      "Adding files for sep13...\n",
      "Generating main file entry...\n",
      "Generating file entries for controls...\n",
      "Successfully created sep13 and associated to t1_exp\n",
      "Adding files for sep17...\n",
      "Generating main file entry...\n",
      "Generating file entries for controls...\n",
      "Successfully created sep17 and associated to t1_exp\n",
      "Adding files for sep19...\n",
      "Generating main file entry...\n",
      "Generating file entries for controls...\n",
      "Successfully created sep19 and associated to t1_exp\n",
      "Adding files for sep28...\n",
      "Generating main file entry...\n",
      "Generating file entries for controls...\n",
      "Successfully created sep28 and associated to t1_exp\n",
      "Adding files for sep29...\n",
      "Generating main file entry...\n",
      "Generating file entries for controls...\n",
      "Successfully created sep29 and associated to t1_exp\n",
      "Adding files for sep34...\n",
      "Warning: not file found for CCR7 control\n",
      "Warning! Multiple non-control (primary) files found in directory. Check before proceeding.\n",
      "Generating main file entry...\n",
      "Generating file entries for controls...\n",
      "Successfully created sep34 and associated to t1_exp\n",
      "Adding files for sep37...\n",
      "Generating main file entry...\n",
      "Generating file entries for controls...\n",
      "Successfully created sep37 and associated to t1_exp\n",
      "Adding files for sep0.8...\n",
      "Warning: not file found for CD27 control\n",
      "Warning: not file found for CCR7 control\n",
      "Warning: not file found for CD45RA control\n",
      "Warning: not file found for CD57 control\n",
      "FAILED\n",
      "Adding files for sep49...\n",
      "Generating main file entry...\n",
      "Generating file entries for controls...\n",
      "Successfully created sep49 and associated to t1_exp\n",
      "Adding files for sep50...\n",
      "Generating main file entry...\n",
      "Generating file entries for controls...\n",
      "Successfully created sep50 and associated to t1_exp\n",
      "Adding files for sep51...\n",
      "Generating main file entry...\n",
      "Generating file entries for controls...\n",
      "Successfully created sep51 and associated to t1_exp\n",
      "Adding files for sep61...\n",
      "Generating main file entry...\n",
      "Generating file entries for controls...\n",
      "Successfully created sep61 and associated to t1_exp\n",
      "Adding files for sep67...\n",
      "Generating main file entry...\n",
      "Generating file entries for controls...\n",
      "Successfully created sep67 and associated to t1_exp\n",
      "Adding files for sep68...\n",
      "Warning: not file found for CD27 control\n",
      "Warning: not file found for CCR7 control\n",
      "Warning: not file found for CD45RA control\n",
      "Generating main file entry...\n",
      "Generating file entries for controls...\n",
      "Successfully created sep68 and associated to t1_exp\n"
     ]
    }
   ],
   "source": [
    "for _id in sep_ids:\n",
    "    print(f'Adding files for {_id}...')\n",
    "    try:\n",
    "        files = get_fcs_file_paths(fcs_dir=f'{root_drive}/ILTIS/study_fcs_files/{_id}/day1/t1',\n",
    "                          control_names=['CD27', 'CCR7', 'CD45RA', 'CD57'], ctrl_id='FMO')\n",
    "        primary = files['primary'][0]\n",
    "        controls = files['controls']\n",
    "        t1_exp.add_new_sample(sample_id=_id, file_path=primary, controls=controls)\n",
    "    except:\n",
    "        print(f'FAILED')"
   ]
  },
  {
   "cell_type": "code",
   "execution_count": 22,
   "metadata": {},
   "outputs": [
    {
     "name": "stdout",
     "output_type": "stream",
     "text": [
      "Adding files for sep6...\n",
      "Generating main file entry...\n",
      "Generating file entries for controls...\n",
      "Successfully created sep6_t2 and associated to t2_exp\n",
      "Adding files for sep12...\n",
      "Warning: not file found for CD25 control\n",
      "Warning: not file found for HLA-DR control\n",
      "Warning: not file found for CXCR3 control\n",
      "Warning: not file found for CD69 control\n",
      "FAILED\n",
      "Adding files for sep13...\n",
      "Generating main file entry...\n",
      "Generating file entries for controls...\n",
      "Successfully created sep13_t2 and associated to t2_exp\n",
      "Adding files for sep17...\n",
      "Generating main file entry...\n",
      "Generating file entries for controls...\n",
      "Successfully created sep17_t2 and associated to t2_exp\n",
      "Adding files for sep19...\n",
      "Generating main file entry...\n",
      "Generating file entries for controls...\n",
      "Successfully created sep19_t2 and associated to t2_exp\n",
      "Adding files for sep28...\n",
      "Generating main file entry...\n",
      "Generating file entries for controls...\n",
      "Successfully created sep28_t2 and associated to t2_exp\n",
      "Adding files for sep29...\n",
      "Generating main file entry...\n",
      "Generating file entries for controls...\n",
      "Successfully created sep29_t2 and associated to t2_exp\n",
      "Adding files for sep34...\n",
      "Generating main file entry...\n",
      "Generating file entries for controls...\n",
      "Successfully created sep34_t2 and associated to t2_exp\n",
      "Adding files for sep37...\n",
      "Generating main file entry...\n",
      "Generating file entries for controls...\n",
      "Successfully created sep37_t2 and associated to t2_exp\n",
      "Adding files for sep0.8...\n",
      "Warning: not file found for CD25 control\n",
      "Warning: not file found for HLA-DR control\n",
      "Warning: not file found for CXCR3 control\n",
      "Warning: not file found for CD69 control\n",
      "FAILED\n",
      "Adding files for sep49...\n",
      "Generating main file entry...\n",
      "Generating file entries for controls...\n",
      "Successfully created sep49_t2 and associated to t2_exp\n",
      "Adding files for sep50...\n",
      "Generating main file entry...\n",
      "Generating file entries for controls...\n",
      "Successfully created sep50_t2 and associated to t2_exp\n",
      "Adding files for sep51...\n",
      "Generating main file entry...\n",
      "Generating file entries for controls...\n",
      "Successfully created sep51_t2 and associated to t2_exp\n",
      "Adding files for sep61...\n",
      "Generating main file entry...\n",
      "Generating file entries for controls...\n",
      "Successfully created sep61_t2 and associated to t2_exp\n",
      "Adding files for sep67...\n",
      "Generating main file entry...\n",
      "Generating file entries for controls...\n",
      "Successfully created sep67_t2 and associated to t2_exp\n",
      "Adding files for sep68...\n",
      "Generating main file entry...\n",
      "Generating file entries for controls...\n",
      "Successfully created sep68_t2 and associated to t2_exp\n"
     ]
    }
   ],
   "source": [
    "for _id in sep_ids:\n",
    "    print(f'Adding files for {_id}...')\n",
    "    try:\n",
    "        files = get_fcs_file_paths(fcs_dir=f'{root_drive}/ILTIS/study_fcs_files/{_id}/day1/t2',\n",
    "                          control_names=['CD25', 'HLA-DR', 'CXCR3', 'CD69'], ctrl_id='FMO')\n",
    "        primary = files['primary'][0]\n",
    "        controls = files['controls']\n",
    "        t2_exp.add_new_sample(sample_id=f'{_id}_t2', file_path=primary, controls=controls)\n",
    "    except:\n",
    "        print(f'FAILED')"
   ]
  },
  {
   "cell_type": "code",
   "execution_count": 23,
   "metadata": {},
   "outputs": [
    {
     "name": "stdout",
     "output_type": "stream",
     "text": [
      "Adding files for sep6...\n",
      "Generating main file entry...\n",
      "Unable to normalise CD16; no match in linked panel\n",
      "Error: invalid channel/marker mappings for sep6_n, at path /media/rossco/extdrive/ILTIS/study_fcs_files/sep6/day1/mononeutro/sep-006 neutro_1 whole panel_001.fcs, aborting.\n",
      "Adding files for sep12...\n",
      "Generating main file entry...\n",
      "Unable to normalise CD16; no match in linked panel\n",
      "Error: invalid channel/marker mappings for sep12_n, at path /media/rossco/extdrive/ILTIS/study_fcs_files/sep12/day1/mononeutro/sep-012 neutro_1 whole panel_001.fcs, aborting.\n",
      "Adding files for sep13...\n",
      "Generating main file entry...\n",
      "Unable to normalise CD16; no match in linked panel\n",
      "Error: invalid channel/marker mappings for sep13_n, at path /media/rossco/extdrive/ILTIS/study_fcs_files/sep13/day1/mononeutro/sep-013 neutro_1 whole panel_008.fcs, aborting.\n",
      "Adding files for sep17...\n",
      "Generating main file entry...\n",
      "Unable to normalise CD16; no match in linked panel\n",
      "Error: invalid channel/marker mappings for sep17_n, at path /media/rossco/extdrive/ILTIS/study_fcs_files/sep17/day1/mononeutro/sep-017_neutro whole panel_001.fcs, aborting.\n",
      "Adding files for sep19...\n",
      "Generating main file entry...\n",
      "Unable to normalise CD16; no match in linked panel\n",
      "Error: invalid channel/marker mappings for sep19_n, at path /media/rossco/extdrive/ILTIS/study_fcs_files/sep19/day1/mononeutro/sep-019_neutro whole panel_001.fcs, aborting.\n",
      "Adding files for sep28...\n",
      "Generating main file entry...\n",
      "Unable to normalise CD16; no match in linked panel\n",
      "Error: invalid channel/marker mappings for sep28_n, at path /media/rossco/extdrive/ILTIS/study_fcs_files/sep28/day1/mononeutro/seps-028 day1_neutro whole panel_001.fcs, aborting.\n",
      "Adding files for sep29...\n",
      "Generating main file entry...\n",
      "Unable to normalise CD16; no match in linked panel\n",
      "Error: invalid channel/marker mappings for sep29_n, at path /media/rossco/extdrive/ILTIS/study_fcs_files/sep29/day1/mononeutro/sep-029 day 1_neutro whole panel_001.fcs, aborting.\n",
      "Adding files for sep34...\n",
      "Generating main file entry...\n",
      "Unable to normalise CD16; no match in linked panel\n",
      "Error: invalid channel/marker mappings for sep34_n, at path /media/rossco/extdrive/ILTIS/study_fcs_files/sep34/day1/mononeutro/sep-034 day 1_neutro whole panel_001.fcs, aborting.\n",
      "Adding files for sep37...\n",
      "Generating main file entry...\n",
      "Unable to normalise CD16; no match in linked panel\n",
      "Error: invalid channel/marker mappings for sep37_n, at path /media/rossco/extdrive/ILTIS/study_fcs_files/sep37/day1/mononeutro/sep-037 day 1_neutro whole panel_001.fcs, aborting.\n",
      "Adding files for sep0.8...\n",
      "Warning: not file found for HLA-DR control\n",
      "Warning: not file found for CD40 control\n",
      "Warning: not file found for CD64 control\n",
      "Warning: not file found for CD86 control\n",
      "Warning: not file found for CD62L control\n",
      "FAILED\n",
      "Adding files for sep49...\n",
      "Generating main file entry...\n",
      "Unable to normalise CD16; no match in linked panel\n",
      "Error: invalid channel/marker mappings for sep49_n, at path /media/rossco/extdrive/ILTIS/study_fcs_files/sep49/day1/mononeutro/sep-049_1- neutro whole panel_001.fcs, aborting.\n",
      "Adding files for sep50...\n",
      "Generating main file entry...\n",
      "Unable to normalise CD16; no match in linked panel\n",
      "Error: invalid channel/marker mappings for sep50_n, at path /media/rossco/extdrive/ILTIS/study_fcs_files/sep50/day1/mononeutro/sep-050_1- neutro whole panel_001.fcs, aborting.\n",
      "Adding files for sep51...\n",
      "Generating main file entry...\n",
      "Unable to normalise CD16; no match in linked panel\n",
      "Error: invalid channel/marker mappings for sep51_n, at path /media/rossco/extdrive/ILTIS/study_fcs_files/sep51/day1/mononeutro/sep-051_1- neutro whole panel_001.fcs, aborting.\n",
      "Adding files for sep61...\n",
      "Warning: multiple files found for HLA-DR control\n",
      "Warning: multiple files found for CD40 control\n",
      "Warning: not file found for CD64 control\n",
      "Warning: multiple files found for CD86 control\n",
      "Warning: multiple files found for CD62L control\n",
      "Warning! Multiple non-control (primary) files found in directory. Check before proceeding.\n",
      "Generating main file entry...\n",
      "Unable to normalise CD16; no match in linked panel\n",
      "Error: invalid channel/marker mappings for sep61_n, at path /media/rossco/extdrive/ILTIS/study_fcs_files/sep61/day1/mononeutro/sep-061_1- neutro whole panel_001.fcs, aborting.\n",
      "Adding files for sep67...\n",
      "Generating main file entry...\n",
      "Unable to normalise CD16; no match in linked panel\n",
      "Error: invalid channel/marker mappings for sep67_n, at path /media/rossco/extdrive/ILTIS/study_fcs_files/sep67/day1/mononeutro/sep-067 day1_1- neutro whole panel_001.fcs, aborting.\n",
      "Adding files for sep68...\n",
      "Generating main file entry...\n",
      "Unable to normalise CD16; no match in linked panel\n",
      "Error: invalid channel/marker mappings for sep68_n, at path /media/rossco/extdrive/ILTIS/study_fcs_files/sep68/day1/mononeutro/sep-068 day 1_1- neutro whole panel_001.fcs, aborting.\n"
     ]
    }
   ],
   "source": [
    "for _id in sep_ids:\n",
    "    print(f'Adding files for {_id}...')\n",
    "    try:\n",
    "        files = get_fcs_file_paths(fcs_dir=f'{root_drive}/ILTIS/study_fcs_files/{_id}/day1/mononeutro',\n",
    "                          control_names=['HLA-DR', 'CD40', 'CD64', 'CD86', 'CD62L'], ctrl_id='FMO')\n",
    "        primary = files['primary'][0]\n",
    "        controls = files['controls']\n",
    "        n_exp.add_new_sample(sample_id=f'{_id}_n', file_path=primary, controls=controls)\n",
    "    except:\n",
    "        print(f'FAILED')"
   ]
  }
 ],
 "metadata": {
  "kernelspec": {
   "display_name": "Python 3",
   "language": "python",
   "name": "python3"
  },
  "language_info": {
   "codemirror_mode": {
    "name": "ipython",
    "version": 3
   },
   "file_extension": ".py",
   "mimetype": "text/x-python",
   "name": "python",
   "nbconvert_exporter": "python",
   "pygments_lexer": "ipython3",
   "version": "3.7.3"
  }
 },
 "nbformat": 4,
 "nbformat_minor": 4
}
